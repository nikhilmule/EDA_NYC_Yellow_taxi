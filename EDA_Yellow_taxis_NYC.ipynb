{
 "cells": [
  {
   "cell_type": "markdown",
   "metadata": {},
   "source": [
    "# __EDA (Explanatory Data Analysis) of Yellow taxies data NYC__"
   ]
  },
  {
   "cell_type": "markdown",
   "metadata": {},
   "source": [
    "<img src = 'https://cabstartup.com/wp-content/uploads/2018/05/Yellow-Taxi-Banner.png' height = 500 width =1500>"
   ]
  },
  {
   "cell_type": "markdown",
   "metadata": {},
   "source": [
    "# __Introduction__ \n",
    "\n",
    "- ### The dataset for this project is taken from NYC TLC Trip Record Data. [link]('https://www1.nyc.gov/site/tlc/about/tlc-trip-record-data.page').\n",
    "- ### In this project, New york city yellow taxi data of 7 months (Jan - Jul) in year 2021 are taken into consideration for the analysis.\n",
    "- ### Here Dask, folium, geopandas, pandas library are utilized.\n",
    "\n",
    "## __Objective:__\n",
    "\n",
    "- ### The main goal of this project is to identify maximum taxi usage day and distance between two points.\n",
    "- ### Time difference between pick and drop location.\n",
    "- ### Top pickup and dropping points in the city"
   ]
  },
  {
   "cell_type": "markdown",
   "metadata": {},
   "source": [
    "## __Schema of the dataset__\n",
    "\n",
    "- 'VendorID' = ID\n",
    "- 'tpep_pickup_datetime' = pickup time and date\n",
    "- 'tpep_dropoff_datetime' = drop time and date\n",
    "- 'passenger_count' = passenger count\n",
    "- 'trip_distance' = total distance\n",
    "- 'RatecodeID' = Ratings \n",
    "- 'store_and_fwd_flag'\n",
    "- 'PULocationID' = Pickup location id\n",
    "- 'DOLocationID' = dropup location id\n",
    "- 'payment_type' = mode of payment\n",
    "- 'fare_amount' = trip amount \n",
    "- 'extra' = like waiting or extra time\n",
    "- 'mta_tax' = tax \n",
    "- 'tip_amount' = final tip amount\n",
    "- 'tolls_amount' = toll amount \n",
    "- 'improvement_surcharge' = surcharge amount\n",
    "- 'total_amount' = final amount with all taxes, tip\n",
    "- 'congestion_surcharge'"
   ]
  },
  {
   "cell_type": "markdown",
   "metadata": {},
   "source": [
    "## __Analysis Part-I__"
   ]
  },
  {
   "cell_type": "markdown",
   "metadata": {},
   "source": [
    "## __1. Importing libraries__"
   ]
  },
  {
   "cell_type": "code",
   "execution_count": 1,
   "metadata": {},
   "outputs": [
    {
     "name": "stdout",
     "output_type": "stream",
     "text": [
      "Requirement already satisfied: dask in d:\\anaconda\\envs\\my_env\\lib\\site-packages (2021.11.1)\n",
      "Requirement already satisfied: partd>=0.3.10 in d:\\anaconda\\envs\\my_env\\lib\\site-packages (from dask) (1.2.0)\n",
      "Requirement already satisfied: cloudpickle>=1.1.1 in d:\\anaconda\\envs\\my_env\\lib\\site-packages (from dask) (2.0.0)\n",
      "Requirement already satisfied: packaging>=20.0 in d:\\anaconda\\envs\\my_env\\lib\\site-packages (from dask) (21.2)\n",
      "Requirement already satisfied: fsspec>=0.6.0 in d:\\anaconda\\envs\\my_env\\lib\\site-packages (from dask) (2021.11.0)\n",
      "Requirement already satisfied: pyyaml in d:\\anaconda\\envs\\my_env\\lib\\site-packages (from dask) (6.0)\n",
      "Requirement already satisfied: toolz>=0.8.2 in d:\\anaconda\\envs\\my_env\\lib\\site-packages (from dask) (0.11.2)\n",
      "Requirement already satisfied: pyparsing<3,>=2.0.2 in d:\\anaconda\\envs\\my_env\\lib\\site-packages (from packaging>=20.0->dask) (2.4.7)\n",
      "Requirement already satisfied: locket in d:\\anaconda\\envs\\my_env\\lib\\site-packages (from partd>=0.3.10->dask) (0.2.1)\n"
     ]
    }
   ],
   "source": [
    "!pip install dask"
   ]
  },
  {
   "cell_type": "code",
   "execution_count": 2,
   "metadata": {},
   "outputs": [],
   "source": [
    "# importing the libraries\n",
    "import dask\n",
    "import dask.dataframe as dd\n",
    "import pandas as pd\n",
    "import os\n",
    "import glob"
   ]
  },
  {
   "cell_type": "code",
   "execution_count": 3,
   "metadata": {},
   "outputs": [
    {
     "data": {
      "text/plain": [
       "['yellow_tripdata_2021-01.csv',\n",
       " 'yellow_tripdata_2021-02.csv',\n",
       " 'yellow_tripdata_2021-03.csv',\n",
       " 'yellow_tripdata_2021-04.csv',\n",
       " 'yellow_tripdata_2021-05.csv',\n",
       " 'yellow_tripdata_2021-06.csv',\n",
       " 'yellow_tripdata_2021-07.csv']"
      ]
     },
     "execution_count": 3,
     "metadata": {},
     "output_type": "execute_result"
    }
   ],
   "source": [
    "os.listdir(\"Trip_data\")"
   ]
  },
  {
   "cell_type": "code",
   "execution_count": 4,
   "metadata": {},
   "outputs": [],
   "source": [
    "from glob import glob\n",
    "files_ = sorted(glob(os.path.join(\"Trip_data\", \"*.csv\")))"
   ]
  },
  {
   "cell_type": "markdown",
   "metadata": {},
   "source": [
    "## __2. Creating the dask dataframe__"
   ]
  },
  {
   "cell_type": "code",
   "execution_count": 5,
   "metadata": {},
   "outputs": [],
   "source": [
    "df = dd.read_csv(files_, dtype={'RatecodeID': 'float64',\n",
    "       'VendorID': 'float64', 'tolls_amount': 'float64',\n",
    "       'passenger_count': 'float64',\n",
    "       'payment_type': 'float64'}, parse_dates = ['tpep_pickup_datetime', 'tpep_dropoff_datetime']\n",
    ")"
   ]
  },
  {
   "cell_type": "code",
   "execution_count": 6,
   "metadata": {},
   "outputs": [
    {
     "name": "stderr",
     "output_type": "stream",
     "text": [
      "D:\\Anaconda\\envs\\my_env\\lib\\site-packages\\dask\\dataframe\\io\\csv.py:125: DtypeWarning: Columns (6) have mixed types.Specify dtype option on import or set low_memory=False.\n",
      "  df = pandas_read_text(\n"
     ]
    },
    {
     "name": "stdout",
     "output_type": "stream",
     "text": [
      "<class 'pandas.core.frame.DataFrame'>\n",
      "Int64Index: 15000700 entries, 0 to 290639\n",
      "Data columns (total 18 columns):\n",
      " #   Column                 Dtype         \n",
      "---  ------                 -----         \n",
      " 0   VendorID               float64       \n",
      " 1   tpep_pickup_datetime   datetime64[ns]\n",
      " 2   tpep_dropoff_datetime  datetime64[ns]\n",
      " 3   passenger_count        float64       \n",
      " 4   trip_distance          float64       \n",
      " 5   RatecodeID             float64       \n",
      " 6   store_and_fwd_flag     object        \n",
      " 7   PULocationID           int64         \n",
      " 8   DOLocationID           int64         \n",
      " 9   payment_type           float64       \n",
      " 10  fare_amount            float64       \n",
      " 11  extra                  float64       \n",
      " 12  mta_tax                float64       \n",
      " 13  tip_amount             float64       \n",
      " 14  tolls_amount           float64       \n",
      " 15  improvement_surcharge  float64       \n",
      " 16  total_amount           float64       \n",
      " 17  congestion_surcharge   float64       \n",
      "dtypes: datetime64[ns](2), float64(13), int64(2), object(1)\n",
      "memory usage: 2.1+ GB\n"
     ]
    }
   ],
   "source": [
    "df.compute().info()"
   ]
  },
  {
   "cell_type": "markdown",
   "metadata": {},
   "source": [
    "## __3. Taking a sample of data for the further analysis__"
   ]
  },
  {
   "cell_type": "code",
   "execution_count": 7,
   "metadata": {},
   "outputs": [
    {
     "name": "stderr",
     "output_type": "stream",
     "text": [
      "D:\\Anaconda\\envs\\my_env\\lib\\site-packages\\dask\\dataframe\\io\\csv.py:125: DtypeWarning: Columns (6) have mixed types.Specify dtype option on import or set low_memory=False.\n",
      "  df = pandas_read_text(\n"
     ]
    }
   ],
   "source": [
    "#creating the sample with fraction \n",
    "new_data = df.sample(frac= 0.04).persist()"
   ]
  },
  {
   "cell_type": "code",
   "execution_count": 8,
   "metadata": {},
   "outputs": [
    {
     "name": "stdout",
     "output_type": "stream",
     "text": [
      "<class 'pandas.core.frame.DataFrame'>\n",
      "Int64Index: 600027 entries, 178566 to 252006\n",
      "Data columns (total 18 columns):\n",
      " #   Column                 Non-Null Count   Dtype         \n",
      "---  ------                 --------------   -----         \n",
      " 0   VendorID               566533 non-null  float64       \n",
      " 1   tpep_pickup_datetime   600027 non-null  datetime64[ns]\n",
      " 2   tpep_dropoff_datetime  600027 non-null  datetime64[ns]\n",
      " 3   passenger_count        566533 non-null  float64       \n",
      " 4   trip_distance          600027 non-null  float64       \n",
      " 5   RatecodeID             566533 non-null  float64       \n",
      " 6   store_and_fwd_flag     566533 non-null  object        \n",
      " 7   PULocationID           600027 non-null  int64         \n",
      " 8   DOLocationID           600027 non-null  int64         \n",
      " 9   payment_type           566533 non-null  float64       \n",
      " 10  fare_amount            600027 non-null  float64       \n",
      " 11  extra                  600027 non-null  float64       \n",
      " 12  mta_tax                600027 non-null  float64       \n",
      " 13  tip_amount             600027 non-null  float64       \n",
      " 14  tolls_amount           600027 non-null  float64       \n",
      " 15  improvement_surcharge  600027 non-null  float64       \n",
      " 16  total_amount           600027 non-null  float64       \n",
      " 17  congestion_surcharge   600027 non-null  float64       \n",
      "dtypes: datetime64[ns](2), float64(13), int64(2), object(1)\n",
      "memory usage: 87.0+ MB\n"
     ]
    }
   ],
   "source": [
    "new_data.compute().info()"
   ]
  },
  {
   "cell_type": "code",
   "execution_count": 9,
   "metadata": {},
   "outputs": [
    {
     "data": {
      "text/html": [
       "<div>\n",
       "<style scoped>\n",
       "    .dataframe tbody tr th:only-of-type {\n",
       "        vertical-align: middle;\n",
       "    }\n",
       "\n",
       "    .dataframe tbody tr th {\n",
       "        vertical-align: top;\n",
       "    }\n",
       "\n",
       "    .dataframe thead th {\n",
       "        text-align: right;\n",
       "    }\n",
       "</style>\n",
       "<table border=\"1\" class=\"dataframe\">\n",
       "  <thead>\n",
       "    <tr style=\"text-align: right;\">\n",
       "      <th></th>\n",
       "      <th>VendorID</th>\n",
       "      <th>tpep_pickup_datetime</th>\n",
       "      <th>tpep_dropoff_datetime</th>\n",
       "      <th>passenger_count</th>\n",
       "      <th>trip_distance</th>\n",
       "      <th>RatecodeID</th>\n",
       "      <th>store_and_fwd_flag</th>\n",
       "      <th>PULocationID</th>\n",
       "      <th>DOLocationID</th>\n",
       "      <th>payment_type</th>\n",
       "      <th>fare_amount</th>\n",
       "      <th>extra</th>\n",
       "      <th>mta_tax</th>\n",
       "      <th>tip_amount</th>\n",
       "      <th>tolls_amount</th>\n",
       "      <th>improvement_surcharge</th>\n",
       "      <th>total_amount</th>\n",
       "      <th>congestion_surcharge</th>\n",
       "    </tr>\n",
       "  </thead>\n",
       "  <tbody>\n",
       "    <tr>\n",
       "      <th>178566</th>\n",
       "      <td>2.0</td>\n",
       "      <td>2021-01-06 12:48:46</td>\n",
       "      <td>2021-01-06 12:58:27</td>\n",
       "      <td>1.0</td>\n",
       "      <td>0.70</td>\n",
       "      <td>1.0</td>\n",
       "      <td>N</td>\n",
       "      <td>140</td>\n",
       "      <td>236</td>\n",
       "      <td>2.0</td>\n",
       "      <td>7.5</td>\n",
       "      <td>0.0</td>\n",
       "      <td>0.5</td>\n",
       "      <td>0.00</td>\n",
       "      <td>0.0</td>\n",
       "      <td>0.3</td>\n",
       "      <td>10.80</td>\n",
       "      <td>2.5</td>\n",
       "    </tr>\n",
       "    <tr>\n",
       "      <th>52770</th>\n",
       "      <td>1.0</td>\n",
       "      <td>2021-01-02 21:28:12</td>\n",
       "      <td>2021-01-02 21:38:08</td>\n",
       "      <td>1.0</td>\n",
       "      <td>3.20</td>\n",
       "      <td>1.0</td>\n",
       "      <td>N</td>\n",
       "      <td>79</td>\n",
       "      <td>141</td>\n",
       "      <td>1.0</td>\n",
       "      <td>11.5</td>\n",
       "      <td>3.0</td>\n",
       "      <td>0.5</td>\n",
       "      <td>3.05</td>\n",
       "      <td>0.0</td>\n",
       "      <td>0.3</td>\n",
       "      <td>18.35</td>\n",
       "      <td>2.5</td>\n",
       "    </tr>\n",
       "    <tr>\n",
       "      <th>86127</th>\n",
       "      <td>2.0</td>\n",
       "      <td>2021-01-04 09:51:42</td>\n",
       "      <td>2021-01-04 09:58:10</td>\n",
       "      <td>4.0</td>\n",
       "      <td>1.05</td>\n",
       "      <td>1.0</td>\n",
       "      <td>N</td>\n",
       "      <td>107</td>\n",
       "      <td>234</td>\n",
       "      <td>1.0</td>\n",
       "      <td>6.0</td>\n",
       "      <td>0.0</td>\n",
       "      <td>0.5</td>\n",
       "      <td>1.86</td>\n",
       "      <td>0.0</td>\n",
       "      <td>0.3</td>\n",
       "      <td>11.16</td>\n",
       "      <td>2.5</td>\n",
       "    </tr>\n",
       "    <tr>\n",
       "      <th>224455</th>\n",
       "      <td>2.0</td>\n",
       "      <td>2021-01-07 12:00:31</td>\n",
       "      <td>2021-01-07 12:11:20</td>\n",
       "      <td>1.0</td>\n",
       "      <td>1.82</td>\n",
       "      <td>1.0</td>\n",
       "      <td>N</td>\n",
       "      <td>141</td>\n",
       "      <td>236</td>\n",
       "      <td>1.0</td>\n",
       "      <td>9.0</td>\n",
       "      <td>0.0</td>\n",
       "      <td>0.5</td>\n",
       "      <td>1.50</td>\n",
       "      <td>0.0</td>\n",
       "      <td>0.3</td>\n",
       "      <td>13.80</td>\n",
       "      <td>2.5</td>\n",
       "    </tr>\n",
       "    <tr>\n",
       "      <th>249503</th>\n",
       "      <td>2.0</td>\n",
       "      <td>2021-01-07 19:31:20</td>\n",
       "      <td>2021-01-07 19:35:54</td>\n",
       "      <td>1.0</td>\n",
       "      <td>0.89</td>\n",
       "      <td>1.0</td>\n",
       "      <td>N</td>\n",
       "      <td>230</td>\n",
       "      <td>100</td>\n",
       "      <td>2.0</td>\n",
       "      <td>5.0</td>\n",
       "      <td>1.0</td>\n",
       "      <td>0.5</td>\n",
       "      <td>0.00</td>\n",
       "      <td>0.0</td>\n",
       "      <td>0.3</td>\n",
       "      <td>9.30</td>\n",
       "      <td>2.5</td>\n",
       "    </tr>\n",
       "  </tbody>\n",
       "</table>\n",
       "</div>"
      ],
      "text/plain": [
       "        VendorID tpep_pickup_datetime tpep_dropoff_datetime  passenger_count  \\\n",
       "178566       2.0  2021-01-06 12:48:46   2021-01-06 12:58:27              1.0   \n",
       "52770        1.0  2021-01-02 21:28:12   2021-01-02 21:38:08              1.0   \n",
       "86127        2.0  2021-01-04 09:51:42   2021-01-04 09:58:10              4.0   \n",
       "224455       2.0  2021-01-07 12:00:31   2021-01-07 12:11:20              1.0   \n",
       "249503       2.0  2021-01-07 19:31:20   2021-01-07 19:35:54              1.0   \n",
       "\n",
       "        trip_distance  RatecodeID store_and_fwd_flag  PULocationID  \\\n",
       "178566           0.70         1.0                  N           140   \n",
       "52770            3.20         1.0                  N            79   \n",
       "86127            1.05         1.0                  N           107   \n",
       "224455           1.82         1.0                  N           141   \n",
       "249503           0.89         1.0                  N           230   \n",
       "\n",
       "        DOLocationID  payment_type  fare_amount  extra  mta_tax  tip_amount  \\\n",
       "178566           236           2.0          7.5    0.0      0.5        0.00   \n",
       "52770            141           1.0         11.5    3.0      0.5        3.05   \n",
       "86127            234           1.0          6.0    0.0      0.5        1.86   \n",
       "224455           236           1.0          9.0    0.0      0.5        1.50   \n",
       "249503           100           2.0          5.0    1.0      0.5        0.00   \n",
       "\n",
       "        tolls_amount  improvement_surcharge  total_amount  \\\n",
       "178566           0.0                    0.3         10.80   \n",
       "52770            0.0                    0.3         18.35   \n",
       "86127            0.0                    0.3         11.16   \n",
       "224455           0.0                    0.3         13.80   \n",
       "249503           0.0                    0.3          9.30   \n",
       "\n",
       "        congestion_surcharge  \n",
       "178566                   2.5  \n",
       "52770                    2.5  \n",
       "86127                    2.5  \n",
       "224455                   2.5  \n",
       "249503                   2.5  "
      ]
     },
     "execution_count": 9,
     "metadata": {},
     "output_type": "execute_result"
    }
   ],
   "source": [
    "new_data.head()"
   ]
  },
  {
   "cell_type": "code",
   "execution_count": 10,
   "metadata": {},
   "outputs": [
    {
     "data": {
      "text/html": [
       "<div>\n",
       "<style scoped>\n",
       "    .dataframe tbody tr th:only-of-type {\n",
       "        vertical-align: middle;\n",
       "    }\n",
       "\n",
       "    .dataframe tbody tr th {\n",
       "        vertical-align: top;\n",
       "    }\n",
       "\n",
       "    .dataframe thead th {\n",
       "        text-align: right;\n",
       "    }\n",
       "</style>\n",
       "<table border=\"1\" class=\"dataframe\">\n",
       "  <thead>\n",
       "    <tr style=\"text-align: right;\">\n",
       "      <th></th>\n",
       "      <th>VendorID</th>\n",
       "      <th>tpep_pickup_datetime</th>\n",
       "      <th>tpep_dropoff_datetime</th>\n",
       "      <th>passenger_count</th>\n",
       "      <th>trip_distance</th>\n",
       "      <th>RatecodeID</th>\n",
       "      <th>store_and_fwd_flag</th>\n",
       "      <th>PULocationID</th>\n",
       "      <th>DOLocationID</th>\n",
       "      <th>payment_type</th>\n",
       "      <th>fare_amount</th>\n",
       "      <th>extra</th>\n",
       "      <th>mta_tax</th>\n",
       "      <th>tip_amount</th>\n",
       "      <th>tolls_amount</th>\n",
       "      <th>improvement_surcharge</th>\n",
       "      <th>total_amount</th>\n",
       "      <th>congestion_surcharge</th>\n",
       "    </tr>\n",
       "  </thead>\n",
       "  <tbody>\n",
       "    <tr>\n",
       "      <th>92</th>\n",
       "      <td>2.0</td>\n",
       "      <td>2021-07-30 11:37:27</td>\n",
       "      <td>2021-07-30 11:43:09</td>\n",
       "      <td>1.0</td>\n",
       "      <td>0.76</td>\n",
       "      <td>1.0</td>\n",
       "      <td>N</td>\n",
       "      <td>234</td>\n",
       "      <td>170</td>\n",
       "      <td>1.0</td>\n",
       "      <td>5.50</td>\n",
       "      <td>0.00</td>\n",
       "      <td>0.5</td>\n",
       "      <td>1.76</td>\n",
       "      <td>0.0</td>\n",
       "      <td>0.3</td>\n",
       "      <td>10.56</td>\n",
       "      <td>2.5</td>\n",
       "    </tr>\n",
       "    <tr>\n",
       "      <th>139167</th>\n",
       "      <td>2.0</td>\n",
       "      <td>2021-07-31 19:17:20</td>\n",
       "      <td>2021-07-31 19:31:53</td>\n",
       "      <td>1.0</td>\n",
       "      <td>3.76</td>\n",
       "      <td>1.0</td>\n",
       "      <td>N</td>\n",
       "      <td>232</td>\n",
       "      <td>164</td>\n",
       "      <td>1.0</td>\n",
       "      <td>15.00</td>\n",
       "      <td>0.00</td>\n",
       "      <td>0.5</td>\n",
       "      <td>1.00</td>\n",
       "      <td>0.0</td>\n",
       "      <td>0.3</td>\n",
       "      <td>19.30</td>\n",
       "      <td>2.5</td>\n",
       "    </tr>\n",
       "    <tr>\n",
       "      <th>263814</th>\n",
       "      <td>NaN</td>\n",
       "      <td>2021-07-25 00:07:00</td>\n",
       "      <td>2021-07-25 00:32:00</td>\n",
       "      <td>NaN</td>\n",
       "      <td>14.71</td>\n",
       "      <td>NaN</td>\n",
       "      <td>NaN</td>\n",
       "      <td>179</td>\n",
       "      <td>228</td>\n",
       "      <td>NaN</td>\n",
       "      <td>47.45</td>\n",
       "      <td>0.00</td>\n",
       "      <td>0.5</td>\n",
       "      <td>7.97</td>\n",
       "      <td>0.0</td>\n",
       "      <td>0.3</td>\n",
       "      <td>56.22</td>\n",
       "      <td>0.0</td>\n",
       "    </tr>\n",
       "    <tr>\n",
       "      <th>214020</th>\n",
       "      <td>NaN</td>\n",
       "      <td>2021-07-13 21:35:14</td>\n",
       "      <td>2021-07-13 21:42:37</td>\n",
       "      <td>NaN</td>\n",
       "      <td>1.30</td>\n",
       "      <td>NaN</td>\n",
       "      <td>NaN</td>\n",
       "      <td>162</td>\n",
       "      <td>48</td>\n",
       "      <td>NaN</td>\n",
       "      <td>7.00</td>\n",
       "      <td>0.50</td>\n",
       "      <td>0.5</td>\n",
       "      <td>1.62</td>\n",
       "      <td>0.0</td>\n",
       "      <td>0.3</td>\n",
       "      <td>12.42</td>\n",
       "      <td>2.5</td>\n",
       "    </tr>\n",
       "    <tr>\n",
       "      <th>252006</th>\n",
       "      <td>NaN</td>\n",
       "      <td>2021-07-26 08:15:00</td>\n",
       "      <td>2021-07-26 08:19:00</td>\n",
       "      <td>NaN</td>\n",
       "      <td>0.73</td>\n",
       "      <td>NaN</td>\n",
       "      <td>NaN</td>\n",
       "      <td>193</td>\n",
       "      <td>202</td>\n",
       "      <td>NaN</td>\n",
       "      <td>11.45</td>\n",
       "      <td>2.75</td>\n",
       "      <td>0.5</td>\n",
       "      <td>0.00</td>\n",
       "      <td>0.0</td>\n",
       "      <td>0.3</td>\n",
       "      <td>15.00</td>\n",
       "      <td>0.0</td>\n",
       "    </tr>\n",
       "  </tbody>\n",
       "</table>\n",
       "</div>"
      ],
      "text/plain": [
       "        VendorID tpep_pickup_datetime tpep_dropoff_datetime  passenger_count  \\\n",
       "92           2.0  2021-07-30 11:37:27   2021-07-30 11:43:09              1.0   \n",
       "139167       2.0  2021-07-31 19:17:20   2021-07-31 19:31:53              1.0   \n",
       "263814       NaN  2021-07-25 00:07:00   2021-07-25 00:32:00              NaN   \n",
       "214020       NaN  2021-07-13 21:35:14   2021-07-13 21:42:37              NaN   \n",
       "252006       NaN  2021-07-26 08:15:00   2021-07-26 08:19:00              NaN   \n",
       "\n",
       "        trip_distance  RatecodeID store_and_fwd_flag  PULocationID  \\\n",
       "92               0.76         1.0                  N           234   \n",
       "139167           3.76         1.0                  N           232   \n",
       "263814          14.71         NaN                NaN           179   \n",
       "214020           1.30         NaN                NaN           162   \n",
       "252006           0.73         NaN                NaN           193   \n",
       "\n",
       "        DOLocationID  payment_type  fare_amount  extra  mta_tax  tip_amount  \\\n",
       "92               170           1.0         5.50   0.00      0.5        1.76   \n",
       "139167           164           1.0        15.00   0.00      0.5        1.00   \n",
       "263814           228           NaN        47.45   0.00      0.5        7.97   \n",
       "214020            48           NaN         7.00   0.50      0.5        1.62   \n",
       "252006           202           NaN        11.45   2.75      0.5        0.00   \n",
       "\n",
       "        tolls_amount  improvement_surcharge  total_amount  \\\n",
       "92               0.0                    0.3         10.56   \n",
       "139167           0.0                    0.3         19.30   \n",
       "263814           0.0                    0.3         56.22   \n",
       "214020           0.0                    0.3         12.42   \n",
       "252006           0.0                    0.3         15.00   \n",
       "\n",
       "        congestion_surcharge  \n",
       "92                       2.5  \n",
       "139167                   2.5  \n",
       "263814                   0.0  \n",
       "214020                   2.5  \n",
       "252006                   0.0  "
      ]
     },
     "execution_count": 10,
     "metadata": {},
     "output_type": "execute_result"
    }
   ],
   "source": [
    "new_data.tail()"
   ]
  },
  {
   "cell_type": "code",
   "execution_count": 11,
   "metadata": {},
   "outputs": [
    {
     "data": {
      "text/html": [
       "<div>\n",
       "<style scoped>\n",
       "    .dataframe tbody tr th:only-of-type {\n",
       "        vertical-align: middle;\n",
       "    }\n",
       "\n",
       "    .dataframe tbody tr th {\n",
       "        vertical-align: top;\n",
       "    }\n",
       "\n",
       "    .dataframe thead th {\n",
       "        text-align: right;\n",
       "    }\n",
       "</style>\n",
       "<table border=\"1\" class=\"dataframe\">\n",
       "  <thead>\n",
       "    <tr style=\"text-align: right;\">\n",
       "      <th></th>\n",
       "      <th>VendorID</th>\n",
       "      <th>tpep_pickup_datetime</th>\n",
       "      <th>tpep_dropoff_datetime</th>\n",
       "      <th>passenger_count</th>\n",
       "      <th>trip_distance</th>\n",
       "      <th>RatecodeID</th>\n",
       "      <th>store_and_fwd_flag</th>\n",
       "      <th>PULocationID</th>\n",
       "      <th>DOLocationID</th>\n",
       "      <th>payment_type</th>\n",
       "      <th>fare_amount</th>\n",
       "      <th>extra</th>\n",
       "      <th>mta_tax</th>\n",
       "      <th>tip_amount</th>\n",
       "      <th>tolls_amount</th>\n",
       "      <th>improvement_surcharge</th>\n",
       "      <th>total_amount</th>\n",
       "      <th>congestion_surcharge</th>\n",
       "    </tr>\n",
       "  </thead>\n",
       "  <tbody>\n",
       "    <tr>\n",
       "      <th>178566</th>\n",
       "      <td>2.0</td>\n",
       "      <td>2021-01-06 12:48:46</td>\n",
       "      <td>2021-01-06 12:58:27</td>\n",
       "      <td>1.0</td>\n",
       "      <td>0.70</td>\n",
       "      <td>1.0</td>\n",
       "      <td>N</td>\n",
       "      <td>140</td>\n",
       "      <td>236</td>\n",
       "      <td>2.0</td>\n",
       "      <td>7.50</td>\n",
       "      <td>0.00</td>\n",
       "      <td>0.5</td>\n",
       "      <td>0.00</td>\n",
       "      <td>0.0</td>\n",
       "      <td>0.3</td>\n",
       "      <td>10.80</td>\n",
       "      <td>2.5</td>\n",
       "    </tr>\n",
       "    <tr>\n",
       "      <th>52770</th>\n",
       "      <td>1.0</td>\n",
       "      <td>2021-01-02 21:28:12</td>\n",
       "      <td>2021-01-02 21:38:08</td>\n",
       "      <td>1.0</td>\n",
       "      <td>3.20</td>\n",
       "      <td>1.0</td>\n",
       "      <td>N</td>\n",
       "      <td>79</td>\n",
       "      <td>141</td>\n",
       "      <td>1.0</td>\n",
       "      <td>11.50</td>\n",
       "      <td>3.00</td>\n",
       "      <td>0.5</td>\n",
       "      <td>3.05</td>\n",
       "      <td>0.0</td>\n",
       "      <td>0.3</td>\n",
       "      <td>18.35</td>\n",
       "      <td>2.5</td>\n",
       "    </tr>\n",
       "    <tr>\n",
       "      <th>86127</th>\n",
       "      <td>2.0</td>\n",
       "      <td>2021-01-04 09:51:42</td>\n",
       "      <td>2021-01-04 09:58:10</td>\n",
       "      <td>4.0</td>\n",
       "      <td>1.05</td>\n",
       "      <td>1.0</td>\n",
       "      <td>N</td>\n",
       "      <td>107</td>\n",
       "      <td>234</td>\n",
       "      <td>1.0</td>\n",
       "      <td>6.00</td>\n",
       "      <td>0.00</td>\n",
       "      <td>0.5</td>\n",
       "      <td>1.86</td>\n",
       "      <td>0.0</td>\n",
       "      <td>0.3</td>\n",
       "      <td>11.16</td>\n",
       "      <td>2.5</td>\n",
       "    </tr>\n",
       "    <tr>\n",
       "      <th>224455</th>\n",
       "      <td>2.0</td>\n",
       "      <td>2021-01-07 12:00:31</td>\n",
       "      <td>2021-01-07 12:11:20</td>\n",
       "      <td>1.0</td>\n",
       "      <td>1.82</td>\n",
       "      <td>1.0</td>\n",
       "      <td>N</td>\n",
       "      <td>141</td>\n",
       "      <td>236</td>\n",
       "      <td>1.0</td>\n",
       "      <td>9.00</td>\n",
       "      <td>0.00</td>\n",
       "      <td>0.5</td>\n",
       "      <td>1.50</td>\n",
       "      <td>0.0</td>\n",
       "      <td>0.3</td>\n",
       "      <td>13.80</td>\n",
       "      <td>2.5</td>\n",
       "    </tr>\n",
       "    <tr>\n",
       "      <th>249503</th>\n",
       "      <td>2.0</td>\n",
       "      <td>2021-01-07 19:31:20</td>\n",
       "      <td>2021-01-07 19:35:54</td>\n",
       "      <td>1.0</td>\n",
       "      <td>0.89</td>\n",
       "      <td>1.0</td>\n",
       "      <td>N</td>\n",
       "      <td>230</td>\n",
       "      <td>100</td>\n",
       "      <td>2.0</td>\n",
       "      <td>5.00</td>\n",
       "      <td>1.00</td>\n",
       "      <td>0.5</td>\n",
       "      <td>0.00</td>\n",
       "      <td>0.0</td>\n",
       "      <td>0.3</td>\n",
       "      <td>9.30</td>\n",
       "      <td>2.5</td>\n",
       "    </tr>\n",
       "    <tr>\n",
       "      <th>...</th>\n",
       "      <td>...</td>\n",
       "      <td>...</td>\n",
       "      <td>...</td>\n",
       "      <td>...</td>\n",
       "      <td>...</td>\n",
       "      <td>...</td>\n",
       "      <td>...</td>\n",
       "      <td>...</td>\n",
       "      <td>...</td>\n",
       "      <td>...</td>\n",
       "      <td>...</td>\n",
       "      <td>...</td>\n",
       "      <td>...</td>\n",
       "      <td>...</td>\n",
       "      <td>...</td>\n",
       "      <td>...</td>\n",
       "      <td>...</td>\n",
       "      <td>...</td>\n",
       "    </tr>\n",
       "    <tr>\n",
       "      <th>92</th>\n",
       "      <td>2.0</td>\n",
       "      <td>2021-07-30 11:37:27</td>\n",
       "      <td>2021-07-30 11:43:09</td>\n",
       "      <td>1.0</td>\n",
       "      <td>0.76</td>\n",
       "      <td>1.0</td>\n",
       "      <td>N</td>\n",
       "      <td>234</td>\n",
       "      <td>170</td>\n",
       "      <td>1.0</td>\n",
       "      <td>5.50</td>\n",
       "      <td>0.00</td>\n",
       "      <td>0.5</td>\n",
       "      <td>1.76</td>\n",
       "      <td>0.0</td>\n",
       "      <td>0.3</td>\n",
       "      <td>10.56</td>\n",
       "      <td>2.5</td>\n",
       "    </tr>\n",
       "    <tr>\n",
       "      <th>139167</th>\n",
       "      <td>2.0</td>\n",
       "      <td>2021-07-31 19:17:20</td>\n",
       "      <td>2021-07-31 19:31:53</td>\n",
       "      <td>1.0</td>\n",
       "      <td>3.76</td>\n",
       "      <td>1.0</td>\n",
       "      <td>N</td>\n",
       "      <td>232</td>\n",
       "      <td>164</td>\n",
       "      <td>1.0</td>\n",
       "      <td>15.00</td>\n",
       "      <td>0.00</td>\n",
       "      <td>0.5</td>\n",
       "      <td>1.00</td>\n",
       "      <td>0.0</td>\n",
       "      <td>0.3</td>\n",
       "      <td>19.30</td>\n",
       "      <td>2.5</td>\n",
       "    </tr>\n",
       "    <tr>\n",
       "      <th>263814</th>\n",
       "      <td>NaN</td>\n",
       "      <td>2021-07-25 00:07:00</td>\n",
       "      <td>2021-07-25 00:32:00</td>\n",
       "      <td>NaN</td>\n",
       "      <td>14.71</td>\n",
       "      <td>NaN</td>\n",
       "      <td>NaN</td>\n",
       "      <td>179</td>\n",
       "      <td>228</td>\n",
       "      <td>NaN</td>\n",
       "      <td>47.45</td>\n",
       "      <td>0.00</td>\n",
       "      <td>0.5</td>\n",
       "      <td>7.97</td>\n",
       "      <td>0.0</td>\n",
       "      <td>0.3</td>\n",
       "      <td>56.22</td>\n",
       "      <td>0.0</td>\n",
       "    </tr>\n",
       "    <tr>\n",
       "      <th>214020</th>\n",
       "      <td>NaN</td>\n",
       "      <td>2021-07-13 21:35:14</td>\n",
       "      <td>2021-07-13 21:42:37</td>\n",
       "      <td>NaN</td>\n",
       "      <td>1.30</td>\n",
       "      <td>NaN</td>\n",
       "      <td>NaN</td>\n",
       "      <td>162</td>\n",
       "      <td>48</td>\n",
       "      <td>NaN</td>\n",
       "      <td>7.00</td>\n",
       "      <td>0.50</td>\n",
       "      <td>0.5</td>\n",
       "      <td>1.62</td>\n",
       "      <td>0.0</td>\n",
       "      <td>0.3</td>\n",
       "      <td>12.42</td>\n",
       "      <td>2.5</td>\n",
       "    </tr>\n",
       "    <tr>\n",
       "      <th>252006</th>\n",
       "      <td>NaN</td>\n",
       "      <td>2021-07-26 08:15:00</td>\n",
       "      <td>2021-07-26 08:19:00</td>\n",
       "      <td>NaN</td>\n",
       "      <td>0.73</td>\n",
       "      <td>NaN</td>\n",
       "      <td>NaN</td>\n",
       "      <td>193</td>\n",
       "      <td>202</td>\n",
       "      <td>NaN</td>\n",
       "      <td>11.45</td>\n",
       "      <td>2.75</td>\n",
       "      <td>0.5</td>\n",
       "      <td>0.00</td>\n",
       "      <td>0.0</td>\n",
       "      <td>0.3</td>\n",
       "      <td>15.00</td>\n",
       "      <td>0.0</td>\n",
       "    </tr>\n",
       "  </tbody>\n",
       "</table>\n",
       "<p>600027 rows × 18 columns</p>\n",
       "</div>"
      ],
      "text/plain": [
       "        VendorID tpep_pickup_datetime tpep_dropoff_datetime  passenger_count  \\\n",
       "178566       2.0  2021-01-06 12:48:46   2021-01-06 12:58:27              1.0   \n",
       "52770        1.0  2021-01-02 21:28:12   2021-01-02 21:38:08              1.0   \n",
       "86127        2.0  2021-01-04 09:51:42   2021-01-04 09:58:10              4.0   \n",
       "224455       2.0  2021-01-07 12:00:31   2021-01-07 12:11:20              1.0   \n",
       "249503       2.0  2021-01-07 19:31:20   2021-01-07 19:35:54              1.0   \n",
       "...          ...                  ...                   ...              ...   \n",
       "92           2.0  2021-07-30 11:37:27   2021-07-30 11:43:09              1.0   \n",
       "139167       2.0  2021-07-31 19:17:20   2021-07-31 19:31:53              1.0   \n",
       "263814       NaN  2021-07-25 00:07:00   2021-07-25 00:32:00              NaN   \n",
       "214020       NaN  2021-07-13 21:35:14   2021-07-13 21:42:37              NaN   \n",
       "252006       NaN  2021-07-26 08:15:00   2021-07-26 08:19:00              NaN   \n",
       "\n",
       "        trip_distance  RatecodeID store_and_fwd_flag  PULocationID  \\\n",
       "178566           0.70         1.0                  N           140   \n",
       "52770            3.20         1.0                  N            79   \n",
       "86127            1.05         1.0                  N           107   \n",
       "224455           1.82         1.0                  N           141   \n",
       "249503           0.89         1.0                  N           230   \n",
       "...               ...         ...                ...           ...   \n",
       "92               0.76         1.0                  N           234   \n",
       "139167           3.76         1.0                  N           232   \n",
       "263814          14.71         NaN                NaN           179   \n",
       "214020           1.30         NaN                NaN           162   \n",
       "252006           0.73         NaN                NaN           193   \n",
       "\n",
       "        DOLocationID  payment_type  fare_amount  extra  mta_tax  tip_amount  \\\n",
       "178566           236           2.0         7.50   0.00      0.5        0.00   \n",
       "52770            141           1.0        11.50   3.00      0.5        3.05   \n",
       "86127            234           1.0         6.00   0.00      0.5        1.86   \n",
       "224455           236           1.0         9.00   0.00      0.5        1.50   \n",
       "249503           100           2.0         5.00   1.00      0.5        0.00   \n",
       "...              ...           ...          ...    ...      ...         ...   \n",
       "92               170           1.0         5.50   0.00      0.5        1.76   \n",
       "139167           164           1.0        15.00   0.00      0.5        1.00   \n",
       "263814           228           NaN        47.45   0.00      0.5        7.97   \n",
       "214020            48           NaN         7.00   0.50      0.5        1.62   \n",
       "252006           202           NaN        11.45   2.75      0.5        0.00   \n",
       "\n",
       "        tolls_amount  improvement_surcharge  total_amount  \\\n",
       "178566           0.0                    0.3         10.80   \n",
       "52770            0.0                    0.3         18.35   \n",
       "86127            0.0                    0.3         11.16   \n",
       "224455           0.0                    0.3         13.80   \n",
       "249503           0.0                    0.3          9.30   \n",
       "...              ...                    ...           ...   \n",
       "92               0.0                    0.3         10.56   \n",
       "139167           0.0                    0.3         19.30   \n",
       "263814           0.0                    0.3         56.22   \n",
       "214020           0.0                    0.3         12.42   \n",
       "252006           0.0                    0.3         15.00   \n",
       "\n",
       "        congestion_surcharge  \n",
       "178566                   2.5  \n",
       "52770                    2.5  \n",
       "86127                    2.5  \n",
       "224455                   2.5  \n",
       "249503                   2.5  \n",
       "...                      ...  \n",
       "92                       2.5  \n",
       "139167                   2.5  \n",
       "263814                   0.0  \n",
       "214020                   2.5  \n",
       "252006                   0.0  \n",
       "\n",
       "[600027 rows x 18 columns]"
      ]
     },
     "execution_count": 11,
     "metadata": {},
     "output_type": "execute_result"
    }
   ],
   "source": [
    "new_data.compute()"
   ]
  },
  {
   "cell_type": "code",
   "execution_count": 12,
   "metadata": {},
   "outputs": [
    {
     "data": {
      "text/plain": [
       "Index(['VendorID', 'tpep_pickup_datetime', 'tpep_dropoff_datetime',\n",
       "       'passenger_count', 'trip_distance', 'RatecodeID', 'store_and_fwd_flag',\n",
       "       'PULocationID', 'DOLocationID', 'payment_type', 'fare_amount', 'extra',\n",
       "       'mta_tax', 'tip_amount', 'tolls_amount', 'improvement_surcharge',\n",
       "       'total_amount', 'congestion_surcharge'],\n",
       "      dtype='object')"
      ]
     },
     "execution_count": 12,
     "metadata": {},
     "output_type": "execute_result"
    }
   ],
   "source": [
    "new_data.columns"
   ]
  },
  {
   "cell_type": "markdown",
   "metadata": {},
   "source": [
    "## __4. Calculating the duration of the trip__"
   ]
  },
  {
   "cell_type": "markdown",
   "metadata": {},
   "source": [
    "### __4.1 Creating a new dataframe backend as pandas__"
   ]
  },
  {
   "cell_type": "code",
   "execution_count": 13,
   "metadata": {},
   "outputs": [],
   "source": [
    "new_dt = new_data.compute().reset_index()"
   ]
  },
  {
   "cell_type": "code",
   "execution_count": 14,
   "metadata": {},
   "outputs": [
    {
     "data": {
      "text/plain": [
       "Timestamp('2021-01-02 21:28:12')"
      ]
     },
     "execution_count": 14,
     "metadata": {},
     "output_type": "execute_result"
    }
   ],
   "source": [
    "new_dt['tpep_pickup_datetime'][1]"
   ]
  },
  {
   "cell_type": "code",
   "execution_count": 15,
   "metadata": {},
   "outputs": [],
   "source": [
    "import numpy as np"
   ]
  },
  {
   "cell_type": "markdown",
   "metadata": {},
   "source": [
    "### __4.2 Creating a function to calculate the time difference__"
   ]
  },
  {
   "cell_type": "markdown",
   "metadata": {},
   "source": [
    "- t0 = start time\n",
    "- t1 = end time\n",
    "- [link gives info about timedelta]('https://numpy.org/doc/stable/reference/arrays.datetime.html')\n",
    "- here 'm' is minute and Unix epoch (00:00:00 UTC on '1' January 1970)\n",
    "$$ (t1 - t0)"
   ]
  },
  {
   "cell_type": "code",
   "execution_count": 16,
   "metadata": {},
   "outputs": [
    {
     "data": {
      "text/plain": [
       "9.68"
      ]
     },
     "execution_count": 16,
     "metadata": {},
     "output_type": "execute_result"
    }
   ],
   "source": [
    "#time difference function\n",
    "def time_(x):\n",
    "    y = round((new_dt['tpep_dropoff_datetime'][x] - new_dt['tpep_pickup_datetime'][x])/np.timedelta64(1, 'm'), 2)\n",
    "    return y\n",
    "time_(0)"
   ]
  },
  {
   "cell_type": "code",
   "execution_count": 18,
   "metadata": {},
   "outputs": [],
   "source": [
    "#appending difference time to list\n",
    "t1 = []\n",
    "for i in range(len(new_dt)):\n",
    "    t = time_(i)\n",
    "    t1.append(t)"
   ]
  },
  {
   "cell_type": "markdown",
   "metadata": {},
   "source": [
    "## __5. Adding time diff to dataframe__"
   ]
  },
  {
   "cell_type": "code",
   "execution_count": 19,
   "metadata": {},
   "outputs": [],
   "source": [
    "# adding a new column with time diff\n",
    "new_dt['Time_diff_min'] = t1"
   ]
  },
  {
   "cell_type": "code",
   "execution_count": 20,
   "metadata": {},
   "outputs": [
    {
     "data": {
      "text/html": [
       "<div>\n",
       "<style scoped>\n",
       "    .dataframe tbody tr th:only-of-type {\n",
       "        vertical-align: middle;\n",
       "    }\n",
       "\n",
       "    .dataframe tbody tr th {\n",
       "        vertical-align: top;\n",
       "    }\n",
       "\n",
       "    .dataframe thead th {\n",
       "        text-align: right;\n",
       "    }\n",
       "</style>\n",
       "<table border=\"1\" class=\"dataframe\">\n",
       "  <thead>\n",
       "    <tr style=\"text-align: right;\">\n",
       "      <th></th>\n",
       "      <th>index</th>\n",
       "      <th>VendorID</th>\n",
       "      <th>tpep_pickup_datetime</th>\n",
       "      <th>tpep_dropoff_datetime</th>\n",
       "      <th>passenger_count</th>\n",
       "      <th>trip_distance</th>\n",
       "      <th>RatecodeID</th>\n",
       "      <th>store_and_fwd_flag</th>\n",
       "      <th>PULocationID</th>\n",
       "      <th>DOLocationID</th>\n",
       "      <th>payment_type</th>\n",
       "      <th>fare_amount</th>\n",
       "      <th>extra</th>\n",
       "      <th>mta_tax</th>\n",
       "      <th>tip_amount</th>\n",
       "      <th>tolls_amount</th>\n",
       "      <th>improvement_surcharge</th>\n",
       "      <th>total_amount</th>\n",
       "      <th>congestion_surcharge</th>\n",
       "      <th>Time_diff_min</th>\n",
       "    </tr>\n",
       "  </thead>\n",
       "  <tbody>\n",
       "    <tr>\n",
       "      <th>0</th>\n",
       "      <td>178566</td>\n",
       "      <td>2.0</td>\n",
       "      <td>2021-01-06 12:48:46</td>\n",
       "      <td>2021-01-06 12:58:27</td>\n",
       "      <td>1.0</td>\n",
       "      <td>0.70</td>\n",
       "      <td>1.0</td>\n",
       "      <td>N</td>\n",
       "      <td>140</td>\n",
       "      <td>236</td>\n",
       "      <td>2.0</td>\n",
       "      <td>7.50</td>\n",
       "      <td>0.00</td>\n",
       "      <td>0.5</td>\n",
       "      <td>0.00</td>\n",
       "      <td>0.0</td>\n",
       "      <td>0.3</td>\n",
       "      <td>10.80</td>\n",
       "      <td>2.5</td>\n",
       "      <td>9.68</td>\n",
       "    </tr>\n",
       "    <tr>\n",
       "      <th>1</th>\n",
       "      <td>52770</td>\n",
       "      <td>1.0</td>\n",
       "      <td>2021-01-02 21:28:12</td>\n",
       "      <td>2021-01-02 21:38:08</td>\n",
       "      <td>1.0</td>\n",
       "      <td>3.20</td>\n",
       "      <td>1.0</td>\n",
       "      <td>N</td>\n",
       "      <td>79</td>\n",
       "      <td>141</td>\n",
       "      <td>1.0</td>\n",
       "      <td>11.50</td>\n",
       "      <td>3.00</td>\n",
       "      <td>0.5</td>\n",
       "      <td>3.05</td>\n",
       "      <td>0.0</td>\n",
       "      <td>0.3</td>\n",
       "      <td>18.35</td>\n",
       "      <td>2.5</td>\n",
       "      <td>9.93</td>\n",
       "    </tr>\n",
       "    <tr>\n",
       "      <th>2</th>\n",
       "      <td>86127</td>\n",
       "      <td>2.0</td>\n",
       "      <td>2021-01-04 09:51:42</td>\n",
       "      <td>2021-01-04 09:58:10</td>\n",
       "      <td>4.0</td>\n",
       "      <td>1.05</td>\n",
       "      <td>1.0</td>\n",
       "      <td>N</td>\n",
       "      <td>107</td>\n",
       "      <td>234</td>\n",
       "      <td>1.0</td>\n",
       "      <td>6.00</td>\n",
       "      <td>0.00</td>\n",
       "      <td>0.5</td>\n",
       "      <td>1.86</td>\n",
       "      <td>0.0</td>\n",
       "      <td>0.3</td>\n",
       "      <td>11.16</td>\n",
       "      <td>2.5</td>\n",
       "      <td>6.47</td>\n",
       "    </tr>\n",
       "    <tr>\n",
       "      <th>3</th>\n",
       "      <td>224455</td>\n",
       "      <td>2.0</td>\n",
       "      <td>2021-01-07 12:00:31</td>\n",
       "      <td>2021-01-07 12:11:20</td>\n",
       "      <td>1.0</td>\n",
       "      <td>1.82</td>\n",
       "      <td>1.0</td>\n",
       "      <td>N</td>\n",
       "      <td>141</td>\n",
       "      <td>236</td>\n",
       "      <td>1.0</td>\n",
       "      <td>9.00</td>\n",
       "      <td>0.00</td>\n",
       "      <td>0.5</td>\n",
       "      <td>1.50</td>\n",
       "      <td>0.0</td>\n",
       "      <td>0.3</td>\n",
       "      <td>13.80</td>\n",
       "      <td>2.5</td>\n",
       "      <td>10.82</td>\n",
       "    </tr>\n",
       "    <tr>\n",
       "      <th>4</th>\n",
       "      <td>249503</td>\n",
       "      <td>2.0</td>\n",
       "      <td>2021-01-07 19:31:20</td>\n",
       "      <td>2021-01-07 19:35:54</td>\n",
       "      <td>1.0</td>\n",
       "      <td>0.89</td>\n",
       "      <td>1.0</td>\n",
       "      <td>N</td>\n",
       "      <td>230</td>\n",
       "      <td>100</td>\n",
       "      <td>2.0</td>\n",
       "      <td>5.00</td>\n",
       "      <td>1.00</td>\n",
       "      <td>0.5</td>\n",
       "      <td>0.00</td>\n",
       "      <td>0.0</td>\n",
       "      <td>0.3</td>\n",
       "      <td>9.30</td>\n",
       "      <td>2.5</td>\n",
       "      <td>4.57</td>\n",
       "    </tr>\n",
       "    <tr>\n",
       "      <th>...</th>\n",
       "      <td>...</td>\n",
       "      <td>...</td>\n",
       "      <td>...</td>\n",
       "      <td>...</td>\n",
       "      <td>...</td>\n",
       "      <td>...</td>\n",
       "      <td>...</td>\n",
       "      <td>...</td>\n",
       "      <td>...</td>\n",
       "      <td>...</td>\n",
       "      <td>...</td>\n",
       "      <td>...</td>\n",
       "      <td>...</td>\n",
       "      <td>...</td>\n",
       "      <td>...</td>\n",
       "      <td>...</td>\n",
       "      <td>...</td>\n",
       "      <td>...</td>\n",
       "      <td>...</td>\n",
       "      <td>...</td>\n",
       "    </tr>\n",
       "    <tr>\n",
       "      <th>600022</th>\n",
       "      <td>92</td>\n",
       "      <td>2.0</td>\n",
       "      <td>2021-07-30 11:37:27</td>\n",
       "      <td>2021-07-30 11:43:09</td>\n",
       "      <td>1.0</td>\n",
       "      <td>0.76</td>\n",
       "      <td>1.0</td>\n",
       "      <td>N</td>\n",
       "      <td>234</td>\n",
       "      <td>170</td>\n",
       "      <td>1.0</td>\n",
       "      <td>5.50</td>\n",
       "      <td>0.00</td>\n",
       "      <td>0.5</td>\n",
       "      <td>1.76</td>\n",
       "      <td>0.0</td>\n",
       "      <td>0.3</td>\n",
       "      <td>10.56</td>\n",
       "      <td>2.5</td>\n",
       "      <td>5.70</td>\n",
       "    </tr>\n",
       "    <tr>\n",
       "      <th>600023</th>\n",
       "      <td>139167</td>\n",
       "      <td>2.0</td>\n",
       "      <td>2021-07-31 19:17:20</td>\n",
       "      <td>2021-07-31 19:31:53</td>\n",
       "      <td>1.0</td>\n",
       "      <td>3.76</td>\n",
       "      <td>1.0</td>\n",
       "      <td>N</td>\n",
       "      <td>232</td>\n",
       "      <td>164</td>\n",
       "      <td>1.0</td>\n",
       "      <td>15.00</td>\n",
       "      <td>0.00</td>\n",
       "      <td>0.5</td>\n",
       "      <td>1.00</td>\n",
       "      <td>0.0</td>\n",
       "      <td>0.3</td>\n",
       "      <td>19.30</td>\n",
       "      <td>2.5</td>\n",
       "      <td>14.55</td>\n",
       "    </tr>\n",
       "    <tr>\n",
       "      <th>600024</th>\n",
       "      <td>263814</td>\n",
       "      <td>NaN</td>\n",
       "      <td>2021-07-25 00:07:00</td>\n",
       "      <td>2021-07-25 00:32:00</td>\n",
       "      <td>NaN</td>\n",
       "      <td>14.71</td>\n",
       "      <td>NaN</td>\n",
       "      <td>NaN</td>\n",
       "      <td>179</td>\n",
       "      <td>228</td>\n",
       "      <td>NaN</td>\n",
       "      <td>47.45</td>\n",
       "      <td>0.00</td>\n",
       "      <td>0.5</td>\n",
       "      <td>7.97</td>\n",
       "      <td>0.0</td>\n",
       "      <td>0.3</td>\n",
       "      <td>56.22</td>\n",
       "      <td>0.0</td>\n",
       "      <td>25.00</td>\n",
       "    </tr>\n",
       "    <tr>\n",
       "      <th>600025</th>\n",
       "      <td>214020</td>\n",
       "      <td>NaN</td>\n",
       "      <td>2021-07-13 21:35:14</td>\n",
       "      <td>2021-07-13 21:42:37</td>\n",
       "      <td>NaN</td>\n",
       "      <td>1.30</td>\n",
       "      <td>NaN</td>\n",
       "      <td>NaN</td>\n",
       "      <td>162</td>\n",
       "      <td>48</td>\n",
       "      <td>NaN</td>\n",
       "      <td>7.00</td>\n",
       "      <td>0.50</td>\n",
       "      <td>0.5</td>\n",
       "      <td>1.62</td>\n",
       "      <td>0.0</td>\n",
       "      <td>0.3</td>\n",
       "      <td>12.42</td>\n",
       "      <td>2.5</td>\n",
       "      <td>7.38</td>\n",
       "    </tr>\n",
       "    <tr>\n",
       "      <th>600026</th>\n",
       "      <td>252006</td>\n",
       "      <td>NaN</td>\n",
       "      <td>2021-07-26 08:15:00</td>\n",
       "      <td>2021-07-26 08:19:00</td>\n",
       "      <td>NaN</td>\n",
       "      <td>0.73</td>\n",
       "      <td>NaN</td>\n",
       "      <td>NaN</td>\n",
       "      <td>193</td>\n",
       "      <td>202</td>\n",
       "      <td>NaN</td>\n",
       "      <td>11.45</td>\n",
       "      <td>2.75</td>\n",
       "      <td>0.5</td>\n",
       "      <td>0.00</td>\n",
       "      <td>0.0</td>\n",
       "      <td>0.3</td>\n",
       "      <td>15.00</td>\n",
       "      <td>0.0</td>\n",
       "      <td>4.00</td>\n",
       "    </tr>\n",
       "  </tbody>\n",
       "</table>\n",
       "<p>600027 rows × 20 columns</p>\n",
       "</div>"
      ],
      "text/plain": [
       "         index  VendorID tpep_pickup_datetime tpep_dropoff_datetime  \\\n",
       "0       178566       2.0  2021-01-06 12:48:46   2021-01-06 12:58:27   \n",
       "1        52770       1.0  2021-01-02 21:28:12   2021-01-02 21:38:08   \n",
       "2        86127       2.0  2021-01-04 09:51:42   2021-01-04 09:58:10   \n",
       "3       224455       2.0  2021-01-07 12:00:31   2021-01-07 12:11:20   \n",
       "4       249503       2.0  2021-01-07 19:31:20   2021-01-07 19:35:54   \n",
       "...        ...       ...                  ...                   ...   \n",
       "600022      92       2.0  2021-07-30 11:37:27   2021-07-30 11:43:09   \n",
       "600023  139167       2.0  2021-07-31 19:17:20   2021-07-31 19:31:53   \n",
       "600024  263814       NaN  2021-07-25 00:07:00   2021-07-25 00:32:00   \n",
       "600025  214020       NaN  2021-07-13 21:35:14   2021-07-13 21:42:37   \n",
       "600026  252006       NaN  2021-07-26 08:15:00   2021-07-26 08:19:00   \n",
       "\n",
       "        passenger_count  trip_distance  RatecodeID store_and_fwd_flag  \\\n",
       "0                   1.0           0.70         1.0                  N   \n",
       "1                   1.0           3.20         1.0                  N   \n",
       "2                   4.0           1.05         1.0                  N   \n",
       "3                   1.0           1.82         1.0                  N   \n",
       "4                   1.0           0.89         1.0                  N   \n",
       "...                 ...            ...         ...                ...   \n",
       "600022              1.0           0.76         1.0                  N   \n",
       "600023              1.0           3.76         1.0                  N   \n",
       "600024              NaN          14.71         NaN                NaN   \n",
       "600025              NaN           1.30         NaN                NaN   \n",
       "600026              NaN           0.73         NaN                NaN   \n",
       "\n",
       "        PULocationID  DOLocationID  payment_type  fare_amount  extra  mta_tax  \\\n",
       "0                140           236           2.0         7.50   0.00      0.5   \n",
       "1                 79           141           1.0        11.50   3.00      0.5   \n",
       "2                107           234           1.0         6.00   0.00      0.5   \n",
       "3                141           236           1.0         9.00   0.00      0.5   \n",
       "4                230           100           2.0         5.00   1.00      0.5   \n",
       "...              ...           ...           ...          ...    ...      ...   \n",
       "600022           234           170           1.0         5.50   0.00      0.5   \n",
       "600023           232           164           1.0        15.00   0.00      0.5   \n",
       "600024           179           228           NaN        47.45   0.00      0.5   \n",
       "600025           162            48           NaN         7.00   0.50      0.5   \n",
       "600026           193           202           NaN        11.45   2.75      0.5   \n",
       "\n",
       "        tip_amount  tolls_amount  improvement_surcharge  total_amount  \\\n",
       "0             0.00           0.0                    0.3         10.80   \n",
       "1             3.05           0.0                    0.3         18.35   \n",
       "2             1.86           0.0                    0.3         11.16   \n",
       "3             1.50           0.0                    0.3         13.80   \n",
       "4             0.00           0.0                    0.3          9.30   \n",
       "...            ...           ...                    ...           ...   \n",
       "600022        1.76           0.0                    0.3         10.56   \n",
       "600023        1.00           0.0                    0.3         19.30   \n",
       "600024        7.97           0.0                    0.3         56.22   \n",
       "600025        1.62           0.0                    0.3         12.42   \n",
       "600026        0.00           0.0                    0.3         15.00   \n",
       "\n",
       "        congestion_surcharge  Time_diff_min  \n",
       "0                        2.5           9.68  \n",
       "1                        2.5           9.93  \n",
       "2                        2.5           6.47  \n",
       "3                        2.5          10.82  \n",
       "4                        2.5           4.57  \n",
       "...                      ...            ...  \n",
       "600022                   2.5           5.70  \n",
       "600023                   2.5          14.55  \n",
       "600024                   0.0          25.00  \n",
       "600025                   2.5           7.38  \n",
       "600026                   0.0           4.00  \n",
       "\n",
       "[600027 rows x 20 columns]"
      ]
     },
     "execution_count": 20,
     "metadata": {},
     "output_type": "execute_result"
    }
   ],
   "source": [
    "new_dt"
   ]
  },
  {
   "cell_type": "markdown",
   "metadata": {},
   "source": [
    "## __Analysis Part-II__"
   ]
  },
  {
   "cell_type": "markdown",
   "metadata": {},
   "source": [
    "## __6. Creating a new dataframe__"
   ]
  },
  {
   "cell_type": "code",
   "execution_count": 21,
   "metadata": {},
   "outputs": [
    {
     "data": {
      "text/html": [
       "<div>\n",
       "<style scoped>\n",
       "    .dataframe tbody tr th:only-of-type {\n",
       "        vertical-align: middle;\n",
       "    }\n",
       "\n",
       "    .dataframe tbody tr th {\n",
       "        vertical-align: top;\n",
       "    }\n",
       "\n",
       "    .dataframe thead th {\n",
       "        text-align: right;\n",
       "    }\n",
       "</style>\n",
       "<table border=\"1\" class=\"dataframe\">\n",
       "  <thead>\n",
       "    <tr style=\"text-align: right;\">\n",
       "      <th></th>\n",
       "      <th>index</th>\n",
       "      <th>VendorID</th>\n",
       "      <th>tpep_pickup_datetime</th>\n",
       "      <th>tpep_dropoff_datetime</th>\n",
       "      <th>passenger_count</th>\n",
       "      <th>trip_distance</th>\n",
       "      <th>PULocationID</th>\n",
       "      <th>DOLocationID</th>\n",
       "      <th>total_amount</th>\n",
       "      <th>Time_diff_min</th>\n",
       "    </tr>\n",
       "  </thead>\n",
       "  <tbody>\n",
       "    <tr>\n",
       "      <th>0</th>\n",
       "      <td>178566</td>\n",
       "      <td>2.0</td>\n",
       "      <td>2021-01-06 12:48:46</td>\n",
       "      <td>2021-01-06 12:58:27</td>\n",
       "      <td>1.0</td>\n",
       "      <td>0.70</td>\n",
       "      <td>140</td>\n",
       "      <td>236</td>\n",
       "      <td>10.80</td>\n",
       "      <td>9.68</td>\n",
       "    </tr>\n",
       "    <tr>\n",
       "      <th>1</th>\n",
       "      <td>52770</td>\n",
       "      <td>1.0</td>\n",
       "      <td>2021-01-02 21:28:12</td>\n",
       "      <td>2021-01-02 21:38:08</td>\n",
       "      <td>1.0</td>\n",
       "      <td>3.20</td>\n",
       "      <td>79</td>\n",
       "      <td>141</td>\n",
       "      <td>18.35</td>\n",
       "      <td>9.93</td>\n",
       "    </tr>\n",
       "    <tr>\n",
       "      <th>2</th>\n",
       "      <td>86127</td>\n",
       "      <td>2.0</td>\n",
       "      <td>2021-01-04 09:51:42</td>\n",
       "      <td>2021-01-04 09:58:10</td>\n",
       "      <td>4.0</td>\n",
       "      <td>1.05</td>\n",
       "      <td>107</td>\n",
       "      <td>234</td>\n",
       "      <td>11.16</td>\n",
       "      <td>6.47</td>\n",
       "    </tr>\n",
       "    <tr>\n",
       "      <th>3</th>\n",
       "      <td>224455</td>\n",
       "      <td>2.0</td>\n",
       "      <td>2021-01-07 12:00:31</td>\n",
       "      <td>2021-01-07 12:11:20</td>\n",
       "      <td>1.0</td>\n",
       "      <td>1.82</td>\n",
       "      <td>141</td>\n",
       "      <td>236</td>\n",
       "      <td>13.80</td>\n",
       "      <td>10.82</td>\n",
       "    </tr>\n",
       "    <tr>\n",
       "      <th>4</th>\n",
       "      <td>249503</td>\n",
       "      <td>2.0</td>\n",
       "      <td>2021-01-07 19:31:20</td>\n",
       "      <td>2021-01-07 19:35:54</td>\n",
       "      <td>1.0</td>\n",
       "      <td>0.89</td>\n",
       "      <td>230</td>\n",
       "      <td>100</td>\n",
       "      <td>9.30</td>\n",
       "      <td>4.57</td>\n",
       "    </tr>\n",
       "  </tbody>\n",
       "</table>\n",
       "</div>"
      ],
      "text/plain": [
       "    index  VendorID tpep_pickup_datetime tpep_dropoff_datetime  \\\n",
       "0  178566       2.0  2021-01-06 12:48:46   2021-01-06 12:58:27   \n",
       "1   52770       1.0  2021-01-02 21:28:12   2021-01-02 21:38:08   \n",
       "2   86127       2.0  2021-01-04 09:51:42   2021-01-04 09:58:10   \n",
       "3  224455       2.0  2021-01-07 12:00:31   2021-01-07 12:11:20   \n",
       "4  249503       2.0  2021-01-07 19:31:20   2021-01-07 19:35:54   \n",
       "\n",
       "   passenger_count  trip_distance  PULocationID  DOLocationID  total_amount  \\\n",
       "0              1.0           0.70           140           236         10.80   \n",
       "1              1.0           3.20            79           141         18.35   \n",
       "2              4.0           1.05           107           234         11.16   \n",
       "3              1.0           1.82           141           236         13.80   \n",
       "4              1.0           0.89           230           100          9.30   \n",
       "\n",
       "   Time_diff_min  \n",
       "0           9.68  \n",
       "1           9.93  \n",
       "2           6.47  \n",
       "3          10.82  \n",
       "4           4.57  "
      ]
     },
     "execution_count": 21,
     "metadata": {},
     "output_type": "execute_result"
    }
   ],
   "source": [
    "idata = new_dt.iloc[:,[0,1,2,3,4,5,8,9,17,19]]\n",
    "idata.head()"
   ]
  },
  {
   "cell_type": "code",
   "execution_count": 22,
   "metadata": {},
   "outputs": [
    {
     "data": {
      "text/plain": [
       "index                        0\n",
       "VendorID                 33494\n",
       "tpep_pickup_datetime         0\n",
       "tpep_dropoff_datetime        0\n",
       "passenger_count          33494\n",
       "trip_distance                0\n",
       "PULocationID                 0\n",
       "DOLocationID                 0\n",
       "total_amount                 0\n",
       "Time_diff_min                0\n",
       "dtype: int64"
      ]
     },
     "execution_count": 22,
     "metadata": {},
     "output_type": "execute_result"
    }
   ],
   "source": [
    "idata.isnull().sum()"
   ]
  },
  {
   "cell_type": "code",
   "execution_count": 23,
   "metadata": {},
   "outputs": [
    {
     "data": {
      "text/plain": [
       "(600027, 10)"
      ]
     },
     "execution_count": 23,
     "metadata": {},
     "output_type": "execute_result"
    }
   ],
   "source": [
    "idata.shape"
   ]
  },
  {
   "cell_type": "markdown",
   "metadata": {},
   "source": [
    "## __7. Identifying the outliners in the dataset__"
   ]
  },
  {
   "cell_type": "markdown",
   "metadata": {},
   "source": [
    "### __7.1 Outliners in the time difference columns__"
   ]
  },
  {
   "cell_type": "code",
   "execution_count": 24,
   "metadata": {},
   "outputs": [
    {
     "data": {
      "text/plain": [
       "-0.95"
      ]
     },
     "execution_count": 24,
     "metadata": {},
     "output_type": "execute_result"
    }
   ],
   "source": [
    "idata['Time_diff_min'].min()"
   ]
  },
  {
   "cell_type": "code",
   "execution_count": 25,
   "metadata": {},
   "outputs": [
    {
     "data": {
      "text/plain": [
       "[-0.95, -0.95, -0.93, -0.93, -0.93]"
      ]
     },
     "execution_count": 25,
     "metadata": {},
     "output_type": "execute_result"
    }
   ],
   "source": [
    "# smallest time difference\n",
    "small= list(idata['Time_diff_min'].nsmallest(5))\n",
    "small"
   ]
  },
  {
   "cell_type": "code",
   "execution_count": 26,
   "metadata": {},
   "outputs": [
    {
     "name": "stdout",
     "output_type": "stream",
     "text": [
      "         index  VendorID tpep_pickup_datetime tpep_dropoff_datetime  \\\n",
      "51537   265522       NaN  2021-01-26 08:01:59   2021-01-26 08:01:02   \n",
      "100639  195971       NaN  2021-02-02 08:02:59   2021-02-02 08:02:02   \n",
      "\n",
      "        passenger_count  trip_distance  PULocationID  DOLocationID  \\\n",
      "51537               NaN           4.43           265            33   \n",
      "100639              NaN           3.34           265           215   \n",
      "\n",
      "        total_amount  Time_diff_min  \n",
      "51537           28.1          -0.95  \n",
      "100639          29.0          -0.95  \n",
      "         index  VendorID tpep_pickup_datetime tpep_dropoff_datetime  \\\n",
      "51537   265522       NaN  2021-01-26 08:01:59   2021-01-26 08:01:02   \n",
      "100639  195971       NaN  2021-02-02 08:02:59   2021-02-02 08:02:02   \n",
      "\n",
      "        passenger_count  trip_distance  PULocationID  DOLocationID  \\\n",
      "51537               NaN           4.43           265            33   \n",
      "100639              NaN           3.34           265           215   \n",
      "\n",
      "        total_amount  Time_diff_min  \n",
      "51537           28.1          -0.95  \n",
      "100639          29.0          -0.95  \n",
      "         index  VendorID tpep_pickup_datetime tpep_dropoff_datetime  \\\n",
      "106867  277277       NaN  2021-02-11 14:02:58   2021-02-11 14:02:02   \n",
      "182879   60316       NaN  2021-03-19 08:03:59   2021-03-19 08:03:03   \n",
      "184711   60755       NaN  2021-03-22 17:03:59   2021-03-22 17:03:03   \n",
      "186141   84695       NaN  2021-03-29 13:03:58   2021-03-29 13:03:02   \n",
      "370903  333195       NaN  2021-05-21 15:05:59   2021-05-21 15:05:03   \n",
      "482876  222665       NaN  2021-06-17 09:06:57   2021-06-17 09:06:01   \n",
      "\n",
      "        passenger_count  trip_distance  PULocationID  DOLocationID  \\\n",
      "106867              NaN           5.34           265            74   \n",
      "182879              NaN           5.82           265           242   \n",
      "184711              NaN           1.41           265            67   \n",
      "186141              NaN           2.92           265           181   \n",
      "370903              NaN           1.15           265           113   \n",
      "482876              NaN           7.24           265           170   \n",
      "\n",
      "        total_amount  Time_diff_min  \n",
      "106867         25.09          -0.93  \n",
      "182879         19.17          -0.93  \n",
      "184711         16.00          -0.93  \n",
      "186141         16.00          -0.93  \n",
      "370903         44.00          -0.93  \n",
      "482876         45.99          -0.93  \n",
      "         index  VendorID tpep_pickup_datetime tpep_dropoff_datetime  \\\n",
      "106867  277277       NaN  2021-02-11 14:02:58   2021-02-11 14:02:02   \n",
      "182879   60316       NaN  2021-03-19 08:03:59   2021-03-19 08:03:03   \n",
      "184711   60755       NaN  2021-03-22 17:03:59   2021-03-22 17:03:03   \n",
      "186141   84695       NaN  2021-03-29 13:03:58   2021-03-29 13:03:02   \n",
      "370903  333195       NaN  2021-05-21 15:05:59   2021-05-21 15:05:03   \n",
      "482876  222665       NaN  2021-06-17 09:06:57   2021-06-17 09:06:01   \n",
      "\n",
      "        passenger_count  trip_distance  PULocationID  DOLocationID  \\\n",
      "106867              NaN           5.34           265            74   \n",
      "182879              NaN           5.82           265           242   \n",
      "184711              NaN           1.41           265            67   \n",
      "186141              NaN           2.92           265           181   \n",
      "370903              NaN           1.15           265           113   \n",
      "482876              NaN           7.24           265           170   \n",
      "\n",
      "        total_amount  Time_diff_min  \n",
      "106867         25.09          -0.93  \n",
      "182879         19.17          -0.93  \n",
      "184711         16.00          -0.93  \n",
      "186141         16.00          -0.93  \n",
      "370903         44.00          -0.93  \n",
      "482876         45.99          -0.93  \n",
      "         index  VendorID tpep_pickup_datetime tpep_dropoff_datetime  \\\n",
      "106867  277277       NaN  2021-02-11 14:02:58   2021-02-11 14:02:02   \n",
      "182879   60316       NaN  2021-03-19 08:03:59   2021-03-19 08:03:03   \n",
      "184711   60755       NaN  2021-03-22 17:03:59   2021-03-22 17:03:03   \n",
      "186141   84695       NaN  2021-03-29 13:03:58   2021-03-29 13:03:02   \n",
      "370903  333195       NaN  2021-05-21 15:05:59   2021-05-21 15:05:03   \n",
      "482876  222665       NaN  2021-06-17 09:06:57   2021-06-17 09:06:01   \n",
      "\n",
      "        passenger_count  trip_distance  PULocationID  DOLocationID  \\\n",
      "106867              NaN           5.34           265            74   \n",
      "182879              NaN           5.82           265           242   \n",
      "184711              NaN           1.41           265            67   \n",
      "186141              NaN           2.92           265           181   \n",
      "370903              NaN           1.15           265           113   \n",
      "482876              NaN           7.24           265           170   \n",
      "\n",
      "        total_amount  Time_diff_min  \n",
      "106867         25.09          -0.93  \n",
      "182879         19.17          -0.93  \n",
      "184711         16.00          -0.93  \n",
      "186141         16.00          -0.93  \n",
      "370903         44.00          -0.93  \n",
      "482876         45.99          -0.93  \n"
     ]
    }
   ],
   "source": [
    "for i in small:\n",
    "    z = idata[idata['Time_diff_min'] == i]\n",
    "    print(z)\n"
   ]
  },
  {
   "cell_type": "code",
   "execution_count": 27,
   "metadata": {},
   "outputs": [],
   "source": [
    "# larger time differences\n",
    "\n",
    "large = list(idata['Time_diff_min'].nlargest(5))"
   ]
  },
  {
   "cell_type": "code",
   "execution_count": 28,
   "metadata": {},
   "outputs": [
    {
     "name": "stdout",
     "output_type": "stream",
     "text": [
      "        index  VendorID tpep_pickup_datetime tpep_dropoff_datetime  \\\n",
      "110572  14888       2.0  2021-03-01 11:00:02   2021-03-02 11:00:01   \n",
      "\n",
      "        passenger_count  trip_distance  PULocationID  DOLocationID  \\\n",
      "110572              1.0           1.25            41            74   \n",
      "\n",
      "        total_amount  Time_diff_min  \n",
      "110572           9.8        1439.98  \n",
      "        index  VendorID tpep_pickup_datetime tpep_dropoff_datetime  \\\n",
      "517070    579       2.0  2021-07-10 02:40:36   2021-07-11 02:40:15   \n",
      "\n",
      "        passenger_count  trip_distance  PULocationID  DOLocationID  \\\n",
      "517070              2.0           2.77           144           170   \n",
      "\n",
      "        total_amount  Time_diff_min  \n",
      "517070          14.8        1439.65  \n",
      "         index  VendorID tpep_pickup_datetime tpep_dropoff_datetime  \\\n",
      "142418  334502       2.0  2021-03-19 13:44:58   2021-03-20 13:44:24   \n",
      "\n",
      "        passenger_count  trip_distance  PULocationID  DOLocationID  \\\n",
      "142418              1.0            0.0           193           193   \n",
      "\n",
      "        total_amount  Time_diff_min  \n",
      "142418           0.0        1439.43  \n",
      "        index  VendorID tpep_pickup_datetime tpep_dropoff_datetime  \\\n",
      "231449  19009       2.0  2021-04-17 20:09:16   2021-04-18 20:08:39   \n",
      "\n",
      "        passenger_count  trip_distance  PULocationID  DOLocationID  \\\n",
      "231449              1.0           8.35           249            41   \n",
      "\n",
      "        total_amount  Time_diff_min  \n",
      "231449          36.0        1439.38  \n",
      "         index  VendorID tpep_pickup_datetime tpep_dropoff_datetime  \\\n",
      "553030  272295       2.0  2021-07-21 12:46:20   2021-07-22 12:45:36   \n",
      "\n",
      "        passenger_count  trip_distance  PULocationID  DOLocationID  \\\n",
      "553030              1.0           2.54           262           162   \n",
      "\n",
      "        total_amount  Time_diff_min  \n",
      "553030         15.87        1439.27  \n"
     ]
    }
   ],
   "source": [
    "for i in large:\n",
    "    z1 = idata[idata['Time_diff_min'] == i]\n",
    "    print(z1)"
   ]
  },
  {
   "cell_type": "markdown",
   "metadata": {},
   "source": [
    "## __7.2 Outliners in the trip distance__"
   ]
  },
  {
   "cell_type": "code",
   "execution_count": 29,
   "metadata": {},
   "outputs": [
    {
     "data": {
      "text/plain": [
       "0.0"
      ]
     },
     "execution_count": 29,
     "metadata": {},
     "output_type": "execute_result"
    }
   ],
   "source": [
    "idata['trip_distance'].min()"
   ]
  },
  {
   "cell_type": "code",
   "execution_count": 30,
   "metadata": {},
   "outputs": [],
   "source": [
    "# long trip distance\n",
    "large_trip = list(idata['trip_distance'].nlargest(5))"
   ]
  },
  {
   "cell_type": "code",
   "execution_count": 31,
   "metadata": {},
   "outputs": [
    {
     "name": "stdout",
     "output_type": "stream",
     "text": [
      "         index  VendorID tpep_pickup_datetime tpep_dropoff_datetime  \\\n",
      "269408  308217       NaN  2021-04-23 10:02:00   2021-04-23 10:28:00   \n",
      "\n",
      "        passenger_count  trip_distance  PULocationID  DOLocationID  \\\n",
      "269408              NaN       279490.3            85           227   \n",
      "\n",
      "        total_amount  Time_diff_min  \n",
      "269408         27.22           26.0  \n",
      "         index  VendorID tpep_pickup_datetime tpep_dropoff_datetime  \\\n",
      "368583  211964       NaN  2021-05-07 05:42:00   2021-05-07 06:12:00   \n",
      "\n",
      "        passenger_count  trip_distance  PULocationID  DOLocationID  \\\n",
      "368583              NaN      234177.61           213           125   \n",
      "\n",
      "        total_amount  Time_diff_min  \n",
      "368583         56.99           30.0  \n",
      "         index  VendorID tpep_pickup_datetime tpep_dropoff_datetime  \\\n",
      "486272  255533       NaN  2021-06-25 14:57:00   2021-06-25 15:20:00   \n",
      "\n",
      "        passenger_count  trip_distance  PULocationID  DOLocationID  \\\n",
      "486272              NaN      144259.26           141           166   \n",
      "\n",
      "        total_amount  Time_diff_min  \n",
      "486272         23.58           23.0  \n",
      "         index  VendorID tpep_pickup_datetime tpep_dropoff_datetime  \\\n",
      "486506  185168       NaN  2021-06-01 07:46:00   2021-06-01 08:41:00   \n",
      "\n",
      "        passenger_count  trip_distance  PULocationID  DOLocationID  \\\n",
      "486506              NaN      127580.71           130           140   \n",
      "\n",
      "        total_amount  Time_diff_min  \n",
      "486506         58.05           55.0  \n",
      "         index  VendorID tpep_pickup_datetime tpep_dropoff_datetime  \\\n",
      "362664  263902       NaN  2021-05-12 13:16:00   2021-05-12 13:29:00   \n",
      "\n",
      "        passenger_count  trip_distance  PULocationID  DOLocationID  \\\n",
      "362664              NaN      127528.31           171            15   \n",
      "\n",
      "        total_amount  Time_diff_min  \n",
      "362664         30.11           13.0  \n"
     ]
    }
   ],
   "source": [
    "for i in large_trip:\n",
    "    z2 = idata[idata['trip_distance'] == i]\n",
    "    print(z2)"
   ]
  },
  {
   "cell_type": "code",
   "execution_count": 32,
   "metadata": {},
   "outputs": [
    {
     "data": {
      "text/plain": [
       "3284"
      ]
     },
     "execution_count": 32,
     "metadata": {},
     "output_type": "execute_result"
    }
   ],
   "source": [
    "idata['trip_distance'].nunique()"
   ]
  },
  {
   "cell_type": "code",
   "execution_count": 33,
   "metadata": {},
   "outputs": [
    {
     "data": {
      "text/plain": [
       "0.90     9163\n",
       "1.10     9130\n",
       "1.00     9114\n",
       "0.80     8891\n",
       "1.20     8713\n",
       "         ... \n",
       "44.06       1\n",
       "37.29       1\n",
       "38.03       1\n",
       "51.52       1\n",
       "29.85       1\n",
       "Name: trip_distance, Length: 3284, dtype: int64"
      ]
     },
     "execution_count": 33,
     "metadata": {},
     "output_type": "execute_result"
    }
   ],
   "source": [
    "idata['trip_distance'].value_counts()"
   ]
  },
  {
   "cell_type": "markdown",
   "metadata": {},
   "source": [
    "## __8. Extracting day of the week from the timestamp__"
   ]
  },
  {
   "cell_type": "code",
   "execution_count": 34,
   "metadata": {},
   "outputs": [
    {
     "name": "stderr",
     "output_type": "stream",
     "text": [
      "C:\\Users\\Nikhi\\AppData\\Local\\Temp/ipykernel_18800/4236515677.py:3: SettingWithCopyWarning: \n",
      "A value is trying to be set on a copy of a slice from a DataFrame.\n",
      "Try using .loc[row_indexer,col_indexer] = value instead\n",
      "\n",
      "See the caveats in the documentation: https://pandas.pydata.org/pandas-docs/stable/user_guide/indexing.html#returning-a-view-versus-a-copy\n",
      "  idata['pick_day'] = idata['tpep_pickup_datetime'].dt.day_name()\n",
      "C:\\Users\\Nikhi\\AppData\\Local\\Temp/ipykernel_18800/4236515677.py:4: SettingWithCopyWarning: \n",
      "A value is trying to be set on a copy of a slice from a DataFrame.\n",
      "Try using .loc[row_indexer,col_indexer] = value instead\n",
      "\n",
      "See the caveats in the documentation: https://pandas.pydata.org/pandas-docs/stable/user_guide/indexing.html#returning-a-view-versus-a-copy\n",
      "  idata['dropping_day'] = idata['tpep_dropoff_datetime'].dt.day_name()\n"
     ]
    },
    {
     "data": {
      "text/html": [
       "<div>\n",
       "<style scoped>\n",
       "    .dataframe tbody tr th:only-of-type {\n",
       "        vertical-align: middle;\n",
       "    }\n",
       "\n",
       "    .dataframe tbody tr th {\n",
       "        vertical-align: top;\n",
       "    }\n",
       "\n",
       "    .dataframe thead th {\n",
       "        text-align: right;\n",
       "    }\n",
       "</style>\n",
       "<table border=\"1\" class=\"dataframe\">\n",
       "  <thead>\n",
       "    <tr style=\"text-align: right;\">\n",
       "      <th></th>\n",
       "      <th>index</th>\n",
       "      <th>VendorID</th>\n",
       "      <th>tpep_pickup_datetime</th>\n",
       "      <th>tpep_dropoff_datetime</th>\n",
       "      <th>passenger_count</th>\n",
       "      <th>trip_distance</th>\n",
       "      <th>PULocationID</th>\n",
       "      <th>DOLocationID</th>\n",
       "      <th>total_amount</th>\n",
       "      <th>Time_diff_min</th>\n",
       "      <th>pick_day</th>\n",
       "      <th>dropping_day</th>\n",
       "    </tr>\n",
       "  </thead>\n",
       "  <tbody>\n",
       "    <tr>\n",
       "      <th>0</th>\n",
       "      <td>178566</td>\n",
       "      <td>2.0</td>\n",
       "      <td>2021-01-06 12:48:46</td>\n",
       "      <td>2021-01-06 12:58:27</td>\n",
       "      <td>1.0</td>\n",
       "      <td>0.70</td>\n",
       "      <td>140</td>\n",
       "      <td>236</td>\n",
       "      <td>10.80</td>\n",
       "      <td>9.68</td>\n",
       "      <td>Wednesday</td>\n",
       "      <td>Wednesday</td>\n",
       "    </tr>\n",
       "    <tr>\n",
       "      <th>1</th>\n",
       "      <td>52770</td>\n",
       "      <td>1.0</td>\n",
       "      <td>2021-01-02 21:28:12</td>\n",
       "      <td>2021-01-02 21:38:08</td>\n",
       "      <td>1.0</td>\n",
       "      <td>3.20</td>\n",
       "      <td>79</td>\n",
       "      <td>141</td>\n",
       "      <td>18.35</td>\n",
       "      <td>9.93</td>\n",
       "      <td>Saturday</td>\n",
       "      <td>Saturday</td>\n",
       "    </tr>\n",
       "    <tr>\n",
       "      <th>2</th>\n",
       "      <td>86127</td>\n",
       "      <td>2.0</td>\n",
       "      <td>2021-01-04 09:51:42</td>\n",
       "      <td>2021-01-04 09:58:10</td>\n",
       "      <td>4.0</td>\n",
       "      <td>1.05</td>\n",
       "      <td>107</td>\n",
       "      <td>234</td>\n",
       "      <td>11.16</td>\n",
       "      <td>6.47</td>\n",
       "      <td>Monday</td>\n",
       "      <td>Monday</td>\n",
       "    </tr>\n",
       "    <tr>\n",
       "      <th>3</th>\n",
       "      <td>224455</td>\n",
       "      <td>2.0</td>\n",
       "      <td>2021-01-07 12:00:31</td>\n",
       "      <td>2021-01-07 12:11:20</td>\n",
       "      <td>1.0</td>\n",
       "      <td>1.82</td>\n",
       "      <td>141</td>\n",
       "      <td>236</td>\n",
       "      <td>13.80</td>\n",
       "      <td>10.82</td>\n",
       "      <td>Thursday</td>\n",
       "      <td>Thursday</td>\n",
       "    </tr>\n",
       "    <tr>\n",
       "      <th>4</th>\n",
       "      <td>249503</td>\n",
       "      <td>2.0</td>\n",
       "      <td>2021-01-07 19:31:20</td>\n",
       "      <td>2021-01-07 19:35:54</td>\n",
       "      <td>1.0</td>\n",
       "      <td>0.89</td>\n",
       "      <td>230</td>\n",
       "      <td>100</td>\n",
       "      <td>9.30</td>\n",
       "      <td>4.57</td>\n",
       "      <td>Thursday</td>\n",
       "      <td>Thursday</td>\n",
       "    </tr>\n",
       "  </tbody>\n",
       "</table>\n",
       "</div>"
      ],
      "text/plain": [
       "    index  VendorID tpep_pickup_datetime tpep_dropoff_datetime  \\\n",
       "0  178566       2.0  2021-01-06 12:48:46   2021-01-06 12:58:27   \n",
       "1   52770       1.0  2021-01-02 21:28:12   2021-01-02 21:38:08   \n",
       "2   86127       2.0  2021-01-04 09:51:42   2021-01-04 09:58:10   \n",
       "3  224455       2.0  2021-01-07 12:00:31   2021-01-07 12:11:20   \n",
       "4  249503       2.0  2021-01-07 19:31:20   2021-01-07 19:35:54   \n",
       "\n",
       "   passenger_count  trip_distance  PULocationID  DOLocationID  total_amount  \\\n",
       "0              1.0           0.70           140           236         10.80   \n",
       "1              1.0           3.20            79           141         18.35   \n",
       "2              4.0           1.05           107           234         11.16   \n",
       "3              1.0           1.82           141           236         13.80   \n",
       "4              1.0           0.89           230           100          9.30   \n",
       "\n",
       "   Time_diff_min   pick_day dropping_day  \n",
       "0           9.68  Wednesday    Wednesday  \n",
       "1           9.93   Saturday     Saturday  \n",
       "2           6.47     Monday       Monday  \n",
       "3          10.82   Thursday     Thursday  \n",
       "4           4.57   Thursday     Thursday  "
      ]
     },
     "execution_count": 34,
     "metadata": {},
     "output_type": "execute_result"
    }
   ],
   "source": [
    "# creating a new columns with pickup and dropping days\n",
    "\n",
    "idata['pick_day'] = idata['tpep_pickup_datetime'].dt.day_name()\n",
    "idata['dropping_day'] = idata['tpep_dropoff_datetime'].dt.day_name()\n",
    "idata.head()"
   ]
  },
  {
   "cell_type": "markdown",
   "metadata": {},
   "source": [
    "## __9. Calculating the latitudes and longtitudes__"
   ]
  },
  {
   "cell_type": "code",
   "execution_count": 35,
   "metadata": {},
   "outputs": [
    {
     "data": {
      "text/plain": [
       "259"
      ]
     },
     "execution_count": 35,
     "metadata": {},
     "output_type": "execute_result"
    }
   ],
   "source": [
    "#checking unique pickup location\n",
    "idata['PULocationID'].nunique()"
   ]
  },
  {
   "cell_type": "code",
   "execution_count": 36,
   "metadata": {},
   "outputs": [
    {
     "data": {
      "text/plain": [
       "237    31094\n",
       "236    29488\n",
       "161    19969\n",
       "186    19635\n",
       "142    19134\n",
       "       ...  \n",
       "27         1\n",
       "109        1\n",
       "187        1\n",
       "99         1\n",
       "5          1\n",
       "Name: PULocationID, Length: 259, dtype: int64"
      ]
     },
     "execution_count": 36,
     "metadata": {},
     "output_type": "execute_result"
    }
   ],
   "source": [
    "#checking the number of repetition of the pickup location\n",
    "idata['PULocationID'].value_counts()"
   ]
  },
  {
   "cell_type": "markdown",
   "metadata": {},
   "source": [
    "### __9.1 Installing and importing libraries for the calculation__"
   ]
  },
  {
   "cell_type": "code",
   "execution_count": 37,
   "metadata": {},
   "outputs": [
    {
     "name": "stdout",
     "output_type": "stream",
     "text": [
      "Requirement already satisfied: geopandas in d:\\anaconda\\envs\\my_env\\lib\\site-packages (0.9.0)\n",
      "Requirement already satisfied: pandas>=0.24.0 in d:\\anaconda\\envs\\my_env\\lib\\site-packages (from geopandas) (1.3.4)\n",
      "Requirement already satisfied: shapely>=1.6 in d:\\anaconda\\envs\\my_env\\lib\\site-packages (from geopandas) (1.7.1)\n",
      "Requirement already satisfied: pyproj>=2.2.0 in d:\\anaconda\\envs\\my_env\\lib\\site-packages (from geopandas) (2.6.1.post1)\n",
      "Requirement already satisfied: fiona>=1.8 in d:\\anaconda\\envs\\my_env\\lib\\site-packages (from geopandas) (1.8.13.post1)\n",
      "Requirement already satisfied: attrs>=17 in d:\\anaconda\\envs\\my_env\\lib\\site-packages (from fiona>=1.8->geopandas) (21.2.0)\n",
      "Requirement already satisfied: click<8,>=4.0 in d:\\anaconda\\envs\\my_env\\lib\\site-packages (from fiona>=1.8->geopandas) (7.1.2)\n",
      "Requirement already satisfied: cligj>=0.5 in d:\\anaconda\\envs\\my_env\\lib\\site-packages (from fiona>=1.8->geopandas) (0.7.2)\n",
      "Requirement already satisfied: click-plugins>=1.0 in d:\\anaconda\\envs\\my_env\\lib\\site-packages (from fiona>=1.8->geopandas) (1.1.1)\n",
      "Requirement already satisfied: six>=1.7 in d:\\anaconda\\envs\\my_env\\lib\\site-packages (from fiona>=1.8->geopandas) (1.16.0)\n",
      "Requirement already satisfied: munch in d:\\anaconda\\envs\\my_env\\lib\\site-packages (from fiona>=1.8->geopandas) (2.5.0)\n",
      "Requirement already satisfied: numpy>=1.17.3 in d:\\anaconda\\envs\\my_env\\lib\\site-packages (from pandas>=0.24.0->geopandas) (1.21.2)\n",
      "Requirement already satisfied: python-dateutil>=2.7.3 in d:\\anaconda\\envs\\my_env\\lib\\site-packages (from pandas>=0.24.0->geopandas) (2.8.2)\n",
      "Requirement already satisfied: pytz>=2017.3 in d:\\anaconda\\envs\\my_env\\lib\\site-packages (from pandas>=0.24.0->geopandas) (2021.3)\n"
     ]
    }
   ],
   "source": [
    "!pip install geopandas"
   ]
  },
  {
   "cell_type": "code",
   "execution_count": 38,
   "metadata": {},
   "outputs": [
    {
     "name": "stdout",
     "output_type": "stream",
     "text": [
      "Requirement already satisfied: geopy in d:\\anaconda\\envs\\my_env\\lib\\site-packages (2.2.0)\n",
      "Requirement already satisfied: geographiclib<2,>=1.49 in d:\\anaconda\\envs\\my_env\\lib\\site-packages (from geopy) (1.52)\n"
     ]
    }
   ],
   "source": [
    "!pip install geopy"
   ]
  },
  {
   "cell_type": "code",
   "execution_count": 39,
   "metadata": {},
   "outputs": [],
   "source": [
    "import geopandas as gpd\n",
    "import geopy"
   ]
  },
  {
   "cell_type": "markdown",
   "metadata": {},
   "source": [
    "### __9.2 Using delay as magic method to save the processing the time__"
   ]
  },
  {
   "cell_type": "code",
   "execution_count": 40,
   "metadata": {},
   "outputs": [],
   "source": [
    "from dask import delayed"
   ]
  },
  {
   "cell_type": "code",
   "execution_count": 52,
   "metadata": {},
   "outputs": [
    {
     "name": "stdout",
     "output_type": "stream",
     "text": [
      "^C\n"
     ]
    }
   ],
   "source": [
    "!pip install ArcGIS"
   ]
  },
  {
   "cell_type": "code",
   "execution_count": 41,
   "metadata": {},
   "outputs": [
    {
     "data": {
      "text/plain": [
       "[(40.719130000000064, -73.98560299999997)]"
      ]
     },
     "execution_count": 41,
     "metadata": {},
     "output_type": "execute_result"
    }
   ],
   "source": [
    "# function for calculating latitudes and longtitudes\n",
    "# here ArcGIS is used to extract the location details\n",
    "\n",
    "@delayed(pure = True)\n",
    "def addr_long(x):\n",
    "    from geopy.geocoders import ArcGIS\n",
    "    lat_ = []\n",
    "    long_ = []\n",
    "    points = []\n",
    "    for i in x:\n",
    "        loc = ArcGIS()\n",
    "        addr = loc.geocode(i, timeout=None)\n",
    "        if addr is None:\n",
    "            lat_.append(None)\n",
    "            long_.append(None)\n",
    "        else:\n",
    "            longitude = addr.longitude\n",
    "            latitude = addr.latitude\n",
    "            points.append((latitude, longitude))\n",
    "    return points\n",
    "addr_long(['NY 151']).compute()"
   ]
  },
  {
   "cell_type": "code",
   "execution_count": 42,
   "metadata": {},
   "outputs": [],
   "source": [
    "# converting into the list\n",
    "pick_up_location = list(idata['PULocationID'].astype(str))"
   ]
  },
  {
   "cell_type": "code",
   "execution_count": 43,
   "metadata": {},
   "outputs": [],
   "source": [
    "# concatenating the 'NY' (Newyork) and the string for easy identification of location\n",
    "pick_up_point = []\n",
    "for i in pick_up_location:\n",
    "    x_ = 'NY' + ' ' + i\n",
    "    pick_up_point.append(x_)"
   ]
  },
  {
   "cell_type": "code",
   "execution_count": 44,
   "metadata": {},
   "outputs": [
    {
     "name": "stderr",
     "output_type": "stream",
     "text": [
      "C:\\Users\\Nikhi\\AppData\\Local\\Temp/ipykernel_18800/1833076046.py:2: SettingWithCopyWarning: \n",
      "A value is trying to be set on a copy of a slice from a DataFrame.\n",
      "Try using .loc[row_indexer,col_indexer] = value instead\n",
      "\n",
      "See the caveats in the documentation: https://pandas.pydata.org/pandas-docs/stable/user_guide/indexing.html#returning-a-view-versus-a-copy\n",
      "  idata['Pick_locationId'] = pick_up_point\n"
     ]
    }
   ],
   "source": [
    "# creating a new column with concatenate values\n",
    "idata['Pick_locationId'] = pick_up_point\n",
    "pick_loc = list(idata['Pick_locationId'])"
   ]
  },
  {
   "cell_type": "code",
   "execution_count": 45,
   "metadata": {},
   "outputs": [],
   "source": [
    "# converting into the list\n",
    "drop_off_location = list(idata['DOLocationID'].astype(str))"
   ]
  },
  {
   "cell_type": "code",
   "execution_count": 46,
   "metadata": {},
   "outputs": [],
   "source": [
    "# concatenating the 'NY' (Newyork) and the string for easy identification of location\n",
    "drop_off_point = []\n",
    "for i in drop_off_location:\n",
    "    x_ = 'NY' + ' ' + i\n",
    "    drop_off_point.append(x_)"
   ]
  },
  {
   "cell_type": "code",
   "execution_count": 47,
   "metadata": {},
   "outputs": [
    {
     "name": "stderr",
     "output_type": "stream",
     "text": [
      "C:\\Users\\Nikhi\\AppData\\Local\\Temp/ipykernel_18800/1896889796.py:2: SettingWithCopyWarning: \n",
      "A value is trying to be set on a copy of a slice from a DataFrame.\n",
      "Try using .loc[row_indexer,col_indexer] = value instead\n",
      "\n",
      "See the caveats in the documentation: https://pandas.pydata.org/pandas-docs/stable/user_guide/indexing.html#returning-a-view-versus-a-copy\n",
      "  idata['dropoff_locationId'] = drop_off_point\n"
     ]
    }
   ],
   "source": [
    "# creating a new column with concatenate values\n",
    "idata['dropoff_locationId'] = drop_off_point\n",
    "drop_loc = list(idata['dropoff_locationId'])"
   ]
  },
  {
   "cell_type": "code",
   "execution_count": 48,
   "metadata": {},
   "outputs": [
    {
     "name": "stdout",
     "output_type": "stream",
     "text": [
      "Wall time: 40.2 s\n"
     ]
    }
   ],
   "source": [
    "%%time\n",
    "# calculating the pickup location\n",
    "plocation = [] \n",
    "for i in pick_loc[0:len(pick_loc)]:\n",
    "    x = addr_long([i])\n",
    "    plocation.append(x)"
   ]
  },
  {
   "cell_type": "code",
   "execution_count": 49,
   "metadata": {},
   "outputs": [
    {
     "data": {
      "text/plain": [
       "[(40.6708135271599, -73.77244755545968)]"
      ]
     },
     "execution_count": 49,
     "metadata": {},
     "output_type": "execute_result"
    }
   ],
   "source": [
    "plocation[0].compute()"
   ]
  },
  {
   "cell_type": "markdown",
   "metadata": {},
   "source": [
    "### __9.3 Converting the delay objects into the values__\n",
    "\n",
    "- [dask.compute]('http://distributed.dask.org/en/latest/manage-computation.html')"
   ]
  },
  {
   "cell_type": "code",
   "execution_count": 50,
   "metadata": {},
   "outputs": [],
   "source": [
    "# dask.compute() is used to show the results and it saves a lot of time\n",
    "\n",
    "pickup_loc = dask.compute(plocation)"
   ]
  },
  {
   "cell_type": "code",
   "execution_count": 51,
   "metadata": {},
   "outputs": [
    {
     "name": "stdout",
     "output_type": "stream",
     "text": [
      "Wall time: 37.9 s\n"
     ]
    }
   ],
   "source": [
    "%%time\n",
    "# calculating the dropoff location\n",
    "dlocation = [] \n",
    "for i in drop_loc[0:len(drop_loc)]:\n",
    "    d_ = addr_long([i])\n",
    "    dlocation.append(d_)"
   ]
  },
  {
   "cell_type": "code",
   "execution_count": 52,
   "metadata": {},
   "outputs": [],
   "source": [
    "# dask.compute() is used to show the results and it saves a lot of time\n",
    "\n",
    "dropoff_loc = dask.compute(dlocation)"
   ]
  },
  {
   "cell_type": "code",
   "execution_count": 53,
   "metadata": {},
   "outputs": [
    {
     "data": {
      "text/html": [
       "<div>\n",
       "<style scoped>\n",
       "    .dataframe tbody tr th:only-of-type {\n",
       "        vertical-align: middle;\n",
       "    }\n",
       "\n",
       "    .dataframe tbody tr th {\n",
       "        vertical-align: top;\n",
       "    }\n",
       "\n",
       "    .dataframe thead th {\n",
       "        text-align: right;\n",
       "    }\n",
       "</style>\n",
       "<table border=\"1\" class=\"dataframe\">\n",
       "  <thead>\n",
       "    <tr style=\"text-align: right;\">\n",
       "      <th></th>\n",
       "      <th>index</th>\n",
       "      <th>VendorID</th>\n",
       "      <th>tpep_pickup_datetime</th>\n",
       "      <th>tpep_dropoff_datetime</th>\n",
       "      <th>passenger_count</th>\n",
       "      <th>trip_distance</th>\n",
       "      <th>PULocationID</th>\n",
       "      <th>DOLocationID</th>\n",
       "      <th>total_amount</th>\n",
       "      <th>Time_diff_min</th>\n",
       "      <th>pick_day</th>\n",
       "      <th>dropping_day</th>\n",
       "      <th>Pick_locationId</th>\n",
       "      <th>dropoff_locationId</th>\n",
       "    </tr>\n",
       "  </thead>\n",
       "  <tbody>\n",
       "    <tr>\n",
       "      <th>0</th>\n",
       "      <td>178566</td>\n",
       "      <td>2.0</td>\n",
       "      <td>2021-01-06 12:48:46</td>\n",
       "      <td>2021-01-06 12:58:27</td>\n",
       "      <td>1.0</td>\n",
       "      <td>0.70</td>\n",
       "      <td>140</td>\n",
       "      <td>236</td>\n",
       "      <td>10.80</td>\n",
       "      <td>9.68</td>\n",
       "      <td>Wednesday</td>\n",
       "      <td>Wednesday</td>\n",
       "      <td>NY 140</td>\n",
       "      <td>NY 236</td>\n",
       "    </tr>\n",
       "    <tr>\n",
       "      <th>1</th>\n",
       "      <td>52770</td>\n",
       "      <td>1.0</td>\n",
       "      <td>2021-01-02 21:28:12</td>\n",
       "      <td>2021-01-02 21:38:08</td>\n",
       "      <td>1.0</td>\n",
       "      <td>3.20</td>\n",
       "      <td>79</td>\n",
       "      <td>141</td>\n",
       "      <td>18.35</td>\n",
       "      <td>9.93</td>\n",
       "      <td>Saturday</td>\n",
       "      <td>Saturday</td>\n",
       "      <td>NY 79</td>\n",
       "      <td>NY 141</td>\n",
       "    </tr>\n",
       "    <tr>\n",
       "      <th>2</th>\n",
       "      <td>86127</td>\n",
       "      <td>2.0</td>\n",
       "      <td>2021-01-04 09:51:42</td>\n",
       "      <td>2021-01-04 09:58:10</td>\n",
       "      <td>4.0</td>\n",
       "      <td>1.05</td>\n",
       "      <td>107</td>\n",
       "      <td>234</td>\n",
       "      <td>11.16</td>\n",
       "      <td>6.47</td>\n",
       "      <td>Monday</td>\n",
       "      <td>Monday</td>\n",
       "      <td>NY 107</td>\n",
       "      <td>NY 234</td>\n",
       "    </tr>\n",
       "    <tr>\n",
       "      <th>3</th>\n",
       "      <td>224455</td>\n",
       "      <td>2.0</td>\n",
       "      <td>2021-01-07 12:00:31</td>\n",
       "      <td>2021-01-07 12:11:20</td>\n",
       "      <td>1.0</td>\n",
       "      <td>1.82</td>\n",
       "      <td>141</td>\n",
       "      <td>236</td>\n",
       "      <td>13.80</td>\n",
       "      <td>10.82</td>\n",
       "      <td>Thursday</td>\n",
       "      <td>Thursday</td>\n",
       "      <td>NY 141</td>\n",
       "      <td>NY 236</td>\n",
       "    </tr>\n",
       "    <tr>\n",
       "      <th>4</th>\n",
       "      <td>249503</td>\n",
       "      <td>2.0</td>\n",
       "      <td>2021-01-07 19:31:20</td>\n",
       "      <td>2021-01-07 19:35:54</td>\n",
       "      <td>1.0</td>\n",
       "      <td>0.89</td>\n",
       "      <td>230</td>\n",
       "      <td>100</td>\n",
       "      <td>9.30</td>\n",
       "      <td>4.57</td>\n",
       "      <td>Thursday</td>\n",
       "      <td>Thursday</td>\n",
       "      <td>NY 230</td>\n",
       "      <td>NY 100</td>\n",
       "    </tr>\n",
       "  </tbody>\n",
       "</table>\n",
       "</div>"
      ],
      "text/plain": [
       "    index  VendorID tpep_pickup_datetime tpep_dropoff_datetime  \\\n",
       "0  178566       2.0  2021-01-06 12:48:46   2021-01-06 12:58:27   \n",
       "1   52770       1.0  2021-01-02 21:28:12   2021-01-02 21:38:08   \n",
       "2   86127       2.0  2021-01-04 09:51:42   2021-01-04 09:58:10   \n",
       "3  224455       2.0  2021-01-07 12:00:31   2021-01-07 12:11:20   \n",
       "4  249503       2.0  2021-01-07 19:31:20   2021-01-07 19:35:54   \n",
       "\n",
       "   passenger_count  trip_distance  PULocationID  DOLocationID  total_amount  \\\n",
       "0              1.0           0.70           140           236         10.80   \n",
       "1              1.0           3.20            79           141         18.35   \n",
       "2              4.0           1.05           107           234         11.16   \n",
       "3              1.0           1.82           141           236         13.80   \n",
       "4              1.0           0.89           230           100          9.30   \n",
       "\n",
       "   Time_diff_min   pick_day dropping_day Pick_locationId dropoff_locationId  \n",
       "0           9.68  Wednesday    Wednesday          NY 140             NY 236  \n",
       "1           9.93   Saturday     Saturday           NY 79             NY 141  \n",
       "2           6.47     Monday       Monday          NY 107             NY 234  \n",
       "3          10.82   Thursday     Thursday          NY 141             NY 236  \n",
       "4           4.57   Thursday     Thursday          NY 230             NY 100  "
      ]
     },
     "execution_count": 53,
     "metadata": {},
     "output_type": "execute_result"
    }
   ],
   "source": [
    "idata.head()"
   ]
  },
  {
   "cell_type": "markdown",
   "metadata": {},
   "source": [
    "### __9.4 Creating a new columns with pickup and dropoff location__"
   ]
  },
  {
   "cell_type": "code",
   "execution_count": 54,
   "metadata": {},
   "outputs": [
    {
     "name": "stderr",
     "output_type": "stream",
     "text": [
      "C:\\Users\\Nikhi\\AppData\\Local\\Temp/ipykernel_18800/2991222130.py:2: SettingWithCopyWarning: \n",
      "A value is trying to be set on a copy of a slice from a DataFrame.\n",
      "Try using .loc[row_indexer,col_indexer] = value instead\n",
      "\n",
      "See the caveats in the documentation: https://pandas.pydata.org/pandas-docs/stable/user_guide/indexing.html#returning-a-view-versus-a-copy\n",
      "  idata['pi_location'] = pickup_loc[0]\n"
     ]
    }
   ],
   "source": [
    "#extracting the location and adding\n",
    "idata['pi_location'] = pickup_loc[0]"
   ]
  },
  {
   "cell_type": "code",
   "execution_count": 55,
   "metadata": {},
   "outputs": [],
   "source": [
    "# creating list with all pickup locations\n",
    "p_location = []\n",
    "for i in range(len(idata['pi_location'])):\n",
    "    x2 = idata['pi_location'][i][0]\n",
    "    p_location.append(x2)"
   ]
  },
  {
   "cell_type": "code",
   "execution_count": 56,
   "metadata": {},
   "outputs": [
    {
     "name": "stderr",
     "output_type": "stream",
     "text": [
      "C:\\Users\\Nikhi\\AppData\\Local\\Temp/ipykernel_18800/2846441485.py:2: SettingWithCopyWarning: \n",
      "A value is trying to be set on a copy of a slice from a DataFrame.\n",
      "Try using .loc[row_indexer,col_indexer] = value instead\n",
      "\n",
      "See the caveats in the documentation: https://pandas.pydata.org/pandas-docs/stable/user_guide/indexing.html#returning-a-view-versus-a-copy\n",
      "  idata['pi_location'] = p_location\n"
     ]
    }
   ],
   "source": [
    "# reassigning to the initial column\n",
    "idata['pi_location'] = p_location"
   ]
  },
  {
   "cell_type": "code",
   "execution_count": 57,
   "metadata": {},
   "outputs": [
    {
     "name": "stderr",
     "output_type": "stream",
     "text": [
      "C:\\Users\\Nikhi\\AppData\\Local\\Temp/ipykernel_18800/1515134672.py:2: SettingWithCopyWarning: \n",
      "A value is trying to be set on a copy of a slice from a DataFrame.\n",
      "Try using .loc[row_indexer,col_indexer] = value instead\n",
      "\n",
      "See the caveats in the documentation: https://pandas.pydata.org/pandas-docs/stable/user_guide/indexing.html#returning-a-view-versus-a-copy\n",
      "  idata['drop_location'] = dropoff_loc[0]\n"
     ]
    }
   ],
   "source": [
    "#extracting the location and adding\n",
    "idata['drop_location'] = dropoff_loc[0]"
   ]
  },
  {
   "cell_type": "code",
   "execution_count": 58,
   "metadata": {},
   "outputs": [],
   "source": [
    "# creating list with all dropoff locations\n",
    "dr_location = []\n",
    "for i in range(len(idata['drop_location'])):\n",
    "    x3 = idata['drop_location'][i][0]\n",
    "    dr_location.append(x3)"
   ]
  },
  {
   "cell_type": "code",
   "execution_count": 59,
   "metadata": {},
   "outputs": [
    {
     "name": "stderr",
     "output_type": "stream",
     "text": [
      "C:\\Users\\Nikhi\\AppData\\Local\\Temp/ipykernel_18800/3167192920.py:2: SettingWithCopyWarning: \n",
      "A value is trying to be set on a copy of a slice from a DataFrame.\n",
      "Try using .loc[row_indexer,col_indexer] = value instead\n",
      "\n",
      "See the caveats in the documentation: https://pandas.pydata.org/pandas-docs/stable/user_guide/indexing.html#returning-a-view-versus-a-copy\n",
      "  idata['drop_location'] = dr_location\n"
     ]
    }
   ],
   "source": [
    "# reassigning to the initial column\n",
    "idata['drop_location'] = dr_location"
   ]
  },
  {
   "cell_type": "code",
   "execution_count": 60,
   "metadata": {},
   "outputs": [
    {
     "name": "stderr",
     "output_type": "stream",
     "text": [
      "D:\\Anaconda\\envs\\my_env\\lib\\site-packages\\pandas\\core\\frame.py:3641: SettingWithCopyWarning: \n",
      "A value is trying to be set on a copy of a slice from a DataFrame.\n",
      "Try using .loc[row_indexer,col_indexer] = value instead\n",
      "\n",
      "See the caveats in the documentation: https://pandas.pydata.org/pandas-docs/stable/user_guide/indexing.html#returning-a-view-versus-a-copy\n",
      "  self[k1] = value[k2]\n"
     ]
    }
   ],
   "source": [
    "# creating a 4 new columns for starting and ending latitudes and longtitudes\n",
    "\n",
    "idata[['slat', 'slong']] = pd.DataFrame(idata['pi_location'].tolist(), index=idata.index)\n",
    "idata[['elat', 'elong']] = pd.DataFrame(idata['drop_location'].tolist(), index=idata.index)"
   ]
  },
  {
   "cell_type": "code",
   "execution_count": 61,
   "metadata": {},
   "outputs": [
    {
     "data": {
      "text/html": [
       "<div>\n",
       "<style scoped>\n",
       "    .dataframe tbody tr th:only-of-type {\n",
       "        vertical-align: middle;\n",
       "    }\n",
       "\n",
       "    .dataframe tbody tr th {\n",
       "        vertical-align: top;\n",
       "    }\n",
       "\n",
       "    .dataframe thead th {\n",
       "        text-align: right;\n",
       "    }\n",
       "</style>\n",
       "<table border=\"1\" class=\"dataframe\">\n",
       "  <thead>\n",
       "    <tr style=\"text-align: right;\">\n",
       "      <th></th>\n",
       "      <th>index</th>\n",
       "      <th>VendorID</th>\n",
       "      <th>Pickup_datetime</th>\n",
       "      <th>Dropoff_datetime</th>\n",
       "      <th>Passenger_count</th>\n",
       "      <th>Trip_distance</th>\n",
       "      <th>PULocationID</th>\n",
       "      <th>DOLocationID</th>\n",
       "      <th>Total_amount</th>\n",
       "      <th>Time_diff_min</th>\n",
       "      <th>Pick_day</th>\n",
       "      <th>Dropping_day</th>\n",
       "      <th>Pick_locationId</th>\n",
       "      <th>Dropoff_locationId</th>\n",
       "      <th>Pick_location</th>\n",
       "      <th>Drop_location</th>\n",
       "      <th>Slat</th>\n",
       "      <th>Slong</th>\n",
       "      <th>Elat</th>\n",
       "      <th>Elong</th>\n",
       "    </tr>\n",
       "  </thead>\n",
       "  <tbody>\n",
       "    <tr>\n",
       "      <th>0</th>\n",
       "      <td>178566</td>\n",
       "      <td>2.0</td>\n",
       "      <td>2021-01-06 12:48:46</td>\n",
       "      <td>2021-01-06 12:58:27</td>\n",
       "      <td>1.0</td>\n",
       "      <td>0.70</td>\n",
       "      <td>140</td>\n",
       "      <td>236</td>\n",
       "      <td>10.80</td>\n",
       "      <td>9.68</td>\n",
       "      <td>Wednesday</td>\n",
       "      <td>Wednesday</td>\n",
       "      <td>NY 140</td>\n",
       "      <td>NY 236</td>\n",
       "      <td>(40.6708135271599, -73.77244755545968)</td>\n",
       "      <td>(40.65374004452198, -73.74707492242896)</td>\n",
       "      <td>40.670814</td>\n",
       "      <td>-73.772448</td>\n",
       "      <td>40.653740</td>\n",
       "      <td>-73.747075</td>\n",
       "    </tr>\n",
       "    <tr>\n",
       "      <th>1</th>\n",
       "      <td>52770</td>\n",
       "      <td>1.0</td>\n",
       "      <td>2021-01-02 21:28:12</td>\n",
       "      <td>2021-01-02 21:38:08</td>\n",
       "      <td>1.0</td>\n",
       "      <td>3.20</td>\n",
       "      <td>79</td>\n",
       "      <td>141</td>\n",
       "      <td>18.35</td>\n",
       "      <td>9.93</td>\n",
       "      <td>Saturday</td>\n",
       "      <td>Saturday</td>\n",
       "      <td>NY 79</td>\n",
       "      <td>NY 141</td>\n",
       "      <td>(42.596728333000044, -78.34029361099994)</td>\n",
       "      <td>(40.67078003458249, -73.7630699406206)</td>\n",
       "      <td>42.596728</td>\n",
       "      <td>-78.340294</td>\n",
       "      <td>40.670780</td>\n",
       "      <td>-73.763070</td>\n",
       "    </tr>\n",
       "    <tr>\n",
       "      <th>2</th>\n",
       "      <td>86127</td>\n",
       "      <td>2.0</td>\n",
       "      <td>2021-01-04 09:51:42</td>\n",
       "      <td>2021-01-04 09:58:10</td>\n",
       "      <td>4.0</td>\n",
       "      <td>1.05</td>\n",
       "      <td>107</td>\n",
       "      <td>234</td>\n",
       "      <td>11.16</td>\n",
       "      <td>6.47</td>\n",
       "      <td>Monday</td>\n",
       "      <td>Monday</td>\n",
       "      <td>NY 107</td>\n",
       "      <td>NY 234</td>\n",
       "      <td>(42.76375565097234, -73.67711894393948)</td>\n",
       "      <td>(40.764273998917886, -73.74699005285179)</td>\n",
       "      <td>42.763756</td>\n",
       "      <td>-73.677119</td>\n",
       "      <td>40.764274</td>\n",
       "      <td>-73.746990</td>\n",
       "    </tr>\n",
       "    <tr>\n",
       "      <th>3</th>\n",
       "      <td>224455</td>\n",
       "      <td>2.0</td>\n",
       "      <td>2021-01-07 12:00:31</td>\n",
       "      <td>2021-01-07 12:11:20</td>\n",
       "      <td>1.0</td>\n",
       "      <td>1.82</td>\n",
       "      <td>141</td>\n",
       "      <td>236</td>\n",
       "      <td>13.80</td>\n",
       "      <td>10.82</td>\n",
       "      <td>Thursday</td>\n",
       "      <td>Thursday</td>\n",
       "      <td>NY 141</td>\n",
       "      <td>NY 236</td>\n",
       "      <td>(40.67078003458249, -73.7630699406206)</td>\n",
       "      <td>(40.65374004452198, -73.74707492242896)</td>\n",
       "      <td>40.670780</td>\n",
       "      <td>-73.763070</td>\n",
       "      <td>40.653740</td>\n",
       "      <td>-73.747075</td>\n",
       "    </tr>\n",
       "    <tr>\n",
       "      <th>4</th>\n",
       "      <td>249503</td>\n",
       "      <td>2.0</td>\n",
       "      <td>2021-01-07 19:31:20</td>\n",
       "      <td>2021-01-07 19:35:54</td>\n",
       "      <td>1.0</td>\n",
       "      <td>0.89</td>\n",
       "      <td>230</td>\n",
       "      <td>100</td>\n",
       "      <td>9.30</td>\n",
       "      <td>4.57</td>\n",
       "      <td>Thursday</td>\n",
       "      <td>Thursday</td>\n",
       "      <td>NY 230</td>\n",
       "      <td>NY 100</td>\n",
       "      <td>(40.751705204835964, -73.7484793192308)</td>\n",
       "      <td>(43.082279839198826, -78.94752049225194)</td>\n",
       "      <td>40.751705</td>\n",
       "      <td>-73.748479</td>\n",
       "      <td>43.082280</td>\n",
       "      <td>-78.947520</td>\n",
       "    </tr>\n",
       "  </tbody>\n",
       "</table>\n",
       "</div>"
      ],
      "text/plain": [
       "    index  VendorID     Pickup_datetime    Dropoff_datetime  Passenger_count  \\\n",
       "0  178566       2.0 2021-01-06 12:48:46 2021-01-06 12:58:27              1.0   \n",
       "1   52770       1.0 2021-01-02 21:28:12 2021-01-02 21:38:08              1.0   \n",
       "2   86127       2.0 2021-01-04 09:51:42 2021-01-04 09:58:10              4.0   \n",
       "3  224455       2.0 2021-01-07 12:00:31 2021-01-07 12:11:20              1.0   \n",
       "4  249503       2.0 2021-01-07 19:31:20 2021-01-07 19:35:54              1.0   \n",
       "\n",
       "   Trip_distance  PULocationID  DOLocationID  Total_amount  Time_diff_min  \\\n",
       "0           0.70           140           236         10.80           9.68   \n",
       "1           3.20            79           141         18.35           9.93   \n",
       "2           1.05           107           234         11.16           6.47   \n",
       "3           1.82           141           236         13.80          10.82   \n",
       "4           0.89           230           100          9.30           4.57   \n",
       "\n",
       "    Pick_day Dropping_day Pick_locationId Dropoff_locationId  \\\n",
       "0  Wednesday    Wednesday          NY 140             NY 236   \n",
       "1   Saturday     Saturday           NY 79             NY 141   \n",
       "2     Monday       Monday          NY 107             NY 234   \n",
       "3   Thursday     Thursday          NY 141             NY 236   \n",
       "4   Thursday     Thursday          NY 230             NY 100   \n",
       "\n",
       "                              Pick_location  \\\n",
       "0    (40.6708135271599, -73.77244755545968)   \n",
       "1  (42.596728333000044, -78.34029361099994)   \n",
       "2   (42.76375565097234, -73.67711894393948)   \n",
       "3    (40.67078003458249, -73.7630699406206)   \n",
       "4   (40.751705204835964, -73.7484793192308)   \n",
       "\n",
       "                              Drop_location       Slat      Slong       Elat  \\\n",
       "0   (40.65374004452198, -73.74707492242896)  40.670814 -73.772448  40.653740   \n",
       "1    (40.67078003458249, -73.7630699406206)  42.596728 -78.340294  40.670780   \n",
       "2  (40.764273998917886, -73.74699005285179)  42.763756 -73.677119  40.764274   \n",
       "3   (40.65374004452198, -73.74707492242896)  40.670780 -73.763070  40.653740   \n",
       "4  (43.082279839198826, -78.94752049225194)  40.751705 -73.748479  43.082280   \n",
       "\n",
       "       Elong  \n",
       "0 -73.747075  \n",
       "1 -73.763070  \n",
       "2 -73.746990  \n",
       "3 -73.747075  \n",
       "4 -78.947520  "
      ]
     },
     "execution_count": 61,
     "metadata": {},
     "output_type": "execute_result"
    }
   ],
   "source": [
    "# changing columns name for better accessing\n",
    "idata.columns = ['index', 'VendorID', 'Pickup_datetime', 'Dropoff_datetime',\n",
    "       'Passenger_count', 'Trip_distance', 'PULocationID', 'DOLocationID',\n",
    "       'Total_amount', 'Time_diff_min', 'Pick_day', 'Dropping_day',\n",
    "       'Pick_locationId', 'Dropoff_locationId', 'Pick_location', 'Drop_location',\n",
    "       'Slat', 'Slong', 'Elat', 'Elong']\n",
    "idata.head()"
   ]
  },
  {
   "cell_type": "markdown",
   "metadata": {},
   "source": [
    "## __10. Calculating the distance between two locations__"
   ]
  },
  {
   "cell_type": "code",
   "execution_count": 62,
   "metadata": {},
   "outputs": [
    {
     "data": {
      "text/plain": [
       "2.8632573638590375"
      ]
     },
     "execution_count": 62,
     "metadata": {},
     "output_type": "execute_result"
    }
   ],
   "source": [
    "#calculating the distance between two locations using geodesic\n",
    "from geopy.distance import geodesic\n",
    "geodesic(idata['Pick_location'][0], idata['Drop_location'][0]).kilometers"
   ]
  },
  {
   "cell_type": "code",
   "execution_count": 63,
   "metadata": {},
   "outputs": [
    {
     "data": {
      "text/plain": [
       "2.8608516122715"
      ]
     },
     "execution_count": 63,
     "metadata": {},
     "output_type": "execute_result"
    }
   ],
   "source": [
    "#calculating the distance between two locations using great_circle\n",
    "from geopy.distance import great_circle\n",
    "great_circle(idata['Pick_location'][0], idata['Drop_location'][0]).kilometers"
   ]
  },
  {
   "cell_type": "code",
   "execution_count": 64,
   "metadata": {},
   "outputs": [],
   "source": [
    "# calculating the distance between two locations\n",
    "distance = []\n",
    "for i in range(len(idata)):\n",
    "    dis_ = geodesic(idata['Pick_location'][i], idata['Drop_location'][i]).kilometers\n",
    "    distance.append(dis_)"
   ]
  },
  {
   "cell_type": "code",
   "execution_count": 65,
   "metadata": {},
   "outputs": [
    {
     "data": {
      "text/plain": [
       "(600027, 20)"
      ]
     },
     "execution_count": 65,
     "metadata": {},
     "output_type": "execute_result"
    }
   ],
   "source": [
    "idata.shape"
   ]
  },
  {
   "cell_type": "markdown",
   "metadata": {},
   "source": [
    "### __10.1 Insert distance as a newcolumn in the dataframe__"
   ]
  },
  {
   "cell_type": "code",
   "execution_count": 66,
   "metadata": {},
   "outputs": [],
   "source": [
    "# inserting the column\n",
    "idata.insert(20, 'Original_distance_Kms', distance)"
   ]
  },
  {
   "cell_type": "code",
   "execution_count": 67,
   "metadata": {},
   "outputs": [
    {
     "data": {
      "text/html": [
       "<div>\n",
       "<style scoped>\n",
       "    .dataframe tbody tr th:only-of-type {\n",
       "        vertical-align: middle;\n",
       "    }\n",
       "\n",
       "    .dataframe tbody tr th {\n",
       "        vertical-align: top;\n",
       "    }\n",
       "\n",
       "    .dataframe thead th {\n",
       "        text-align: right;\n",
       "    }\n",
       "</style>\n",
       "<table border=\"1\" class=\"dataframe\">\n",
       "  <thead>\n",
       "    <tr style=\"text-align: right;\">\n",
       "      <th></th>\n",
       "      <th>index</th>\n",
       "      <th>VendorID</th>\n",
       "      <th>Pickup_datetime</th>\n",
       "      <th>Dropoff_datetime</th>\n",
       "      <th>Passenger_count</th>\n",
       "      <th>Trip_distance</th>\n",
       "      <th>PULocationID</th>\n",
       "      <th>DOLocationID</th>\n",
       "      <th>Total_amount</th>\n",
       "      <th>Time_diff_min</th>\n",
       "      <th>...</th>\n",
       "      <th>Dropping_day</th>\n",
       "      <th>Pick_locationId</th>\n",
       "      <th>Dropoff_locationId</th>\n",
       "      <th>Pick_location</th>\n",
       "      <th>Drop_location</th>\n",
       "      <th>Slat</th>\n",
       "      <th>Slong</th>\n",
       "      <th>Elat</th>\n",
       "      <th>Elong</th>\n",
       "      <th>Original_distance_Kms</th>\n",
       "    </tr>\n",
       "  </thead>\n",
       "  <tbody>\n",
       "    <tr>\n",
       "      <th>0</th>\n",
       "      <td>178566</td>\n",
       "      <td>2.0</td>\n",
       "      <td>2021-01-06 12:48:46</td>\n",
       "      <td>2021-01-06 12:58:27</td>\n",
       "      <td>1.0</td>\n",
       "      <td>0.70</td>\n",
       "      <td>140</td>\n",
       "      <td>236</td>\n",
       "      <td>10.80</td>\n",
       "      <td>9.68</td>\n",
       "      <td>...</td>\n",
       "      <td>Wednesday</td>\n",
       "      <td>NY 140</td>\n",
       "      <td>NY 236</td>\n",
       "      <td>(40.6708135271599, -73.77244755545968)</td>\n",
       "      <td>(40.65374004452198, -73.74707492242896)</td>\n",
       "      <td>40.670814</td>\n",
       "      <td>-73.772448</td>\n",
       "      <td>40.653740</td>\n",
       "      <td>-73.747075</td>\n",
       "      <td>2.863257</td>\n",
       "    </tr>\n",
       "    <tr>\n",
       "      <th>1</th>\n",
       "      <td>52770</td>\n",
       "      <td>1.0</td>\n",
       "      <td>2021-01-02 21:28:12</td>\n",
       "      <td>2021-01-02 21:38:08</td>\n",
       "      <td>1.0</td>\n",
       "      <td>3.20</td>\n",
       "      <td>79</td>\n",
       "      <td>141</td>\n",
       "      <td>18.35</td>\n",
       "      <td>9.93</td>\n",
       "      <td>...</td>\n",
       "      <td>Saturday</td>\n",
       "      <td>NY 79</td>\n",
       "      <td>NY 141</td>\n",
       "      <td>(42.596728333000044, -78.34029361099994)</td>\n",
       "      <td>(40.67078003458249, -73.7630699406206)</td>\n",
       "      <td>42.596728</td>\n",
       "      <td>-78.340294</td>\n",
       "      <td>40.670780</td>\n",
       "      <td>-73.763070</td>\n",
       "      <td>437.192095</td>\n",
       "    </tr>\n",
       "    <tr>\n",
       "      <th>2</th>\n",
       "      <td>86127</td>\n",
       "      <td>2.0</td>\n",
       "      <td>2021-01-04 09:51:42</td>\n",
       "      <td>2021-01-04 09:58:10</td>\n",
       "      <td>4.0</td>\n",
       "      <td>1.05</td>\n",
       "      <td>107</td>\n",
       "      <td>234</td>\n",
       "      <td>11.16</td>\n",
       "      <td>6.47</td>\n",
       "      <td>...</td>\n",
       "      <td>Monday</td>\n",
       "      <td>NY 107</td>\n",
       "      <td>NY 234</td>\n",
       "      <td>(42.76375565097234, -73.67711894393948)</td>\n",
       "      <td>(40.764273998917886, -73.74699005285179)</td>\n",
       "      <td>42.763756</td>\n",
       "      <td>-73.677119</td>\n",
       "      <td>40.764274</td>\n",
       "      <td>-73.746990</td>\n",
       "      <td>222.155828</td>\n",
       "    </tr>\n",
       "    <tr>\n",
       "      <th>3</th>\n",
       "      <td>224455</td>\n",
       "      <td>2.0</td>\n",
       "      <td>2021-01-07 12:00:31</td>\n",
       "      <td>2021-01-07 12:11:20</td>\n",
       "      <td>1.0</td>\n",
       "      <td>1.82</td>\n",
       "      <td>141</td>\n",
       "      <td>236</td>\n",
       "      <td>13.80</td>\n",
       "      <td>10.82</td>\n",
       "      <td>...</td>\n",
       "      <td>Thursday</td>\n",
       "      <td>NY 141</td>\n",
       "      <td>NY 236</td>\n",
       "      <td>(40.67078003458249, -73.7630699406206)</td>\n",
       "      <td>(40.65374004452198, -73.74707492242896)</td>\n",
       "      <td>40.670780</td>\n",
       "      <td>-73.763070</td>\n",
       "      <td>40.653740</td>\n",
       "      <td>-73.747075</td>\n",
       "      <td>2.325961</td>\n",
       "    </tr>\n",
       "    <tr>\n",
       "      <th>4</th>\n",
       "      <td>249503</td>\n",
       "      <td>2.0</td>\n",
       "      <td>2021-01-07 19:31:20</td>\n",
       "      <td>2021-01-07 19:35:54</td>\n",
       "      <td>1.0</td>\n",
       "      <td>0.89</td>\n",
       "      <td>230</td>\n",
       "      <td>100</td>\n",
       "      <td>9.30</td>\n",
       "      <td>4.57</td>\n",
       "      <td>...</td>\n",
       "      <td>Thursday</td>\n",
       "      <td>NY 230</td>\n",
       "      <td>NY 100</td>\n",
       "      <td>(40.751705204835964, -73.7484793192308)</td>\n",
       "      <td>(43.082279839198826, -78.94752049225194)</td>\n",
       "      <td>40.751705</td>\n",
       "      <td>-73.748479</td>\n",
       "      <td>43.082280</td>\n",
       "      <td>-78.947520</td>\n",
       "      <td>502.878895</td>\n",
       "    </tr>\n",
       "  </tbody>\n",
       "</table>\n",
       "<p>5 rows × 21 columns</p>\n",
       "</div>"
      ],
      "text/plain": [
       "    index  VendorID     Pickup_datetime    Dropoff_datetime  Passenger_count  \\\n",
       "0  178566       2.0 2021-01-06 12:48:46 2021-01-06 12:58:27              1.0   \n",
       "1   52770       1.0 2021-01-02 21:28:12 2021-01-02 21:38:08              1.0   \n",
       "2   86127       2.0 2021-01-04 09:51:42 2021-01-04 09:58:10              4.0   \n",
       "3  224455       2.0 2021-01-07 12:00:31 2021-01-07 12:11:20              1.0   \n",
       "4  249503       2.0 2021-01-07 19:31:20 2021-01-07 19:35:54              1.0   \n",
       "\n",
       "   Trip_distance  PULocationID  DOLocationID  Total_amount  Time_diff_min  \\\n",
       "0           0.70           140           236         10.80           9.68   \n",
       "1           3.20            79           141         18.35           9.93   \n",
       "2           1.05           107           234         11.16           6.47   \n",
       "3           1.82           141           236         13.80          10.82   \n",
       "4           0.89           230           100          9.30           4.57   \n",
       "\n",
       "   ... Dropping_day Pick_locationId Dropoff_locationId  \\\n",
       "0  ...    Wednesday          NY 140             NY 236   \n",
       "1  ...     Saturday           NY 79             NY 141   \n",
       "2  ...       Monday          NY 107             NY 234   \n",
       "3  ...     Thursday          NY 141             NY 236   \n",
       "4  ...     Thursday          NY 230             NY 100   \n",
       "\n",
       "                              Pick_location  \\\n",
       "0    (40.6708135271599, -73.77244755545968)   \n",
       "1  (42.596728333000044, -78.34029361099994)   \n",
       "2   (42.76375565097234, -73.67711894393948)   \n",
       "3    (40.67078003458249, -73.7630699406206)   \n",
       "4   (40.751705204835964, -73.7484793192308)   \n",
       "\n",
       "                              Drop_location       Slat      Slong       Elat  \\\n",
       "0   (40.65374004452198, -73.74707492242896)  40.670814 -73.772448  40.653740   \n",
       "1    (40.67078003458249, -73.7630699406206)  42.596728 -78.340294  40.670780   \n",
       "2  (40.764273998917886, -73.74699005285179)  42.763756 -73.677119  40.764274   \n",
       "3   (40.65374004452198, -73.74707492242896)  40.670780 -73.763070  40.653740   \n",
       "4  (43.082279839198826, -78.94752049225194)  40.751705 -73.748479  43.082280   \n",
       "\n",
       "       Elong  Original_distance_Kms  \n",
       "0 -73.747075               2.863257  \n",
       "1 -73.763070             437.192095  \n",
       "2 -73.746990             222.155828  \n",
       "3 -73.747075               2.325961  \n",
       "4 -78.947520             502.878895  \n",
       "\n",
       "[5 rows x 21 columns]"
      ]
     },
     "execution_count": 67,
     "metadata": {},
     "output_type": "execute_result"
    }
   ],
   "source": [
    "idata.head()"
   ]
  },
  {
   "cell_type": "code",
   "execution_count": 68,
   "metadata": {},
   "outputs": [],
   "source": [
    "# creating a new dataframe with fewer columns\n",
    "i_data = idata.iloc[:, [1,4,8,9,10,11,12,13,14,15,16,17,18,19,20]]"
   ]
  },
  {
   "cell_type": "markdown",
   "metadata": {},
   "source": [
    "### __10.2 Finding the mode of the week__"
   ]
  },
  {
   "cell_type": "code",
   "execution_count": 69,
   "metadata": {},
   "outputs": [
    {
     "data": {
      "text/plain": [
       "0    Friday\n",
       "dtype: object"
      ]
     },
     "execution_count": 69,
     "metadata": {},
     "output_type": "execute_result"
    }
   ],
   "source": [
    "i_data['Pick_day'].mode()"
   ]
  },
  {
   "cell_type": "code",
   "execution_count": 70,
   "metadata": {},
   "outputs": [
    {
     "name": "stderr",
     "output_type": "stream",
     "text": [
      "C:\\Users\\Nikhi\\AppData\\Local\\Temp/ipykernel_18800/3628933571.py:2: SettingWithCopyWarning: \n",
      "A value is trying to be set on a copy of a slice from a DataFrame.\n",
      "Try using .loc[row_indexer,col_indexer] = value instead\n",
      "\n",
      "See the caveats in the documentation: https://pandas.pydata.org/pandas-docs/stable/user_guide/indexing.html#returning-a-view-versus-a-copy\n",
      "  i_data['Dropping_day'] = pd.Categorical(i_data['Dropping_day'], categories=cats, ordered=True)\n"
     ]
    }
   ],
   "source": [
    "cats = ['Monday', 'Tuesday', 'Wednesday', 'Thursday', 'Friday', 'Saturday', 'Sunday']\n",
    "i_data['Dropping_day'] = pd.Categorical(i_data['Dropping_day'], categories=cats, ordered=True)\n",
    "i_data = i_data.sort_values('Dropping_day')"
   ]
  },
  {
   "cell_type": "markdown",
   "metadata": {},
   "source": [
    "## __11. Basic Visualization for data insights__"
   ]
  },
  {
   "cell_type": "code",
   "execution_count": 71,
   "metadata": {},
   "outputs": [
    {
     "name": "stdout",
     "output_type": "stream",
     "text": [
      "Requirement already satisfied: seaborn in d:\\anaconda\\envs\\my_env\\lib\\site-packages (0.11.2)\n",
      "Requirement already satisfied: numpy>=1.15 in d:\\anaconda\\envs\\my_env\\lib\\site-packages (from seaborn) (1.21.2)\n",
      "Requirement already satisfied: pandas>=0.23 in d:\\anaconda\\envs\\my_env\\lib\\site-packages (from seaborn) (1.3.4)\n",
      "Requirement already satisfied: matplotlib>=2.2 in d:\\anaconda\\envs\\my_env\\lib\\site-packages (from seaborn) (3.4.3)\n",
      "Requirement already satisfied: scipy>=1.0 in d:\\anaconda\\envs\\my_env\\lib\\site-packages (from seaborn) (1.7.1)\n",
      "Requirement already satisfied: cycler>=0.10 in d:\\anaconda\\envs\\my_env\\lib\\site-packages (from matplotlib>=2.2->seaborn) (0.10.0)\n",
      "Requirement already satisfied: python-dateutil>=2.7 in d:\\anaconda\\envs\\my_env\\lib\\site-packages (from matplotlib>=2.2->seaborn) (2.8.2)\n",
      "Requirement already satisfied: pillow>=6.2.0 in d:\\anaconda\\envs\\my_env\\lib\\site-packages (from matplotlib>=2.2->seaborn) (8.4.0)\n",
      "Requirement already satisfied: pyparsing>=2.2.1 in d:\\anaconda\\envs\\my_env\\lib\\site-packages (from matplotlib>=2.2->seaborn) (2.4.7)\n",
      "Requirement already satisfied: kiwisolver>=1.0.1 in d:\\anaconda\\envs\\my_env\\lib\\site-packages (from matplotlib>=2.2->seaborn) (1.3.1)\n",
      "Requirement already satisfied: six in d:\\anaconda\\envs\\my_env\\lib\\site-packages (from cycler>=0.10->matplotlib>=2.2->seaborn) (1.16.0)\n",
      "Requirement already satisfied: pytz>=2017.3 in d:\\anaconda\\envs\\my_env\\lib\\site-packages (from pandas>=0.23->seaborn) (2021.3)\n"
     ]
    }
   ],
   "source": [
    "!pip install seaborn"
   ]
  },
  {
   "cell_type": "code",
   "execution_count": 72,
   "metadata": {},
   "outputs": [],
   "source": [
    "import matplotlib_inline as plt\n",
    "import seaborn as sns"
   ]
  },
  {
   "cell_type": "markdown",
   "metadata": {},
   "source": [
    "### __11.1 Estimating the mean distance__"
   ]
  },
  {
   "cell_type": "code",
   "execution_count": 73,
   "metadata": {},
   "outputs": [
    {
     "data": {
      "text/plain": [
       "Pick_day\n",
       "Friday       162.142866\n",
       "Monday       160.530068\n",
       "Saturday     170.699314\n",
       "Sunday       181.555291\n",
       "Thursday     146.621999\n",
       "Tuesday      151.609285\n",
       "Wednesday    146.812861\n",
       "Name: Original_distance_Kms, dtype: float64"
      ]
     },
     "execution_count": 73,
     "metadata": {},
     "output_type": "execute_result"
    }
   ],
   "source": [
    "i_data.groupby('Pick_day')['Original_distance_Kms'].mean()"
   ]
  },
  {
   "cell_type": "code",
   "execution_count": 74,
   "metadata": {},
   "outputs": [
    {
     "data": {
      "text/plain": [
       "<AxesSubplot:xlabel='Pick_day'>"
      ]
     },
     "execution_count": 74,
     "metadata": {},
     "output_type": "execute_result"
    },
    {
     "data": {
      "image/png": "[encoded data removed]",
      "text/plain": [
       "<Figure size 432x288 with 1 Axes>"
      ]
     },
     "metadata": {
      "needs_background": "light"
     },
     "output_type": "display_data"
    }
   ],
   "source": [
    "i_data.groupby('Pick_day')['Original_distance_Kms'].mean().plot(kind = 'bar')"
   ]
  },
  {
   "cell_type": "code",
   "execution_count": 75,
   "metadata": {},
   "outputs": [],
   "source": [
    "dp = pd.DataFrame({'Monday': 160.530068, 'Tuesday': 151.609285, 'Wednesday': 146.812861, \n",
    "                   'Thursday': 146.621999, 'Friday': 162.142866,'Saturday': 170.699314, 'Sunday': 181.555291}, index= [0,1,2,3,4,5,6]).T\n",
    "dp.reset_index(inplace = True)\n",
    "dp.drop([1,2,3,4,5,6], axis= 1, inplace = True)"
   ]
  },
  {
   "cell_type": "code",
   "execution_count": 76,
   "metadata": {},
   "outputs": [],
   "source": [
    "dp.columns =  ['Week_Day', 'Mean_Distance']"
   ]
  },
  {
   "cell_type": "code",
   "execution_count": 77,
   "metadata": {},
   "outputs": [
    {
     "data": {
      "text/plain": [
       "<seaborn.axisgrid.FacetGrid at 0x2067a0cdd60>"
      ]
     },
     "execution_count": 77,
     "metadata": {},
     "output_type": "execute_result"
    },
    {
     "data": {
      "image/png": "[encoded data removed]",
      "text/plain": [
       "<Figure size 864x432 with 1 Axes>"
      ]
     },
     "metadata": {},
     "output_type": "display_data"
    }
   ],
   "source": [
    "import seaborn as sns\n",
    "sns.set_theme(style=\"ticks\")\n",
    "sns.set(font_scale = 1)\n",
    "g = sns.catplot(data= dp, x = \"Week_Day\", y=\"Mean_Distance\", kind = 'bar', height = 6, aspect= 2, ci = None, palette= 'colorblind')\n",
    "g.set_axis_labels(\"Weekday\", \"Mean Distance(KM)\")\n"
   ]
  },
  {
   "cell_type": "markdown",
   "metadata": {},
   "source": [
    "### __11.2 Analysis on the top and low pickup, drop location__"
   ]
  },
  {
   "cell_type": "code",
   "execution_count": 78,
   "metadata": {},
   "outputs": [
    {
     "data": {
      "text/html": [
       "<div>\n",
       "<style scoped>\n",
       "    .dataframe tbody tr th:only-of-type {\n",
       "        vertical-align: middle;\n",
       "    }\n",
       "\n",
       "    .dataframe tbody tr th {\n",
       "        vertical-align: top;\n",
       "    }\n",
       "\n",
       "    .dataframe thead th {\n",
       "        text-align: right;\n",
       "    }\n",
       "</style>\n",
       "<table border=\"1\" class=\"dataframe\">\n",
       "  <thead>\n",
       "    <tr style=\"text-align: right;\">\n",
       "      <th></th>\n",
       "      <th>VendorID</th>\n",
       "      <th>Passenger_count</th>\n",
       "      <th>Total_amount</th>\n",
       "      <th>Time_diff_min</th>\n",
       "      <th>Pick_day</th>\n",
       "      <th>Dropping_day</th>\n",
       "      <th>Pick_locationId</th>\n",
       "      <th>Dropoff_locationId</th>\n",
       "      <th>Pick_location</th>\n",
       "      <th>Drop_location</th>\n",
       "      <th>Slat</th>\n",
       "      <th>Slong</th>\n",
       "      <th>Elat</th>\n",
       "      <th>Elong</th>\n",
       "      <th>Original_distance_Kms</th>\n",
       "    </tr>\n",
       "  </thead>\n",
       "  <tbody>\n",
       "    <tr>\n",
       "      <th>600026</th>\n",
       "      <td>NaN</td>\n",
       "      <td>NaN</td>\n",
       "      <td>15.00</td>\n",
       "      <td>4.00</td>\n",
       "      <td>Monday</td>\n",
       "      <td>Monday</td>\n",
       "      <td>NY 193</td>\n",
       "      <td>NY 202</td>\n",
       "      <td>(40.72716062203284, -73.7761231874068)</td>\n",
       "      <td>(40.78069902088275, -73.7913228558524)</td>\n",
       "      <td>40.727161</td>\n",
       "      <td>-73.776123</td>\n",
       "      <td>40.780699</td>\n",
       "      <td>-73.791323</td>\n",
       "      <td>6.082373</td>\n",
       "    </tr>\n",
       "    <tr>\n",
       "      <th>157547</th>\n",
       "      <td>2.0</td>\n",
       "      <td>1.0</td>\n",
       "      <td>15.30</td>\n",
       "      <td>7.17</td>\n",
       "      <td>Monday</td>\n",
       "      <td>Monday</td>\n",
       "      <td>NY 170</td>\n",
       "      <td>NY 234</td>\n",
       "      <td>(40.74819996320862, -73.79810381718592)</td>\n",
       "      <td>(40.764273998917886, -73.74699005285179)</td>\n",
       "      <td>40.748200</td>\n",
       "      <td>-73.798104</td>\n",
       "      <td>40.764274</td>\n",
       "      <td>-73.746990</td>\n",
       "      <td>4.670808</td>\n",
       "    </tr>\n",
       "    <tr>\n",
       "      <th>478264</th>\n",
       "      <td>NaN</td>\n",
       "      <td>NaN</td>\n",
       "      <td>56.73</td>\n",
       "      <td>39.03</td>\n",
       "      <td>Monday</td>\n",
       "      <td>Monday</td>\n",
       "      <td>NY 163</td>\n",
       "      <td>NY 22</td>\n",
       "      <td>(40.77774019939085, -73.80063988135805)</td>\n",
       "      <td>(41.327980000000025, -73.80560999999994)</td>\n",
       "      <td>40.777740</td>\n",
       "      <td>-73.800640</td>\n",
       "      <td>41.327980</td>\n",
       "      <td>-73.805610</td>\n",
       "      <td>61.108272</td>\n",
       "    </tr>\n",
       "    <tr>\n",
       "      <th>72045</th>\n",
       "      <td>2.0</td>\n",
       "      <td>2.0</td>\n",
       "      <td>62.30</td>\n",
       "      <td>16.73</td>\n",
       "      <td>Monday</td>\n",
       "      <td>Monday</td>\n",
       "      <td>NY 132</td>\n",
       "      <td>NY 145</td>\n",
       "      <td>(40.78385336804671, -73.83643594182026)</td>\n",
       "      <td>(40.65864967061559, -73.72604400399864)</td>\n",
       "      <td>40.783853</td>\n",
       "      <td>-73.836436</td>\n",
       "      <td>40.658650</td>\n",
       "      <td>-73.726044</td>\n",
       "      <td>16.742245</td>\n",
       "    </tr>\n",
       "    <tr>\n",
       "      <th>327843</th>\n",
       "      <td>2.0</td>\n",
       "      <td>1.0</td>\n",
       "      <td>12.80</td>\n",
       "      <td>9.65</td>\n",
       "      <td>Monday</td>\n",
       "      <td>Monday</td>\n",
       "      <td>NY 164</td>\n",
       "      <td>NY 162</td>\n",
       "      <td>(40.750415354616045, -73.80297832398533)</td>\n",
       "      <td>(40.760605703709125, -73.80395237371366)</td>\n",
       "      <td>40.750415</td>\n",
       "      <td>-73.802978</td>\n",
       "      <td>40.760606</td>\n",
       "      <td>-73.803952</td>\n",
       "      <td>1.134615</td>\n",
       "    </tr>\n",
       "  </tbody>\n",
       "</table>\n",
       "</div>"
      ],
      "text/plain": [
       "        VendorID  Passenger_count  Total_amount  Time_diff_min Pick_day  \\\n",
       "600026       NaN              NaN         15.00           4.00   Monday   \n",
       "157547       2.0              1.0         15.30           7.17   Monday   \n",
       "478264       NaN              NaN         56.73          39.03   Monday   \n",
       "72045        2.0              2.0         62.30          16.73   Monday   \n",
       "327843       2.0              1.0         12.80           9.65   Monday   \n",
       "\n",
       "       Dropping_day Pick_locationId Dropoff_locationId  \\\n",
       "600026       Monday          NY 193             NY 202   \n",
       "157547       Monday          NY 170             NY 234   \n",
       "478264       Monday          NY 163              NY 22   \n",
       "72045        Monday          NY 132             NY 145   \n",
       "327843       Monday          NY 164             NY 162   \n",
       "\n",
       "                                   Pick_location  \\\n",
       "600026    (40.72716062203284, -73.7761231874068)   \n",
       "157547   (40.74819996320862, -73.79810381718592)   \n",
       "478264   (40.77774019939085, -73.80063988135805)   \n",
       "72045    (40.78385336804671, -73.83643594182026)   \n",
       "327843  (40.750415354616045, -73.80297832398533)   \n",
       "\n",
       "                                   Drop_location       Slat      Slong  \\\n",
       "600026    (40.78069902088275, -73.7913228558524)  40.727161 -73.776123   \n",
       "157547  (40.764273998917886, -73.74699005285179)  40.748200 -73.798104   \n",
       "478264  (41.327980000000025, -73.80560999999994)  40.777740 -73.800640   \n",
       "72045    (40.65864967061559, -73.72604400399864)  40.783853 -73.836436   \n",
       "327843  (40.760605703709125, -73.80395237371366)  40.750415 -73.802978   \n",
       "\n",
       "             Elat      Elong  Original_distance_Kms  \n",
       "600026  40.780699 -73.791323               6.082373  \n",
       "157547  40.764274 -73.746990               4.670808  \n",
       "478264  41.327980 -73.805610              61.108272  \n",
       "72045   40.658650 -73.726044              16.742245  \n",
       "327843  40.760606 -73.803952               1.134615  "
      ]
     },
     "execution_count": 78,
     "metadata": {},
     "output_type": "execute_result"
    }
   ],
   "source": [
    "i_data.head()"
   ]
  },
  {
   "cell_type": "markdown",
   "metadata": {},
   "source": [
    "### __Pickup Locations__"
   ]
  },
  {
   "cell_type": "code",
   "execution_count": 79,
   "metadata": {},
   "outputs": [
    {
     "data": {
      "text/plain": [
       "NY 237    31094\n",
       "NY 236    29488\n",
       "NY 161    19969\n",
       "NY 186    19635\n",
       "NY 142    19134\n",
       "NY 170    19069\n",
       "NY 239    19014\n",
       "NY 141    18854\n",
       "NY 162    17708\n",
       "NY 132    16718\n",
       "Name: Pick_locationId, dtype: int64"
      ]
     },
     "execution_count": 79,
     "metadata": {},
     "output_type": "execute_result"
    }
   ],
   "source": [
    "i_data['Pick_locationId'].value_counts().nlargest(10)"
   ]
  },
  {
   "cell_type": "markdown",
   "metadata": {},
   "source": [
    "### __11.2.1 Top pickup location__"
   ]
  },
  {
   "cell_type": "code",
   "execution_count": 80,
   "metadata": {},
   "outputs": [
    {
     "data": {
      "text/plain": [
       "Text(0.5, 1.0, 'Top Pickup Locations')"
      ]
     },
     "execution_count": 80,
     "metadata": {},
     "output_type": "execute_result"
    },
    {
     "data": {
      "image/png": "[encoded data removed]",
      "text/plain": [
       "<Figure size 842.4x595.44 with 1 Axes>"
      ]
     },
     "metadata": {},
     "output_type": "display_data"
    }
   ],
   "source": [
    "import matplotlib.pyplot as plt\n",
    "sns.set_theme(style=\"ticks\")\n",
    "sns.set_style('ticks')\n",
    "fig, ax = plt.subplots()\n",
    "fig.set_size_inches(11.7, 8.27)\n",
    "ax = sns.countplot(data=i_data, order=i_data.Pick_locationId.value_counts().nlargest(10).index, y='Pick_locationId')\n",
    "ax.set(xlabel='Maximum Picks', ylabel='Pickup_Location')\n",
    "ax.set_title('Top Pickup Locations')"
   ]
  },
  {
   "cell_type": "markdown",
   "metadata": {},
   "source": [
    "### __11.2.2 Low pickup location__"
   ]
  },
  {
   "cell_type": "code",
   "execution_count": 81,
   "metadata": {},
   "outputs": [
    {
     "data": {
      "text/plain": [
       "Text(0.5, 1.0, 'Lowest Pickup Locations')"
      ]
     },
     "execution_count": 81,
     "metadata": {},
     "output_type": "execute_result"
    },
    {
     "data": {
      "image/png": "[encoded data removed]",
      "text/plain": [
       "<Figure size 842.4x595.44 with 1 Axes>"
      ]
     },
     "metadata": {},
     "output_type": "display_data"
    }
   ],
   "source": [
    "sns.set_theme(style=\"ticks\")\n",
    "sns.set_style('ticks')\n",
    "fig, ax = plt.subplots()\n",
    "fig.set_size_inches(11.7, 8.27)\n",
    "ax = sns.countplot(data=i_data, order=i_data.Pick_locationId.value_counts().nsmallest(10).index, y='Pick_locationId')\n",
    "ax.set(xlabel='Minimum Picks', ylabel='Pickup_Location')\n",
    "ax.set_title('Lowest Pickup Locations')"
   ]
  },
  {
   "cell_type": "markdown",
   "metadata": {},
   "source": [
    "## __Dropoff Locations__"
   ]
  },
  {
   "cell_type": "code",
   "execution_count": 82,
   "metadata": {},
   "outputs": [
    {
     "data": {
      "text/plain": [
       "NY 236    29056\n",
       "NY 237    27122\n",
       "NY 141    18276\n",
       "NY 170    18062\n",
       "NY 161    17830\n",
       "NY 239    17490\n",
       "NY 142    16314\n",
       "NY 238    16167\n",
       "NY 48     14435\n",
       "NY 140    14390\n",
       "Name: Dropoff_locationId, dtype: int64"
      ]
     },
     "execution_count": 82,
     "metadata": {},
     "output_type": "execute_result"
    }
   ],
   "source": [
    "i_data['Dropoff_locationId'].value_counts().nlargest(10)"
   ]
  },
  {
   "cell_type": "markdown",
   "metadata": {},
   "source": [
    "### __11.2.3 Top dropoff location__"
   ]
  },
  {
   "cell_type": "code",
   "execution_count": 83,
   "metadata": {},
   "outputs": [
    {
     "data": {
      "text/plain": [
       "Text(0.5, 1.0, 'Top Dropoff Locations')"
      ]
     },
     "execution_count": 83,
     "metadata": {},
     "output_type": "execute_result"
    },
    {
     "data": {
      "image/png": "[encoded data removed]",
      "text/plain": [
       "<Figure size 842.4x595.44 with 1 Axes>"
      ]
     },
     "metadata": {},
     "output_type": "display_data"
    }
   ],
   "source": [
    "sns.set_theme(style=\"ticks\")\n",
    "sns.set_style('ticks')\n",
    "fig, ax = plt.subplots()\n",
    "fig.set_size_inches(11.7, 8.27)\n",
    "ax = sns.countplot(data=i_data, order=i_data.Dropoff_locationId.value_counts().nlargest(10).index, y='Dropoff_locationId')\n",
    "ax.set(xlabel='Maximum Picks', ylabel='Dropoff_Location')\n",
    "ax.set_title('Top Dropoff Locations')"
   ]
  },
  {
   "cell_type": "markdown",
   "metadata": {},
   "source": [
    "### __11.2.4 Low dropoff location__"
   ]
  },
  {
   "cell_type": "code",
   "execution_count": 84,
   "metadata": {},
   "outputs": [
    {
     "data": {
      "text/plain": [
       "Text(0.5, 1.0, 'Low Dropoff Locations')"
      ]
     },
     "execution_count": 84,
     "metadata": {},
     "output_type": "execute_result"
    },
    {
     "data": {
      "image/png": "[encoded data removed]",
      "text/plain": [
       "<Figure size 842.4x595.44 with 1 Axes>"
      ]
     },
     "metadata": {},
     "output_type": "display_data"
    }
   ],
   "source": [
    "sns.set_theme(style=\"ticks\")\n",
    "sns.set_style('ticks')\n",
    "fig, ax = plt.subplots()\n",
    "fig.set_size_inches(11.7, 8.27)\n",
    "ax = sns.countplot(data=i_data, order=i_data.Dropoff_locationId.value_counts().nsmallest(10).index, y='Dropoff_locationId')\n",
    "ax.set(xlabel='Minimum Drops', ylabel='Dropoff_Location')\n",
    "ax.set_title('Low Dropoff Locations')"
   ]
  },
  {
   "cell_type": "markdown",
   "metadata": {},
   "source": [
    "## __11.3 Dropping NaN values__"
   ]
  },
  {
   "cell_type": "code",
   "execution_count": 85,
   "metadata": {},
   "outputs": [
    {
     "data": {
      "text/plain": [
       "(600027, 15)"
      ]
     },
     "execution_count": 85,
     "metadata": {},
     "output_type": "execute_result"
    }
   ],
   "source": [
    "i_data.shape"
   ]
  },
  {
   "cell_type": "code",
   "execution_count": 86,
   "metadata": {},
   "outputs": [
    {
     "data": {
      "text/plain": [
       "VendorID                 33494\n",
       "Passenger_count          33494\n",
       "Total_amount                 0\n",
       "Time_diff_min                0\n",
       "Pick_day                     0\n",
       "Dropping_day                 0\n",
       "Pick_locationId              0\n",
       "Dropoff_locationId           0\n",
       "Pick_location                0\n",
       "Drop_location                0\n",
       "Slat                         0\n",
       "Slong                        0\n",
       "Elat                         0\n",
       "Elong                        0\n",
       "Original_distance_Kms        0\n",
       "dtype: int64"
      ]
     },
     "execution_count": 86,
     "metadata": {},
     "output_type": "execute_result"
    }
   ],
   "source": [
    "i_data.isnull().sum()"
   ]
  },
  {
   "cell_type": "code",
   "execution_count": 87,
   "metadata": {},
   "outputs": [],
   "source": [
    "i_data.dropna(inplace= True)"
   ]
  },
  {
   "cell_type": "code",
   "execution_count": 88,
   "metadata": {},
   "outputs": [
    {
     "data": {
      "text/html": [
       "<div>\n",
       "<style scoped>\n",
       "    .dataframe tbody tr th:only-of-type {\n",
       "        vertical-align: middle;\n",
       "    }\n",
       "\n",
       "    .dataframe tbody tr th {\n",
       "        vertical-align: top;\n",
       "    }\n",
       "\n",
       "    .dataframe thead th {\n",
       "        text-align: right;\n",
       "    }\n",
       "</style>\n",
       "<table border=\"1\" class=\"dataframe\">\n",
       "  <thead>\n",
       "    <tr style=\"text-align: right;\">\n",
       "      <th></th>\n",
       "      <th>VendorID</th>\n",
       "      <th>Passenger_count</th>\n",
       "      <th>Total_amount</th>\n",
       "      <th>Time_diff_min</th>\n",
       "      <th>Pick_day</th>\n",
       "      <th>Dropping_day</th>\n",
       "      <th>Pick_locationId</th>\n",
       "      <th>Dropoff_locationId</th>\n",
       "      <th>Pick_location</th>\n",
       "      <th>Drop_location</th>\n",
       "      <th>Slat</th>\n",
       "      <th>Slong</th>\n",
       "      <th>Elat</th>\n",
       "      <th>Elong</th>\n",
       "      <th>Original_distance_Kms</th>\n",
       "    </tr>\n",
       "  </thead>\n",
       "  <tbody>\n",
       "    <tr>\n",
       "      <th>0</th>\n",
       "      <td>2.0</td>\n",
       "      <td>1.0</td>\n",
       "      <td>15.30</td>\n",
       "      <td>7.17</td>\n",
       "      <td>Monday</td>\n",
       "      <td>Monday</td>\n",
       "      <td>NY 170</td>\n",
       "      <td>NY 234</td>\n",
       "      <td>(40.74819996320862, -73.79810381718592)</td>\n",
       "      <td>(40.764273998917886, -73.74699005285179)</td>\n",
       "      <td>40.748200</td>\n",
       "      <td>-73.798104</td>\n",
       "      <td>40.764274</td>\n",
       "      <td>-73.746990</td>\n",
       "      <td>4.670808</td>\n",
       "    </tr>\n",
       "    <tr>\n",
       "      <th>1</th>\n",
       "      <td>2.0</td>\n",
       "      <td>2.0</td>\n",
       "      <td>62.30</td>\n",
       "      <td>16.73</td>\n",
       "      <td>Monday</td>\n",
       "      <td>Monday</td>\n",
       "      <td>NY 132</td>\n",
       "      <td>NY 145</td>\n",
       "      <td>(40.78385336804671, -73.83643594182026)</td>\n",
       "      <td>(40.65864967061559, -73.72604400399864)</td>\n",
       "      <td>40.783853</td>\n",
       "      <td>-73.836436</td>\n",
       "      <td>40.658650</td>\n",
       "      <td>-73.726044</td>\n",
       "      <td>16.742245</td>\n",
       "    </tr>\n",
       "    <tr>\n",
       "      <th>2</th>\n",
       "      <td>2.0</td>\n",
       "      <td>1.0</td>\n",
       "      <td>12.80</td>\n",
       "      <td>9.65</td>\n",
       "      <td>Monday</td>\n",
       "      <td>Monday</td>\n",
       "      <td>NY 164</td>\n",
       "      <td>NY 162</td>\n",
       "      <td>(40.750415354616045, -73.80297832398533)</td>\n",
       "      <td>(40.760605703709125, -73.80395237371366)</td>\n",
       "      <td>40.750415</td>\n",
       "      <td>-73.802978</td>\n",
       "      <td>40.760606</td>\n",
       "      <td>-73.803952</td>\n",
       "      <td>1.134615</td>\n",
       "    </tr>\n",
       "    <tr>\n",
       "      <th>3</th>\n",
       "      <td>2.0</td>\n",
       "      <td>1.0</td>\n",
       "      <td>13.56</td>\n",
       "      <td>8.63</td>\n",
       "      <td>Monday</td>\n",
       "      <td>Monday</td>\n",
       "      <td>NY 236</td>\n",
       "      <td>NY 140</td>\n",
       "      <td>(40.65374004452198, -73.74707492242896)</td>\n",
       "      <td>(40.6708135271599, -73.77244755545968)</td>\n",
       "      <td>40.653740</td>\n",
       "      <td>-73.747075</td>\n",
       "      <td>40.670814</td>\n",
       "      <td>-73.772448</td>\n",
       "      <td>2.863257</td>\n",
       "    </tr>\n",
       "    <tr>\n",
       "      <th>4</th>\n",
       "      <td>2.0</td>\n",
       "      <td>1.0</td>\n",
       "      <td>5.30</td>\n",
       "      <td>3.00</td>\n",
       "      <td>Monday</td>\n",
       "      <td>Monday</td>\n",
       "      <td>NY 244</td>\n",
       "      <td>NY 116</td>\n",
       "      <td>(40.7232747439702, -73.72368731719021)</td>\n",
       "      <td>(42.77506510217652, -73.67322955917082)</td>\n",
       "      <td>40.723275</td>\n",
       "      <td>-73.723687</td>\n",
       "      <td>42.775065</td>\n",
       "      <td>-73.673230</td>\n",
       "      <td>227.927761</td>\n",
       "    </tr>\n",
       "  </tbody>\n",
       "</table>\n",
       "</div>"
      ],
      "text/plain": [
       "   VendorID  Passenger_count  Total_amount  Time_diff_min Pick_day  \\\n",
       "0       2.0              1.0         15.30           7.17   Monday   \n",
       "1       2.0              2.0         62.30          16.73   Monday   \n",
       "2       2.0              1.0         12.80           9.65   Monday   \n",
       "3       2.0              1.0         13.56           8.63   Monday   \n",
       "4       2.0              1.0          5.30           3.00   Monday   \n",
       "\n",
       "  Dropping_day Pick_locationId Dropoff_locationId  \\\n",
       "0       Monday          NY 170             NY 234   \n",
       "1       Monday          NY 132             NY 145   \n",
       "2       Monday          NY 164             NY 162   \n",
       "3       Monday          NY 236             NY 140   \n",
       "4       Monday          NY 244             NY 116   \n",
       "\n",
       "                              Pick_location  \\\n",
       "0   (40.74819996320862, -73.79810381718592)   \n",
       "1   (40.78385336804671, -73.83643594182026)   \n",
       "2  (40.750415354616045, -73.80297832398533)   \n",
       "3   (40.65374004452198, -73.74707492242896)   \n",
       "4    (40.7232747439702, -73.72368731719021)   \n",
       "\n",
       "                              Drop_location       Slat      Slong       Elat  \\\n",
       "0  (40.764273998917886, -73.74699005285179)  40.748200 -73.798104  40.764274   \n",
       "1   (40.65864967061559, -73.72604400399864)  40.783853 -73.836436  40.658650   \n",
       "2  (40.760605703709125, -73.80395237371366)  40.750415 -73.802978  40.760606   \n",
       "3    (40.6708135271599, -73.77244755545968)  40.653740 -73.747075  40.670814   \n",
       "4   (42.77506510217652, -73.67322955917082)  40.723275 -73.723687  42.775065   \n",
       "\n",
       "       Elong  Original_distance_Kms  \n",
       "0 -73.746990               4.670808  \n",
       "1 -73.726044              16.742245  \n",
       "2 -73.803952               1.134615  \n",
       "3 -73.772448               2.863257  \n",
       "4 -73.673230             227.927761  "
      ]
     },
     "execution_count": 88,
     "metadata": {},
     "output_type": "execute_result"
    }
   ],
   "source": [
    "i_data.reset_index(drop = True, inplace = True)\n",
    "i_data.head(5)"
   ]
  },
  {
   "cell_type": "markdown",
   "metadata": {},
   "source": [
    "## __12. Passenger count by pickup location__"
   ]
  },
  {
   "cell_type": "code",
   "execution_count": 89,
   "metadata": {},
   "outputs": [
    {
     "data": {
      "text/plain": [
       "Pick_day   Passenger_count\n",
       "Friday     1.0                67438\n",
       "           2.0                13234\n",
       "           3.0                 3475\n",
       "           5.0                 2247\n",
       "           0.0                 2051\n",
       "           6.0                 1573\n",
       "           4.0                 1307\n",
       "Monday     1.0                54094\n",
       "           2.0                10040\n",
       "           3.0                 2605\n",
       "           5.0                 1826\n",
       "           0.0                 1682\n",
       "           6.0                 1261\n",
       "           4.0                  918\n",
       "Saturday   1.0                57215\n",
       "           2.0                14052\n",
       "           3.0                 3755\n",
       "           5.0                 2221\n",
       "           0.0                 1806\n",
       "           4.0                 1509\n",
       "           6.0                 1286\n",
       "Sunday     1.0                41740\n",
       "           2.0                10055\n",
       "           3.0                 2647\n",
       "           5.0                 1565\n",
       "           0.0                 1361\n",
       "           6.0                 1092\n",
       "           4.0                  995\n",
       "           7.0                    1\n",
       "Thursday   1.0                67717\n",
       "           2.0                11963\n",
       "           3.0                 3100\n",
       "           5.0                 2314\n",
       "           0.0                 2047\n",
       "           6.0                 1521\n",
       "           4.0                 1103\n",
       "Tuesday    1.0                63063\n",
       "           2.0                10891\n",
       "           3.0                 2706\n",
       "           5.0                 2084\n",
       "           0.0                 1850\n",
       "           6.0                 1382\n",
       "           4.0                 1021\n",
       "           8.0                    1\n",
       "Wednesday  1.0                67465\n",
       "           2.0                11582\n",
       "           3.0                 2965\n",
       "           5.0                 2099\n",
       "           0.0                 1934\n",
       "           6.0                 1544\n",
       "           4.0                 1128\n",
       "           9.0                    2\n",
       "Name: Passenger_count, dtype: int64"
      ]
     },
     "execution_count": 89,
     "metadata": {},
     "output_type": "execute_result"
    }
   ],
   "source": [
    "i_data.groupby('Pick_day')['Passenger_count'].value_counts()"
   ]
  },
  {
   "cell_type": "markdown",
   "metadata": {},
   "source": [
    "### __12.1 Visualization of the passenger count on the weekdays__"
   ]
  },
  {
   "cell_type": "code",
   "execution_count": 90,
   "metadata": {},
   "outputs": [
    {
     "data": {
      "text/plain": [
       "[Text(0.5, 0, 'Count'), Text(0, 0.5, 'Week_day')]"
      ]
     },
     "execution_count": 90,
     "metadata": {},
     "output_type": "execute_result"
    },
    {
     "data": {
      "image/png": "[encoded data removed]",
      "text/plain": [
       "<Figure size 1202.4x595.44 with 1 Axes>"
      ]
     },
     "metadata": {},
     "output_type": "display_data"
    }
   ],
   "source": [
    "sns.set_theme(style=\"ticks\")\n",
    "sns.set_style('ticks')\n",
    "fig, ax = plt.subplots()\n",
    "fig.set_size_inches(16.7, 8.27)\n",
    "ax = sns.countplot(y=\"Pick_day\", hue=\"Passenger_count\", data=i_data)\n",
    "sns.color_palette('dark')\n",
    "ax.set(xlabel='Count', ylabel='Week_day')"
   ]
  },
  {
   "cell_type": "code",
   "execution_count": 91,
   "metadata": {},
   "outputs": [
    {
     "name": "stdout",
     "output_type": "stream",
     "text": [
      "Requirement already satisfied: pydeck in d:\\anaconda\\envs\\my_env\\lib\\site-packages (0.7.1)\n",
      "Requirement already satisfied: ipykernel>=5.1.2 in d:\\anaconda\\envs\\my_env\\lib\\site-packages (from pydeck) (6.4.1)\n",
      "Requirement already satisfied: numpy>=1.16.4 in d:\\anaconda\\envs\\my_env\\lib\\site-packages (from pydeck) (1.21.2)\n",
      "Requirement already satisfied: jinja2>=2.10.1 in d:\\anaconda\\envs\\my_env\\lib\\site-packages (from pydeck) (3.0.3)\n",
      "Requirement already satisfied: traitlets>=4.3.2 in d:\\anaconda\\envs\\my_env\\lib\\site-packages (from pydeck) (5.1.0)\n",
      "Requirement already satisfied: ipywidgets>=7.0.0 in d:\\anaconda\\envs\\my_env\\lib\\site-packages (from pydeck) (7.6.5)\n",
      "Requirement already satisfied: jupyter-client<8.0 in d:\\anaconda\\envs\\my_env\\lib\\site-packages (from ipykernel>=5.1.2->pydeck) (7.0.1)\n",
      "Requirement already satisfied: debugpy<2.0,>=1.0.0 in d:\\anaconda\\envs\\my_env\\lib\\site-packages (from ipykernel>=5.1.2->pydeck) (1.4.1)\n",
      "Requirement already satisfied: matplotlib-inline<0.2.0,>=0.1.0 in d:\\anaconda\\envs\\my_env\\lib\\site-packages (from ipykernel>=5.1.2->pydeck) (0.1.2)\n",
      "Requirement already satisfied: ipython<8.0,>=7.23.1 in d:\\anaconda\\envs\\my_env\\lib\\site-packages (from ipykernel>=5.1.2->pydeck) (7.29.0)\n",
      "Requirement already satisfied: tornado<7.0,>=4.2 in d:\\anaconda\\envs\\my_env\\lib\\site-packages (from ipykernel>=5.1.2->pydeck) (6.1)\n",
      "Requirement already satisfied: ipython-genutils in d:\\anaconda\\envs\\my_env\\lib\\site-packages (from ipykernel>=5.1.2->pydeck) (0.2.0)\n",
      "Requirement already satisfied: decorator in d:\\anaconda\\envs\\my_env\\lib\\site-packages (from ipython<8.0,>=7.23.1->ipykernel>=5.1.2->pydeck) (5.1.0)\n",
      "Requirement already satisfied: prompt-toolkit!=3.0.0,!=3.0.1,<3.1.0,>=2.0.0 in d:\\anaconda\\envs\\my_env\\lib\\site-packages (from ipython<8.0,>=7.23.1->ipykernel>=5.1.2->pydeck) (3.0.20)\n",
      "Requirement already satisfied: pickleshare in d:\\anaconda\\envs\\my_env\\lib\\site-packages (from ipython<8.0,>=7.23.1->ipykernel>=5.1.2->pydeck) (0.7.5)\n",
      "Requirement already satisfied: jedi>=0.16 in d:\\anaconda\\envs\\my_env\\lib\\site-packages (from ipython<8.0,>=7.23.1->ipykernel>=5.1.2->pydeck) (0.18.0)\n",
      "Requirement already satisfied: pygments in d:\\anaconda\\envs\\my_env\\lib\\site-packages (from ipython<8.0,>=7.23.1->ipykernel>=5.1.2->pydeck) (2.10.0)\n",
      "Requirement already satisfied: setuptools>=18.5 in d:\\anaconda\\envs\\my_env\\lib\\site-packages (from ipython<8.0,>=7.23.1->ipykernel>=5.1.2->pydeck) (58.0.4)\n",
      "Requirement already satisfied: backcall in d:\\anaconda\\envs\\my_env\\lib\\site-packages (from ipython<8.0,>=7.23.1->ipykernel>=5.1.2->pydeck) (0.2.0)\n",
      "Requirement already satisfied: colorama in d:\\anaconda\\envs\\my_env\\lib\\site-packages (from ipython<8.0,>=7.23.1->ipykernel>=5.1.2->pydeck) (0.4.4)\n",
      "Requirement already satisfied: jupyterlab-widgets>=1.0.0 in d:\\anaconda\\envs\\my_env\\lib\\site-packages (from ipywidgets>=7.0.0->pydeck) (1.0.2)\n",
      "Requirement already satisfied: nbformat>=4.2.0 in d:\\anaconda\\envs\\my_env\\lib\\site-packages (from ipywidgets>=7.0.0->pydeck) (5.1.3)\n",
      "Requirement already satisfied: widgetsnbextension~=3.5.0 in d:\\anaconda\\envs\\my_env\\lib\\site-packages (from ipywidgets>=7.0.0->pydeck) (3.5.2)\n",
      "Requirement already satisfied: parso<0.9.0,>=0.8.0 in d:\\anaconda\\envs\\my_env\\lib\\site-packages (from jedi>=0.16->ipython<8.0,>=7.23.1->ipykernel>=5.1.2->pydeck) (0.8.2)\n",
      "Requirement already satisfied: MarkupSafe>=2.0 in d:\\anaconda\\envs\\my_env\\lib\\site-packages (from jinja2>=2.10.1->pydeck) (2.0.1)\n",
      "Requirement already satisfied: pyzmq>=13 in d:\\anaconda\\envs\\my_env\\lib\\site-packages (from jupyter-client<8.0->ipykernel>=5.1.2->pydeck) (22.2.1)\n",
      "Requirement already satisfied: python-dateutil>=2.1 in d:\\anaconda\\envs\\my_env\\lib\\site-packages (from jupyter-client<8.0->ipykernel>=5.1.2->pydeck) (2.8.2)\n",
      "Requirement already satisfied: jupyter-core>=4.6.0 in d:\\anaconda\\envs\\my_env\\lib\\site-packages (from jupyter-client<8.0->ipykernel>=5.1.2->pydeck) (4.9.1)\n",
      "Requirement already satisfied: entrypoints in d:\\anaconda\\envs\\my_env\\lib\\site-packages (from jupyter-client<8.0->ipykernel>=5.1.2->pydeck) (0.3)\n",
      "Requirement already satisfied: nest-asyncio>=1.5 in d:\\anaconda\\envs\\my_env\\lib\\site-packages (from jupyter-client<8.0->ipykernel>=5.1.2->pydeck) (1.5.1)\n",
      "Requirement already satisfied: pywin32>=1.0 in d:\\anaconda\\envs\\my_env\\lib\\site-packages (from jupyter-core>=4.6.0->jupyter-client<8.0->ipykernel>=5.1.2->pydeck) (228)\n",
      "Requirement already satisfied: jsonschema!=2.5.0,>=2.4 in d:\\anaconda\\envs\\my_env\\lib\\site-packages (from nbformat>=4.2.0->ipywidgets>=7.0.0->pydeck) (4.2.1)\n",
      "Requirement already satisfied: pyrsistent!=0.17.0,!=0.17.1,!=0.17.2,>=0.14.0 in d:\\anaconda\\envs\\my_env\\lib\\site-packages (from jsonschema!=2.5.0,>=2.4->nbformat>=4.2.0->ipywidgets>=7.0.0->pydeck) (0.18.0)\n",
      "Requirement already satisfied: attrs>=17.4.0 in d:\\anaconda\\envs\\my_env\\lib\\site-packages (from jsonschema!=2.5.0,>=2.4->nbformat>=4.2.0->ipywidgets>=7.0.0->pydeck) (21.2.0)\n",
      "Requirement already satisfied: wcwidth in d:\\anaconda\\envs\\my_env\\lib\\site-packages (from prompt-toolkit!=3.0.0,!=3.0.1,<3.1.0,>=2.0.0->ipython<8.0,>=7.23.1->ipykernel>=5.1.2->pydeck) (0.2.5)\n",
      "Requirement already satisfied: six>=1.5 in d:\\anaconda\\envs\\my_env\\lib\\site-packages (from python-dateutil>=2.1->jupyter-client<8.0->ipykernel>=5.1.2->pydeck) (1.16.0)\n",
      "Requirement already satisfied: notebook>=4.4.1 in d:\\anaconda\\envs\\my_env\\lib\\site-packages (from widgetsnbextension~=3.5.0->ipywidgets>=7.0.0->pydeck) (6.4.5)\n",
      "Requirement already satisfied: prometheus-client in d:\\anaconda\\envs\\my_env\\lib\\site-packages (from notebook>=4.4.1->widgetsnbextension~=3.5.0->ipywidgets>=7.0.0->pydeck) (0.12.0)\n",
      "Requirement already satisfied: Send2Trash>=1.5.0 in d:\\anaconda\\envs\\my_env\\lib\\site-packages (from notebook>=4.4.1->widgetsnbextension~=3.5.0->ipywidgets>=7.0.0->pydeck) (1.8.0)\n",
      "Requirement already satisfied: argon2-cffi in d:\\anaconda\\envs\\my_env\\lib\\site-packages (from notebook>=4.4.1->widgetsnbextension~=3.5.0->ipywidgets>=7.0.0->pydeck) (21.1.0)\n",
      "Requirement already satisfied: nbconvert in d:\\anaconda\\envs\\my_env\\lib\\site-packages (from notebook>=4.4.1->widgetsnbextension~=3.5.0->ipywidgets>=7.0.0->pydeck) (6.3.0)\n",
      "Requirement already satisfied: terminado>=0.8.3 in d:\\anaconda\\envs\\my_env\\lib\\site-packages (from notebook>=4.4.1->widgetsnbextension~=3.5.0->ipywidgets>=7.0.0->pydeck) (0.12.1)\n",
      "Requirement already satisfied: pywinpty>=1.1.0 in d:\\anaconda\\envs\\my_env\\lib\\site-packages (from terminado>=0.8.3->notebook>=4.4.1->widgetsnbextension~=3.5.0->ipywidgets>=7.0.0->pydeck) (1.1.6)\n",
      "Requirement already satisfied: cffi>=1.0.0 in d:\\anaconda\\envs\\my_env\\lib\\site-packages (from argon2-cffi->notebook>=4.4.1->widgetsnbextension~=3.5.0->ipywidgets>=7.0.0->pydeck) (1.15.0)\n",
      "Requirement already satisfied: pycparser in d:\\anaconda\\envs\\my_env\\lib\\site-packages (from cffi>=1.0.0->argon2-cffi->notebook>=4.4.1->widgetsnbextension~=3.5.0->ipywidgets>=7.0.0->pydeck) (2.21)\n",
      "Requirement already satisfied: mistune<2,>=0.8.1 in d:\\anaconda\\envs\\my_env\\lib\\site-packages (from nbconvert->notebook>=4.4.1->widgetsnbextension~=3.5.0->ipywidgets>=7.0.0->pydeck) (0.8.4)\n",
      "Requirement already satisfied: jupyterlab-pygments in d:\\anaconda\\envs\\my_env\\lib\\site-packages (from nbconvert->notebook>=4.4.1->widgetsnbextension~=3.5.0->ipywidgets>=7.0.0->pydeck) (0.1.2)\n",
      "Requirement already satisfied: pandocfilters>=1.4.1 in d:\\anaconda\\envs\\my_env\\lib\\site-packages (from nbconvert->notebook>=4.4.1->widgetsnbextension~=3.5.0->ipywidgets>=7.0.0->pydeck) (1.5.0)\n",
      "Requirement already satisfied: testpath in d:\\anaconda\\envs\\my_env\\lib\\site-packages (from nbconvert->notebook>=4.4.1->widgetsnbextension~=3.5.0->ipywidgets>=7.0.0->pydeck) (0.5.0)\n",
      "Requirement already satisfied: defusedxml in d:\\anaconda\\envs\\my_env\\lib\\site-packages (from nbconvert->notebook>=4.4.1->widgetsnbextension~=3.5.0->ipywidgets>=7.0.0->pydeck) (0.7.1)\n",
      "Requirement already satisfied: nbclient<0.6.0,>=0.5.0 in d:\\anaconda\\envs\\my_env\\lib\\site-packages (from nbconvert->notebook>=4.4.1->widgetsnbextension~=3.5.0->ipywidgets>=7.0.0->pydeck) (0.5.8)\n",
      "Requirement already satisfied: bleach in d:\\anaconda\\envs\\my_env\\lib\\site-packages (from nbconvert->notebook>=4.4.1->widgetsnbextension~=3.5.0->ipywidgets>=7.0.0->pydeck) (4.1.0)\n",
      "Requirement already satisfied: webencodings in d:\\anaconda\\envs\\my_env\\lib\\site-packages (from bleach->nbconvert->notebook>=4.4.1->widgetsnbextension~=3.5.0->ipywidgets>=7.0.0->pydeck) (0.5.1)\n",
      "Requirement already satisfied: packaging in d:\\anaconda\\envs\\my_env\\lib\\site-packages (from bleach->nbconvert->notebook>=4.4.1->widgetsnbextension~=3.5.0->ipywidgets>=7.0.0->pydeck) (21.2)\n",
      "Requirement already satisfied: pyparsing<3,>=2.0.2 in d:\\anaconda\\envs\\my_env\\lib\\site-packages (from packaging->bleach->nbconvert->notebook>=4.4.1->widgetsnbextension~=3.5.0->ipywidgets>=7.0.0->pydeck) (2.4.7)\n"
     ]
    }
   ],
   "source": [
    "!pip install pydeck"
   ]
  },
  {
   "cell_type": "markdown",
   "metadata": {},
   "source": [
    "### __12.2 Analyzing with count 1__"
   ]
  },
  {
   "cell_type": "code",
   "execution_count": 92,
   "metadata": {},
   "outputs": [],
   "source": [
    "i_data['slat_long'] = i_data[['Slong', 'Slat']].apply(tuple, axis=1)\n",
    "i_data['elat_long'] = i_data[['Elong', 'Elat']].apply(tuple, axis=1)"
   ]
  },
  {
   "cell_type": "markdown",
   "metadata": {},
   "source": [
    "### __12.3 Visualizing data with passenger count = 1__"
   ]
  },
  {
   "cell_type": "code",
   "execution_count": 93,
   "metadata": {},
   "outputs": [
    {
     "data": {
      "text/html": [
       "\n",
       "        <iframe\n",
       "            width=\"100%\"\n",
       "            height=500\n",
       "            frameborder=\"0\"\n",
       "            srcdoc=\"&lt;!DOCTYPE html&gt;\n",
       "&lt;html&gt;\n",
       "  &lt;head&gt;\n",
       "    &lt;meta http-equiv=&quot;content-type&quot; content=&quot;text/html; charset=UTF-8&quot; /&gt;\n",
       "    &lt;title&gt;pydeck&lt;/title&gt;\n",
       "        &lt;script src=&quot;https://api.tiles.mapbox.com/mapbox-gl-js/v1.13.0/mapbox-gl.js&quot;&gt;&lt;/script&gt;\n",
       "        &lt;link rel=&quot;stylesheet&quot; href=&quot;https://maxcdn.bootstrapcdn.com/bootstrap/3.2.0/css/bootstrap-theme.min.css&quot; /&gt;\n",
       "    &lt;link rel=&quot;stylesheet&quot; href=&quot;https://maxcdn.bootstrapcdn.com/font-awesome/4.6.3/css/font-awesome.min.css&quot; /&gt;\n",
       "    &lt;script src=&#x27;https://cdn.jsdelivr.net/npm/@deck.gl/jupyter-widget@~8.5.*/dist/index.js&#x27;&gt;&lt;/script&gt;\n",
       "    &lt;style&gt;\n",
       "    body {\n",
       "  margin: 0;\n",
       "  padding: 0;\n",
       "  overflow: hidden;\n",
       "}\n",
       "\n",
       "#deck-map-container {\n",
       "  width: 100%;\n",
       "  height: 100%;\n",
       "  background-color: black;\n",
       "}\n",
       "\n",
       "#map {\n",
       "  pointer-events: none;\n",
       "  height: 100%;\n",
       "  width: 100%;\n",
       "  position: absolute;\n",
       "  z-index: 1;\n",
       "}\n",
       "\n",
       "#deckgl-overlay {\n",
       "  z-index: 2;\n",
       "  background: none;\n",
       "}\n",
       "\n",
       "#deck-map-wrapper {\n",
       "  width: 100%;\n",
       "  height: 100%;\n",
       "}\n",
       "\n",
       "#deck-container {\n",
       "  width: 100vw;\n",
       "  height: 100vh;\n",
       "}\n",
       "    &lt;/style&gt;\n",
       "  &lt;/head&gt;\n",
       "  &lt;body&gt;\n",
       "    &lt;div id=&quot;deck-container&quot;&gt;\n",
       "    &lt;/div&gt;\n",
       "  &lt;/body&gt;\n",
       "  &lt;script&gt;\n",
       "    const jsonInput = {&quot;initialViewState&quot;: {&quot;bearing&quot;: 45, &quot;latitude&quot;: 40.7128, &quot;longitude&quot;: -74.006, &quot;pitch&quot;: 50, &quot;zoom&quot;: 8}, &quot;layers&quot;: [{&quot;@@type&quot;: &quot;ArcLayer&quot;, &quot;autoHighlight&quot;: true, &quot;data&quot;: [{&quot;Drop_location&quot;: [40.764273998917886, -73.74699005285179], &quot;Dropoff_locationId&quot;: &quot;NY 234&quot;, &quot;Dropping_day&quot;: &quot;Monday&quot;, &quot;Elat&quot;: 40.764273998917886, &quot;Elong&quot;: -73.74699005285179, &quot;Original_distance_Kms&quot;: 4.670808078895514, &quot;Passenger_count&quot;: 1.0, &quot;Pick_day&quot;: &quot;Monday&quot;, &quot;Pick_location&quot;: [40.74819996320862, -73.79810381718592], &quot;Pick_locationId&quot;: &quot;NY 170&quot;, &quot;Slat&quot;: 40.74819996320862, &quot;Slong&quot;: -73.79810381718592, &quot;Time_diff_min&quot;: 7.17, &quot;Total_amount&quot;: 15.3, &quot;VendorID&quot;: 2.0, &quot;elat_long&quot;: [-73.74699005285179, 40.764273998917886], &quot;slat_long&quot;: [-73.79810381718592, 40.74819996320862]}, {&quot;Drop_location&quot;: [40.760605703709125, -73.80395237371366], &quot;Dropoff_locationId&quot;: &quot;NY 162&quot;, &quot;Dropping_day&quot;: &quot;Monday&quot;, &quot;Elat&quot;: 40.760605703709125, &quot;Elong&quot;: -73.80395237371366, &quot;Original_distance_Kms&quot;: 1.1346153891875344, &quot;Passenger_count&quot;: 1.0, &quot;Pick_day&quot;: &quot;Monday&quot;, &quot;Pick_location&quot;: [40.750415354616045, -73.80297832398533], &quot;Pick_locationId&quot;: &quot;NY 164&quot;, &quot;Slat&quot;: 40.750415354616045, &quot;Slong&quot;: -73.80297832398533, &quot;Time_diff_min&quot;: 9.65, &quot;Total_amount&quot;: 12.8, &quot;VendorID&quot;: 2.0, &quot;elat_long&quot;: [-73.80395237371366, 40.760605703709125], &quot;slat_long&quot;: [-73.80297832398533, 40.750415354616045]}, {&quot;Drop_location&quot;: [40.6708135271599, -73.77244755545968], &quot;Dropoff_locationId&quot;: &quot;NY 140&quot;, &quot;Dropping_day&quot;: &quot;Monday&quot;, &quot;Elat&quot;: 40.6708135271599, &quot;Elong&quot;: -73.77244755545968, &quot;Original_distance_Kms&quot;: 2.8632573638590375, &quot;Passenger_count&quot;: 1.0, &quot;Pick_day&quot;: &quot;Monday&quot;, &quot;Pick_location&quot;: [40.65374004452198, -73.74707492242896], &quot;Pick_locationId&quot;: &quot;NY 236&quot;, &quot;Slat&quot;: 40.65374004452198, &quot;Slong&quot;: -73.74707492242896, &quot;Time_diff_min&quot;: 8.63, &quot;Total_amount&quot;: 13.56, &quot;VendorID&quot;: 2.0, &quot;elat_long&quot;: [-73.77244755545968, 40.6708135271599], &quot;slat_long&quot;: [-73.74707492242896, 40.65374004452198]}, {&quot;Drop_location&quot;: [42.77506510217652, -73.67322955917082], &quot;Dropoff_locationId&quot;: &quot;NY 116&quot;, &quot;Dropping_day&quot;: &quot;Monday&quot;, &quot;Elat&quot;: 42.77506510217652, &quot;Elong&quot;: -73.67322955917082, &quot;Original_distance_Kms&quot;: 227.92776121303072, &quot;Passenger_count&quot;: 1.0, &quot;Pick_day&quot;: &quot;Monday&quot;, &quot;Pick_location&quot;: [40.7232747439702, -73.72368731719021], &quot;Pick_locationId&quot;: &quot;NY 244&quot;, &quot;Slat&quot;: 40.7232747439702, &quot;Slong&quot;: -73.72368731719021, &quot;Time_diff_min&quot;: 3.0, &quot;Total_amount&quot;: 5.3, &quot;VendorID&quot;: 2.0, &quot;elat_long&quot;: [-73.67322955917082, 42.77506510217652], &quot;slat_long&quot;: [-73.72368731719021, 40.7232747439702]}, {&quot;Drop_location&quot;: [40.760605703709125, -73.80395237371366], &quot;Dropoff_locationId&quot;: &quot;NY 162&quot;, &quot;Dropping_day&quot;: &quot;Monday&quot;, &quot;Elat&quot;: 40.760605703709125, &quot;Elong&quot;: -73.80395237371366, &quot;Original_distance_Kms&quot;: 1.835652361080262, &quot;Passenger_count&quot;: 1.0, &quot;Pick_day&quot;: &quot;Monday&quot;, &quot;Pick_location&quot;: [40.74698543007731, -73.79163530001794], &quot;Pick_locationId&quot;: &quot;NY 186&quot;, &quot;Slat&quot;: 40.74698543007731, &quot;Slong&quot;: -73.79163530001794, &quot;Time_diff_min&quot;: 7.35, &quot;Total_amount&quot;: 11.88, &quot;VendorID&quot;: 1.0, &quot;elat_long&quot;: [-73.80395237371366, 40.760605703709125], &quot;slat_long&quot;: [-73.79163530001794, 40.74698543007731]}, {&quot;Drop_location&quot;: [40.761010007817404, -73.72075596847752], &quot;Dropoff_locationId&quot;: &quot;NY 262&quot;, &quot;Dropping_day&quot;: &quot;Monday&quot;, &quot;Elat&quot;: 40.761010007817404, &quot;Elong&quot;: -73.72075596847752, &quot;Original_distance_Kms&quot;: 10.927057944510118, &quot;Passenger_count&quot;: 1.0, &quot;Pick_day&quot;: &quot;Monday&quot;, &quot;Pick_location&quot;: [40.6708135271599, -73.77244755545968], &quot;Pick_locationId&quot;: &quot;NY 140&quot;, &quot;Slat&quot;: 40.6708135271599, &quot;Slong&quot;: -73.77244755545968, &quot;Time_diff_min&quot;: 1.3, &quot;Total_amount&quot;: 8.76, &quot;VendorID&quot;: 2.0, &quot;elat_long&quot;: [-73.72075596847752, 40.761010007817404], &quot;slat_long&quot;: [-73.77244755545968, 40.6708135271599]}, {&quot;Drop_location&quot;: [40.75245976277855, -73.74977609383514], &quot;Dropoff_locationId&quot;: &quot;NY 229&quot;, &quot;Dropping_day&quot;: &quot;Monday&quot;, &quot;Elat&quot;: 40.75245976277855, &quot;Elong&quot;: -73.74977609383514, &quot;Original_distance_Kms&quot;: 9.266864934214157, &quot;Passenger_count&quot;: 1.0, &quot;Pick_day&quot;: &quot;Monday&quot;, &quot;Pick_location&quot;: [40.6708135271599, -73.77244755545968], &quot;Pick_locationId&quot;: &quot;NY 140&quot;, &quot;Slat&quot;: 40.6708135271599, &quot;Slong&quot;: -73.77244755545968, &quot;Time_diff_min&quot;: 5.05, &quot;Total_amount&quot;: 10.56, &quot;VendorID&quot;: 2.0, &quot;elat_long&quot;: [-73.74977609383514, 40.75245976277855], &quot;slat_long&quot;: [-73.77244755545968, 40.6708135271599]}, {&quot;Drop_location&quot;: [40.73160004603285, -73.7361499498301], &quot;Dropoff_locationId&quot;: &quot;NY 233&quot;, &quot;Dropping_day&quot;: &quot;Monday&quot;, &quot;Elat&quot;: 40.73160004603285, &quot;Elong&quot;: -73.7361499498301, &quot;Original_distance_Kms&quot;: 7.126849124257564, &quot;Passenger_count&quot;: 1.0, &quot;Pick_day&quot;: &quot;Monday&quot;, &quot;Pick_location&quot;: [40.67078003458249, -73.7630699406206], &quot;Pick_locationId&quot;: &quot;NY 141&quot;, &quot;Slat&quot;: 40.67078003458249, &quot;Slong&quot;: -73.7630699406206, &quot;Time_diff_min&quot;: 6.45, &quot;Total_amount&quot;: 12.35, &quot;VendorID&quot;: 1.0, &quot;elat_long&quot;: [-73.7361499498301, 40.73160004603285], &quot;slat_long&quot;: [-73.7630699406206, 40.67078003458249]}, {&quot;Drop_location&quot;: [43.082279839198826, -78.94752049225194], &quot;Dropoff_locationId&quot;: &quot;NY 100&quot;, &quot;Dropping_day&quot;: &quot;Monday&quot;, &quot;Elat&quot;: 43.082279839198826, &quot;Elong&quot;: -78.94752049225194, &quot;Original_distance_Kms&quot;: 506.76086451440824, &quot;Passenger_count&quot;: 1.0, &quot;Pick_day&quot;: &quot;Monday&quot;, &quot;Pick_location&quot;: [40.67078003458249, -73.7630699406206], &quot;Pick_locationId&quot;: &quot;NY 141&quot;, &quot;Slat&quot;: 40.67078003458249, &quot;Slong&quot;: -73.7630699406206, &quot;Time_diff_min&quot;: 15.37, &quot;Total_amount&quot;: 22.49, &quot;VendorID&quot;: 2.0, &quot;elat_long&quot;: [-78.94752049225194, 43.082279839198826], &quot;slat_long&quot;: [-73.7630699406206, 40.67078003458249]}, {&quot;Drop_location&quot;: [40.750415354616045, -73.80297832398533], &quot;Dropoff_locationId&quot;: &quot;NY 164&quot;, &quot;Dropping_day&quot;: &quot;Monday&quot;, &quot;Elat&quot;: 40.750415354616045, &quot;Elong&quot;: -73.80297832398533, &quot;Original_distance_Kms&quot;: 6.0188727603861345, &quot;Passenger_count&quot;: 1.0, &quot;Pick_day&quot;: &quot;Monday&quot;, &quot;Pick_location&quot;: [40.73160004603285, -73.7361499498301], &quot;Pick_locationId&quot;: &quot;NY 233&quot;, &quot;Slat&quot;: 40.73160004603285, &quot;Slong&quot;: -73.7361499498301, &quot;Time_diff_min&quot;: 9.92, &quot;Total_amount&quot;: 15.38, &quot;VendorID&quot;: 2.0, &quot;elat_long&quot;: [-73.80297832398533, 40.750415354616045], &quot;slat_long&quot;: [-73.7361499498301, 40.73160004603285]}], &quot;getSourceColor&quot;: [240, 100, 0, 40], &quot;getSourcePosition&quot;: &quot;@@=[Slong, Slat]&quot;, &quot;getTargetColor&quot;: [0, 255, 0, 40], &quot;getTargetPosition&quot;: &quot;@@=[Elong, Elat]&quot;, &quot;getTilt&quot;: 15, &quot;getWidth&quot;: &quot;@@=S000 * 2&quot;, &quot;id&quot;: &quot;9cd2b187-ee4e-40b4-bfc7-13c70dca1142&quot;, &quot;pickable&quot;: true}], &quot;mapProvider&quot;: &quot;carto&quot;, &quot;mapStyle&quot;: &quot;https://basemaps.cartocdn.com/gl/dark-matter-gl-style/style.json&quot;, &quot;views&quot;: [{&quot;@@type&quot;: &quot;MapView&quot;, &quot;controller&quot;: true}]};\n",
       "    const tooltip = {&#x27;text&#x27;: &#x27;{Pick_locationId} to {Dropoff_locationId} and distance is {Original_distance_Kms}&#x27;};\n",
       "    const customLibraries = null;\n",
       "\n",
       "    const deckInstance = createDeck({\n",
       "                  container: document.getElementById(&#x27;deck-container&#x27;),\n",
       "      jsonInput,\n",
       "      tooltip,\n",
       "      customLibraries\n",
       "    });\n",
       "\n",
       "  &lt;/script&gt;\n",
       "&lt;/html&gt;\"\n",
       "        ></iframe>\n",
       "    "
      ],
      "text/plain": [
       "<IPython.core.display.HTML object>"
      ]
     },
     "execution_count": 93,
     "metadata": {},
     "output_type": "execute_result"
    }
   ],
   "source": [
    "import pydeck as pdk\n",
    "\n",
    "GREEN_RGB = [0, 255, 0, 40]\n",
    "RED_RGB = [240, 100, 0, 40]\n",
    "\n",
    "arc_layer = pdk.Layer(\n",
    "    \"ArcLayer\",\n",
    "    data=i_data[i_data['Passenger_count'] == 1.0].head(10),\n",
    "    get_width=\"S000 * 2\",\n",
    "    get_source_position=[\"Slong\", \"Slat\"],\n",
    "    get_target_position=[\"Elong\", \"Elat\"],\n",
    "    get_tilt=15,\n",
    "    get_source_color=RED_RGB,\n",
    "    get_target_color=GREEN_RGB,\n",
    "    pickable=True,\n",
    "    auto_highlight=True,\n",
    ")\n",
    "\n",
    "view_state = pdk.ViewState(latitude=40.7128, longitude=-74.0060, bearing=45, pitch=50, zoom=8,)\n",
    "#TOOLTIP_TEXT = {\"html\": \"Trips <br /> Pickup location in red; Dropoff location in green\"}\n",
    "r = pdk.Deck(arc_layer, initial_view_state=view_state, tooltip={\"text\": \"{Pick_locationId} to {Dropoff_locationId} and distance is {Original_distance_Kms}\"})\n",
    "r.to_html(\"arc_layer.html\")\n"
   ]
  },
  {
   "cell_type": "markdown",
   "metadata": {},
   "source": [
    "### __12.4 Visualiazing the top pickup and dropping locations__"
   ]
  },
  {
   "cell_type": "code",
   "execution_count": 94,
   "metadata": {},
   "outputs": [
    {
     "name": "stdout",
     "output_type": "stream",
     "text": [
      "Requirement already satisfied: folium in d:\\anaconda\\envs\\my_env\\lib\\site-packages (0.12.1)\n",
      "Requirement already satisfied: pandas in d:\\anaconda\\envs\\my_env\\lib\\site-packages (1.3.4)\n",
      "Requirement already satisfied: jinja2>=2.9 in d:\\anaconda\\envs\\my_env\\lib\\site-packages (from folium) (3.0.3)\n",
      "Requirement already satisfied: branca>=0.3.0 in d:\\anaconda\\envs\\my_env\\lib\\site-packages (from folium) (0.4.2)\n",
      "Requirement already satisfied: requests in d:\\anaconda\\envs\\my_env\\lib\\site-packages (from folium) (2.26.0)\n",
      "Requirement already satisfied: numpy in d:\\anaconda\\envs\\my_env\\lib\\site-packages (from folium) (1.21.2)\n",
      "Requirement already satisfied: python-dateutil>=2.7.3 in d:\\anaconda\\envs\\my_env\\lib\\site-packages (from pandas) (2.8.2)\n",
      "Requirement already satisfied: pytz>=2017.3 in d:\\anaconda\\envs\\my_env\\lib\\site-packages (from pandas) (2021.3)\n",
      "Requirement already satisfied: MarkupSafe>=2.0 in d:\\anaconda\\envs\\my_env\\lib\\site-packages (from jinja2>=2.9->folium) (2.0.1)\n",
      "Requirement already satisfied: six>=1.5 in d:\\anaconda\\envs\\my_env\\lib\\site-packages (from python-dateutil>=2.7.3->pandas) (1.16.0)\n",
      "Requirement already satisfied: idna<4,>=2.5 in d:\\anaconda\\envs\\my_env\\lib\\site-packages (from requests->folium) (3.3)\n",
      "Requirement already satisfied: urllib3<1.27,>=1.21.1 in d:\\anaconda\\envs\\my_env\\lib\\site-packages (from requests->folium) (1.26.7)\n",
      "Requirement already satisfied: charset-normalizer~=2.0.0 in d:\\anaconda\\envs\\my_env\\lib\\site-packages (from requests->folium) (2.0.7)\n",
      "Requirement already satisfied: certifi>=2017.4.17 in d:\\anaconda\\envs\\my_env\\lib\\site-packages (from requests->folium) (2021.10.8)\n"
     ]
    }
   ],
   "source": [
    "!pip install folium pandas"
   ]
  },
  {
   "cell_type": "code",
   "execution_count": 95,
   "metadata": {},
   "outputs": [
    {
     "data": {
      "text/plain": [
       "NY 237    30476\n",
       "NY 236    28788\n",
       "NY 161    19570\n",
       "NY 186    19387\n",
       "NY 142    18693\n",
       "Name: Pick_locationId, dtype: int64"
      ]
     },
     "execution_count": 95,
     "metadata": {},
     "output_type": "execute_result"
    }
   ],
   "source": [
    "i_data['Pick_locationId'].value_counts().nlargest(5)"
   ]
  },
  {
   "cell_type": "markdown",
   "metadata": {},
   "source": [
    "### __Pickup locations__"
   ]
  },
  {
   "cell_type": "code",
   "execution_count": 96,
   "metadata": {},
   "outputs": [
    {
     "data": {
      "text/html": [
       "<div>\n",
       "<style scoped>\n",
       "    .dataframe tbody tr th:only-of-type {\n",
       "        vertical-align: middle;\n",
       "    }\n",
       "\n",
       "    .dataframe tbody tr th {\n",
       "        vertical-align: top;\n",
       "    }\n",
       "\n",
       "    .dataframe thead th {\n",
       "        text-align: right;\n",
       "    }\n",
       "</style>\n",
       "<table border=\"1\" class=\"dataframe\">\n",
       "  <thead>\n",
       "    <tr style=\"text-align: right;\">\n",
       "      <th></th>\n",
       "      <th>Pick_locat</th>\n",
       "      <th>locationid</th>\n",
       "    </tr>\n",
       "  </thead>\n",
       "  <tbody>\n",
       "    <tr>\n",
       "      <th>0</th>\n",
       "      <td>[40.69285268505702, -73.72533553048825]</td>\n",
       "      <td>NY 237</td>\n",
       "    </tr>\n",
       "    <tr>\n",
       "      <th>1</th>\n",
       "      <td>[40.65374004452198, -73.74707492242896]</td>\n",
       "      <td>NY236</td>\n",
       "    </tr>\n",
       "    <tr>\n",
       "      <th>2</th>\n",
       "      <td>[40.74698543007731, -73.79163530001794]</td>\n",
       "      <td>NY 186</td>\n",
       "    </tr>\n",
       "    <tr>\n",
       "      <th>3</th>\n",
       "      <td>[40.754544522261114, -73.80572351878894]</td>\n",
       "      <td>NY 161</td>\n",
       "    </tr>\n",
       "    <tr>\n",
       "      <th>4</th>\n",
       "      <td>[40.67003757418262, -73.77273106839746]</td>\n",
       "      <td>NY 142</td>\n",
       "    </tr>\n",
       "  </tbody>\n",
       "</table>\n",
       "</div>"
      ],
      "text/plain": [
       "                                 Pick_locat locationid\n",
       "0   [40.69285268505702, -73.72533553048825]     NY 237\n",
       "1   [40.65374004452198, -73.74707492242896]      NY236\n",
       "2   [40.74698543007731, -73.79163530001794]     NY 186\n",
       "3  [40.754544522261114, -73.80572351878894]     NY 161\n",
       "4   [40.67003757418262, -73.77273106839746]     NY 142"
      ]
     },
     "execution_count": 96,
     "metadata": {},
     "output_type": "execute_result"
    }
   ],
   "source": [
    "d = { 'Pick_locat' : [[40.69285268505702, -73.72533553048825],[40.65374004452198, -73.74707492242896],[40.74698543007731, -73.79163530001794], [40.754544522261114, -73.80572351878894], [40.67003757418262, -73.77273106839746]],\n",
    "        'locationid' : ['NY 237', 'NY236', 'NY 186', 'NY 161', 'NY 142']}\n",
    "df1 = pd.DataFrame(d)\n",
    "df1"
   ]
  },
  {
   "cell_type": "code",
   "execution_count": 97,
   "metadata": {},
   "outputs": [
    {
     "data": {
      "text/html": [
       "<div style=\"width:100%;\"><div style=\"position:relative;width:100%;height:0;padding-bottom:60%;\"><span style=\"color:#565656\">Make this Notebook Trusted to load map: File -> Trust Notebook</span><iframe src=\"about:blank\" style=\"position:absolute;width:100%;height:100%;left:0;top:0;border:none !important;\" data-html=%3C%21DOCTYPE%20html%3E%0A%3Chead%3E%20%20%20%20%0A%20%20%20%20%3Cmeta%20http-equiv%3D%22content-type%22%20content%3D%22text/html%3B%20charset%3DUTF-8%22%20/%3E%0A%20%20%20%20%0A%20%20%20%20%20%20%20%20%3Cscript%3E%0A%20%20%20%20%20%20%20%20%20%20%20%20L_NO_TOUCH%20%3D%20false%3B%0A%20%20%20%20%20%20%20%20%20%20%20%20L_DISABLE_3D%20%3D%20false%3B%0A%20%20%20%20%20%20%20%20%3C/script%3E%0A%20%20%20%20%0A%20%20%20%20%3Cstyle%3Ehtml%2C%20body%20%7Bwidth%3A%20100%25%3Bheight%3A%20100%25%3Bmargin%3A%200%3Bpadding%3A%200%3B%7D%3C/style%3E%0A%20%20%20%20%3Cstyle%3E%23map%20%7Bposition%3Aabsolute%3Btop%3A0%3Bbottom%3A0%3Bright%3A0%3Bleft%3A0%3B%7D%3C/style%3E%0A%20%20%20%20%3Cscript%20src%3D%22https%3A//cdn.jsdelivr.net/npm/leaflet%401.6.0/dist/leaflet.js%22%3E%3C/script%3E%0A%20%20%20%20%3Cscript%20src%3D%22https%3A//code.jquery.com/jquery-1.12.4.min.js%22%3E%3C/script%3E%0A%20%20%20%20%3Cscript%20src%3D%22https%3A//maxcdn.bootstrapcdn.com/bootstrap/3.2.0/js/bootstrap.min.js%22%3E%3C/script%3E%0A%20%20%20%20%3Cscript%20src%3D%22https%3A//cdnjs.cloudflare.com/ajax/libs/Leaflet.awesome-markers/2.0.2/leaflet.awesome-markers.js%22%3E%3C/script%3E%0A%20%20%20%20%3Clink%20rel%3D%22stylesheet%22%20href%3D%22https%3A//cdn.jsdelivr.net/npm/leaflet%401.6.0/dist/leaflet.css%22/%3E%0A%20%20%20%20%3Clink%20rel%3D%22stylesheet%22%20href%3D%22https%3A//maxcdn.bootstrapcdn.com/bootstrap/3.2.0/css/bootstrap.min.css%22/%3E%0A%20%20%20%20%3Clink%20rel%3D%22stylesheet%22%20href%3D%22https%3A//maxcdn.bootstrapcdn.com/bootstrap/3.2.0/css/bootstrap-theme.min.css%22/%3E%0A%20%20%20%20%3Clink%20rel%3D%22stylesheet%22%20href%3D%22https%3A//maxcdn.bootstrapcdn.com/font-awesome/4.6.3/css/font-awesome.min.css%22/%3E%0A%20%20%20%20%3Clink%20rel%3D%22stylesheet%22%20href%3D%22https%3A//cdnjs.cloudflare.com/ajax/libs/Leaflet.awesome-markers/2.0.2/leaflet.awesome-markers.css%22/%3E%0A%20%20%20%20%3Clink%20rel%3D%22stylesheet%22%20href%3D%22https%3A//cdn.jsdelivr.net/gh/python-visualization/folium/folium/templates/leaflet.awesome.rotate.min.css%22/%3E%0A%20%20%20%20%0A%20%20%20%20%20%20%20%20%20%20%20%20%3Cmeta%20name%3D%22viewport%22%20content%3D%22width%3Ddevice-width%2C%0A%20%20%20%20%20%20%20%20%20%20%20%20%20%20%20%20initial-scale%3D1.0%2C%20maximum-scale%3D1.0%2C%20user-scalable%3Dno%22%20/%3E%0A%20%20%20%20%20%20%20%20%20%20%20%20%3Cstyle%3E%0A%20%20%20%20%20%20%20%20%20%20%20%20%20%20%20%20%23map_b1f8f5c44659497e98672b6b02e90130%20%7B%0A%20%20%20%20%20%20%20%20%20%20%20%20%20%20%20%20%20%20%20%20position%3A%20relative%3B%0A%20%20%20%20%20%20%20%20%20%20%20%20%20%20%20%20%20%20%20%20width%3A%20100.0%25%3B%0A%20%20%20%20%20%20%20%20%20%20%20%20%20%20%20%20%20%20%20%20height%3A%20100.0%25%3B%0A%20%20%20%20%20%20%20%20%20%20%20%20%20%20%20%20%20%20%20%20left%3A%200.0%25%3B%0A%20%20%20%20%20%20%20%20%20%20%20%20%20%20%20%20%20%20%20%20top%3A%200.0%25%3B%0A%20%20%20%20%20%20%20%20%20%20%20%20%20%20%20%20%7D%0A%20%20%20%20%20%20%20%20%20%20%20%20%3C/style%3E%0A%20%20%20%20%20%20%20%20%0A%3C/head%3E%0A%3Cbody%3E%20%20%20%20%0A%20%20%20%20%0A%20%20%20%20%20%20%20%20%20%20%20%20%3Cdiv%20class%3D%22folium-map%22%20id%3D%22map_b1f8f5c44659497e98672b6b02e90130%22%20%3E%3C/div%3E%0A%20%20%20%20%20%20%20%20%0A%3C/body%3E%0A%3Cscript%3E%20%20%20%20%0A%20%20%20%20%0A%20%20%20%20%20%20%20%20%20%20%20%20var%20map_b1f8f5c44659497e98672b6b02e90130%20%3D%20L.map%28%0A%20%20%20%20%20%20%20%20%20%20%20%20%20%20%20%20%22map_b1f8f5c44659497e98672b6b02e90130%22%2C%0A%20%20%20%20%20%20%20%20%20%20%20%20%20%20%20%20%7B%0A%20%20%20%20%20%20%20%20%20%20%20%20%20%20%20%20%20%20%20%20center%3A%20%5B40.7128%2C%20-74.006%5D%2C%0A%20%20%20%20%20%20%20%20%20%20%20%20%20%20%20%20%20%20%20%20crs%3A%20L.CRS.EPSG3857%2C%0A%20%20%20%20%20%20%20%20%20%20%20%20%20%20%20%20%20%20%20%20zoom%3A%208%2C%0A%20%20%20%20%20%20%20%20%20%20%20%20%20%20%20%20%20%20%20%20zoomControl%3A%20true%2C%0A%20%20%20%20%20%20%20%20%20%20%20%20%20%20%20%20%20%20%20%20preferCanvas%3A%20false%2C%0A%20%20%20%20%20%20%20%20%20%20%20%20%20%20%20%20%7D%0A%20%20%20%20%20%20%20%20%20%20%20%20%29%3B%0A%0A%20%20%20%20%20%20%20%20%20%20%20%20%0A%0A%20%20%20%20%20%20%20%20%0A%20%20%20%20%0A%20%20%20%20%20%20%20%20%20%20%20%20var%20tile_layer_8725823b0700444eb29c27351e1694a1%20%3D%20L.tileLayer%28%0A%20%20%20%20%20%20%20%20%20%20%20%20%20%20%20%20%22https%3A//%7Bs%7D.tile.openstreetmap.org/%7Bz%7D/%7Bx%7D/%7By%7D.png%22%2C%0A%20%20%20%20%20%20%20%20%20%20%20%20%20%20%20%20%7B%22attribution%22%3A%20%22Data%20by%20%5Cu0026copy%3B%20%5Cu003ca%20href%3D%5C%22http%3A//openstreetmap.org%5C%22%5Cu003eOpenStreetMap%5Cu003c/a%5Cu003e%2C%20under%20%5Cu003ca%20href%3D%5C%22http%3A//www.openstreetmap.org/copyright%5C%22%5Cu003eODbL%5Cu003c/a%5Cu003e.%22%2C%20%22detectRetina%22%3A%20false%2C%20%22maxNativeZoom%22%3A%2018%2C%20%22maxZoom%22%3A%2018%2C%20%22minZoom%22%3A%200%2C%20%22noWrap%22%3A%20false%2C%20%22opacity%22%3A%201%2C%20%22subdomains%22%3A%20%22abc%22%2C%20%22tms%22%3A%20false%7D%0A%20%20%20%20%20%20%20%20%20%20%20%20%29.addTo%28map_b1f8f5c44659497e98672b6b02e90130%29%3B%0A%20%20%20%20%20%20%20%20%0A%20%20%20%20%0A%20%20%20%20%20%20%20%20%20%20%20%20var%20marker_034f9e2fd5074d1e8576951e18593682%20%3D%20L.marker%28%0A%20%20%20%20%20%20%20%20%20%20%20%20%20%20%20%20%5B40.69285268505702%2C%20-73.72533553048825%5D%2C%0A%20%20%20%20%20%20%20%20%20%20%20%20%20%20%20%20%7B%7D%0A%20%20%20%20%20%20%20%20%20%20%20%20%29.addTo%28map_b1f8f5c44659497e98672b6b02e90130%29%3B%0A%20%20%20%20%20%20%20%20%0A%20%20%20%20%0A%20%20%20%20%20%20%20%20var%20popup_0d5646e87c5d4f7ca5a4476e5256759b%20%3D%20L.popup%28%7B%22maxWidth%22%3A%20%22100%25%22%7D%29%3B%0A%0A%20%20%20%20%20%20%20%20%0A%20%20%20%20%20%20%20%20%20%20%20%20var%20html_c60a45734aa04097afc1ac153aa62a78%20%3D%20%24%28%60%3Cdiv%20id%3D%22html_c60a45734aa04097afc1ac153aa62a78%22%20style%3D%22width%3A%20100.0%25%3B%20height%3A%20100.0%25%3B%22%3ENY%20237%3C/div%3E%60%29%5B0%5D%3B%0A%20%20%20%20%20%20%20%20%20%20%20%20popup_0d5646e87c5d4f7ca5a4476e5256759b.setContent%28html_c60a45734aa04097afc1ac153aa62a78%29%3B%0A%20%20%20%20%20%20%20%20%0A%0A%20%20%20%20%20%20%20%20marker_034f9e2fd5074d1e8576951e18593682.bindPopup%28popup_0d5646e87c5d4f7ca5a4476e5256759b%29%0A%20%20%20%20%20%20%20%20%3B%0A%0A%20%20%20%20%20%20%20%20%0A%20%20%20%20%0A%20%20%20%20%0A%20%20%20%20%20%20%20%20%20%20%20%20marker_034f9e2fd5074d1e8576951e18593682.bindTooltip%28%0A%20%20%20%20%20%20%20%20%20%20%20%20%20%20%20%20%60%3Cdiv%3E%0A%20%20%20%20%20%20%20%20%20%20%20%20%20%20%20%20%20%20%20%20%20PickUP%20Location%0A%20%20%20%20%20%20%20%20%20%20%20%20%20%20%20%20%20%3C/div%3E%60%2C%0A%20%20%20%20%20%20%20%20%20%20%20%20%20%20%20%20%7B%22sticky%22%3A%20true%7D%0A%20%20%20%20%20%20%20%20%20%20%20%20%29%3B%0A%20%20%20%20%20%20%20%20%0A%20%20%20%20%0A%20%20%20%20%20%20%20%20%20%20%20%20var%20marker_d88cf006c39f458ba8a8812c4d6ec400%20%3D%20L.marker%28%0A%20%20%20%20%20%20%20%20%20%20%20%20%20%20%20%20%5B40.65374004452198%2C%20-73.74707492242896%5D%2C%0A%20%20%20%20%20%20%20%20%20%20%20%20%20%20%20%20%7B%7D%0A%20%20%20%20%20%20%20%20%20%20%20%20%29.addTo%28map_b1f8f5c44659497e98672b6b02e90130%29%3B%0A%20%20%20%20%20%20%20%20%0A%20%20%20%20%0A%20%20%20%20%20%20%20%20var%20popup_f3bd6cb7d1e94ed5bf70ca6ae1b58536%20%3D%20L.popup%28%7B%22maxWidth%22%3A%20%22100%25%22%7D%29%3B%0A%0A%20%20%20%20%20%20%20%20%0A%20%20%20%20%20%20%20%20%20%20%20%20var%20html_bf99dd37434542eb94e3d312995cb72c%20%3D%20%24%28%60%3Cdiv%20id%3D%22html_bf99dd37434542eb94e3d312995cb72c%22%20style%3D%22width%3A%20100.0%25%3B%20height%3A%20100.0%25%3B%22%3ENY236%3C/div%3E%60%29%5B0%5D%3B%0A%20%20%20%20%20%20%20%20%20%20%20%20popup_f3bd6cb7d1e94ed5bf70ca6ae1b58536.setContent%28html_bf99dd37434542eb94e3d312995cb72c%29%3B%0A%20%20%20%20%20%20%20%20%0A%0A%20%20%20%20%20%20%20%20marker_d88cf006c39f458ba8a8812c4d6ec400.bindPopup%28popup_f3bd6cb7d1e94ed5bf70ca6ae1b58536%29%0A%20%20%20%20%20%20%20%20%3B%0A%0A%20%20%20%20%20%20%20%20%0A%20%20%20%20%0A%20%20%20%20%0A%20%20%20%20%20%20%20%20%20%20%20%20marker_d88cf006c39f458ba8a8812c4d6ec400.bindTooltip%28%0A%20%20%20%20%20%20%20%20%20%20%20%20%20%20%20%20%60%3Cdiv%3E%0A%20%20%20%20%20%20%20%20%20%20%20%20%20%20%20%20%20%20%20%20%20PickUP%20Location%0A%20%20%20%20%20%20%20%20%20%20%20%20%20%20%20%20%20%3C/div%3E%60%2C%0A%20%20%20%20%20%20%20%20%20%20%20%20%20%20%20%20%7B%22sticky%22%3A%20true%7D%0A%20%20%20%20%20%20%20%20%20%20%20%20%29%3B%0A%20%20%20%20%20%20%20%20%0A%20%20%20%20%0A%20%20%20%20%20%20%20%20%20%20%20%20var%20marker_cb21c098db6e4495a2e382178ffaad8e%20%3D%20L.marker%28%0A%20%20%20%20%20%20%20%20%20%20%20%20%20%20%20%20%5B40.74698543007731%2C%20-73.79163530001794%5D%2C%0A%20%20%20%20%20%20%20%20%20%20%20%20%20%20%20%20%7B%7D%0A%20%20%20%20%20%20%20%20%20%20%20%20%29.addTo%28map_b1f8f5c44659497e98672b6b02e90130%29%3B%0A%20%20%20%20%20%20%20%20%0A%20%20%20%20%0A%20%20%20%20%20%20%20%20var%20popup_381cfdcce70445b8ade323a2ce656209%20%3D%20L.popup%28%7B%22maxWidth%22%3A%20%22100%25%22%7D%29%3B%0A%0A%20%20%20%20%20%20%20%20%0A%20%20%20%20%20%20%20%20%20%20%20%20var%20html_ea5bb2ce25cc4ae2a76684deafa9fe25%20%3D%20%24%28%60%3Cdiv%20id%3D%22html_ea5bb2ce25cc4ae2a76684deafa9fe25%22%20style%3D%22width%3A%20100.0%25%3B%20height%3A%20100.0%25%3B%22%3ENY%20186%3C/div%3E%60%29%5B0%5D%3B%0A%20%20%20%20%20%20%20%20%20%20%20%20popup_381cfdcce70445b8ade323a2ce656209.setContent%28html_ea5bb2ce25cc4ae2a76684deafa9fe25%29%3B%0A%20%20%20%20%20%20%20%20%0A%0A%20%20%20%20%20%20%20%20marker_cb21c098db6e4495a2e382178ffaad8e.bindPopup%28popup_381cfdcce70445b8ade323a2ce656209%29%0A%20%20%20%20%20%20%20%20%3B%0A%0A%20%20%20%20%20%20%20%20%0A%20%20%20%20%0A%20%20%20%20%0A%20%20%20%20%20%20%20%20%20%20%20%20marker_cb21c098db6e4495a2e382178ffaad8e.bindTooltip%28%0A%20%20%20%20%20%20%20%20%20%20%20%20%20%20%20%20%60%3Cdiv%3E%0A%20%20%20%20%20%20%20%20%20%20%20%20%20%20%20%20%20%20%20%20%20PickUP%20Location%0A%20%20%20%20%20%20%20%20%20%20%20%20%20%20%20%20%20%3C/div%3E%60%2C%0A%20%20%20%20%20%20%20%20%20%20%20%20%20%20%20%20%7B%22sticky%22%3A%20true%7D%0A%20%20%20%20%20%20%20%20%20%20%20%20%29%3B%0A%20%20%20%20%20%20%20%20%0A%20%20%20%20%0A%20%20%20%20%20%20%20%20%20%20%20%20var%20marker_b0caf6ba914849c0b7766fdeca64dbcd%20%3D%20L.marker%28%0A%20%20%20%20%20%20%20%20%20%20%20%20%20%20%20%20%5B40.754544522261114%2C%20-73.80572351878894%5D%2C%0A%20%20%20%20%20%20%20%20%20%20%20%20%20%20%20%20%7B%7D%0A%20%20%20%20%20%20%20%20%20%20%20%20%29.addTo%28map_b1f8f5c44659497e98672b6b02e90130%29%3B%0A%20%20%20%20%20%20%20%20%0A%20%20%20%20%0A%20%20%20%20%20%20%20%20var%20popup_19dba24f7d364278ad6eb565430c646c%20%3D%20L.popup%28%7B%22maxWidth%22%3A%20%22100%25%22%7D%29%3B%0A%0A%20%20%20%20%20%20%20%20%0A%20%20%20%20%20%20%20%20%20%20%20%20var%20html_e2d71e859ab240adbea0bbd201f9b65e%20%3D%20%24%28%60%3Cdiv%20id%3D%22html_e2d71e859ab240adbea0bbd201f9b65e%22%20style%3D%22width%3A%20100.0%25%3B%20height%3A%20100.0%25%3B%22%3ENY%20161%3C/div%3E%60%29%5B0%5D%3B%0A%20%20%20%20%20%20%20%20%20%20%20%20popup_19dba24f7d364278ad6eb565430c646c.setContent%28html_e2d71e859ab240adbea0bbd201f9b65e%29%3B%0A%20%20%20%20%20%20%20%20%0A%0A%20%20%20%20%20%20%20%20marker_b0caf6ba914849c0b7766fdeca64dbcd.bindPopup%28popup_19dba24f7d364278ad6eb565430c646c%29%0A%20%20%20%20%20%20%20%20%3B%0A%0A%20%20%20%20%20%20%20%20%0A%20%20%20%20%0A%20%20%20%20%0A%20%20%20%20%20%20%20%20%20%20%20%20marker_b0caf6ba914849c0b7766fdeca64dbcd.bindTooltip%28%0A%20%20%20%20%20%20%20%20%20%20%20%20%20%20%20%20%60%3Cdiv%3E%0A%20%20%20%20%20%20%20%20%20%20%20%20%20%20%20%20%20%20%20%20%20PickUP%20Location%0A%20%20%20%20%20%20%20%20%20%20%20%20%20%20%20%20%20%3C/div%3E%60%2C%0A%20%20%20%20%20%20%20%20%20%20%20%20%20%20%20%20%7B%22sticky%22%3A%20true%7D%0A%20%20%20%20%20%20%20%20%20%20%20%20%29%3B%0A%20%20%20%20%20%20%20%20%0A%20%20%20%20%0A%20%20%20%20%20%20%20%20%20%20%20%20var%20marker_2746f695e30b4a7ca31dbf7f60e5424f%20%3D%20L.marker%28%0A%20%20%20%20%20%20%20%20%20%20%20%20%20%20%20%20%5B40.67003757418262%2C%20-73.77273106839746%5D%2C%0A%20%20%20%20%20%20%20%20%20%20%20%20%20%20%20%20%7B%7D%0A%20%20%20%20%20%20%20%20%20%20%20%20%29.addTo%28map_b1f8f5c44659497e98672b6b02e90130%29%3B%0A%20%20%20%20%20%20%20%20%0A%20%20%20%20%0A%20%20%20%20%20%20%20%20var%20popup_369e7fce00ef4b73995a71f74d9fdc74%20%3D%20L.popup%28%7B%22maxWidth%22%3A%20%22100%25%22%7D%29%3B%0A%0A%20%20%20%20%20%20%20%20%0A%20%20%20%20%20%20%20%20%20%20%20%20var%20html_c5febb94c48745368407c10a4f5ad8c5%20%3D%20%24%28%60%3Cdiv%20id%3D%22html_c5febb94c48745368407c10a4f5ad8c5%22%20style%3D%22width%3A%20100.0%25%3B%20height%3A%20100.0%25%3B%22%3ENY%20142%3C/div%3E%60%29%5B0%5D%3B%0A%20%20%20%20%20%20%20%20%20%20%20%20popup_369e7fce00ef4b73995a71f74d9fdc74.setContent%28html_c5febb94c48745368407c10a4f5ad8c5%29%3B%0A%20%20%20%20%20%20%20%20%0A%0A%20%20%20%20%20%20%20%20marker_2746f695e30b4a7ca31dbf7f60e5424f.bindPopup%28popup_369e7fce00ef4b73995a71f74d9fdc74%29%0A%20%20%20%20%20%20%20%20%3B%0A%0A%20%20%20%20%20%20%20%20%0A%20%20%20%20%0A%20%20%20%20%0A%20%20%20%20%20%20%20%20%20%20%20%20marker_2746f695e30b4a7ca31dbf7f60e5424f.bindTooltip%28%0A%20%20%20%20%20%20%20%20%20%20%20%20%20%20%20%20%60%3Cdiv%3E%0A%20%20%20%20%20%20%20%20%20%20%20%20%20%20%20%20%20%20%20%20%20PickUP%20Location%0A%20%20%20%20%20%20%20%20%20%20%20%20%20%20%20%20%20%3C/div%3E%60%2C%0A%20%20%20%20%20%20%20%20%20%20%20%20%20%20%20%20%7B%22sticky%22%3A%20true%7D%0A%20%20%20%20%20%20%20%20%20%20%20%20%29%3B%0A%20%20%20%20%20%20%20%20%0A%3C/script%3E onload=\"this.contentDocument.open();this.contentDocument.write(    decodeURIComponent(this.getAttribute('data-html')));this.contentDocument.close();\" allowfullscreen webkitallowfullscreen mozallowfullscreen></iframe></div></div>"
      ],
      "text/plain": [
       "<folium.folium.Map at 0x206c35c3e20>"
      ]
     },
     "execution_count": 97,
     "metadata": {},
     "output_type": "execute_result"
    }
   ],
   "source": [
    "# pickup location\n",
    "# #40.7128° N, 74.0060° W - Newyork location\n",
    "import folium\n",
    "center = [40.7128, -74.0060]\n",
    "map_Newyork = folium.Map(location=center, zoom_start=8)\n",
    "\n",
    "for i,r in df1.iterrows():\n",
    "    folium.Marker(location=r['Pick_locat'],\n",
    "                  popup = r['locationid'],\n",
    "                  tooltip='PickUP Location').add_to(map_Newyork)\n",
    "#display map\n",
    "map_Newyork"
   ]
  },
  {
   "cell_type": "markdown",
   "metadata": {},
   "source": [
    "### __Dropping locations__"
   ]
  },
  {
   "cell_type": "code",
   "execution_count": 98,
   "metadata": {},
   "outputs": [
    {
     "data": {
      "text/plain": [
       "NY 236    28300\n",
       "NY 237    26527\n",
       "NY 141    17821\n",
       "NY 170    17490\n",
       "NY 161    17382\n",
       "Name: Dropoff_locationId, dtype: int64"
      ]
     },
     "execution_count": 98,
     "metadata": {},
     "output_type": "execute_result"
    }
   ],
   "source": [
    "i_data['Dropoff_locationId'].value_counts().nlargest(5)"
   ]
  },
  {
   "cell_type": "code",
   "execution_count": 99,
   "metadata": {},
   "outputs": [
    {
     "data": {
      "text/html": [
       "<div>\n",
       "<style scoped>\n",
       "    .dataframe tbody tr th:only-of-type {\n",
       "        vertical-align: middle;\n",
       "    }\n",
       "\n",
       "    .dataframe tbody tr th {\n",
       "        vertical-align: top;\n",
       "    }\n",
       "\n",
       "    .dataframe thead th {\n",
       "        text-align: right;\n",
       "    }\n",
       "</style>\n",
       "<table border=\"1\" class=\"dataframe\">\n",
       "  <thead>\n",
       "    <tr style=\"text-align: right;\">\n",
       "      <th></th>\n",
       "      <th>Dropoff_locat</th>\n",
       "      <th>locationid</th>\n",
       "    </tr>\n",
       "  </thead>\n",
       "  <tbody>\n",
       "    <tr>\n",
       "      <th>0</th>\n",
       "      <td>[40.76272801766687, -73.72059648349116]</td>\n",
       "      <td>NY 236</td>\n",
       "    </tr>\n",
       "    <tr>\n",
       "      <th>1</th>\n",
       "      <td>[40.69285268505702, -73.72533553048825]</td>\n",
       "      <td>NY 237</td>\n",
       "    </tr>\n",
       "    <tr>\n",
       "      <th>2</th>\n",
       "      <td>[40.67078003458249, -73.7630699406206]</td>\n",
       "      <td>NY 141</td>\n",
       "    </tr>\n",
       "    <tr>\n",
       "      <th>3</th>\n",
       "      <td>[40.68933569229372, -73.72398491932245]</td>\n",
       "      <td>NY 239</td>\n",
       "    </tr>\n",
       "    <tr>\n",
       "      <th>4</th>\n",
       "      <td>[40.754544522261114, -73.80572351878894]</td>\n",
       "      <td>NY 161</td>\n",
       "    </tr>\n",
       "  </tbody>\n",
       "</table>\n",
       "</div>"
      ],
      "text/plain": [
       "                              Dropoff_locat locationid\n",
       "0   [40.76272801766687, -73.72059648349116]     NY 236\n",
       "1   [40.69285268505702, -73.72533553048825]     NY 237\n",
       "2    [40.67078003458249, -73.7630699406206]     NY 141\n",
       "3   [40.68933569229372, -73.72398491932245]     NY 239\n",
       "4  [40.754544522261114, -73.80572351878894]     NY 161"
      ]
     },
     "execution_count": 99,
     "metadata": {},
     "output_type": "execute_result"
    }
   ],
   "source": [
    "d2 = { 'Dropoff_locat' : [[40.76272801766687, -73.72059648349116],[40.69285268505702, -73.72533553048825],[40.67078003458249, -73.7630699406206], [40.68933569229372, -73.72398491932245], [40.754544522261114, -73.80572351878894]],\n",
    "        'locationid' : ['NY 236', 'NY 237', 'NY 141', 'NY 239', 'NY 161']}\n",
    "df2 = pd.DataFrame(d2)\n",
    "df2"
   ]
  },
  {
   "cell_type": "code",
   "execution_count": 100,
   "metadata": {},
   "outputs": [
    {
     "data": {
      "text/html": [
       "<div style=\"width:100%;\"><div style=\"position:relative;width:100%;height:0;padding-bottom:60%;\"><span style=\"color:#565656\">Make this Notebook Trusted to load map: File -> Trust Notebook</span><iframe src=\"about:blank\" style=\"position:absolute;width:100%;height:100%;left:0;top:0;border:none !important;\" data-html=%3C%21DOCTYPE%20html%3E%0A%3Chead%3E%20%20%20%20%0A%20%20%20%20%3Cmeta%20http-equiv%3D%22content-type%22%20content%3D%22text/html%3B%20charset%3DUTF-8%22%20/%3E%0A%20%20%20%20%0A%20%20%20%20%20%20%20%20%3Cscript%3E%0A%20%20%20%20%20%20%20%20%20%20%20%20L_NO_TOUCH%20%3D%20false%3B%0A%20%20%20%20%20%20%20%20%20%20%20%20L_DISABLE_3D%20%3D%20false%3B%0A%20%20%20%20%20%20%20%20%3C/script%3E%0A%20%20%20%20%0A%20%20%20%20%3Cstyle%3Ehtml%2C%20body%20%7Bwidth%3A%20100%25%3Bheight%3A%20100%25%3Bmargin%3A%200%3Bpadding%3A%200%3B%7D%3C/style%3E%0A%20%20%20%20%3Cstyle%3E%23map%20%7Bposition%3Aabsolute%3Btop%3A0%3Bbottom%3A0%3Bright%3A0%3Bleft%3A0%3B%7D%3C/style%3E%0A%20%20%20%20%3Cscript%20src%3D%22https%3A//cdn.jsdelivr.net/npm/leaflet%401.6.0/dist/leaflet.js%22%3E%3C/script%3E%0A%20%20%20%20%3Cscript%20src%3D%22https%3A//code.jquery.com/jquery-1.12.4.min.js%22%3E%3C/script%3E%0A%20%20%20%20%3Cscript%20src%3D%22https%3A//maxcdn.bootstrapcdn.com/bootstrap/3.2.0/js/bootstrap.min.js%22%3E%3C/script%3E%0A%20%20%20%20%3Cscript%20src%3D%22https%3A//cdnjs.cloudflare.com/ajax/libs/Leaflet.awesome-markers/2.0.2/leaflet.awesome-markers.js%22%3E%3C/script%3E%0A%20%20%20%20%3Clink%20rel%3D%22stylesheet%22%20href%3D%22https%3A//cdn.jsdelivr.net/npm/leaflet%401.6.0/dist/leaflet.css%22/%3E%0A%20%20%20%20%3Clink%20rel%3D%22stylesheet%22%20href%3D%22https%3A//maxcdn.bootstrapcdn.com/bootstrap/3.2.0/css/bootstrap.min.css%22/%3E%0A%20%20%20%20%3Clink%20rel%3D%22stylesheet%22%20href%3D%22https%3A//maxcdn.bootstrapcdn.com/bootstrap/3.2.0/css/bootstrap-theme.min.css%22/%3E%0A%20%20%20%20%3Clink%20rel%3D%22stylesheet%22%20href%3D%22https%3A//maxcdn.bootstrapcdn.com/font-awesome/4.6.3/css/font-awesome.min.css%22/%3E%0A%20%20%20%20%3Clink%20rel%3D%22stylesheet%22%20href%3D%22https%3A//cdnjs.cloudflare.com/ajax/libs/Leaflet.awesome-markers/2.0.2/leaflet.awesome-markers.css%22/%3E%0A%20%20%20%20%3Clink%20rel%3D%22stylesheet%22%20href%3D%22https%3A//cdn.jsdelivr.net/gh/python-visualization/folium/folium/templates/leaflet.awesome.rotate.min.css%22/%3E%0A%20%20%20%20%0A%20%20%20%20%20%20%20%20%20%20%20%20%3Cmeta%20name%3D%22viewport%22%20content%3D%22width%3Ddevice-width%2C%0A%20%20%20%20%20%20%20%20%20%20%20%20%20%20%20%20initial-scale%3D1.0%2C%20maximum-scale%3D1.0%2C%20user-scalable%3Dno%22%20/%3E%0A%20%20%20%20%20%20%20%20%20%20%20%20%3Cstyle%3E%0A%20%20%20%20%20%20%20%20%20%20%20%20%20%20%20%20%23map_fe8b9b08397644fe9ccac09380ee8242%20%7B%0A%20%20%20%20%20%20%20%20%20%20%20%20%20%20%20%20%20%20%20%20position%3A%20relative%3B%0A%20%20%20%20%20%20%20%20%20%20%20%20%20%20%20%20%20%20%20%20width%3A%20100.0%25%3B%0A%20%20%20%20%20%20%20%20%20%20%20%20%20%20%20%20%20%20%20%20height%3A%20100.0%25%3B%0A%20%20%20%20%20%20%20%20%20%20%20%20%20%20%20%20%20%20%20%20left%3A%200.0%25%3B%0A%20%20%20%20%20%20%20%20%20%20%20%20%20%20%20%20%20%20%20%20top%3A%200.0%25%3B%0A%20%20%20%20%20%20%20%20%20%20%20%20%20%20%20%20%7D%0A%20%20%20%20%20%20%20%20%20%20%20%20%3C/style%3E%0A%20%20%20%20%20%20%20%20%0A%3C/head%3E%0A%3Cbody%3E%20%20%20%20%0A%20%20%20%20%0A%20%20%20%20%20%20%20%20%20%20%20%20%3Cdiv%20class%3D%22folium-map%22%20id%3D%22map_fe8b9b08397644fe9ccac09380ee8242%22%20%3E%3C/div%3E%0A%20%20%20%20%20%20%20%20%0A%3C/body%3E%0A%3Cscript%3E%20%20%20%20%0A%20%20%20%20%0A%20%20%20%20%20%20%20%20%20%20%20%20var%20map_fe8b9b08397644fe9ccac09380ee8242%20%3D%20L.map%28%0A%20%20%20%20%20%20%20%20%20%20%20%20%20%20%20%20%22map_fe8b9b08397644fe9ccac09380ee8242%22%2C%0A%20%20%20%20%20%20%20%20%20%20%20%20%20%20%20%20%7B%0A%20%20%20%20%20%20%20%20%20%20%20%20%20%20%20%20%20%20%20%20center%3A%20%5B40.7128%2C%20-74.006%5D%2C%0A%20%20%20%20%20%20%20%20%20%20%20%20%20%20%20%20%20%20%20%20crs%3A%20L.CRS.EPSG3857%2C%0A%20%20%20%20%20%20%20%20%20%20%20%20%20%20%20%20%20%20%20%20zoom%3A%208%2C%0A%20%20%20%20%20%20%20%20%20%20%20%20%20%20%20%20%20%20%20%20zoomControl%3A%20true%2C%0A%20%20%20%20%20%20%20%20%20%20%20%20%20%20%20%20%20%20%20%20preferCanvas%3A%20false%2C%0A%20%20%20%20%20%20%20%20%20%20%20%20%20%20%20%20%7D%0A%20%20%20%20%20%20%20%20%20%20%20%20%29%3B%0A%0A%20%20%20%20%20%20%20%20%20%20%20%20%0A%0A%20%20%20%20%20%20%20%20%0A%20%20%20%20%0A%20%20%20%20%20%20%20%20%20%20%20%20var%20tile_layer_64dbc5e47dbd4aff870e2a982bd09cb2%20%3D%20L.tileLayer%28%0A%20%20%20%20%20%20%20%20%20%20%20%20%20%20%20%20%22https%3A//%7Bs%7D.tile.openstreetmap.org/%7Bz%7D/%7Bx%7D/%7By%7D.png%22%2C%0A%20%20%20%20%20%20%20%20%20%20%20%20%20%20%20%20%7B%22attribution%22%3A%20%22Data%20by%20%5Cu0026copy%3B%20%5Cu003ca%20href%3D%5C%22http%3A//openstreetmap.org%5C%22%5Cu003eOpenStreetMap%5Cu003c/a%5Cu003e%2C%20under%20%5Cu003ca%20href%3D%5C%22http%3A//www.openstreetmap.org/copyright%5C%22%5Cu003eODbL%5Cu003c/a%5Cu003e.%22%2C%20%22detectRetina%22%3A%20false%2C%20%22maxNativeZoom%22%3A%2018%2C%20%22maxZoom%22%3A%2018%2C%20%22minZoom%22%3A%200%2C%20%22noWrap%22%3A%20false%2C%20%22opacity%22%3A%201%2C%20%22subdomains%22%3A%20%22abc%22%2C%20%22tms%22%3A%20false%7D%0A%20%20%20%20%20%20%20%20%20%20%20%20%29.addTo%28map_fe8b9b08397644fe9ccac09380ee8242%29%3B%0A%20%20%20%20%20%20%20%20%0A%20%20%20%20%0A%20%20%20%20%20%20%20%20%20%20%20%20var%20marker_a7a667f08bfe494f9d20c7055040df0f%20%3D%20L.marker%28%0A%20%20%20%20%20%20%20%20%20%20%20%20%20%20%20%20%5B40.76272801766687%2C%20-73.72059648349116%5D%2C%0A%20%20%20%20%20%20%20%20%20%20%20%20%20%20%20%20%7B%7D%0A%20%20%20%20%20%20%20%20%20%20%20%20%29.addTo%28map_fe8b9b08397644fe9ccac09380ee8242%29%3B%0A%20%20%20%20%20%20%20%20%0A%20%20%20%20%0A%20%20%20%20%20%20%20%20var%20popup_e2a1122f8ef34beb96665df92b2714e0%20%3D%20L.popup%28%7B%22maxWidth%22%3A%20%22100%25%22%7D%29%3B%0A%0A%20%20%20%20%20%20%20%20%0A%20%20%20%20%20%20%20%20%20%20%20%20var%20html_5da2fd17fc3e4191b6dfa8a6fc5c3b80%20%3D%20%24%28%60%3Cdiv%20id%3D%22html_5da2fd17fc3e4191b6dfa8a6fc5c3b80%22%20style%3D%22width%3A%20100.0%25%3B%20height%3A%20100.0%25%3B%22%3ENY%20236%3C/div%3E%60%29%5B0%5D%3B%0A%20%20%20%20%20%20%20%20%20%20%20%20popup_e2a1122f8ef34beb96665df92b2714e0.setContent%28html_5da2fd17fc3e4191b6dfa8a6fc5c3b80%29%3B%0A%20%20%20%20%20%20%20%20%0A%0A%20%20%20%20%20%20%20%20marker_a7a667f08bfe494f9d20c7055040df0f.bindPopup%28popup_e2a1122f8ef34beb96665df92b2714e0%29%0A%20%20%20%20%20%20%20%20%3B%0A%0A%20%20%20%20%20%20%20%20%0A%20%20%20%20%0A%20%20%20%20%0A%20%20%20%20%20%20%20%20%20%20%20%20marker_a7a667f08bfe494f9d20c7055040df0f.bindTooltip%28%0A%20%20%20%20%20%20%20%20%20%20%20%20%20%20%20%20%60%3Cdiv%3E%0A%20%20%20%20%20%20%20%20%20%20%20%20%20%20%20%20%20%20%20%20%20Dropoff%20Location%0A%20%20%20%20%20%20%20%20%20%20%20%20%20%20%20%20%20%3C/div%3E%60%2C%0A%20%20%20%20%20%20%20%20%20%20%20%20%20%20%20%20%7B%22sticky%22%3A%20true%7D%0A%20%20%20%20%20%20%20%20%20%20%20%20%29%3B%0A%20%20%20%20%20%20%20%20%0A%20%20%20%20%0A%20%20%20%20%20%20%20%20%20%20%20%20var%20marker_ba08219a6168424f86516b0741907747%20%3D%20L.marker%28%0A%20%20%20%20%20%20%20%20%20%20%20%20%20%20%20%20%5B40.69285268505702%2C%20-73.72533553048825%5D%2C%0A%20%20%20%20%20%20%20%20%20%20%20%20%20%20%20%20%7B%7D%0A%20%20%20%20%20%20%20%20%20%20%20%20%29.addTo%28map_fe8b9b08397644fe9ccac09380ee8242%29%3B%0A%20%20%20%20%20%20%20%20%0A%20%20%20%20%0A%20%20%20%20%20%20%20%20var%20popup_60f54c516dee4b59bd2ccd6ab5f4bfc6%20%3D%20L.popup%28%7B%22maxWidth%22%3A%20%22100%25%22%7D%29%3B%0A%0A%20%20%20%20%20%20%20%20%0A%20%20%20%20%20%20%20%20%20%20%20%20var%20html_b7a8cec74ca141d990207ebe72d26c08%20%3D%20%24%28%60%3Cdiv%20id%3D%22html_b7a8cec74ca141d990207ebe72d26c08%22%20style%3D%22width%3A%20100.0%25%3B%20height%3A%20100.0%25%3B%22%3ENY%20237%3C/div%3E%60%29%5B0%5D%3B%0A%20%20%20%20%20%20%20%20%20%20%20%20popup_60f54c516dee4b59bd2ccd6ab5f4bfc6.setContent%28html_b7a8cec74ca141d990207ebe72d26c08%29%3B%0A%20%20%20%20%20%20%20%20%0A%0A%20%20%20%20%20%20%20%20marker_ba08219a6168424f86516b0741907747.bindPopup%28popup_60f54c516dee4b59bd2ccd6ab5f4bfc6%29%0A%20%20%20%20%20%20%20%20%3B%0A%0A%20%20%20%20%20%20%20%20%0A%20%20%20%20%0A%20%20%20%20%0A%20%20%20%20%20%20%20%20%20%20%20%20marker_ba08219a6168424f86516b0741907747.bindTooltip%28%0A%20%20%20%20%20%20%20%20%20%20%20%20%20%20%20%20%60%3Cdiv%3E%0A%20%20%20%20%20%20%20%20%20%20%20%20%20%20%20%20%20%20%20%20%20Dropoff%20Location%0A%20%20%20%20%20%20%20%20%20%20%20%20%20%20%20%20%20%3C/div%3E%60%2C%0A%20%20%20%20%20%20%20%20%20%20%20%20%20%20%20%20%7B%22sticky%22%3A%20true%7D%0A%20%20%20%20%20%20%20%20%20%20%20%20%29%3B%0A%20%20%20%20%20%20%20%20%0A%20%20%20%20%0A%20%20%20%20%20%20%20%20%20%20%20%20var%20marker_59dc79b44e644f5eb7596e98211a90c4%20%3D%20L.marker%28%0A%20%20%20%20%20%20%20%20%20%20%20%20%20%20%20%20%5B40.67078003458249%2C%20-73.7630699406206%5D%2C%0A%20%20%20%20%20%20%20%20%20%20%20%20%20%20%20%20%7B%7D%0A%20%20%20%20%20%20%20%20%20%20%20%20%29.addTo%28map_fe8b9b08397644fe9ccac09380ee8242%29%3B%0A%20%20%20%20%20%20%20%20%0A%20%20%20%20%0A%20%20%20%20%20%20%20%20var%20popup_79a8d0f5030a451297566d1626aba6bd%20%3D%20L.popup%28%7B%22maxWidth%22%3A%20%22100%25%22%7D%29%3B%0A%0A%20%20%20%20%20%20%20%20%0A%20%20%20%20%20%20%20%20%20%20%20%20var%20html_d2ac31f6f9ad4ff095de999cca60e591%20%3D%20%24%28%60%3Cdiv%20id%3D%22html_d2ac31f6f9ad4ff095de999cca60e591%22%20style%3D%22width%3A%20100.0%25%3B%20height%3A%20100.0%25%3B%22%3ENY%20141%3C/div%3E%60%29%5B0%5D%3B%0A%20%20%20%20%20%20%20%20%20%20%20%20popup_79a8d0f5030a451297566d1626aba6bd.setContent%28html_d2ac31f6f9ad4ff095de999cca60e591%29%3B%0A%20%20%20%20%20%20%20%20%0A%0A%20%20%20%20%20%20%20%20marker_59dc79b44e644f5eb7596e98211a90c4.bindPopup%28popup_79a8d0f5030a451297566d1626aba6bd%29%0A%20%20%20%20%20%20%20%20%3B%0A%0A%20%20%20%20%20%20%20%20%0A%20%20%20%20%0A%20%20%20%20%0A%20%20%20%20%20%20%20%20%20%20%20%20marker_59dc79b44e644f5eb7596e98211a90c4.bindTooltip%28%0A%20%20%20%20%20%20%20%20%20%20%20%20%20%20%20%20%60%3Cdiv%3E%0A%20%20%20%20%20%20%20%20%20%20%20%20%20%20%20%20%20%20%20%20%20Dropoff%20Location%0A%20%20%20%20%20%20%20%20%20%20%20%20%20%20%20%20%20%3C/div%3E%60%2C%0A%20%20%20%20%20%20%20%20%20%20%20%20%20%20%20%20%7B%22sticky%22%3A%20true%7D%0A%20%20%20%20%20%20%20%20%20%20%20%20%29%3B%0A%20%20%20%20%20%20%20%20%0A%20%20%20%20%0A%20%20%20%20%20%20%20%20%20%20%20%20var%20marker_e98aeded769747349973bf06a649d21f%20%3D%20L.marker%28%0A%20%20%20%20%20%20%20%20%20%20%20%20%20%20%20%20%5B40.68933569229372%2C%20-73.72398491932245%5D%2C%0A%20%20%20%20%20%20%20%20%20%20%20%20%20%20%20%20%7B%7D%0A%20%20%20%20%20%20%20%20%20%20%20%20%29.addTo%28map_fe8b9b08397644fe9ccac09380ee8242%29%3B%0A%20%20%20%20%20%20%20%20%0A%20%20%20%20%0A%20%20%20%20%20%20%20%20var%20popup_1e74516a15a244a0b218b94d0a4cb578%20%3D%20L.popup%28%7B%22maxWidth%22%3A%20%22100%25%22%7D%29%3B%0A%0A%20%20%20%20%20%20%20%20%0A%20%20%20%20%20%20%20%20%20%20%20%20var%20html_afd71b81da2f45d183bcec8509e25eae%20%3D%20%24%28%60%3Cdiv%20id%3D%22html_afd71b81da2f45d183bcec8509e25eae%22%20style%3D%22width%3A%20100.0%25%3B%20height%3A%20100.0%25%3B%22%3ENY%20239%3C/div%3E%60%29%5B0%5D%3B%0A%20%20%20%20%20%20%20%20%20%20%20%20popup_1e74516a15a244a0b218b94d0a4cb578.setContent%28html_afd71b81da2f45d183bcec8509e25eae%29%3B%0A%20%20%20%20%20%20%20%20%0A%0A%20%20%20%20%20%20%20%20marker_e98aeded769747349973bf06a649d21f.bindPopup%28popup_1e74516a15a244a0b218b94d0a4cb578%29%0A%20%20%20%20%20%20%20%20%3B%0A%0A%20%20%20%20%20%20%20%20%0A%20%20%20%20%0A%20%20%20%20%0A%20%20%20%20%20%20%20%20%20%20%20%20marker_e98aeded769747349973bf06a649d21f.bindTooltip%28%0A%20%20%20%20%20%20%20%20%20%20%20%20%20%20%20%20%60%3Cdiv%3E%0A%20%20%20%20%20%20%20%20%20%20%20%20%20%20%20%20%20%20%20%20%20Dropoff%20Location%0A%20%20%20%20%20%20%20%20%20%20%20%20%20%20%20%20%20%3C/div%3E%60%2C%0A%20%20%20%20%20%20%20%20%20%20%20%20%20%20%20%20%7B%22sticky%22%3A%20true%7D%0A%20%20%20%20%20%20%20%20%20%20%20%20%29%3B%0A%20%20%20%20%20%20%20%20%0A%20%20%20%20%0A%20%20%20%20%20%20%20%20%20%20%20%20var%20marker_8a60b5839c2146f1a37e810dffd8e8fc%20%3D%20L.marker%28%0A%20%20%20%20%20%20%20%20%20%20%20%20%20%20%20%20%5B40.754544522261114%2C%20-73.80572351878894%5D%2C%0A%20%20%20%20%20%20%20%20%20%20%20%20%20%20%20%20%7B%7D%0A%20%20%20%20%20%20%20%20%20%20%20%20%29.addTo%28map_fe8b9b08397644fe9ccac09380ee8242%29%3B%0A%20%20%20%20%20%20%20%20%0A%20%20%20%20%0A%20%20%20%20%20%20%20%20var%20popup_dbbc63d210b644a4a4bb88535077f5ba%20%3D%20L.popup%28%7B%22maxWidth%22%3A%20%22100%25%22%7D%29%3B%0A%0A%20%20%20%20%20%20%20%20%0A%20%20%20%20%20%20%20%20%20%20%20%20var%20html_aeed2e1427c541f89f4f1b15d4efc45f%20%3D%20%24%28%60%3Cdiv%20id%3D%22html_aeed2e1427c541f89f4f1b15d4efc45f%22%20style%3D%22width%3A%20100.0%25%3B%20height%3A%20100.0%25%3B%22%3ENY%20161%3C/div%3E%60%29%5B0%5D%3B%0A%20%20%20%20%20%20%20%20%20%20%20%20popup_dbbc63d210b644a4a4bb88535077f5ba.setContent%28html_aeed2e1427c541f89f4f1b15d4efc45f%29%3B%0A%20%20%20%20%20%20%20%20%0A%0A%20%20%20%20%20%20%20%20marker_8a60b5839c2146f1a37e810dffd8e8fc.bindPopup%28popup_dbbc63d210b644a4a4bb88535077f5ba%29%0A%20%20%20%20%20%20%20%20%3B%0A%0A%20%20%20%20%20%20%20%20%0A%20%20%20%20%0A%20%20%20%20%0A%20%20%20%20%20%20%20%20%20%20%20%20marker_8a60b5839c2146f1a37e810dffd8e8fc.bindTooltip%28%0A%20%20%20%20%20%20%20%20%20%20%20%20%20%20%20%20%60%3Cdiv%3E%0A%20%20%20%20%20%20%20%20%20%20%20%20%20%20%20%20%20%20%20%20%20Dropoff%20Location%0A%20%20%20%20%20%20%20%20%20%20%20%20%20%20%20%20%20%3C/div%3E%60%2C%0A%20%20%20%20%20%20%20%20%20%20%20%20%20%20%20%20%7B%22sticky%22%3A%20true%7D%0A%20%20%20%20%20%20%20%20%20%20%20%20%29%3B%0A%20%20%20%20%20%20%20%20%0A%3C/script%3E onload=\"this.contentDocument.open();this.contentDocument.write(    decodeURIComponent(this.getAttribute('data-html')));this.contentDocument.close();\" allowfullscreen webkitallowfullscreen mozallowfullscreen></iframe></div></div>"
      ],
      "text/plain": [
       "<folium.folium.Map at 0x206ca689fd0>"
      ]
     },
     "execution_count": 100,
     "metadata": {},
     "output_type": "execute_result"
    }
   ],
   "source": [
    "#dropping locations\n",
    "import folium\n",
    "center = [40.7128, -74.0060]\n",
    "map_Newyork = folium.Map(location=center, zoom_start=8)\n",
    "\n",
    "for i,r in df2.iterrows():\n",
    "    folium.Marker(location=r['Dropoff_locat'],\n",
    "                  popup = r['locationid'],\n",
    "                  tooltip='Dropoff Location').add_to(map_Newyork)\n",
    "#display map\n",
    "map_Newyork"
   ]
  },
  {
   "cell_type": "code",
   "execution_count": 101,
   "metadata": {},
   "outputs": [
    {
     "data": {
      "text/plain": [
       "(566533, 17)"
      ]
     },
     "execution_count": 101,
     "metadata": {},
     "output_type": "execute_result"
    }
   ],
   "source": [
    "i_data.shape"
   ]
  },
  {
   "cell_type": "code",
   "execution_count": 105,
   "metadata": {},
   "outputs": [
    {
     "name": "stderr",
     "output_type": "stream",
     "text": [
      "D:\\Anaconda\\envs\\my_env\\lib\\site-packages\\pandas\\util\\_decorators.py:311: SettingWithCopyWarning: \n",
      "A value is trying to be set on a copy of a slice from a DataFrame\n",
      "\n",
      "See the caveats in the documentation: https://pandas.pydata.org/pandas-docs/stable/user_guide/indexing.html#returning-a-view-versus-a-copy\n",
      "  return func(*args, **kwargs)\n"
     ]
    }
   ],
   "source": [
    "i1 = idata.iloc[:, [2,3,4,5,9,10,12,13,20]]\n",
    "i1.dropna(inplace = True)\n",
    "i1.reset_index(drop = True, inplace = True)"
   ]
  },
  {
   "cell_type": "code",
   "execution_count": 106,
   "metadata": {},
   "outputs": [
    {
     "data": {
      "text/plain": [
       "Text(0.5, 1.0, 'Time Vs Passenger counts')"
      ]
     },
     "execution_count": 106,
     "metadata": {},
     "output_type": "execute_result"
    },
    {
     "data": {
      "image/png": "[encoded data removed]",
      "text/plain": [
       "<Figure size 1346.4x595.44 with 1 Axes>"
      ]
     },
     "metadata": {},
     "output_type": "display_data"
    }
   ],
   "source": [
    "sns.set_theme(style=\"ticks\")\n",
    "sns.set_style('ticks')\n",
    "fig, ax = plt.subplots()\n",
    "fig.set_size_inches(18.7, 8.27)\n",
    "ax = sns.countplot(data=i1, hue=\"Passenger_count\", x= i1['Pickup_datetime'].dt.hour)\n",
    "ax.set(xlabel='Time (24hr standard form)', ylabel='Passenger counts')\n",
    "ax.set_title('Time Vs Passenger counts')"
   ]
  },
  {
   "cell_type": "markdown",
   "metadata": {},
   "source": [
    "### __12.5 Analysis on the NY 236__"
   ]
  },
  {
   "cell_type": "code",
   "execution_count": 107,
   "metadata": {},
   "outputs": [
    {
     "data": {
      "text/plain": [
       "Text(0.5, 1.0, 'WeekDay Vs Passenger counts')"
      ]
     },
     "execution_count": 107,
     "metadata": {},
     "output_type": "execute_result"
    },
    {
     "data": {
      "image/png": "[encoded data removed]",
      "text/plain": [
       "<Figure size 1490.4x595.44 with 1 Axes>"
      ]
     },
     "metadata": {},
     "output_type": "display_data"
    }
   ],
   "source": [
    "ny_p = i1[i1['Pick_locationId'] == 'NY 236']\n",
    "sns.set_theme(style=\"ticks\")\n",
    "sns.set_style('ticks')\n",
    "fig, ax = plt.subplots()\n",
    "fig.set_size_inches(20.7, 8.27)\n",
    "ax = sns.countplot(data= ny_p, hue=\"Passenger_count\", x= 'Pick_day')\n",
    "ax.set(xlabel='WeekDay', ylabel='Passenger counts')\n",
    "ax.set_title('WeekDay Vs Passenger counts')"
   ]
  },
  {
   "cell_type": "code",
   "execution_count": 108,
   "metadata": {},
   "outputs": [
    {
     "data": {
      "text/plain": [
       "Text(0.5, 1.0, 'Time Vs Passenger counts')"
      ]
     },
     "execution_count": 108,
     "metadata": {},
     "output_type": "execute_result"
    },
    {
     "data": {
      "image/png": "[encoded data removed]",
      "text/plain": [
       "<Figure size 1346.4x595.44 with 1 Axes>"
      ]
     },
     "metadata": {},
     "output_type": "display_data"
    }
   ],
   "source": [
    "sns.set_theme(style=\"ticks\")\n",
    "sns.set_style('ticks')\n",
    "fig, ax = plt.subplots()\n",
    "fig.set_size_inches(18.7, 8.27)\n",
    "ax = sns.countplot(data= ny_p, hue=\"Passenger_count\", x= ny_p['Pickup_datetime'].dt.hour)\n",
    "ax.set(xlabel='Time (24hr standard form)', ylabel='Passenger counts')\n",
    "ax.set_title('Time Vs Passenger counts')"
   ]
  },
  {
   "cell_type": "markdown",
   "metadata": {},
   "source": [
    "# __Conclusion__"
   ]
  },
  {
   "cell_type": "markdown",
   "metadata": {},
   "source": [
    "### __In this dataset, the latitude, longitude, new travel distance, and time difference are calculated. Few outliners are also identified in the data due to improper entry.__\n",
    "\n",
    "### __From the calculations and analysis following are key findings:__\n",
    "\n",
    "- ### Friday is the most active day and where most people utilized the taxis.\n",
    "- ### Raids with a single passenger are booked more compared to the 2,3,4 passengers\n",
    "- ### NY 237 is the most common pickup point. Because it has an intersection with famous locations and schools.\n",
    "- ### NY 236 is the most common dropoff point. \n",
    "- ### Where NY 140 has low pickup points and NY 99 has low dropping points compared to all others.\n",
    "- ### Wednesday and thursday are the most busiest days at NY 236 location\n",
    "- ### From morning 6 am to 14 pm is linear increment and from 15 pm to night 23 pm there is linear decrement\n",
    "- ### From Night 1 am to 5 am usage of taxis are very low.\n"
   ]
  }
 ],
 "metadata": {
  "interpreter": {
   "hash": "07efdcd4b820c98a756949507a4d29d7862823915ec7477944641bea022f4f62"
  },
  "kernelspec": {
   "display_name": "Python 3.8.8 64-bit ('base': conda)",
   "language": "python",
   "name": "python3"
  },
  "language_info": {
   "codemirror_mode": {
    "name": "ipython",
    "version": 3
   },
   "file_extension": ".py",
   "mimetype": "text/x-python",
   "name": "python",
   "nbconvert_exporter": "python",
   "pygments_lexer": "ipython3",
   "version": "3.9.7"
  },
  "orig_nbformat": 4
 },
 "nbformat": 4,
 "nbformat_minor": 2
}
