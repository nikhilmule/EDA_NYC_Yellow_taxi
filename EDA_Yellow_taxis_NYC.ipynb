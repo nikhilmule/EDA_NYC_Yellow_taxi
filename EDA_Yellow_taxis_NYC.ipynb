{
 "cells": [
  {
   "cell_type": "markdown",
   "metadata": {},
   "source": [
    "# __EDA (Explanatory Data Analysis) of Yellow taxies data NYC__"
   ]
  },
  {
   "cell_type": "markdown",
   "metadata": {},
   "source": [
    "<img src = 'https://cabstartup.com/wp-content/uploads/2018/05/Yellow-Taxi-Banner.png' height = 500 width =1500>"
   ]
  },
  {
   "cell_type": "markdown",
   "metadata": {},
   "source": [
    "# __Introduction__ \n",
    "\n",
    "- ### The dataset for this project is taken from NYC TLC Trip Record Data. [link]('https://www1.nyc.gov/site/tlc/about/tlc-trip-record-data.page').\n",
    "- ### In this project, New york city yellow taxi data of 7 months (Jan - Jul) in year 2021 are taken into consideration for the analysis.\n",
    "- ### Here Dask, folium, geopandas, pandas library are utilized.\n",
    "\n",
    "## __Objective:__\n",
    "\n",
    "- ### The main goal of this project is to identify maximum taxi uasge day and distance between two points.\n",
    "- ### Time difference between pick and drop location.\n",
    "- ### Top pickup and dropping points in the city"
   ]
  },
  {
   "cell_type": "markdown",
   "metadata": {},
   "source": [
    "## __Schema of the dataset__\n",
    "\n",
    "- 'VendorID' = ID\n",
    "- 'tpep_pickup_datetime' = pickup time and date\n",
    "- 'tpep_dropoff_datetime' = drop time and date\n",
    "- 'passenger_count' = passenger count\n",
    "- 'trip_distance' = total distance\n",
    "- 'RatecodeID' = Ratings \n",
    "- 'store_and_fwd_flag'\n",
    "- 'PULocationID' = Pickup location id\n",
    "- 'DOLocationID' = dropup location id\n",
    "- 'payment_type' = mode of payment\n",
    "- 'fare_amount' = trip amount \n",
    "- 'extra' = like waiting or extra time\n",
    "- 'mta_tax' = tax \n",
    "- 'tip_amount' = final tip amount\n",
    "- 'tolls_amount' = toll amount \n",
    "- 'improvement_surcharge' = surcharge amount\n",
    "- 'total_amount' = final amount with all taxes, tip\n",
    "- 'congestion_surcharge'"
   ]
  },
  {
   "cell_type": "markdown",
   "metadata": {},
   "source": [
    "## __Analysis Part-I__"
   ]
  },
  {
   "cell_type": "markdown",
   "metadata": {},
   "source": [
    "## __1. Importing libraries__"
   ]
  },
  {
   "cell_type": "code",
   "execution_count": 1,
   "metadata": {},
   "outputs": [
    {
     "name": "stdout",
     "output_type": "stream",
     "text": [
      "Requirement already satisfied: dask in d:\\anaconda\\envs\\my_env\\lib\\site-packages (2021.11.1)\n",
      "Requirement already satisfied: partd>=0.3.10 in d:\\anaconda\\envs\\my_env\\lib\\site-packages (from dask) (1.2.0)\n",
      "Requirement already satisfied: fsspec>=0.6.0 in d:\\anaconda\\envs\\my_env\\lib\\site-packages (from dask) (2021.11.0)\n",
      "Requirement already satisfied: toolz>=0.8.2 in d:\\anaconda\\envs\\my_env\\lib\\site-packages (from dask) (0.11.2)\n",
      "Requirement already satisfied: packaging>=20.0 in d:\\anaconda\\envs\\my_env\\lib\\site-packages (from dask) (21.2)\n",
      "Requirement already satisfied: cloudpickle>=1.1.1 in d:\\anaconda\\envs\\my_env\\lib\\site-packages (from dask) (2.0.0)\n",
      "Requirement already satisfied: pyyaml in d:\\anaconda\\envs\\my_env\\lib\\site-packages (from dask) (6.0)\n",
      "Requirement already satisfied: pyparsing<3,>=2.0.2 in d:\\anaconda\\envs\\my_env\\lib\\site-packages (from packaging>=20.0->dask) (2.4.7)\n",
      "Requirement already satisfied: locket in d:\\anaconda\\envs\\my_env\\lib\\site-packages (from partd>=0.3.10->dask) (0.2.1)\n"
     ]
    }
   ],
   "source": [
    "!pip install dask"
   ]
  },
  {
   "cell_type": "code",
   "execution_count": 2,
   "metadata": {},
   "outputs": [],
   "source": [
    "# importing the libraries\n",
    "import dask\n",
    "import dask.dataframe as dd\n",
    "import pandas as pd\n",
    "import os\n",
    "import glob"
   ]
  },
  {
   "cell_type": "code",
   "execution_count": 3,
   "metadata": {},
   "outputs": [
    {
     "data": {
      "text/plain": [
       "['yellow_tripdata_2021-01.csv',\n",
       " 'yellow_tripdata_2021-02.csv',\n",
       " 'yellow_tripdata_2021-03.csv',\n",
       " 'yellow_tripdata_2021-04.csv',\n",
       " 'yellow_tripdata_2021-05.csv',\n",
       " 'yellow_tripdata_2021-06.csv',\n",
       " 'yellow_tripdata_2021-07.csv']"
      ]
     },
     "execution_count": 3,
     "metadata": {},
     "output_type": "execute_result"
    }
   ],
   "source": [
    "os.listdir(\"Trip_data\")"
   ]
  },
  {
   "cell_type": "code",
   "execution_count": 4,
   "metadata": {},
   "outputs": [],
   "source": [
    "from glob import glob\n",
    "files_ = sorted(glob(os.path.join(\"Trip_data\", \"*.csv\")))"
   ]
  },
  {
   "cell_type": "markdown",
   "metadata": {},
   "source": [
    "## __2. Creating the dask dataframe__"
   ]
  },
  {
   "cell_type": "code",
   "execution_count": 5,
   "metadata": {},
   "outputs": [],
   "source": [
    "df = dd.read_csv(files_, dtype={'RatecodeID': 'float64',\n",
    "       'VendorID': 'float64', 'tolls_amount': 'float64',\n",
    "       'passenger_count': 'float64',\n",
    "       'payment_type': 'float64'}, parse_dates = ['tpep_pickup_datetime', 'tpep_dropoff_datetime']\n",
    ")"
   ]
  },
  {
   "cell_type": "code",
   "execution_count": 6,
   "metadata": {},
   "outputs": [
    {
     "name": "stderr",
     "output_type": "stream",
     "text": [
      "D:\\Anaconda\\envs\\my_env\\lib\\site-packages\\dask\\dataframe\\io\\csv.py:125: DtypeWarning: Columns (6) have mixed types.Specify dtype option on import or set low_memory=False.\n",
      "  df = pandas_read_text(\n"
     ]
    },
    {
     "name": "stdout",
     "output_type": "stream",
     "text": [
      "<class 'pandas.core.frame.DataFrame'>\n",
      "Int64Index: 15000700 entries, 0 to 290639\n",
      "Data columns (total 18 columns):\n",
      " #   Column                 Dtype         \n",
      "---  ------                 -----         \n",
      " 0   VendorID               float64       \n",
      " 1   tpep_pickup_datetime   datetime64[ns]\n",
      " 2   tpep_dropoff_datetime  datetime64[ns]\n",
      " 3   passenger_count        float64       \n",
      " 4   trip_distance          float64       \n",
      " 5   RatecodeID             float64       \n",
      " 6   store_and_fwd_flag     object        \n",
      " 7   PULocationID           int64         \n",
      " 8   DOLocationID           int64         \n",
      " 9   payment_type           float64       \n",
      " 10  fare_amount            float64       \n",
      " 11  extra                  float64       \n",
      " 12  mta_tax                float64       \n",
      " 13  tip_amount             float64       \n",
      " 14  tolls_amount           float64       \n",
      " 15  improvement_surcharge  float64       \n",
      " 16  total_amount           float64       \n",
      " 17  congestion_surcharge   float64       \n",
      "dtypes: datetime64[ns](2), float64(13), int64(2), object(1)\n",
      "memory usage: 2.1+ GB\n"
     ]
    }
   ],
   "source": [
    "df.compute().info()"
   ]
  },
  {
   "cell_type": "markdown",
   "metadata": {},
   "source": [
    "## __3. Taking a sample of data for the further analysis__"
   ]
  },
  {
   "cell_type": "code",
   "execution_count": 7,
   "metadata": {},
   "outputs": [
    {
     "name": "stderr",
     "output_type": "stream",
     "text": [
      "D:\\Anaconda\\envs\\my_env\\lib\\site-packages\\dask\\dataframe\\io\\csv.py:125: DtypeWarning: Columns (6) have mixed types.Specify dtype option on import or set low_memory=False.\n",
      "  df = pandas_read_text(\n"
     ]
    }
   ],
   "source": [
    "#creating the sample with fraction \n",
    "new_data = df.sample(frac= 0.04).persist()"
   ]
  },
  {
   "cell_type": "code",
   "execution_count": 8,
   "metadata": {},
   "outputs": [
    {
     "name": "stdout",
     "output_type": "stream",
     "text": [
      "<class 'pandas.core.frame.DataFrame'>\n",
      "Int64Index: 600027 entries, 141052 to 279024\n",
      "Data columns (total 18 columns):\n",
      " #   Column                 Non-Null Count   Dtype         \n",
      "---  ------                 --------------   -----         \n",
      " 0   VendorID               566659 non-null  float64       \n",
      " 1   tpep_pickup_datetime   600027 non-null  datetime64[ns]\n",
      " 2   tpep_dropoff_datetime  600027 non-null  datetime64[ns]\n",
      " 3   passenger_count        566659 non-null  float64       \n",
      " 4   trip_distance          600027 non-null  float64       \n",
      " 5   RatecodeID             566659 non-null  float64       \n",
      " 6   store_and_fwd_flag     566659 non-null  object        \n",
      " 7   PULocationID           600027 non-null  int64         \n",
      " 8   DOLocationID           600027 non-null  int64         \n",
      " 9   payment_type           566659 non-null  float64       \n",
      " 10  fare_amount            600027 non-null  float64       \n",
      " 11  extra                  600027 non-null  float64       \n",
      " 12  mta_tax                600027 non-null  float64       \n",
      " 13  tip_amount             600027 non-null  float64       \n",
      " 14  tolls_amount           600027 non-null  float64       \n",
      " 15  improvement_surcharge  600027 non-null  float64       \n",
      " 16  total_amount           600027 non-null  float64       \n",
      " 17  congestion_surcharge   600027 non-null  float64       \n",
      "dtypes: datetime64[ns](2), float64(13), int64(2), object(1)\n",
      "memory usage: 87.0+ MB\n"
     ]
    }
   ],
   "source": [
    "new_data.compute().info()"
   ]
  },
  {
   "cell_type": "code",
   "execution_count": 9,
   "metadata": {},
   "outputs": [
    {
     "data": {
      "text/html": [
       "<div>\n",
       "<style scoped>\n",
       "    .dataframe tbody tr th:only-of-type {\n",
       "        vertical-align: middle;\n",
       "    }\n",
       "\n",
       "    .dataframe tbody tr th {\n",
       "        vertical-align: top;\n",
       "    }\n",
       "\n",
       "    .dataframe thead th {\n",
       "        text-align: right;\n",
       "    }\n",
       "</style>\n",
       "<table border=\"1\" class=\"dataframe\">\n",
       "  <thead>\n",
       "    <tr style=\"text-align: right;\">\n",
       "      <th></th>\n",
       "      <th>VendorID</th>\n",
       "      <th>tpep_pickup_datetime</th>\n",
       "      <th>tpep_dropoff_datetime</th>\n",
       "      <th>passenger_count</th>\n",
       "      <th>trip_distance</th>\n",
       "      <th>RatecodeID</th>\n",
       "      <th>store_and_fwd_flag</th>\n",
       "      <th>PULocationID</th>\n",
       "      <th>DOLocationID</th>\n",
       "      <th>payment_type</th>\n",
       "      <th>fare_amount</th>\n",
       "      <th>extra</th>\n",
       "      <th>mta_tax</th>\n",
       "      <th>tip_amount</th>\n",
       "      <th>tolls_amount</th>\n",
       "      <th>improvement_surcharge</th>\n",
       "      <th>total_amount</th>\n",
       "      <th>congestion_surcharge</th>\n",
       "    </tr>\n",
       "  </thead>\n",
       "  <tbody>\n",
       "    <tr>\n",
       "      <th>141052</th>\n",
       "      <td>1.0</td>\n",
       "      <td>2021-01-05 13:41:01</td>\n",
       "      <td>2021-01-05 14:01:00</td>\n",
       "      <td>1.0</td>\n",
       "      <td>6.4</td>\n",
       "      <td>1.0</td>\n",
       "      <td>N</td>\n",
       "      <td>236</td>\n",
       "      <td>244</td>\n",
       "      <td>1.0</td>\n",
       "      <td>22.0</td>\n",
       "      <td>2.5</td>\n",
       "      <td>0.5</td>\n",
       "      <td>5.05</td>\n",
       "      <td>0.0</td>\n",
       "      <td>0.3</td>\n",
       "      <td>30.35</td>\n",
       "      <td>2.5</td>\n",
       "    </tr>\n",
       "    <tr>\n",
       "      <th>13035</th>\n",
       "      <td>1.0</td>\n",
       "      <td>2021-01-01 15:51:15</td>\n",
       "      <td>2021-01-01 15:56:45</td>\n",
       "      <td>1.0</td>\n",
       "      <td>1.0</td>\n",
       "      <td>1.0</td>\n",
       "      <td>N</td>\n",
       "      <td>230</td>\n",
       "      <td>68</td>\n",
       "      <td>1.0</td>\n",
       "      <td>6.0</td>\n",
       "      <td>2.5</td>\n",
       "      <td>0.5</td>\n",
       "      <td>0.00</td>\n",
       "      <td>0.0</td>\n",
       "      <td>0.3</td>\n",
       "      <td>9.30</td>\n",
       "      <td>2.5</td>\n",
       "    </tr>\n",
       "    <tr>\n",
       "      <th>63888</th>\n",
       "      <td>1.0</td>\n",
       "      <td>2021-01-03 13:11:33</td>\n",
       "      <td>2021-01-03 13:12:17</td>\n",
       "      <td>0.0</td>\n",
       "      <td>0.3</td>\n",
       "      <td>1.0</td>\n",
       "      <td>N</td>\n",
       "      <td>166</td>\n",
       "      <td>151</td>\n",
       "      <td>1.0</td>\n",
       "      <td>3.0</td>\n",
       "      <td>0.0</td>\n",
       "      <td>0.5</td>\n",
       "      <td>0.75</td>\n",
       "      <td>0.0</td>\n",
       "      <td>0.3</td>\n",
       "      <td>4.55</td>\n",
       "      <td>0.0</td>\n",
       "    </tr>\n",
       "    <tr>\n",
       "      <th>348098</th>\n",
       "      <td>1.0</td>\n",
       "      <td>2021-01-10 12:32:00</td>\n",
       "      <td>2021-01-10 12:38:04</td>\n",
       "      <td>1.0</td>\n",
       "      <td>1.2</td>\n",
       "      <td>1.0</td>\n",
       "      <td>N</td>\n",
       "      <td>237</td>\n",
       "      <td>236</td>\n",
       "      <td>1.0</td>\n",
       "      <td>6.5</td>\n",
       "      <td>2.5</td>\n",
       "      <td>0.5</td>\n",
       "      <td>1.95</td>\n",
       "      <td>0.0</td>\n",
       "      <td>0.3</td>\n",
       "      <td>11.75</td>\n",
       "      <td>2.5</td>\n",
       "    </tr>\n",
       "    <tr>\n",
       "      <th>271484</th>\n",
       "      <td>1.0</td>\n",
       "      <td>2021-01-08 12:21:29</td>\n",
       "      <td>2021-01-08 12:26:44</td>\n",
       "      <td>1.0</td>\n",
       "      <td>1.1</td>\n",
       "      <td>1.0</td>\n",
       "      <td>N</td>\n",
       "      <td>239</td>\n",
       "      <td>236</td>\n",
       "      <td>1.0</td>\n",
       "      <td>6.0</td>\n",
       "      <td>2.5</td>\n",
       "      <td>0.5</td>\n",
       "      <td>1.85</td>\n",
       "      <td>0.0</td>\n",
       "      <td>0.3</td>\n",
       "      <td>11.15</td>\n",
       "      <td>2.5</td>\n",
       "    </tr>\n",
       "  </tbody>\n",
       "</table>\n",
       "</div>"
      ],
      "text/plain": [
       "        VendorID tpep_pickup_datetime tpep_dropoff_datetime  passenger_count  \\\n",
       "141052       1.0  2021-01-05 13:41:01   2021-01-05 14:01:00              1.0   \n",
       "13035        1.0  2021-01-01 15:51:15   2021-01-01 15:56:45              1.0   \n",
       "63888        1.0  2021-01-03 13:11:33   2021-01-03 13:12:17              0.0   \n",
       "348098       1.0  2021-01-10 12:32:00   2021-01-10 12:38:04              1.0   \n",
       "271484       1.0  2021-01-08 12:21:29   2021-01-08 12:26:44              1.0   \n",
       "\n",
       "        trip_distance  RatecodeID store_and_fwd_flag  PULocationID  \\\n",
       "141052            6.4         1.0                  N           236   \n",
       "13035             1.0         1.0                  N           230   \n",
       "63888             0.3         1.0                  N           166   \n",
       "348098            1.2         1.0                  N           237   \n",
       "271484            1.1         1.0                  N           239   \n",
       "\n",
       "        DOLocationID  payment_type  fare_amount  extra  mta_tax  tip_amount  \\\n",
       "141052           244           1.0         22.0    2.5      0.5        5.05   \n",
       "13035             68           1.0          6.0    2.5      0.5        0.00   \n",
       "63888            151           1.0          3.0    0.0      0.5        0.75   \n",
       "348098           236           1.0          6.5    2.5      0.5        1.95   \n",
       "271484           236           1.0          6.0    2.5      0.5        1.85   \n",
       "\n",
       "        tolls_amount  improvement_surcharge  total_amount  \\\n",
       "141052           0.0                    0.3         30.35   \n",
       "13035            0.0                    0.3          9.30   \n",
       "63888            0.0                    0.3          4.55   \n",
       "348098           0.0                    0.3         11.75   \n",
       "271484           0.0                    0.3         11.15   \n",
       "\n",
       "        congestion_surcharge  \n",
       "141052                   2.5  \n",
       "13035                    2.5  \n",
       "63888                    0.0  \n",
       "348098                   2.5  \n",
       "271484                   2.5  "
      ]
     },
     "execution_count": 9,
     "metadata": {},
     "output_type": "execute_result"
    }
   ],
   "source": [
    "new_data.head()"
   ]
  },
  {
   "cell_type": "code",
   "execution_count": 10,
   "metadata": {},
   "outputs": [
    {
     "data": {
      "text/html": [
       "<div>\n",
       "<style scoped>\n",
       "    .dataframe tbody tr th:only-of-type {\n",
       "        vertical-align: middle;\n",
       "    }\n",
       "\n",
       "    .dataframe tbody tr th {\n",
       "        vertical-align: top;\n",
       "    }\n",
       "\n",
       "    .dataframe thead th {\n",
       "        text-align: right;\n",
       "    }\n",
       "</style>\n",
       "<table border=\"1\" class=\"dataframe\">\n",
       "  <thead>\n",
       "    <tr style=\"text-align: right;\">\n",
       "      <th></th>\n",
       "      <th>VendorID</th>\n",
       "      <th>tpep_pickup_datetime</th>\n",
       "      <th>tpep_dropoff_datetime</th>\n",
       "      <th>passenger_count</th>\n",
       "      <th>trip_distance</th>\n",
       "      <th>RatecodeID</th>\n",
       "      <th>store_and_fwd_flag</th>\n",
       "      <th>PULocationID</th>\n",
       "      <th>DOLocationID</th>\n",
       "      <th>payment_type</th>\n",
       "      <th>fare_amount</th>\n",
       "      <th>extra</th>\n",
       "      <th>mta_tax</th>\n",
       "      <th>tip_amount</th>\n",
       "      <th>tolls_amount</th>\n",
       "      <th>improvement_surcharge</th>\n",
       "      <th>total_amount</th>\n",
       "      <th>congestion_surcharge</th>\n",
       "    </tr>\n",
       "  </thead>\n",
       "  <tbody>\n",
       "    <tr>\n",
       "      <th>237757</th>\n",
       "      <td>NaN</td>\n",
       "      <td>2021-07-24 15:08:00</td>\n",
       "      <td>2021-07-24 15:34:00</td>\n",
       "      <td>NaN</td>\n",
       "      <td>2.96</td>\n",
       "      <td>NaN</td>\n",
       "      <td>NaN</td>\n",
       "      <td>239</td>\n",
       "      <td>246</td>\n",
       "      <td>NaN</td>\n",
       "      <td>13.39</td>\n",
       "      <td>0.00</td>\n",
       "      <td>0.5</td>\n",
       "      <td>2.00</td>\n",
       "      <td>0.0</td>\n",
       "      <td>0.3</td>\n",
       "      <td>18.69</td>\n",
       "      <td>2.5</td>\n",
       "    </tr>\n",
       "    <tr>\n",
       "      <th>132333</th>\n",
       "      <td>1.0</td>\n",
       "      <td>2021-07-31 18:09:06</td>\n",
       "      <td>2021-07-31 18:18:42</td>\n",
       "      <td>2.0</td>\n",
       "      <td>1.70</td>\n",
       "      <td>1.0</td>\n",
       "      <td>N</td>\n",
       "      <td>164</td>\n",
       "      <td>68</td>\n",
       "      <td>1.0</td>\n",
       "      <td>8.00</td>\n",
       "      <td>2.50</td>\n",
       "      <td>0.5</td>\n",
       "      <td>1.50</td>\n",
       "      <td>0.0</td>\n",
       "      <td>0.3</td>\n",
       "      <td>12.80</td>\n",
       "      <td>2.5</td>\n",
       "    </tr>\n",
       "    <tr>\n",
       "      <th>231001</th>\n",
       "      <td>NaN</td>\n",
       "      <td>2021-07-17 14:36:01</td>\n",
       "      <td>2021-07-17 15:09:11</td>\n",
       "      <td>NaN</td>\n",
       "      <td>12.54</td>\n",
       "      <td>NaN</td>\n",
       "      <td>NaN</td>\n",
       "      <td>232</td>\n",
       "      <td>127</td>\n",
       "      <td>NaN</td>\n",
       "      <td>40.67</td>\n",
       "      <td>5.50</td>\n",
       "      <td>0.5</td>\n",
       "      <td>0.00</td>\n",
       "      <td>0.0</td>\n",
       "      <td>0.3</td>\n",
       "      <td>46.97</td>\n",
       "      <td>0.0</td>\n",
       "    </tr>\n",
       "    <tr>\n",
       "      <th>107995</th>\n",
       "      <td>1.0</td>\n",
       "      <td>2021-07-31 14:40:17</td>\n",
       "      <td>2021-07-31 14:55:22</td>\n",
       "      <td>0.0</td>\n",
       "      <td>3.10</td>\n",
       "      <td>1.0</td>\n",
       "      <td>N</td>\n",
       "      <td>144</td>\n",
       "      <td>229</td>\n",
       "      <td>1.0</td>\n",
       "      <td>13.00</td>\n",
       "      <td>2.50</td>\n",
       "      <td>0.5</td>\n",
       "      <td>2.77</td>\n",
       "      <td>0.0</td>\n",
       "      <td>0.3</td>\n",
       "      <td>19.07</td>\n",
       "      <td>2.5</td>\n",
       "    </tr>\n",
       "    <tr>\n",
       "      <th>279024</th>\n",
       "      <td>NaN</td>\n",
       "      <td>2021-07-31 08:23:00</td>\n",
       "      <td>2021-07-31 08:35:00</td>\n",
       "      <td>NaN</td>\n",
       "      <td>3.44</td>\n",
       "      <td>NaN</td>\n",
       "      <td>NaN</td>\n",
       "      <td>10</td>\n",
       "      <td>130</td>\n",
       "      <td>NaN</td>\n",
       "      <td>28.08</td>\n",
       "      <td>2.75</td>\n",
       "      <td>0.5</td>\n",
       "      <td>0.00</td>\n",
       "      <td>0.0</td>\n",
       "      <td>0.3</td>\n",
       "      <td>31.63</td>\n",
       "      <td>0.0</td>\n",
       "    </tr>\n",
       "  </tbody>\n",
       "</table>\n",
       "</div>"
      ],
      "text/plain": [
       "        VendorID tpep_pickup_datetime tpep_dropoff_datetime  passenger_count  \\\n",
       "237757       NaN  2021-07-24 15:08:00   2021-07-24 15:34:00              NaN   \n",
       "132333       1.0  2021-07-31 18:09:06   2021-07-31 18:18:42              2.0   \n",
       "231001       NaN  2021-07-17 14:36:01   2021-07-17 15:09:11              NaN   \n",
       "107995       1.0  2021-07-31 14:40:17   2021-07-31 14:55:22              0.0   \n",
       "279024       NaN  2021-07-31 08:23:00   2021-07-31 08:35:00              NaN   \n",
       "\n",
       "        trip_distance  RatecodeID store_and_fwd_flag  PULocationID  \\\n",
       "237757           2.96         NaN                NaN           239   \n",
       "132333           1.70         1.0                  N           164   \n",
       "231001          12.54         NaN                NaN           232   \n",
       "107995           3.10         1.0                  N           144   \n",
       "279024           3.44         NaN                NaN            10   \n",
       "\n",
       "        DOLocationID  payment_type  fare_amount  extra  mta_tax  tip_amount  \\\n",
       "237757           246           NaN        13.39   0.00      0.5        2.00   \n",
       "132333            68           1.0         8.00   2.50      0.5        1.50   \n",
       "231001           127           NaN        40.67   5.50      0.5        0.00   \n",
       "107995           229           1.0        13.00   2.50      0.5        2.77   \n",
       "279024           130           NaN        28.08   2.75      0.5        0.00   \n",
       "\n",
       "        tolls_amount  improvement_surcharge  total_amount  \\\n",
       "237757           0.0                    0.3         18.69   \n",
       "132333           0.0                    0.3         12.80   \n",
       "231001           0.0                    0.3         46.97   \n",
       "107995           0.0                    0.3         19.07   \n",
       "279024           0.0                    0.3         31.63   \n",
       "\n",
       "        congestion_surcharge  \n",
       "237757                   2.5  \n",
       "132333                   2.5  \n",
       "231001                   0.0  \n",
       "107995                   2.5  \n",
       "279024                   0.0  "
      ]
     },
     "execution_count": 10,
     "metadata": {},
     "output_type": "execute_result"
    }
   ],
   "source": [
    "new_data.tail()"
   ]
  },
  {
   "cell_type": "code",
   "execution_count": 11,
   "metadata": {},
   "outputs": [
    {
     "data": {
      "text/html": [
       "<div>\n",
       "<style scoped>\n",
       "    .dataframe tbody tr th:only-of-type {\n",
       "        vertical-align: middle;\n",
       "    }\n",
       "\n",
       "    .dataframe tbody tr th {\n",
       "        vertical-align: top;\n",
       "    }\n",
       "\n",
       "    .dataframe thead th {\n",
       "        text-align: right;\n",
       "    }\n",
       "</style>\n",
       "<table border=\"1\" class=\"dataframe\">\n",
       "  <thead>\n",
       "    <tr style=\"text-align: right;\">\n",
       "      <th></th>\n",
       "      <th>VendorID</th>\n",
       "      <th>tpep_pickup_datetime</th>\n",
       "      <th>tpep_dropoff_datetime</th>\n",
       "      <th>passenger_count</th>\n",
       "      <th>trip_distance</th>\n",
       "      <th>RatecodeID</th>\n",
       "      <th>store_and_fwd_flag</th>\n",
       "      <th>PULocationID</th>\n",
       "      <th>DOLocationID</th>\n",
       "      <th>payment_type</th>\n",
       "      <th>fare_amount</th>\n",
       "      <th>extra</th>\n",
       "      <th>mta_tax</th>\n",
       "      <th>tip_amount</th>\n",
       "      <th>tolls_amount</th>\n",
       "      <th>improvement_surcharge</th>\n",
       "      <th>total_amount</th>\n",
       "      <th>congestion_surcharge</th>\n",
       "    </tr>\n",
       "  </thead>\n",
       "  <tbody>\n",
       "    <tr>\n",
       "      <th>141052</th>\n",
       "      <td>1.0</td>\n",
       "      <td>2021-01-05 13:41:01</td>\n",
       "      <td>2021-01-05 14:01:00</td>\n",
       "      <td>1.0</td>\n",
       "      <td>6.40</td>\n",
       "      <td>1.0</td>\n",
       "      <td>N</td>\n",
       "      <td>236</td>\n",
       "      <td>244</td>\n",
       "      <td>1.0</td>\n",
       "      <td>22.00</td>\n",
       "      <td>2.50</td>\n",
       "      <td>0.5</td>\n",
       "      <td>5.05</td>\n",
       "      <td>0.0</td>\n",
       "      <td>0.3</td>\n",
       "      <td>30.35</td>\n",
       "      <td>2.5</td>\n",
       "    </tr>\n",
       "    <tr>\n",
       "      <th>13035</th>\n",
       "      <td>1.0</td>\n",
       "      <td>2021-01-01 15:51:15</td>\n",
       "      <td>2021-01-01 15:56:45</td>\n",
       "      <td>1.0</td>\n",
       "      <td>1.00</td>\n",
       "      <td>1.0</td>\n",
       "      <td>N</td>\n",
       "      <td>230</td>\n",
       "      <td>68</td>\n",
       "      <td>1.0</td>\n",
       "      <td>6.00</td>\n",
       "      <td>2.50</td>\n",
       "      <td>0.5</td>\n",
       "      <td>0.00</td>\n",
       "      <td>0.0</td>\n",
       "      <td>0.3</td>\n",
       "      <td>9.30</td>\n",
       "      <td>2.5</td>\n",
       "    </tr>\n",
       "    <tr>\n",
       "      <th>63888</th>\n",
       "      <td>1.0</td>\n",
       "      <td>2021-01-03 13:11:33</td>\n",
       "      <td>2021-01-03 13:12:17</td>\n",
       "      <td>0.0</td>\n",
       "      <td>0.30</td>\n",
       "      <td>1.0</td>\n",
       "      <td>N</td>\n",
       "      <td>166</td>\n",
       "      <td>151</td>\n",
       "      <td>1.0</td>\n",
       "      <td>3.00</td>\n",
       "      <td>0.00</td>\n",
       "      <td>0.5</td>\n",
       "      <td>0.75</td>\n",
       "      <td>0.0</td>\n",
       "      <td>0.3</td>\n",
       "      <td>4.55</td>\n",
       "      <td>0.0</td>\n",
       "    </tr>\n",
       "    <tr>\n",
       "      <th>348098</th>\n",
       "      <td>1.0</td>\n",
       "      <td>2021-01-10 12:32:00</td>\n",
       "      <td>2021-01-10 12:38:04</td>\n",
       "      <td>1.0</td>\n",
       "      <td>1.20</td>\n",
       "      <td>1.0</td>\n",
       "      <td>N</td>\n",
       "      <td>237</td>\n",
       "      <td>236</td>\n",
       "      <td>1.0</td>\n",
       "      <td>6.50</td>\n",
       "      <td>2.50</td>\n",
       "      <td>0.5</td>\n",
       "      <td>1.95</td>\n",
       "      <td>0.0</td>\n",
       "      <td>0.3</td>\n",
       "      <td>11.75</td>\n",
       "      <td>2.5</td>\n",
       "    </tr>\n",
       "    <tr>\n",
       "      <th>271484</th>\n",
       "      <td>1.0</td>\n",
       "      <td>2021-01-08 12:21:29</td>\n",
       "      <td>2021-01-08 12:26:44</td>\n",
       "      <td>1.0</td>\n",
       "      <td>1.10</td>\n",
       "      <td>1.0</td>\n",
       "      <td>N</td>\n",
       "      <td>239</td>\n",
       "      <td>236</td>\n",
       "      <td>1.0</td>\n",
       "      <td>6.00</td>\n",
       "      <td>2.50</td>\n",
       "      <td>0.5</td>\n",
       "      <td>1.85</td>\n",
       "      <td>0.0</td>\n",
       "      <td>0.3</td>\n",
       "      <td>11.15</td>\n",
       "      <td>2.5</td>\n",
       "    </tr>\n",
       "    <tr>\n",
       "      <th>...</th>\n",
       "      <td>...</td>\n",
       "      <td>...</td>\n",
       "      <td>...</td>\n",
       "      <td>...</td>\n",
       "      <td>...</td>\n",
       "      <td>...</td>\n",
       "      <td>...</td>\n",
       "      <td>...</td>\n",
       "      <td>...</td>\n",
       "      <td>...</td>\n",
       "      <td>...</td>\n",
       "      <td>...</td>\n",
       "      <td>...</td>\n",
       "      <td>...</td>\n",
       "      <td>...</td>\n",
       "      <td>...</td>\n",
       "      <td>...</td>\n",
       "      <td>...</td>\n",
       "    </tr>\n",
       "    <tr>\n",
       "      <th>237757</th>\n",
       "      <td>NaN</td>\n",
       "      <td>2021-07-24 15:08:00</td>\n",
       "      <td>2021-07-24 15:34:00</td>\n",
       "      <td>NaN</td>\n",
       "      <td>2.96</td>\n",
       "      <td>NaN</td>\n",
       "      <td>NaN</td>\n",
       "      <td>239</td>\n",
       "      <td>246</td>\n",
       "      <td>NaN</td>\n",
       "      <td>13.39</td>\n",
       "      <td>0.00</td>\n",
       "      <td>0.5</td>\n",
       "      <td>2.00</td>\n",
       "      <td>0.0</td>\n",
       "      <td>0.3</td>\n",
       "      <td>18.69</td>\n",
       "      <td>2.5</td>\n",
       "    </tr>\n",
       "    <tr>\n",
       "      <th>132333</th>\n",
       "      <td>1.0</td>\n",
       "      <td>2021-07-31 18:09:06</td>\n",
       "      <td>2021-07-31 18:18:42</td>\n",
       "      <td>2.0</td>\n",
       "      <td>1.70</td>\n",
       "      <td>1.0</td>\n",
       "      <td>N</td>\n",
       "      <td>164</td>\n",
       "      <td>68</td>\n",
       "      <td>1.0</td>\n",
       "      <td>8.00</td>\n",
       "      <td>2.50</td>\n",
       "      <td>0.5</td>\n",
       "      <td>1.50</td>\n",
       "      <td>0.0</td>\n",
       "      <td>0.3</td>\n",
       "      <td>12.80</td>\n",
       "      <td>2.5</td>\n",
       "    </tr>\n",
       "    <tr>\n",
       "      <th>231001</th>\n",
       "      <td>NaN</td>\n",
       "      <td>2021-07-17 14:36:01</td>\n",
       "      <td>2021-07-17 15:09:11</td>\n",
       "      <td>NaN</td>\n",
       "      <td>12.54</td>\n",
       "      <td>NaN</td>\n",
       "      <td>NaN</td>\n",
       "      <td>232</td>\n",
       "      <td>127</td>\n",
       "      <td>NaN</td>\n",
       "      <td>40.67</td>\n",
       "      <td>5.50</td>\n",
       "      <td>0.5</td>\n",
       "      <td>0.00</td>\n",
       "      <td>0.0</td>\n",
       "      <td>0.3</td>\n",
       "      <td>46.97</td>\n",
       "      <td>0.0</td>\n",
       "    </tr>\n",
       "    <tr>\n",
       "      <th>107995</th>\n",
       "      <td>1.0</td>\n",
       "      <td>2021-07-31 14:40:17</td>\n",
       "      <td>2021-07-31 14:55:22</td>\n",
       "      <td>0.0</td>\n",
       "      <td>3.10</td>\n",
       "      <td>1.0</td>\n",
       "      <td>N</td>\n",
       "      <td>144</td>\n",
       "      <td>229</td>\n",
       "      <td>1.0</td>\n",
       "      <td>13.00</td>\n",
       "      <td>2.50</td>\n",
       "      <td>0.5</td>\n",
       "      <td>2.77</td>\n",
       "      <td>0.0</td>\n",
       "      <td>0.3</td>\n",
       "      <td>19.07</td>\n",
       "      <td>2.5</td>\n",
       "    </tr>\n",
       "    <tr>\n",
       "      <th>279024</th>\n",
       "      <td>NaN</td>\n",
       "      <td>2021-07-31 08:23:00</td>\n",
       "      <td>2021-07-31 08:35:00</td>\n",
       "      <td>NaN</td>\n",
       "      <td>3.44</td>\n",
       "      <td>NaN</td>\n",
       "      <td>NaN</td>\n",
       "      <td>10</td>\n",
       "      <td>130</td>\n",
       "      <td>NaN</td>\n",
       "      <td>28.08</td>\n",
       "      <td>2.75</td>\n",
       "      <td>0.5</td>\n",
       "      <td>0.00</td>\n",
       "      <td>0.0</td>\n",
       "      <td>0.3</td>\n",
       "      <td>31.63</td>\n",
       "      <td>0.0</td>\n",
       "    </tr>\n",
       "  </tbody>\n",
       "</table>\n",
       "<p>600027 rows × 18 columns</p>\n",
       "</div>"
      ],
      "text/plain": [
       "        VendorID tpep_pickup_datetime tpep_dropoff_datetime  passenger_count  \\\n",
       "141052       1.0  2021-01-05 13:41:01   2021-01-05 14:01:00              1.0   \n",
       "13035        1.0  2021-01-01 15:51:15   2021-01-01 15:56:45              1.0   \n",
       "63888        1.0  2021-01-03 13:11:33   2021-01-03 13:12:17              0.0   \n",
       "348098       1.0  2021-01-10 12:32:00   2021-01-10 12:38:04              1.0   \n",
       "271484       1.0  2021-01-08 12:21:29   2021-01-08 12:26:44              1.0   \n",
       "...          ...                  ...                   ...              ...   \n",
       "237757       NaN  2021-07-24 15:08:00   2021-07-24 15:34:00              NaN   \n",
       "132333       1.0  2021-07-31 18:09:06   2021-07-31 18:18:42              2.0   \n",
       "231001       NaN  2021-07-17 14:36:01   2021-07-17 15:09:11              NaN   \n",
       "107995       1.0  2021-07-31 14:40:17   2021-07-31 14:55:22              0.0   \n",
       "279024       NaN  2021-07-31 08:23:00   2021-07-31 08:35:00              NaN   \n",
       "\n",
       "        trip_distance  RatecodeID store_and_fwd_flag  PULocationID  \\\n",
       "141052           6.40         1.0                  N           236   \n",
       "13035            1.00         1.0                  N           230   \n",
       "63888            0.30         1.0                  N           166   \n",
       "348098           1.20         1.0                  N           237   \n",
       "271484           1.10         1.0                  N           239   \n",
       "...               ...         ...                ...           ...   \n",
       "237757           2.96         NaN                NaN           239   \n",
       "132333           1.70         1.0                  N           164   \n",
       "231001          12.54         NaN                NaN           232   \n",
       "107995           3.10         1.0                  N           144   \n",
       "279024           3.44         NaN                NaN            10   \n",
       "\n",
       "        DOLocationID  payment_type  fare_amount  extra  mta_tax  tip_amount  \\\n",
       "141052           244           1.0        22.00   2.50      0.5        5.05   \n",
       "13035             68           1.0         6.00   2.50      0.5        0.00   \n",
       "63888            151           1.0         3.00   0.00      0.5        0.75   \n",
       "348098           236           1.0         6.50   2.50      0.5        1.95   \n",
       "271484           236           1.0         6.00   2.50      0.5        1.85   \n",
       "...              ...           ...          ...    ...      ...         ...   \n",
       "237757           246           NaN        13.39   0.00      0.5        2.00   \n",
       "132333            68           1.0         8.00   2.50      0.5        1.50   \n",
       "231001           127           NaN        40.67   5.50      0.5        0.00   \n",
       "107995           229           1.0        13.00   2.50      0.5        2.77   \n",
       "279024           130           NaN        28.08   2.75      0.5        0.00   \n",
       "\n",
       "        tolls_amount  improvement_surcharge  total_amount  \\\n",
       "141052           0.0                    0.3         30.35   \n",
       "13035            0.0                    0.3          9.30   \n",
       "63888            0.0                    0.3          4.55   \n",
       "348098           0.0                    0.3         11.75   \n",
       "271484           0.0                    0.3         11.15   \n",
       "...              ...                    ...           ...   \n",
       "237757           0.0                    0.3         18.69   \n",
       "132333           0.0                    0.3         12.80   \n",
       "231001           0.0                    0.3         46.97   \n",
       "107995           0.0                    0.3         19.07   \n",
       "279024           0.0                    0.3         31.63   \n",
       "\n",
       "        congestion_surcharge  \n",
       "141052                   2.5  \n",
       "13035                    2.5  \n",
       "63888                    0.0  \n",
       "348098                   2.5  \n",
       "271484                   2.5  \n",
       "...                      ...  \n",
       "237757                   2.5  \n",
       "132333                   2.5  \n",
       "231001                   0.0  \n",
       "107995                   2.5  \n",
       "279024                   0.0  \n",
       "\n",
       "[600027 rows x 18 columns]"
      ]
     },
     "execution_count": 11,
     "metadata": {},
     "output_type": "execute_result"
    }
   ],
   "source": [
    "new_data.compute()"
   ]
  },
  {
   "cell_type": "code",
   "execution_count": 12,
   "metadata": {},
   "outputs": [
    {
     "data": {
      "text/plain": [
       "Index(['VendorID', 'tpep_pickup_datetime', 'tpep_dropoff_datetime',\n",
       "       'passenger_count', 'trip_distance', 'RatecodeID', 'store_and_fwd_flag',\n",
       "       'PULocationID', 'DOLocationID', 'payment_type', 'fare_amount', 'extra',\n",
       "       'mta_tax', 'tip_amount', 'tolls_amount', 'improvement_surcharge',\n",
       "       'total_amount', 'congestion_surcharge'],\n",
       "      dtype='object')"
      ]
     },
     "execution_count": 12,
     "metadata": {},
     "output_type": "execute_result"
    }
   ],
   "source": [
    "new_data.columns"
   ]
  },
  {
   "cell_type": "markdown",
   "metadata": {},
   "source": [
    "## __4. Calculating the duration of the trip__"
   ]
  },
  {
   "cell_type": "markdown",
   "metadata": {},
   "source": [
    "### __4.1 Creating a new dataframe backend as pandas__"
   ]
  },
  {
   "cell_type": "code",
   "execution_count": 13,
   "metadata": {},
   "outputs": [],
   "source": [
    "new_dt = new_data.compute().reset_index()"
   ]
  },
  {
   "cell_type": "code",
   "execution_count": 14,
   "metadata": {},
   "outputs": [
    {
     "data": {
      "text/plain": [
       "Timestamp('2021-01-01 15:51:15')"
      ]
     },
     "execution_count": 14,
     "metadata": {},
     "output_type": "execute_result"
    }
   ],
   "source": [
    "new_dt['tpep_pickup_datetime'][1]"
   ]
  },
  {
   "cell_type": "code",
   "execution_count": 15,
   "metadata": {},
   "outputs": [],
   "source": [
    "import numpy as np"
   ]
  },
  {
   "cell_type": "markdown",
   "metadata": {},
   "source": [
    "### __4.2 Creating a function to calculate the time difference__"
   ]
  },
  {
   "cell_type": "markdown",
   "metadata": {},
   "source": [
    "- t0 = start time\n",
    "- t1 = end time\n",
    "- [link gives info about timedelta]('https://numpy.org/doc/stable/reference/arrays.datetime.html')\n",
    "- here 'm' is minute and Unix epoch (00:00:00 UTC on '1' January 1970)\n",
    "$$ (t1 - t0)"
   ]
  },
  {
   "cell_type": "code",
   "execution_count": 16,
   "metadata": {},
   "outputs": [
    {
     "data": {
      "text/plain": [
       "19.98"
      ]
     },
     "execution_count": 16,
     "metadata": {},
     "output_type": "execute_result"
    }
   ],
   "source": [
    "#time difference function\n",
    "def time_(x):\n",
    "    y = round((new_dt['tpep_dropoff_datetime'][x] - new_dt['tpep_pickup_datetime'][x])/np.timedelta64(1, 'm'), 2)\n",
    "    return y\n",
    "time_(0)"
   ]
  },
  {
   "cell_type": "code",
   "execution_count": 17,
   "metadata": {},
   "outputs": [],
   "source": [
    "#appending difference time to list\n",
    "t1 = []\n",
    "for i in range(len(new_dt)):\n",
    "    t = time_(i)\n",
    "    t1.append(t)"
   ]
  },
  {
   "cell_type": "markdown",
   "metadata": {},
   "source": [
    "## __5. Adding time diff to dataframe__"
   ]
  },
  {
   "cell_type": "code",
   "execution_count": 18,
   "metadata": {},
   "outputs": [],
   "source": [
    "# adding a new column with time diff\n",
    "new_dt['Time_diff_min'] = t1"
   ]
  },
  {
   "cell_type": "code",
   "execution_count": 19,
   "metadata": {},
   "outputs": [
    {
     "data": {
      "text/html": [
       "<div>\n",
       "<style scoped>\n",
       "    .dataframe tbody tr th:only-of-type {\n",
       "        vertical-align: middle;\n",
       "    }\n",
       "\n",
       "    .dataframe tbody tr th {\n",
       "        vertical-align: top;\n",
       "    }\n",
       "\n",
       "    .dataframe thead th {\n",
       "        text-align: right;\n",
       "    }\n",
       "</style>\n",
       "<table border=\"1\" class=\"dataframe\">\n",
       "  <thead>\n",
       "    <tr style=\"text-align: right;\">\n",
       "      <th></th>\n",
       "      <th>index</th>\n",
       "      <th>VendorID</th>\n",
       "      <th>tpep_pickup_datetime</th>\n",
       "      <th>tpep_dropoff_datetime</th>\n",
       "      <th>passenger_count</th>\n",
       "      <th>trip_distance</th>\n",
       "      <th>RatecodeID</th>\n",
       "      <th>store_and_fwd_flag</th>\n",
       "      <th>PULocationID</th>\n",
       "      <th>DOLocationID</th>\n",
       "      <th>payment_type</th>\n",
       "      <th>fare_amount</th>\n",
       "      <th>extra</th>\n",
       "      <th>mta_tax</th>\n",
       "      <th>tip_amount</th>\n",
       "      <th>tolls_amount</th>\n",
       "      <th>improvement_surcharge</th>\n",
       "      <th>total_amount</th>\n",
       "      <th>congestion_surcharge</th>\n",
       "      <th>Time_diff_min</th>\n",
       "    </tr>\n",
       "  </thead>\n",
       "  <tbody>\n",
       "    <tr>\n",
       "      <th>0</th>\n",
       "      <td>141052</td>\n",
       "      <td>1.0</td>\n",
       "      <td>2021-01-05 13:41:01</td>\n",
       "      <td>2021-01-05 14:01:00</td>\n",
       "      <td>1.0</td>\n",
       "      <td>6.40</td>\n",
       "      <td>1.0</td>\n",
       "      <td>N</td>\n",
       "      <td>236</td>\n",
       "      <td>244</td>\n",
       "      <td>1.0</td>\n",
       "      <td>22.00</td>\n",
       "      <td>2.50</td>\n",
       "      <td>0.5</td>\n",
       "      <td>5.05</td>\n",
       "      <td>0.0</td>\n",
       "      <td>0.3</td>\n",
       "      <td>30.35</td>\n",
       "      <td>2.5</td>\n",
       "      <td>19.98</td>\n",
       "    </tr>\n",
       "    <tr>\n",
       "      <th>1</th>\n",
       "      <td>13035</td>\n",
       "      <td>1.0</td>\n",
       "      <td>2021-01-01 15:51:15</td>\n",
       "      <td>2021-01-01 15:56:45</td>\n",
       "      <td>1.0</td>\n",
       "      <td>1.00</td>\n",
       "      <td>1.0</td>\n",
       "      <td>N</td>\n",
       "      <td>230</td>\n",
       "      <td>68</td>\n",
       "      <td>1.0</td>\n",
       "      <td>6.00</td>\n",
       "      <td>2.50</td>\n",
       "      <td>0.5</td>\n",
       "      <td>0.00</td>\n",
       "      <td>0.0</td>\n",
       "      <td>0.3</td>\n",
       "      <td>9.30</td>\n",
       "      <td>2.5</td>\n",
       "      <td>5.50</td>\n",
       "    </tr>\n",
       "    <tr>\n",
       "      <th>2</th>\n",
       "      <td>63888</td>\n",
       "      <td>1.0</td>\n",
       "      <td>2021-01-03 13:11:33</td>\n",
       "      <td>2021-01-03 13:12:17</td>\n",
       "      <td>0.0</td>\n",
       "      <td>0.30</td>\n",
       "      <td>1.0</td>\n",
       "      <td>N</td>\n",
       "      <td>166</td>\n",
       "      <td>151</td>\n",
       "      <td>1.0</td>\n",
       "      <td>3.00</td>\n",
       "      <td>0.00</td>\n",
       "      <td>0.5</td>\n",
       "      <td>0.75</td>\n",
       "      <td>0.0</td>\n",
       "      <td>0.3</td>\n",
       "      <td>4.55</td>\n",
       "      <td>0.0</td>\n",
       "      <td>0.73</td>\n",
       "    </tr>\n",
       "    <tr>\n",
       "      <th>3</th>\n",
       "      <td>348098</td>\n",
       "      <td>1.0</td>\n",
       "      <td>2021-01-10 12:32:00</td>\n",
       "      <td>2021-01-10 12:38:04</td>\n",
       "      <td>1.0</td>\n",
       "      <td>1.20</td>\n",
       "      <td>1.0</td>\n",
       "      <td>N</td>\n",
       "      <td>237</td>\n",
       "      <td>236</td>\n",
       "      <td>1.0</td>\n",
       "      <td>6.50</td>\n",
       "      <td>2.50</td>\n",
       "      <td>0.5</td>\n",
       "      <td>1.95</td>\n",
       "      <td>0.0</td>\n",
       "      <td>0.3</td>\n",
       "      <td>11.75</td>\n",
       "      <td>2.5</td>\n",
       "      <td>6.07</td>\n",
       "    </tr>\n",
       "    <tr>\n",
       "      <th>4</th>\n",
       "      <td>271484</td>\n",
       "      <td>1.0</td>\n",
       "      <td>2021-01-08 12:21:29</td>\n",
       "      <td>2021-01-08 12:26:44</td>\n",
       "      <td>1.0</td>\n",
       "      <td>1.10</td>\n",
       "      <td>1.0</td>\n",
       "      <td>N</td>\n",
       "      <td>239</td>\n",
       "      <td>236</td>\n",
       "      <td>1.0</td>\n",
       "      <td>6.00</td>\n",
       "      <td>2.50</td>\n",
       "      <td>0.5</td>\n",
       "      <td>1.85</td>\n",
       "      <td>0.0</td>\n",
       "      <td>0.3</td>\n",
       "      <td>11.15</td>\n",
       "      <td>2.5</td>\n",
       "      <td>5.25</td>\n",
       "    </tr>\n",
       "    <tr>\n",
       "      <th>...</th>\n",
       "      <td>...</td>\n",
       "      <td>...</td>\n",
       "      <td>...</td>\n",
       "      <td>...</td>\n",
       "      <td>...</td>\n",
       "      <td>...</td>\n",
       "      <td>...</td>\n",
       "      <td>...</td>\n",
       "      <td>...</td>\n",
       "      <td>...</td>\n",
       "      <td>...</td>\n",
       "      <td>...</td>\n",
       "      <td>...</td>\n",
       "      <td>...</td>\n",
       "      <td>...</td>\n",
       "      <td>...</td>\n",
       "      <td>...</td>\n",
       "      <td>...</td>\n",
       "      <td>...</td>\n",
       "      <td>...</td>\n",
       "    </tr>\n",
       "    <tr>\n",
       "      <th>600022</th>\n",
       "      <td>237757</td>\n",
       "      <td>NaN</td>\n",
       "      <td>2021-07-24 15:08:00</td>\n",
       "      <td>2021-07-24 15:34:00</td>\n",
       "      <td>NaN</td>\n",
       "      <td>2.96</td>\n",
       "      <td>NaN</td>\n",
       "      <td>NaN</td>\n",
       "      <td>239</td>\n",
       "      <td>246</td>\n",
       "      <td>NaN</td>\n",
       "      <td>13.39</td>\n",
       "      <td>0.00</td>\n",
       "      <td>0.5</td>\n",
       "      <td>2.00</td>\n",
       "      <td>0.0</td>\n",
       "      <td>0.3</td>\n",
       "      <td>18.69</td>\n",
       "      <td>2.5</td>\n",
       "      <td>26.00</td>\n",
       "    </tr>\n",
       "    <tr>\n",
       "      <th>600023</th>\n",
       "      <td>132333</td>\n",
       "      <td>1.0</td>\n",
       "      <td>2021-07-31 18:09:06</td>\n",
       "      <td>2021-07-31 18:18:42</td>\n",
       "      <td>2.0</td>\n",
       "      <td>1.70</td>\n",
       "      <td>1.0</td>\n",
       "      <td>N</td>\n",
       "      <td>164</td>\n",
       "      <td>68</td>\n",
       "      <td>1.0</td>\n",
       "      <td>8.00</td>\n",
       "      <td>2.50</td>\n",
       "      <td>0.5</td>\n",
       "      <td>1.50</td>\n",
       "      <td>0.0</td>\n",
       "      <td>0.3</td>\n",
       "      <td>12.80</td>\n",
       "      <td>2.5</td>\n",
       "      <td>9.60</td>\n",
       "    </tr>\n",
       "    <tr>\n",
       "      <th>600024</th>\n",
       "      <td>231001</td>\n",
       "      <td>NaN</td>\n",
       "      <td>2021-07-17 14:36:01</td>\n",
       "      <td>2021-07-17 15:09:11</td>\n",
       "      <td>NaN</td>\n",
       "      <td>12.54</td>\n",
       "      <td>NaN</td>\n",
       "      <td>NaN</td>\n",
       "      <td>232</td>\n",
       "      <td>127</td>\n",
       "      <td>NaN</td>\n",
       "      <td>40.67</td>\n",
       "      <td>5.50</td>\n",
       "      <td>0.5</td>\n",
       "      <td>0.00</td>\n",
       "      <td>0.0</td>\n",
       "      <td>0.3</td>\n",
       "      <td>46.97</td>\n",
       "      <td>0.0</td>\n",
       "      <td>33.17</td>\n",
       "    </tr>\n",
       "    <tr>\n",
       "      <th>600025</th>\n",
       "      <td>107995</td>\n",
       "      <td>1.0</td>\n",
       "      <td>2021-07-31 14:40:17</td>\n",
       "      <td>2021-07-31 14:55:22</td>\n",
       "      <td>0.0</td>\n",
       "      <td>3.10</td>\n",
       "      <td>1.0</td>\n",
       "      <td>N</td>\n",
       "      <td>144</td>\n",
       "      <td>229</td>\n",
       "      <td>1.0</td>\n",
       "      <td>13.00</td>\n",
       "      <td>2.50</td>\n",
       "      <td>0.5</td>\n",
       "      <td>2.77</td>\n",
       "      <td>0.0</td>\n",
       "      <td>0.3</td>\n",
       "      <td>19.07</td>\n",
       "      <td>2.5</td>\n",
       "      <td>15.08</td>\n",
       "    </tr>\n",
       "    <tr>\n",
       "      <th>600026</th>\n",
       "      <td>279024</td>\n",
       "      <td>NaN</td>\n",
       "      <td>2021-07-31 08:23:00</td>\n",
       "      <td>2021-07-31 08:35:00</td>\n",
       "      <td>NaN</td>\n",
       "      <td>3.44</td>\n",
       "      <td>NaN</td>\n",
       "      <td>NaN</td>\n",
       "      <td>10</td>\n",
       "      <td>130</td>\n",
       "      <td>NaN</td>\n",
       "      <td>28.08</td>\n",
       "      <td>2.75</td>\n",
       "      <td>0.5</td>\n",
       "      <td>0.00</td>\n",
       "      <td>0.0</td>\n",
       "      <td>0.3</td>\n",
       "      <td>31.63</td>\n",
       "      <td>0.0</td>\n",
       "      <td>12.00</td>\n",
       "    </tr>\n",
       "  </tbody>\n",
       "</table>\n",
       "<p>600027 rows × 20 columns</p>\n",
       "</div>"
      ],
      "text/plain": [
       "         index  VendorID tpep_pickup_datetime tpep_dropoff_datetime  \\\n",
       "0       141052       1.0  2021-01-05 13:41:01   2021-01-05 14:01:00   \n",
       "1        13035       1.0  2021-01-01 15:51:15   2021-01-01 15:56:45   \n",
       "2        63888       1.0  2021-01-03 13:11:33   2021-01-03 13:12:17   \n",
       "3       348098       1.0  2021-01-10 12:32:00   2021-01-10 12:38:04   \n",
       "4       271484       1.0  2021-01-08 12:21:29   2021-01-08 12:26:44   \n",
       "...        ...       ...                  ...                   ...   \n",
       "600022  237757       NaN  2021-07-24 15:08:00   2021-07-24 15:34:00   \n",
       "600023  132333       1.0  2021-07-31 18:09:06   2021-07-31 18:18:42   \n",
       "600024  231001       NaN  2021-07-17 14:36:01   2021-07-17 15:09:11   \n",
       "600025  107995       1.0  2021-07-31 14:40:17   2021-07-31 14:55:22   \n",
       "600026  279024       NaN  2021-07-31 08:23:00   2021-07-31 08:35:00   \n",
       "\n",
       "        passenger_count  trip_distance  RatecodeID store_and_fwd_flag  \\\n",
       "0                   1.0           6.40         1.0                  N   \n",
       "1                   1.0           1.00         1.0                  N   \n",
       "2                   0.0           0.30         1.0                  N   \n",
       "3                   1.0           1.20         1.0                  N   \n",
       "4                   1.0           1.10         1.0                  N   \n",
       "...                 ...            ...         ...                ...   \n",
       "600022              NaN           2.96         NaN                NaN   \n",
       "600023              2.0           1.70         1.0                  N   \n",
       "600024              NaN          12.54         NaN                NaN   \n",
       "600025              0.0           3.10         1.0                  N   \n",
       "600026              NaN           3.44         NaN                NaN   \n",
       "\n",
       "        PULocationID  DOLocationID  payment_type  fare_amount  extra  mta_tax  \\\n",
       "0                236           244           1.0        22.00   2.50      0.5   \n",
       "1                230            68           1.0         6.00   2.50      0.5   \n",
       "2                166           151           1.0         3.00   0.00      0.5   \n",
       "3                237           236           1.0         6.50   2.50      0.5   \n",
       "4                239           236           1.0         6.00   2.50      0.5   \n",
       "...              ...           ...           ...          ...    ...      ...   \n",
       "600022           239           246           NaN        13.39   0.00      0.5   \n",
       "600023           164            68           1.0         8.00   2.50      0.5   \n",
       "600024           232           127           NaN        40.67   5.50      0.5   \n",
       "600025           144           229           1.0        13.00   2.50      0.5   \n",
       "600026            10           130           NaN        28.08   2.75      0.5   \n",
       "\n",
       "        tip_amount  tolls_amount  improvement_surcharge  total_amount  \\\n",
       "0             5.05           0.0                    0.3         30.35   \n",
       "1             0.00           0.0                    0.3          9.30   \n",
       "2             0.75           0.0                    0.3          4.55   \n",
       "3             1.95           0.0                    0.3         11.75   \n",
       "4             1.85           0.0                    0.3         11.15   \n",
       "...            ...           ...                    ...           ...   \n",
       "600022        2.00           0.0                    0.3         18.69   \n",
       "600023        1.50           0.0                    0.3         12.80   \n",
       "600024        0.00           0.0                    0.3         46.97   \n",
       "600025        2.77           0.0                    0.3         19.07   \n",
       "600026        0.00           0.0                    0.3         31.63   \n",
       "\n",
       "        congestion_surcharge  Time_diff_min  \n",
       "0                        2.5          19.98  \n",
       "1                        2.5           5.50  \n",
       "2                        0.0           0.73  \n",
       "3                        2.5           6.07  \n",
       "4                        2.5           5.25  \n",
       "...                      ...            ...  \n",
       "600022                   2.5          26.00  \n",
       "600023                   2.5           9.60  \n",
       "600024                   0.0          33.17  \n",
       "600025                   2.5          15.08  \n",
       "600026                   0.0          12.00  \n",
       "\n",
       "[600027 rows x 20 columns]"
      ]
     },
     "execution_count": 19,
     "metadata": {},
     "output_type": "execute_result"
    }
   ],
   "source": [
    "new_dt"
   ]
  },
  {
   "cell_type": "markdown",
   "metadata": {},
   "source": [
    "## __Analysis Part-II__"
   ]
  },
  {
   "cell_type": "markdown",
   "metadata": {},
   "source": [
    "## __6. Creating a new dataframe__"
   ]
  },
  {
   "cell_type": "code",
   "execution_count": 20,
   "metadata": {},
   "outputs": [
    {
     "data": {
      "text/html": [
       "<div>\n",
       "<style scoped>\n",
       "    .dataframe tbody tr th:only-of-type {\n",
       "        vertical-align: middle;\n",
       "    }\n",
       "\n",
       "    .dataframe tbody tr th {\n",
       "        vertical-align: top;\n",
       "    }\n",
       "\n",
       "    .dataframe thead th {\n",
       "        text-align: right;\n",
       "    }\n",
       "</style>\n",
       "<table border=\"1\" class=\"dataframe\">\n",
       "  <thead>\n",
       "    <tr style=\"text-align: right;\">\n",
       "      <th></th>\n",
       "      <th>index</th>\n",
       "      <th>VendorID</th>\n",
       "      <th>tpep_pickup_datetime</th>\n",
       "      <th>tpep_dropoff_datetime</th>\n",
       "      <th>passenger_count</th>\n",
       "      <th>trip_distance</th>\n",
       "      <th>PULocationID</th>\n",
       "      <th>DOLocationID</th>\n",
       "      <th>total_amount</th>\n",
       "      <th>Time_diff_min</th>\n",
       "    </tr>\n",
       "  </thead>\n",
       "  <tbody>\n",
       "    <tr>\n",
       "      <th>0</th>\n",
       "      <td>141052</td>\n",
       "      <td>1.0</td>\n",
       "      <td>2021-01-05 13:41:01</td>\n",
       "      <td>2021-01-05 14:01:00</td>\n",
       "      <td>1.0</td>\n",
       "      <td>6.4</td>\n",
       "      <td>236</td>\n",
       "      <td>244</td>\n",
       "      <td>30.35</td>\n",
       "      <td>19.98</td>\n",
       "    </tr>\n",
       "    <tr>\n",
       "      <th>1</th>\n",
       "      <td>13035</td>\n",
       "      <td>1.0</td>\n",
       "      <td>2021-01-01 15:51:15</td>\n",
       "      <td>2021-01-01 15:56:45</td>\n",
       "      <td>1.0</td>\n",
       "      <td>1.0</td>\n",
       "      <td>230</td>\n",
       "      <td>68</td>\n",
       "      <td>9.30</td>\n",
       "      <td>5.50</td>\n",
       "    </tr>\n",
       "    <tr>\n",
       "      <th>2</th>\n",
       "      <td>63888</td>\n",
       "      <td>1.0</td>\n",
       "      <td>2021-01-03 13:11:33</td>\n",
       "      <td>2021-01-03 13:12:17</td>\n",
       "      <td>0.0</td>\n",
       "      <td>0.3</td>\n",
       "      <td>166</td>\n",
       "      <td>151</td>\n",
       "      <td>4.55</td>\n",
       "      <td>0.73</td>\n",
       "    </tr>\n",
       "    <tr>\n",
       "      <th>3</th>\n",
       "      <td>348098</td>\n",
       "      <td>1.0</td>\n",
       "      <td>2021-01-10 12:32:00</td>\n",
       "      <td>2021-01-10 12:38:04</td>\n",
       "      <td>1.0</td>\n",
       "      <td>1.2</td>\n",
       "      <td>237</td>\n",
       "      <td>236</td>\n",
       "      <td>11.75</td>\n",
       "      <td>6.07</td>\n",
       "    </tr>\n",
       "    <tr>\n",
       "      <th>4</th>\n",
       "      <td>271484</td>\n",
       "      <td>1.0</td>\n",
       "      <td>2021-01-08 12:21:29</td>\n",
       "      <td>2021-01-08 12:26:44</td>\n",
       "      <td>1.0</td>\n",
       "      <td>1.1</td>\n",
       "      <td>239</td>\n",
       "      <td>236</td>\n",
       "      <td>11.15</td>\n",
       "      <td>5.25</td>\n",
       "    </tr>\n",
       "  </tbody>\n",
       "</table>\n",
       "</div>"
      ],
      "text/plain": [
       "    index  VendorID tpep_pickup_datetime tpep_dropoff_datetime  \\\n",
       "0  141052       1.0  2021-01-05 13:41:01   2021-01-05 14:01:00   \n",
       "1   13035       1.0  2021-01-01 15:51:15   2021-01-01 15:56:45   \n",
       "2   63888       1.0  2021-01-03 13:11:33   2021-01-03 13:12:17   \n",
       "3  348098       1.0  2021-01-10 12:32:00   2021-01-10 12:38:04   \n",
       "4  271484       1.0  2021-01-08 12:21:29   2021-01-08 12:26:44   \n",
       "\n",
       "   passenger_count  trip_distance  PULocationID  DOLocationID  total_amount  \\\n",
       "0              1.0            6.4           236           244         30.35   \n",
       "1              1.0            1.0           230            68          9.30   \n",
       "2              0.0            0.3           166           151          4.55   \n",
       "3              1.0            1.2           237           236         11.75   \n",
       "4              1.0            1.1           239           236         11.15   \n",
       "\n",
       "   Time_diff_min  \n",
       "0          19.98  \n",
       "1           5.50  \n",
       "2           0.73  \n",
       "3           6.07  \n",
       "4           5.25  "
      ]
     },
     "execution_count": 20,
     "metadata": {},
     "output_type": "execute_result"
    }
   ],
   "source": [
    "idata = new_dt.iloc[:,[0,1,2,3,4,5,8,9,17,19]]\n",
    "idata.head()"
   ]
  },
  {
   "cell_type": "code",
   "execution_count": 21,
   "metadata": {},
   "outputs": [
    {
     "data": {
      "text/plain": [
       "index                        0\n",
       "VendorID                 33368\n",
       "tpep_pickup_datetime         0\n",
       "tpep_dropoff_datetime        0\n",
       "passenger_count          33368\n",
       "trip_distance                0\n",
       "PULocationID                 0\n",
       "DOLocationID                 0\n",
       "total_amount                 0\n",
       "Time_diff_min                0\n",
       "dtype: int64"
      ]
     },
     "execution_count": 21,
     "metadata": {},
     "output_type": "execute_result"
    }
   ],
   "source": [
    "idata.isnull().sum()"
   ]
  },
  {
   "cell_type": "code",
   "execution_count": 22,
   "metadata": {},
   "outputs": [
    {
     "data": {
      "text/plain": [
       "(600027, 10)"
      ]
     },
     "execution_count": 22,
     "metadata": {},
     "output_type": "execute_result"
    }
   ],
   "source": [
    "idata.shape"
   ]
  },
  {
   "cell_type": "markdown",
   "metadata": {},
   "source": [
    "## __7. Identifying the outliners in the dataset__"
   ]
  },
  {
   "cell_type": "markdown",
   "metadata": {},
   "source": [
    "### __7.1 Outliners in the time difference columns__"
   ]
  },
  {
   "cell_type": "code",
   "execution_count": 23,
   "metadata": {},
   "outputs": [
    {
     "data": {
      "text/plain": [
       "-0.98"
      ]
     },
     "execution_count": 23,
     "metadata": {},
     "output_type": "execute_result"
    }
   ],
   "source": [
    "idata['Time_diff_min'].min()"
   ]
  },
  {
   "cell_type": "code",
   "execution_count": 24,
   "metadata": {},
   "outputs": [
    {
     "data": {
      "text/plain": [
       "[-0.98, -0.97, -0.97, -0.97, -0.95]"
      ]
     },
     "execution_count": 24,
     "metadata": {},
     "output_type": "execute_result"
    }
   ],
   "source": [
    "# smallest time difference\n",
    "small= list(idata['Time_diff_min'].nsmallest(5))\n",
    "small"
   ]
  },
  {
   "cell_type": "code",
   "execution_count": 25,
   "metadata": {},
   "outputs": [
    {
     "name": "stdout",
     "output_type": "stream",
     "text": [
      "        index  VendorID tpep_pickup_datetime tpep_dropoff_datetime  \\\n",
      "184225  54264       NaN  2021-03-19 12:03:59   2021-03-19 12:03:00   \n",
      "\n",
      "        passenger_count  trip_distance  PULocationID  DOLocationID  \\\n",
      "184225              NaN           6.84           265            75   \n",
      "\n",
      "        total_amount  Time_diff_min  \n",
      "184225          23.0          -0.98  \n",
      "         index  VendorID tpep_pickup_datetime tpep_dropoff_datetime  \\\n",
      "48694   249564       NaN  2021-01-23 18:01:59   2021-01-23 18:01:01   \n",
      "362867  240435       NaN  2021-05-10 11:05:58   2021-05-10 11:05:00   \n",
      "485480  246879       NaN  2021-06-20 09:06:59   2021-06-20 09:06:01   \n",
      "\n",
      "        passenger_count  trip_distance  PULocationID  DOLocationID  \\\n",
      "48694               NaN           2.10           265           141   \n",
      "362867              NaN           2.12           265            39   \n",
      "485480              NaN           3.57           265           203   \n",
      "\n",
      "        total_amount  Time_diff_min  \n",
      "48694          12.91          -0.97  \n",
      "362867         26.00          -0.97  \n",
      "485480         16.00          -0.97  \n",
      "         index  VendorID tpep_pickup_datetime tpep_dropoff_datetime  \\\n",
      "48694   249564       NaN  2021-01-23 18:01:59   2021-01-23 18:01:01   \n",
      "362867  240435       NaN  2021-05-10 11:05:58   2021-05-10 11:05:00   \n",
      "485480  246879       NaN  2021-06-20 09:06:59   2021-06-20 09:06:01   \n",
      "\n",
      "        passenger_count  trip_distance  PULocationID  DOLocationID  \\\n",
      "48694               NaN           2.10           265           141   \n",
      "362867              NaN           2.12           265            39   \n",
      "485480              NaN           3.57           265           203   \n",
      "\n",
      "        total_amount  Time_diff_min  \n",
      "48694          12.91          -0.97  \n",
      "362867         26.00          -0.97  \n",
      "485480         16.00          -0.97  \n",
      "         index  VendorID tpep_pickup_datetime tpep_dropoff_datetime  \\\n",
      "48694   249564       NaN  2021-01-23 18:01:59   2021-01-23 18:01:01   \n",
      "362867  240435       NaN  2021-05-10 11:05:58   2021-05-10 11:05:00   \n",
      "485480  246879       NaN  2021-06-20 09:06:59   2021-06-20 09:06:01   \n",
      "\n",
      "        passenger_count  trip_distance  PULocationID  DOLocationID  \\\n",
      "48694               NaN           2.10           265           141   \n",
      "362867              NaN           2.12           265            39   \n",
      "485480              NaN           3.57           265           203   \n",
      "\n",
      "        total_amount  Time_diff_min  \n",
      "48694          12.91          -0.97  \n",
      "362867         26.00          -0.97  \n",
      "485480         16.00          -0.97  \n",
      "         index  VendorID tpep_pickup_datetime tpep_dropoff_datetime  \\\n",
      "108092  201280       NaN  2021-02-08 08:02:59   2021-02-08 08:02:02   \n",
      "\n",
      "        passenger_count  trip_distance  PULocationID  DOLocationID  \\\n",
      "108092              NaN          13.24           265           140   \n",
      "\n",
      "        total_amount  Time_diff_min  \n",
      "108092          77.0          -0.95  \n"
     ]
    }
   ],
   "source": [
    "for i in small:\n",
    "    z = idata[idata['Time_diff_min'] == i]\n",
    "    print(z)\n"
   ]
  },
  {
   "cell_type": "code",
   "execution_count": 26,
   "metadata": {},
   "outputs": [],
   "source": [
    "# larger time differences\n",
    "\n",
    "large = list(idata['Time_diff_min'].nlargest(5))"
   ]
  },
  {
   "cell_type": "code",
   "execution_count": 27,
   "metadata": {},
   "outputs": [
    {
     "name": "stdout",
     "output_type": "stream",
     "text": [
      "         index  VendorID tpep_pickup_datetime tpep_dropoff_datetime  \\\n",
      "364138  266514       NaN  2021-05-12 13:05:12   2021-05-14 13:05:00   \n",
      "\n",
      "        passenger_count  trip_distance  PULocationID  DOLocationID  \\\n",
      "364138              NaN           4.51           265           242   \n",
      "\n",
      "        total_amount  Time_diff_min  \n",
      "364138          6.81         2879.8  \n",
      "         index  VendorID tpep_pickup_datetime tpep_dropoff_datetime  \\\n",
      "371456  322332       NaN  2021-05-27 20:05:22   2021-05-28 21:05:00   \n",
      "\n",
      "        passenger_count  trip_distance  PULocationID  DOLocationID  \\\n",
      "371456              NaN           16.1           265            61   \n",
      "\n",
      "        total_amount  Time_diff_min  \n",
      "371456         58.47        1499.63  \n",
      "        index  VendorID tpep_pickup_datetime tpep_dropoff_datetime  \\\n",
      "359216  62611       2.0  2021-05-25 07:10:52   2021-05-26 07:10:42   \n",
      "\n",
      "        passenger_count  trip_distance  PULocationID  DOLocationID  \\\n",
      "359216              1.0          19.24           132           244   \n",
      "\n",
      "        total_amount  Time_diff_min  \n",
      "359216         71.22        1439.83  \n",
      "         index  VendorID tpep_pickup_datetime tpep_dropoff_datetime  \\\n",
      "564997  351531       2.0  2021-07-26 11:37:22   2021-07-27 11:37:05   \n",
      "\n",
      "        passenger_count  trip_distance  PULocationID  DOLocationID  \\\n",
      "564997              1.0           0.79           237           237   \n",
      "\n",
      "        total_amount  Time_diff_min  \n",
      "564997         11.62        1439.72  \n",
      "        index  VendorID tpep_pickup_datetime tpep_dropoff_datetime  \\\n",
      "222048   3259       2.0  2021-04-12 15:25:35   2021-04-13 15:25:14   \n",
      "\n",
      "        passenger_count  trip_distance  PULocationID  DOLocationID  \\\n",
      "222048              1.0           1.08           262           236   \n",
      "\n",
      "        total_amount  Time_diff_min  \n",
      "222048         11.84        1439.65  \n"
     ]
    }
   ],
   "source": [
    "for i in large:\n",
    "    z1 = idata[idata['Time_diff_min'] == i]\n",
    "    print(z1)"
   ]
  },
  {
   "cell_type": "markdown",
   "metadata": {},
   "source": [
    "## __7.2 Outliners in the trip distance__"
   ]
  },
  {
   "cell_type": "code",
   "execution_count": 28,
   "metadata": {},
   "outputs": [
    {
     "data": {
      "text/plain": [
       "0.0"
      ]
     },
     "execution_count": 28,
     "metadata": {},
     "output_type": "execute_result"
    }
   ],
   "source": [
    "idata['trip_distance'].min()"
   ]
  },
  {
   "cell_type": "code",
   "execution_count": 29,
   "metadata": {},
   "outputs": [],
   "source": [
    "# long trip distance\n",
    "large_trip = list(idata['trip_distance'].nlargest(5))"
   ]
  },
  {
   "cell_type": "code",
   "execution_count": 30,
   "metadata": {},
   "outputs": [
    {
     "name": "stdout",
     "output_type": "stream",
     "text": [
      "         index  VendorID tpep_pickup_datetime tpep_dropoff_datetime  \\\n",
      "367983  249828       NaN  2021-05-13 21:10:00   2021-05-13 22:45:00   \n",
      "\n",
      "        passenger_count  trip_distance  PULocationID  DOLocationID  \\\n",
      "367983              NaN      198144.98            51            49   \n",
      "\n",
      "        total_amount  Time_diff_min  \n",
      "367983          65.2           95.0  \n",
      "         index  VendorID tpep_pickup_datetime tpep_dropoff_datetime  \\\n",
      "365527  210362       NaN  2021-05-03 11:00:00   2021-05-03 11:25:00   \n",
      "\n",
      "        passenger_count  trip_distance  PULocationID  DOLocationID  \\\n",
      "365527              NaN      187511.58           169           244   \n",
      "\n",
      "        total_amount  Time_diff_min  \n",
      "365527         21.31           25.0  \n",
      "         index  VendorID tpep_pickup_datetime tpep_dropoff_datetime  \\\n",
      "480539  182404       NaN  2021-06-10 04:35:00   2021-06-10 04:50:00   \n",
      "\n",
      "        passenger_count  trip_distance  PULocationID  DOLocationID  \\\n",
      "480539              NaN      162966.16           225           106   \n",
      "\n",
      "        total_amount  Time_diff_min  \n",
      "480539          22.2           15.0  \n",
      "         index  VendorID tpep_pickup_datetime tpep_dropoff_datetime  \\\n",
      "591018  227378       NaN  2021-07-16 12:42:00   2021-07-16 13:02:00   \n",
      "\n",
      "        passenger_count  trip_distance  PULocationID  DOLocationID  \\\n",
      "591018              NaN      153331.59           246           233   \n",
      "\n",
      "        total_amount  Time_diff_min  \n",
      "591018          23.0           20.0  \n",
      "         index  VendorID tpep_pickup_datetime tpep_dropoff_datetime  \\\n",
      "180487  353311       NaN  2021-03-01 07:35:00   2021-03-01 07:41:00   \n",
      "\n",
      "        passenger_count  trip_distance  PULocationID  DOLocationID  \\\n",
      "180487              NaN      150883.56           226           112   \n",
      "\n",
      "        total_amount  Time_diff_min  \n",
      "180487         18.01            6.0  \n"
     ]
    }
   ],
   "source": [
    "for i in large_trip:\n",
    "    z2 = idata[idata['trip_distance'] == i]\n",
    "    print(z2)"
   ]
  },
  {
   "cell_type": "code",
   "execution_count": 31,
   "metadata": {},
   "outputs": [
    {
     "data": {
      "text/plain": [
       "3269"
      ]
     },
     "execution_count": 31,
     "metadata": {},
     "output_type": "execute_result"
    }
   ],
   "source": [
    "idata['trip_distance'].nunique()"
   ]
  },
  {
   "cell_type": "code",
   "execution_count": 32,
   "metadata": {},
   "outputs": [
    {
     "data": {
      "text/plain": [
       "0.90     9248\n",
       "1.00     9104\n",
       "1.10     9062\n",
       "0.80     8940\n",
       "1.20     8901\n",
       "         ... \n",
       "24.38       1\n",
       "44.90       1\n",
       "31.29       1\n",
       "25.28       1\n",
       "25.84       1\n",
       "Name: trip_distance, Length: 3269, dtype: int64"
      ]
     },
     "execution_count": 32,
     "metadata": {},
     "output_type": "execute_result"
    }
   ],
   "source": [
    "idata['trip_distance'].value_counts()"
   ]
  },
  {
   "cell_type": "markdown",
   "metadata": {},
   "source": [
    "## __8. Extracting day of the week from the timestamp__"
   ]
  },
  {
   "cell_type": "code",
   "execution_count": 33,
   "metadata": {},
   "outputs": [
    {
     "name": "stderr",
     "output_type": "stream",
     "text": [
      "C:\\Users\\Nikhi\\AppData\\Local\\Temp/ipykernel_19948/2272664981.py:1: SettingWithCopyWarning: \n",
      "A value is trying to be set on a copy of a slice from a DataFrame.\n",
      "Try using .loc[row_indexer,col_indexer] = value instead\n",
      "\n",
      "See the caveats in the documentation: https://pandas.pydata.org/pandas-docs/stable/user_guide/indexing.html#returning-a-view-versus-a-copy\n",
      "  idata['pick_day'] = idata['tpep_pickup_datetime'].dt.day_name()\n",
      "C:\\Users\\Nikhi\\AppData\\Local\\Temp/ipykernel_19948/2272664981.py:2: SettingWithCopyWarning: \n",
      "A value is trying to be set on a copy of a slice from a DataFrame.\n",
      "Try using .loc[row_indexer,col_indexer] = value instead\n",
      "\n",
      "See the caveats in the documentation: https://pandas.pydata.org/pandas-docs/stable/user_guide/indexing.html#returning-a-view-versus-a-copy\n",
      "  idata['dropping_day'] = idata['tpep_dropoff_datetime'].dt.day_name()\n"
     ]
    },
    {
     "data": {
      "text/html": [
       "<div>\n",
       "<style scoped>\n",
       "    .dataframe tbody tr th:only-of-type {\n",
       "        vertical-align: middle;\n",
       "    }\n",
       "\n",
       "    .dataframe tbody tr th {\n",
       "        vertical-align: top;\n",
       "    }\n",
       "\n",
       "    .dataframe thead th {\n",
       "        text-align: right;\n",
       "    }\n",
       "</style>\n",
       "<table border=\"1\" class=\"dataframe\">\n",
       "  <thead>\n",
       "    <tr style=\"text-align: right;\">\n",
       "      <th></th>\n",
       "      <th>index</th>\n",
       "      <th>VendorID</th>\n",
       "      <th>tpep_pickup_datetime</th>\n",
       "      <th>tpep_dropoff_datetime</th>\n",
       "      <th>passenger_count</th>\n",
       "      <th>trip_distance</th>\n",
       "      <th>PULocationID</th>\n",
       "      <th>DOLocationID</th>\n",
       "      <th>total_amount</th>\n",
       "      <th>Time_diff_min</th>\n",
       "      <th>pick_day</th>\n",
       "      <th>dropping_day</th>\n",
       "    </tr>\n",
       "  </thead>\n",
       "  <tbody>\n",
       "    <tr>\n",
       "      <th>0</th>\n",
       "      <td>141052</td>\n",
       "      <td>1.0</td>\n",
       "      <td>2021-01-05 13:41:01</td>\n",
       "      <td>2021-01-05 14:01:00</td>\n",
       "      <td>1.0</td>\n",
       "      <td>6.4</td>\n",
       "      <td>236</td>\n",
       "      <td>244</td>\n",
       "      <td>30.35</td>\n",
       "      <td>19.98</td>\n",
       "      <td>Tuesday</td>\n",
       "      <td>Tuesday</td>\n",
       "    </tr>\n",
       "    <tr>\n",
       "      <th>1</th>\n",
       "      <td>13035</td>\n",
       "      <td>1.0</td>\n",
       "      <td>2021-01-01 15:51:15</td>\n",
       "      <td>2021-01-01 15:56:45</td>\n",
       "      <td>1.0</td>\n",
       "      <td>1.0</td>\n",
       "      <td>230</td>\n",
       "      <td>68</td>\n",
       "      <td>9.30</td>\n",
       "      <td>5.50</td>\n",
       "      <td>Friday</td>\n",
       "      <td>Friday</td>\n",
       "    </tr>\n",
       "    <tr>\n",
       "      <th>2</th>\n",
       "      <td>63888</td>\n",
       "      <td>1.0</td>\n",
       "      <td>2021-01-03 13:11:33</td>\n",
       "      <td>2021-01-03 13:12:17</td>\n",
       "      <td>0.0</td>\n",
       "      <td>0.3</td>\n",
       "      <td>166</td>\n",
       "      <td>151</td>\n",
       "      <td>4.55</td>\n",
       "      <td>0.73</td>\n",
       "      <td>Sunday</td>\n",
       "      <td>Sunday</td>\n",
       "    </tr>\n",
       "    <tr>\n",
       "      <th>3</th>\n",
       "      <td>348098</td>\n",
       "      <td>1.0</td>\n",
       "      <td>2021-01-10 12:32:00</td>\n",
       "      <td>2021-01-10 12:38:04</td>\n",
       "      <td>1.0</td>\n",
       "      <td>1.2</td>\n",
       "      <td>237</td>\n",
       "      <td>236</td>\n",
       "      <td>11.75</td>\n",
       "      <td>6.07</td>\n",
       "      <td>Sunday</td>\n",
       "      <td>Sunday</td>\n",
       "    </tr>\n",
       "    <tr>\n",
       "      <th>4</th>\n",
       "      <td>271484</td>\n",
       "      <td>1.0</td>\n",
       "      <td>2021-01-08 12:21:29</td>\n",
       "      <td>2021-01-08 12:26:44</td>\n",
       "      <td>1.0</td>\n",
       "      <td>1.1</td>\n",
       "      <td>239</td>\n",
       "      <td>236</td>\n",
       "      <td>11.15</td>\n",
       "      <td>5.25</td>\n",
       "      <td>Friday</td>\n",
       "      <td>Friday</td>\n",
       "    </tr>\n",
       "  </tbody>\n",
       "</table>\n",
       "</div>"
      ],
      "text/plain": [
       "    index  VendorID tpep_pickup_datetime tpep_dropoff_datetime  \\\n",
       "0  141052       1.0  2021-01-05 13:41:01   2021-01-05 14:01:00   \n",
       "1   13035       1.0  2021-01-01 15:51:15   2021-01-01 15:56:45   \n",
       "2   63888       1.0  2021-01-03 13:11:33   2021-01-03 13:12:17   \n",
       "3  348098       1.0  2021-01-10 12:32:00   2021-01-10 12:38:04   \n",
       "4  271484       1.0  2021-01-08 12:21:29   2021-01-08 12:26:44   \n",
       "\n",
       "   passenger_count  trip_distance  PULocationID  DOLocationID  total_amount  \\\n",
       "0              1.0            6.4           236           244         30.35   \n",
       "1              1.0            1.0           230            68          9.30   \n",
       "2              0.0            0.3           166           151          4.55   \n",
       "3              1.0            1.2           237           236         11.75   \n",
       "4              1.0            1.1           239           236         11.15   \n",
       "\n",
       "   Time_diff_min pick_day dropping_day  \n",
       "0          19.98  Tuesday      Tuesday  \n",
       "1           5.50   Friday       Friday  \n",
       "2           0.73   Sunday       Sunday  \n",
       "3           6.07   Sunday       Sunday  \n",
       "4           5.25   Friday       Friday  "
      ]
     },
     "execution_count": 33,
     "metadata": {},
     "output_type": "execute_result"
    }
   ],
   "source": [
    "# creating a new columns with pickup and dropping days\n",
    "\n",
    "idata['pick_day'] = idata['tpep_pickup_datetime'].dt.day_name()\n",
    "idata['dropping_day'] = idata['tpep_dropoff_datetime'].dt.day_name()\n",
    "idata.head()"
   ]
  },
  {
   "cell_type": "markdown",
   "metadata": {},
   "source": [
    "## __9. Calculating the latitudes and longtitudes__"
   ]
  },
  {
   "cell_type": "code",
   "execution_count": 34,
   "metadata": {},
   "outputs": [
    {
     "data": {
      "text/plain": [
       "255"
      ]
     },
     "execution_count": 34,
     "metadata": {},
     "output_type": "execute_result"
    }
   ],
   "source": [
    "#checking unique pickup location\n",
    "idata['PULocationID'].nunique()"
   ]
  },
  {
   "cell_type": "code",
   "execution_count": 35,
   "metadata": {},
   "outputs": [
    {
     "data": {
      "text/plain": [
       "237    31200\n",
       "236    29646\n",
       "161    20035\n",
       "186    19852\n",
       "170    19226\n",
       "       ...  \n",
       "118        1\n",
       "214        1\n",
       "111        1\n",
       "204        1\n",
       "99         1\n",
       "Name: PULocationID, Length: 255, dtype: int64"
      ]
     },
     "execution_count": 35,
     "metadata": {},
     "output_type": "execute_result"
    }
   ],
   "source": [
    "#checking the number of repetition of the pickup location\n",
    "idata['PULocationID'].value_counts()"
   ]
  },
  {
   "cell_type": "markdown",
   "metadata": {},
   "source": [
    "### __9.1 Installing and importing libraries for the calculation__"
   ]
  },
  {
   "cell_type": "code",
   "execution_count": 36,
   "metadata": {},
   "outputs": [
    {
     "name": "stdout",
     "output_type": "stream",
     "text": [
      "Requirement already satisfied: geopandas in d:\\anaconda\\envs\\my_env\\lib\\site-packages (0.9.0)\n",
      "Requirement already satisfied: pandas>=0.24.0 in d:\\anaconda\\envs\\my_env\\lib\\site-packages (from geopandas) (1.3.4)\n",
      "Requirement already satisfied: fiona>=1.8 in d:\\anaconda\\envs\\my_env\\lib\\site-packages (from geopandas) (1.8.13.post1)\n",
      "Requirement already satisfied: pyproj>=2.2.0 in d:\\anaconda\\envs\\my_env\\lib\\site-packages (from geopandas) (2.6.1.post1)\n",
      "Requirement already satisfied: shapely>=1.6 in d:\\anaconda\\envs\\my_env\\lib\\site-packages (from geopandas) (1.7.1)\n",
      "Requirement already satisfied: attrs>=17 in d:\\anaconda\\envs\\my_env\\lib\\site-packages (from fiona>=1.8->geopandas) (21.2.0)\n",
      "Requirement already satisfied: click<8,>=4.0 in d:\\anaconda\\envs\\my_env\\lib\\site-packages (from fiona>=1.8->geopandas) (7.1.2)\n",
      "Requirement already satisfied: cligj>=0.5 in d:\\anaconda\\envs\\my_env\\lib\\site-packages (from fiona>=1.8->geopandas) (0.7.2)\n",
      "Requirement already satisfied: click-plugins>=1.0 in d:\\anaconda\\envs\\my_env\\lib\\site-packages (from fiona>=1.8->geopandas) (1.1.1)\n",
      "Requirement already satisfied: six>=1.7 in d:\\anaconda\\envs\\my_env\\lib\\site-packages (from fiona>=1.8->geopandas) (1.16.0)\n",
      "Requirement already satisfied: munch in d:\\anaconda\\envs\\my_env\\lib\\site-packages (from fiona>=1.8->geopandas) (2.5.0)\n",
      "Requirement already satisfied: pytz>=2017.3 in d:\\anaconda\\envs\\my_env\\lib\\site-packages (from pandas>=0.24.0->geopandas) (2021.3)\n",
      "Requirement already satisfied: python-dateutil>=2.7.3 in d:\\anaconda\\envs\\my_env\\lib\\site-packages (from pandas>=0.24.0->geopandas) (2.8.2)\n",
      "Requirement already satisfied: numpy>=1.17.3 in d:\\anaconda\\envs\\my_env\\lib\\site-packages (from pandas>=0.24.0->geopandas) (1.21.2)\n"
     ]
    }
   ],
   "source": [
    "!pip install geopandas"
   ]
  },
  {
   "cell_type": "code",
   "execution_count": 37,
   "metadata": {},
   "outputs": [
    {
     "name": "stdout",
     "output_type": "stream",
     "text": [
      "Requirement already satisfied: geopy in d:\\anaconda\\envs\\my_env\\lib\\site-packages (2.2.0)\n",
      "Requirement already satisfied: geographiclib<2,>=1.49 in d:\\anaconda\\envs\\my_env\\lib\\site-packages (from geopy) (1.52)\n"
     ]
    }
   ],
   "source": [
    "!pip install geopy"
   ]
  },
  {
   "cell_type": "code",
   "execution_count": 38,
   "metadata": {},
   "outputs": [],
   "source": [
    "import geopandas as gpd\n",
    "import geopy"
   ]
  },
  {
   "cell_type": "markdown",
   "metadata": {},
   "source": [
    "### __9.2 Using delay as magic method to save the processing the time__"
   ]
  },
  {
   "cell_type": "code",
   "execution_count": 39,
   "metadata": {},
   "outputs": [],
   "source": [
    "from dask import delayed"
   ]
  },
  {
   "cell_type": "code",
   "execution_count": 52,
   "metadata": {},
   "outputs": [
    {
     "name": "stdout",
     "output_type": "stream",
     "text": [
      "^C\n"
     ]
    }
   ],
   "source": [
    "!pip install ArcGIS"
   ]
  },
  {
   "cell_type": "code",
   "execution_count": 40,
   "metadata": {},
   "outputs": [
    {
     "data": {
      "text/plain": [
       "[(40.719130000000064, -73.98560299999997)]"
      ]
     },
     "execution_count": 40,
     "metadata": {},
     "output_type": "execute_result"
    }
   ],
   "source": [
    "# function for calculating latitudes and longtitudes\n",
    "# here ArcGIS is used to extract the location details\n",
    "\n",
    "@delayed(pure = True)\n",
    "def addr_long(x):\n",
    "    from geopy.geocoders import ArcGIS\n",
    "    lat_ = []\n",
    "    long_ = []\n",
    "    points = []\n",
    "    for i in x:\n",
    "        loc = ArcGIS()\n",
    "        addr = loc.geocode(i, timeout=None)\n",
    "        if addr is None:\n",
    "            lat_.append(None)\n",
    "            long_.append(None)\n",
    "        else:\n",
    "            longitude = addr.longitude\n",
    "            latitude = addr.latitude\n",
    "            points.append((latitude, longitude))\n",
    "    return points\n",
    "addr_long(['NY 151']).compute()"
   ]
  },
  {
   "cell_type": "code",
   "execution_count": 41,
   "metadata": {},
   "outputs": [],
   "source": [
    "# converting into the list\n",
    "pick_up_location = list(idata['PULocationID'].astype(str))"
   ]
  },
  {
   "cell_type": "code",
   "execution_count": 42,
   "metadata": {},
   "outputs": [],
   "source": [
    "# concatenating the 'NY' (Newyork) and the string for easy identification of location\n",
    "pick_up_point = []\n",
    "for i in pick_up_location:\n",
    "    x_ = 'NY' + ' ' + i\n",
    "    pick_up_point.append(x_)"
   ]
  },
  {
   "cell_type": "code",
   "execution_count": 43,
   "metadata": {},
   "outputs": [
    {
     "name": "stderr",
     "output_type": "stream",
     "text": [
      "C:\\Users\\Nikhi\\AppData\\Local\\Temp/ipykernel_19948/2248969810.py:1: SettingWithCopyWarning: \n",
      "A value is trying to be set on a copy of a slice from a DataFrame.\n",
      "Try using .loc[row_indexer,col_indexer] = value instead\n",
      "\n",
      "See the caveats in the documentation: https://pandas.pydata.org/pandas-docs/stable/user_guide/indexing.html#returning-a-view-versus-a-copy\n",
      "  idata['Pick_locationId'] = pick_up_point\n"
     ]
    }
   ],
   "source": [
    "# creating a new column with concatenate values\n",
    "idata['Pick_locationId'] = pick_up_point\n",
    "pick_loc = list(idata['Pick_locationId'])"
   ]
  },
  {
   "cell_type": "code",
   "execution_count": 44,
   "metadata": {},
   "outputs": [],
   "source": [
    "# converting into the list\n",
    "drop_off_location = list(idata['DOLocationID'].astype(str))"
   ]
  },
  {
   "cell_type": "code",
   "execution_count": 45,
   "metadata": {},
   "outputs": [],
   "source": [
    "# concatenating the 'NY' (Newyork) and the string for easy identification of location\n",
    "drop_off_point = []\n",
    "for i in drop_off_location:\n",
    "    x_ = 'NY' + ' ' + i\n",
    "    drop_off_point.append(x_)"
   ]
  },
  {
   "cell_type": "code",
   "execution_count": 46,
   "metadata": {},
   "outputs": [
    {
     "name": "stderr",
     "output_type": "stream",
     "text": [
      "C:\\Users\\Nikhi\\AppData\\Local\\Temp/ipykernel_19948/395845284.py:1: SettingWithCopyWarning: \n",
      "A value is trying to be set on a copy of a slice from a DataFrame.\n",
      "Try using .loc[row_indexer,col_indexer] = value instead\n",
      "\n",
      "See the caveats in the documentation: https://pandas.pydata.org/pandas-docs/stable/user_guide/indexing.html#returning-a-view-versus-a-copy\n",
      "  idata['dropoff_locationId'] = drop_off_point\n"
     ]
    }
   ],
   "source": [
    "# creating a new column with concatenate values\n",
    "idata['dropoff_locationId'] = drop_off_point\n",
    "drop_loc = list(idata['dropoff_locationId'])"
   ]
  },
  {
   "cell_type": "code",
   "execution_count": 47,
   "metadata": {},
   "outputs": [
    {
     "name": "stdout",
     "output_type": "stream",
     "text": [
      "Wall time: 41.8 s\n"
     ]
    }
   ],
   "source": [
    "%%time\n",
    "# calculating the pickup location\n",
    "plocation = [] \n",
    "for i in pick_loc[0:len(pick_loc)]:\n",
    "    x = addr_long([i])\n",
    "    plocation.append(x)"
   ]
  },
  {
   "cell_type": "code",
   "execution_count": 48,
   "metadata": {},
   "outputs": [
    {
     "data": {
      "text/plain": [
       "[(40.65374004452198, -73.74707492242896)]"
      ]
     },
     "execution_count": 48,
     "metadata": {},
     "output_type": "execute_result"
    }
   ],
   "source": [
    "plocation[0].compute()"
   ]
  },
  {
   "cell_type": "markdown",
   "metadata": {},
   "source": [
    "### __9.3 Converting the delay objects into the values__\n",
    "\n",
    "- [dask.compute]('http://distributed.dask.org/en/latest/manage-computation.html')"
   ]
  },
  {
   "cell_type": "code",
   "execution_count": 49,
   "metadata": {},
   "outputs": [],
   "source": [
    "# dask.compute() is used to show the results and it saves a lot of time\n",
    "\n",
    "pickup_loc = dask.compute(plocation)"
   ]
  },
  {
   "cell_type": "code",
   "execution_count": 50,
   "metadata": {},
   "outputs": [
    {
     "name": "stdout",
     "output_type": "stream",
     "text": [
      "Wall time: 39.9 s\n"
     ]
    }
   ],
   "source": [
    "%%time\n",
    "# calculating the dropoff location\n",
    "dlocation = [] \n",
    "for i in drop_loc[0:len(drop_loc)]:\n",
    "    d_ = addr_long([i])\n",
    "    dlocation.append(d_)"
   ]
  },
  {
   "cell_type": "code",
   "execution_count": 51,
   "metadata": {},
   "outputs": [],
   "source": [
    "# dask.compute() is used to show the results and it saves a lot of time\n",
    "\n",
    "dropoff_loc = dask.compute(dlocation)"
   ]
  },
  {
   "cell_type": "code",
   "execution_count": 52,
   "metadata": {},
   "outputs": [
    {
     "data": {
      "text/html": [
       "<div>\n",
       "<style scoped>\n",
       "    .dataframe tbody tr th:only-of-type {\n",
       "        vertical-align: middle;\n",
       "    }\n",
       "\n",
       "    .dataframe tbody tr th {\n",
       "        vertical-align: top;\n",
       "    }\n",
       "\n",
       "    .dataframe thead th {\n",
       "        text-align: right;\n",
       "    }\n",
       "</style>\n",
       "<table border=\"1\" class=\"dataframe\">\n",
       "  <thead>\n",
       "    <tr style=\"text-align: right;\">\n",
       "      <th></th>\n",
       "      <th>index</th>\n",
       "      <th>VendorID</th>\n",
       "      <th>tpep_pickup_datetime</th>\n",
       "      <th>tpep_dropoff_datetime</th>\n",
       "      <th>passenger_count</th>\n",
       "      <th>trip_distance</th>\n",
       "      <th>PULocationID</th>\n",
       "      <th>DOLocationID</th>\n",
       "      <th>total_amount</th>\n",
       "      <th>Time_diff_min</th>\n",
       "      <th>pick_day</th>\n",
       "      <th>dropping_day</th>\n",
       "      <th>Pick_locationId</th>\n",
       "      <th>dropoff_locationId</th>\n",
       "    </tr>\n",
       "  </thead>\n",
       "  <tbody>\n",
       "    <tr>\n",
       "      <th>0</th>\n",
       "      <td>141052</td>\n",
       "      <td>1.0</td>\n",
       "      <td>2021-01-05 13:41:01</td>\n",
       "      <td>2021-01-05 14:01:00</td>\n",
       "      <td>1.0</td>\n",
       "      <td>6.4</td>\n",
       "      <td>236</td>\n",
       "      <td>244</td>\n",
       "      <td>30.35</td>\n",
       "      <td>19.98</td>\n",
       "      <td>Tuesday</td>\n",
       "      <td>Tuesday</td>\n",
       "      <td>NY 236</td>\n",
       "      <td>NY 244</td>\n",
       "    </tr>\n",
       "    <tr>\n",
       "      <th>1</th>\n",
       "      <td>13035</td>\n",
       "      <td>1.0</td>\n",
       "      <td>2021-01-01 15:51:15</td>\n",
       "      <td>2021-01-01 15:56:45</td>\n",
       "      <td>1.0</td>\n",
       "      <td>1.0</td>\n",
       "      <td>230</td>\n",
       "      <td>68</td>\n",
       "      <td>9.30</td>\n",
       "      <td>5.50</td>\n",
       "      <td>Friday</td>\n",
       "      <td>Friday</td>\n",
       "      <td>NY 230</td>\n",
       "      <td>NY 68</td>\n",
       "    </tr>\n",
       "    <tr>\n",
       "      <th>2</th>\n",
       "      <td>63888</td>\n",
       "      <td>1.0</td>\n",
       "      <td>2021-01-03 13:11:33</td>\n",
       "      <td>2021-01-03 13:12:17</td>\n",
       "      <td>0.0</td>\n",
       "      <td>0.3</td>\n",
       "      <td>166</td>\n",
       "      <td>151</td>\n",
       "      <td>4.55</td>\n",
       "      <td>0.73</td>\n",
       "      <td>Sunday</td>\n",
       "      <td>Sunday</td>\n",
       "      <td>NY 166</td>\n",
       "      <td>NY 151</td>\n",
       "    </tr>\n",
       "    <tr>\n",
       "      <th>3</th>\n",
       "      <td>348098</td>\n",
       "      <td>1.0</td>\n",
       "      <td>2021-01-10 12:32:00</td>\n",
       "      <td>2021-01-10 12:38:04</td>\n",
       "      <td>1.0</td>\n",
       "      <td>1.2</td>\n",
       "      <td>237</td>\n",
       "      <td>236</td>\n",
       "      <td>11.75</td>\n",
       "      <td>6.07</td>\n",
       "      <td>Sunday</td>\n",
       "      <td>Sunday</td>\n",
       "      <td>NY 237</td>\n",
       "      <td>NY 236</td>\n",
       "    </tr>\n",
       "    <tr>\n",
       "      <th>4</th>\n",
       "      <td>271484</td>\n",
       "      <td>1.0</td>\n",
       "      <td>2021-01-08 12:21:29</td>\n",
       "      <td>2021-01-08 12:26:44</td>\n",
       "      <td>1.0</td>\n",
       "      <td>1.1</td>\n",
       "      <td>239</td>\n",
       "      <td>236</td>\n",
       "      <td>11.15</td>\n",
       "      <td>5.25</td>\n",
       "      <td>Friday</td>\n",
       "      <td>Friday</td>\n",
       "      <td>NY 239</td>\n",
       "      <td>NY 236</td>\n",
       "    </tr>\n",
       "  </tbody>\n",
       "</table>\n",
       "</div>"
      ],
      "text/plain": [
       "    index  VendorID tpep_pickup_datetime tpep_dropoff_datetime  \\\n",
       "0  141052       1.0  2021-01-05 13:41:01   2021-01-05 14:01:00   \n",
       "1   13035       1.0  2021-01-01 15:51:15   2021-01-01 15:56:45   \n",
       "2   63888       1.0  2021-01-03 13:11:33   2021-01-03 13:12:17   \n",
       "3  348098       1.0  2021-01-10 12:32:00   2021-01-10 12:38:04   \n",
       "4  271484       1.0  2021-01-08 12:21:29   2021-01-08 12:26:44   \n",
       "\n",
       "   passenger_count  trip_distance  PULocationID  DOLocationID  total_amount  \\\n",
       "0              1.0            6.4           236           244         30.35   \n",
       "1              1.0            1.0           230            68          9.30   \n",
       "2              0.0            0.3           166           151          4.55   \n",
       "3              1.0            1.2           237           236         11.75   \n",
       "4              1.0            1.1           239           236         11.15   \n",
       "\n",
       "   Time_diff_min pick_day dropping_day Pick_locationId dropoff_locationId  \n",
       "0          19.98  Tuesday      Tuesday          NY 236             NY 244  \n",
       "1           5.50   Friday       Friday          NY 230              NY 68  \n",
       "2           0.73   Sunday       Sunday          NY 166             NY 151  \n",
       "3           6.07   Sunday       Sunday          NY 237             NY 236  \n",
       "4           5.25   Friday       Friday          NY 239             NY 236  "
      ]
     },
     "execution_count": 52,
     "metadata": {},
     "output_type": "execute_result"
    }
   ],
   "source": [
    "idata.head()"
   ]
  },
  {
   "cell_type": "markdown",
   "metadata": {},
   "source": [
    "### __9.4 Creating a new columns with pickup and dropoff location__"
   ]
  },
  {
   "cell_type": "code",
   "execution_count": 53,
   "metadata": {},
   "outputs": [
    {
     "name": "stderr",
     "output_type": "stream",
     "text": [
      "C:\\Users\\Nikhi\\AppData\\Local\\Temp/ipykernel_19948/701638666.py:1: SettingWithCopyWarning: \n",
      "A value is trying to be set on a copy of a slice from a DataFrame.\n",
      "Try using .loc[row_indexer,col_indexer] = value instead\n",
      "\n",
      "See the caveats in the documentation: https://pandas.pydata.org/pandas-docs/stable/user_guide/indexing.html#returning-a-view-versus-a-copy\n",
      "  idata['pi_location'] = pickup_loc[0]\n"
     ]
    }
   ],
   "source": [
    "#extracting the location and adding\n",
    "idata['pi_location'] = pickup_loc[0]"
   ]
  },
  {
   "cell_type": "code",
   "execution_count": 54,
   "metadata": {},
   "outputs": [],
   "source": [
    "# creating list with all pickup locations\n",
    "p_location = []\n",
    "for i in range(len(idata['pi_location'])):\n",
    "    x2 = idata['pi_location'][i][0]\n",
    "    p_location.append(x2)"
   ]
  },
  {
   "cell_type": "code",
   "execution_count": 55,
   "metadata": {},
   "outputs": [
    {
     "name": "stderr",
     "output_type": "stream",
     "text": [
      "C:\\Users\\Nikhi\\AppData\\Local\\Temp/ipykernel_19948/4037310880.py:1: SettingWithCopyWarning: \n",
      "A value is trying to be set on a copy of a slice from a DataFrame.\n",
      "Try using .loc[row_indexer,col_indexer] = value instead\n",
      "\n",
      "See the caveats in the documentation: https://pandas.pydata.org/pandas-docs/stable/user_guide/indexing.html#returning-a-view-versus-a-copy\n",
      "  idata['pi_location'] = p_location\n"
     ]
    }
   ],
   "source": [
    "# reassigning to the initial column\n",
    "idata['pi_location'] = p_location"
   ]
  },
  {
   "cell_type": "code",
   "execution_count": 56,
   "metadata": {},
   "outputs": [
    {
     "name": "stderr",
     "output_type": "stream",
     "text": [
      "C:\\Users\\Nikhi\\AppData\\Local\\Temp/ipykernel_19948/4105642527.py:1: SettingWithCopyWarning: \n",
      "A value is trying to be set on a copy of a slice from a DataFrame.\n",
      "Try using .loc[row_indexer,col_indexer] = value instead\n",
      "\n",
      "See the caveats in the documentation: https://pandas.pydata.org/pandas-docs/stable/user_guide/indexing.html#returning-a-view-versus-a-copy\n",
      "  idata['drop_location'] = dropoff_loc[0]\n"
     ]
    }
   ],
   "source": [
    "#extracting the location and adding\n",
    "idata['drop_location'] = dropoff_loc[0]"
   ]
  },
  {
   "cell_type": "code",
   "execution_count": 57,
   "metadata": {},
   "outputs": [],
   "source": [
    "# creating list with all dropoff locations\n",
    "dr_location = []\n",
    "for i in range(len(idata['drop_location'])):\n",
    "    x3 = idata['drop_location'][i][0]\n",
    "    dr_location.append(x3)"
   ]
  },
  {
   "cell_type": "code",
   "execution_count": 58,
   "metadata": {},
   "outputs": [
    {
     "name": "stderr",
     "output_type": "stream",
     "text": [
      "C:\\Users\\Nikhi\\AppData\\Local\\Temp/ipykernel_19948/777300601.py:1: SettingWithCopyWarning: \n",
      "A value is trying to be set on a copy of a slice from a DataFrame.\n",
      "Try using .loc[row_indexer,col_indexer] = value instead\n",
      "\n",
      "See the caveats in the documentation: https://pandas.pydata.org/pandas-docs/stable/user_guide/indexing.html#returning-a-view-versus-a-copy\n",
      "  idata['drop_location'] = dr_location\n"
     ]
    }
   ],
   "source": [
    "# reassigning to the initial column\n",
    "idata['drop_location'] = dr_location"
   ]
  },
  {
   "cell_type": "code",
   "execution_count": 59,
   "metadata": {},
   "outputs": [
    {
     "name": "stderr",
     "output_type": "stream",
     "text": [
      "D:\\Anaconda\\envs\\my_env\\lib\\site-packages\\pandas\\core\\frame.py:3641: SettingWithCopyWarning: \n",
      "A value is trying to be set on a copy of a slice from a DataFrame.\n",
      "Try using .loc[row_indexer,col_indexer] = value instead\n",
      "\n",
      "See the caveats in the documentation: https://pandas.pydata.org/pandas-docs/stable/user_guide/indexing.html#returning-a-view-versus-a-copy\n",
      "  self[k1] = value[k2]\n"
     ]
    }
   ],
   "source": [
    "# creating a 4 new columns for starting and ending latitudes and longtitudes\n",
    "\n",
    "idata[['slat', 'slong']] = pd.DataFrame(idata['pi_location'].tolist(), index=idata.index)\n",
    "idata[['elat', 'elong']] = pd.DataFrame(idata['drop_location'].tolist(), index=idata.index)"
   ]
  },
  {
   "cell_type": "code",
   "execution_count": 60,
   "metadata": {},
   "outputs": [
    {
     "data": {
      "text/html": [
       "<div>\n",
       "<style scoped>\n",
       "    .dataframe tbody tr th:only-of-type {\n",
       "        vertical-align: middle;\n",
       "    }\n",
       "\n",
       "    .dataframe tbody tr th {\n",
       "        vertical-align: top;\n",
       "    }\n",
       "\n",
       "    .dataframe thead th {\n",
       "        text-align: right;\n",
       "    }\n",
       "</style>\n",
       "<table border=\"1\" class=\"dataframe\">\n",
       "  <thead>\n",
       "    <tr style=\"text-align: right;\">\n",
       "      <th></th>\n",
       "      <th>index</th>\n",
       "      <th>VendorID</th>\n",
       "      <th>Pickup_datetime</th>\n",
       "      <th>Dropoff_datetime</th>\n",
       "      <th>Passenger_count</th>\n",
       "      <th>Trip_distance</th>\n",
       "      <th>PULocationID</th>\n",
       "      <th>DOLocationID</th>\n",
       "      <th>Total_amount</th>\n",
       "      <th>Time_diff_min</th>\n",
       "      <th>Pick_day</th>\n",
       "      <th>Dropping_day</th>\n",
       "      <th>Pick_locationId</th>\n",
       "      <th>Dropoff_locationId</th>\n",
       "      <th>Pick_location</th>\n",
       "      <th>Drop_location</th>\n",
       "      <th>Slat</th>\n",
       "      <th>Slong</th>\n",
       "      <th>Elat</th>\n",
       "      <th>Elong</th>\n",
       "    </tr>\n",
       "  </thead>\n",
       "  <tbody>\n",
       "    <tr>\n",
       "      <th>0</th>\n",
       "      <td>141052</td>\n",
       "      <td>1.0</td>\n",
       "      <td>2021-01-05 13:41:01</td>\n",
       "      <td>2021-01-05 14:01:00</td>\n",
       "      <td>1.0</td>\n",
       "      <td>6.4</td>\n",
       "      <td>236</td>\n",
       "      <td>244</td>\n",
       "      <td>30.35</td>\n",
       "      <td>19.98</td>\n",
       "      <td>Tuesday</td>\n",
       "      <td>Tuesday</td>\n",
       "      <td>NY 236</td>\n",
       "      <td>NY 244</td>\n",
       "      <td>(40.65374004452198, -73.74707492242896)</td>\n",
       "      <td>(40.7232747439702, -73.72368731719021)</td>\n",
       "      <td>40.653740</td>\n",
       "      <td>-73.747075</td>\n",
       "      <td>40.723275</td>\n",
       "      <td>-73.723687</td>\n",
       "    </tr>\n",
       "    <tr>\n",
       "      <th>1</th>\n",
       "      <td>13035</td>\n",
       "      <td>1.0</td>\n",
       "      <td>2021-01-01 15:51:15</td>\n",
       "      <td>2021-01-01 15:56:45</td>\n",
       "      <td>1.0</td>\n",
       "      <td>1.0</td>\n",
       "      <td>230</td>\n",
       "      <td>68</td>\n",
       "      <td>9.30</td>\n",
       "      <td>5.50</td>\n",
       "      <td>Friday</td>\n",
       "      <td>Friday</td>\n",
       "      <td>NY 230</td>\n",
       "      <td>NY 68</td>\n",
       "      <td>(40.751705204835964, -73.7484793192308)</td>\n",
       "      <td>(42.86118333300004, -74.94543166699998)</td>\n",
       "      <td>40.751705</td>\n",
       "      <td>-73.748479</td>\n",
       "      <td>42.861183</td>\n",
       "      <td>-74.945432</td>\n",
       "    </tr>\n",
       "    <tr>\n",
       "      <th>2</th>\n",
       "      <td>63888</td>\n",
       "      <td>1.0</td>\n",
       "      <td>2021-01-03 13:11:33</td>\n",
       "      <td>2021-01-03 13:12:17</td>\n",
       "      <td>0.0</td>\n",
       "      <td>0.3</td>\n",
       "      <td>166</td>\n",
       "      <td>151</td>\n",
       "      <td>4.55</td>\n",
       "      <td>0.73</td>\n",
       "      <td>Sunday</td>\n",
       "      <td>Sunday</td>\n",
       "      <td>NY 166</td>\n",
       "      <td>NY 151</td>\n",
       "      <td>(40.780672392143096, -73.79743099670318)</td>\n",
       "      <td>(40.719130000000064, -73.98560299999997)</td>\n",
       "      <td>40.780672</td>\n",
       "      <td>-73.797431</td>\n",
       "      <td>40.719130</td>\n",
       "      <td>-73.985603</td>\n",
       "    </tr>\n",
       "    <tr>\n",
       "      <th>3</th>\n",
       "      <td>348098</td>\n",
       "      <td>1.0</td>\n",
       "      <td>2021-01-10 12:32:00</td>\n",
       "      <td>2021-01-10 12:38:04</td>\n",
       "      <td>1.0</td>\n",
       "      <td>1.2</td>\n",
       "      <td>237</td>\n",
       "      <td>236</td>\n",
       "      <td>11.75</td>\n",
       "      <td>6.07</td>\n",
       "      <td>Sunday</td>\n",
       "      <td>Sunday</td>\n",
       "      <td>NY 237</td>\n",
       "      <td>NY 236</td>\n",
       "      <td>(40.69285268505702, -73.72533553048825)</td>\n",
       "      <td>(40.65374004452198, -73.74707492242896)</td>\n",
       "      <td>40.692853</td>\n",
       "      <td>-73.725336</td>\n",
       "      <td>40.653740</td>\n",
       "      <td>-73.747075</td>\n",
       "    </tr>\n",
       "    <tr>\n",
       "      <th>4</th>\n",
       "      <td>271484</td>\n",
       "      <td>1.0</td>\n",
       "      <td>2021-01-08 12:21:29</td>\n",
       "      <td>2021-01-08 12:26:44</td>\n",
       "      <td>1.0</td>\n",
       "      <td>1.1</td>\n",
       "      <td>239</td>\n",
       "      <td>236</td>\n",
       "      <td>11.15</td>\n",
       "      <td>5.25</td>\n",
       "      <td>Friday</td>\n",
       "      <td>Friday</td>\n",
       "      <td>NY 239</td>\n",
       "      <td>NY 236</td>\n",
       "      <td>(40.68933569229372, -73.72398491932245)</td>\n",
       "      <td>(40.65374004452198, -73.74707492242896)</td>\n",
       "      <td>40.689336</td>\n",
       "      <td>-73.723985</td>\n",
       "      <td>40.653740</td>\n",
       "      <td>-73.747075</td>\n",
       "    </tr>\n",
       "  </tbody>\n",
       "</table>\n",
       "</div>"
      ],
      "text/plain": [
       "    index  VendorID     Pickup_datetime    Dropoff_datetime  Passenger_count  \\\n",
       "0  141052       1.0 2021-01-05 13:41:01 2021-01-05 14:01:00              1.0   \n",
       "1   13035       1.0 2021-01-01 15:51:15 2021-01-01 15:56:45              1.0   \n",
       "2   63888       1.0 2021-01-03 13:11:33 2021-01-03 13:12:17              0.0   \n",
       "3  348098       1.0 2021-01-10 12:32:00 2021-01-10 12:38:04              1.0   \n",
       "4  271484       1.0 2021-01-08 12:21:29 2021-01-08 12:26:44              1.0   \n",
       "\n",
       "   Trip_distance  PULocationID  DOLocationID  Total_amount  Time_diff_min  \\\n",
       "0            6.4           236           244         30.35          19.98   \n",
       "1            1.0           230            68          9.30           5.50   \n",
       "2            0.3           166           151          4.55           0.73   \n",
       "3            1.2           237           236         11.75           6.07   \n",
       "4            1.1           239           236         11.15           5.25   \n",
       "\n",
       "  Pick_day Dropping_day Pick_locationId Dropoff_locationId  \\\n",
       "0  Tuesday      Tuesday          NY 236             NY 244   \n",
       "1   Friday       Friday          NY 230              NY 68   \n",
       "2   Sunday       Sunday          NY 166             NY 151   \n",
       "3   Sunday       Sunday          NY 237             NY 236   \n",
       "4   Friday       Friday          NY 239             NY 236   \n",
       "\n",
       "                              Pick_location  \\\n",
       "0   (40.65374004452198, -73.74707492242896)   \n",
       "1   (40.751705204835964, -73.7484793192308)   \n",
       "2  (40.780672392143096, -73.79743099670318)   \n",
       "3   (40.69285268505702, -73.72533553048825)   \n",
       "4   (40.68933569229372, -73.72398491932245)   \n",
       "\n",
       "                              Drop_location       Slat      Slong       Elat  \\\n",
       "0    (40.7232747439702, -73.72368731719021)  40.653740 -73.747075  40.723275   \n",
       "1   (42.86118333300004, -74.94543166699998)  40.751705 -73.748479  42.861183   \n",
       "2  (40.719130000000064, -73.98560299999997)  40.780672 -73.797431  40.719130   \n",
       "3   (40.65374004452198, -73.74707492242896)  40.692853 -73.725336  40.653740   \n",
       "4   (40.65374004452198, -73.74707492242896)  40.689336 -73.723985  40.653740   \n",
       "\n",
       "       Elong  \n",
       "0 -73.723687  \n",
       "1 -74.945432  \n",
       "2 -73.985603  \n",
       "3 -73.747075  \n",
       "4 -73.747075  "
      ]
     },
     "execution_count": 60,
     "metadata": {},
     "output_type": "execute_result"
    }
   ],
   "source": [
    "# changing columns name for better accessing\n",
    "idata.columns = ['index', 'VendorID', 'Pickup_datetime', 'Dropoff_datetime',\n",
    "       'Passenger_count', 'Trip_distance', 'PULocationID', 'DOLocationID',\n",
    "       'Total_amount', 'Time_diff_min', 'Pick_day', 'Dropping_day',\n",
    "       'Pick_locationId', 'Dropoff_locationId', 'Pick_location', 'Drop_location',\n",
    "       'Slat', 'Slong', 'Elat', 'Elong']\n",
    "idata.head()"
   ]
  },
  {
   "cell_type": "markdown",
   "metadata": {},
   "source": [
    "## __10. Calculating the distance between two locations__"
   ]
  },
  {
   "cell_type": "code",
   "execution_count": 61,
   "metadata": {},
   "outputs": [
    {
     "data": {
      "text/plain": [
       "7.970741442691283"
      ]
     },
     "execution_count": 61,
     "metadata": {},
     "output_type": "execute_result"
    }
   ],
   "source": [
    "#calculating the distance between two locations using geodesic\n",
    "from geopy.distance import geodesic\n",
    "geodesic(idata['Pick_location'][0], idata['Drop_location'][0]).kilometers"
   ]
  },
  {
   "cell_type": "code",
   "execution_count": 62,
   "metadata": {},
   "outputs": [
    {
     "data": {
      "text/plain": [
       "7.9794147171680025"
      ]
     },
     "execution_count": 62,
     "metadata": {},
     "output_type": "execute_result"
    }
   ],
   "source": [
    "#calculating the distance between two locations using great_circle\n",
    "from geopy.distance import great_circle\n",
    "great_circle(idata['Pick_location'][0], idata['Drop_location'][0]).kilometers"
   ]
  },
  {
   "cell_type": "code",
   "execution_count": 63,
   "metadata": {},
   "outputs": [],
   "source": [
    "# calculating the distance between two locations\n",
    "distance = []\n",
    "for i in range(len(idata)):\n",
    "    dis_ = geodesic(idata['Pick_location'][i], idata['Drop_location'][i]).kilometers\n",
    "    distance.append(dis_)"
   ]
  },
  {
   "cell_type": "code",
   "execution_count": 64,
   "metadata": {},
   "outputs": [
    {
     "data": {
      "text/plain": [
       "(600027, 20)"
      ]
     },
     "execution_count": 64,
     "metadata": {},
     "output_type": "execute_result"
    }
   ],
   "source": [
    "idata.shape"
   ]
  },
  {
   "cell_type": "markdown",
   "metadata": {},
   "source": [
    "### __10.1 Insert distance as a newcolumn in the dataframe__"
   ]
  },
  {
   "cell_type": "code",
   "execution_count": 65,
   "metadata": {},
   "outputs": [],
   "source": [
    "# inserting the column\n",
    "idata.insert(20, 'Original_distance_Kms', distance)"
   ]
  },
  {
   "cell_type": "code",
   "execution_count": 66,
   "metadata": {},
   "outputs": [
    {
     "data": {
      "text/html": [
       "<div>\n",
       "<style scoped>\n",
       "    .dataframe tbody tr th:only-of-type {\n",
       "        vertical-align: middle;\n",
       "    }\n",
       "\n",
       "    .dataframe tbody tr th {\n",
       "        vertical-align: top;\n",
       "    }\n",
       "\n",
       "    .dataframe thead th {\n",
       "        text-align: right;\n",
       "    }\n",
       "</style>\n",
       "<table border=\"1\" class=\"dataframe\">\n",
       "  <thead>\n",
       "    <tr style=\"text-align: right;\">\n",
       "      <th></th>\n",
       "      <th>index</th>\n",
       "      <th>VendorID</th>\n",
       "      <th>Pickup_datetime</th>\n",
       "      <th>Dropoff_datetime</th>\n",
       "      <th>Passenger_count</th>\n",
       "      <th>Trip_distance</th>\n",
       "      <th>PULocationID</th>\n",
       "      <th>DOLocationID</th>\n",
       "      <th>Total_amount</th>\n",
       "      <th>Time_diff_min</th>\n",
       "      <th>...</th>\n",
       "      <th>Dropping_day</th>\n",
       "      <th>Pick_locationId</th>\n",
       "      <th>Dropoff_locationId</th>\n",
       "      <th>Pick_location</th>\n",
       "      <th>Drop_location</th>\n",
       "      <th>Slat</th>\n",
       "      <th>Slong</th>\n",
       "      <th>Elat</th>\n",
       "      <th>Elong</th>\n",
       "      <th>Original_distance_Kms</th>\n",
       "    </tr>\n",
       "  </thead>\n",
       "  <tbody>\n",
       "    <tr>\n",
       "      <th>0</th>\n",
       "      <td>141052</td>\n",
       "      <td>1.0</td>\n",
       "      <td>2021-01-05 13:41:01</td>\n",
       "      <td>2021-01-05 14:01:00</td>\n",
       "      <td>1.0</td>\n",
       "      <td>6.4</td>\n",
       "      <td>236</td>\n",
       "      <td>244</td>\n",
       "      <td>30.35</td>\n",
       "      <td>19.98</td>\n",
       "      <td>...</td>\n",
       "      <td>Tuesday</td>\n",
       "      <td>NY 236</td>\n",
       "      <td>NY 244</td>\n",
       "      <td>(40.65374004452198, -73.74707492242896)</td>\n",
       "      <td>(40.7232747439702, -73.72368731719021)</td>\n",
       "      <td>40.653740</td>\n",
       "      <td>-73.747075</td>\n",
       "      <td>40.723275</td>\n",
       "      <td>-73.723687</td>\n",
       "      <td>7.970741</td>\n",
       "    </tr>\n",
       "    <tr>\n",
       "      <th>1</th>\n",
       "      <td>13035</td>\n",
       "      <td>1.0</td>\n",
       "      <td>2021-01-01 15:51:15</td>\n",
       "      <td>2021-01-01 15:56:45</td>\n",
       "      <td>1.0</td>\n",
       "      <td>1.0</td>\n",
       "      <td>230</td>\n",
       "      <td>68</td>\n",
       "      <td>9.30</td>\n",
       "      <td>5.50</td>\n",
       "      <td>...</td>\n",
       "      <td>Friday</td>\n",
       "      <td>NY 230</td>\n",
       "      <td>NY 68</td>\n",
       "      <td>(40.751705204835964, -73.7484793192308)</td>\n",
       "      <td>(42.86118333300004, -74.94543166699998)</td>\n",
       "      <td>40.751705</td>\n",
       "      <td>-73.748479</td>\n",
       "      <td>42.861183</td>\n",
       "      <td>-74.945432</td>\n",
       "      <td>254.530753</td>\n",
       "    </tr>\n",
       "    <tr>\n",
       "      <th>2</th>\n",
       "      <td>63888</td>\n",
       "      <td>1.0</td>\n",
       "      <td>2021-01-03 13:11:33</td>\n",
       "      <td>2021-01-03 13:12:17</td>\n",
       "      <td>0.0</td>\n",
       "      <td>0.3</td>\n",
       "      <td>166</td>\n",
       "      <td>151</td>\n",
       "      <td>4.55</td>\n",
       "      <td>0.73</td>\n",
       "      <td>...</td>\n",
       "      <td>Sunday</td>\n",
       "      <td>NY 166</td>\n",
       "      <td>NY 151</td>\n",
       "      <td>(40.780672392143096, -73.79743099670318)</td>\n",
       "      <td>(40.719130000000064, -73.98560299999997)</td>\n",
       "      <td>40.780672</td>\n",
       "      <td>-73.797431</td>\n",
       "      <td>40.719130</td>\n",
       "      <td>-73.985603</td>\n",
       "      <td>17.298807</td>\n",
       "    </tr>\n",
       "    <tr>\n",
       "      <th>3</th>\n",
       "      <td>348098</td>\n",
       "      <td>1.0</td>\n",
       "      <td>2021-01-10 12:32:00</td>\n",
       "      <td>2021-01-10 12:38:04</td>\n",
       "      <td>1.0</td>\n",
       "      <td>1.2</td>\n",
       "      <td>237</td>\n",
       "      <td>236</td>\n",
       "      <td>11.75</td>\n",
       "      <td>6.07</td>\n",
       "      <td>...</td>\n",
       "      <td>Sunday</td>\n",
       "      <td>NY 237</td>\n",
       "      <td>NY 236</td>\n",
       "      <td>(40.69285268505702, -73.72533553048825)</td>\n",
       "      <td>(40.65374004452198, -73.74707492242896)</td>\n",
       "      <td>40.692853</td>\n",
       "      <td>-73.725336</td>\n",
       "      <td>40.653740</td>\n",
       "      <td>-73.747075</td>\n",
       "      <td>4.716274</td>\n",
       "    </tr>\n",
       "    <tr>\n",
       "      <th>4</th>\n",
       "      <td>271484</td>\n",
       "      <td>1.0</td>\n",
       "      <td>2021-01-08 12:21:29</td>\n",
       "      <td>2021-01-08 12:26:44</td>\n",
       "      <td>1.0</td>\n",
       "      <td>1.1</td>\n",
       "      <td>239</td>\n",
       "      <td>236</td>\n",
       "      <td>11.15</td>\n",
       "      <td>5.25</td>\n",
       "      <td>...</td>\n",
       "      <td>Friday</td>\n",
       "      <td>NY 239</td>\n",
       "      <td>NY 236</td>\n",
       "      <td>(40.68933569229372, -73.72398491932245)</td>\n",
       "      <td>(40.65374004452198, -73.74707492242896)</td>\n",
       "      <td>40.689336</td>\n",
       "      <td>-73.723985</td>\n",
       "      <td>40.653740</td>\n",
       "      <td>-73.747075</td>\n",
       "      <td>4.408646</td>\n",
       "    </tr>\n",
       "  </tbody>\n",
       "</table>\n",
       "<p>5 rows × 21 columns</p>\n",
       "</div>"
      ],
      "text/plain": [
       "    index  VendorID     Pickup_datetime    Dropoff_datetime  Passenger_count  \\\n",
       "0  141052       1.0 2021-01-05 13:41:01 2021-01-05 14:01:00              1.0   \n",
       "1   13035       1.0 2021-01-01 15:51:15 2021-01-01 15:56:45              1.0   \n",
       "2   63888       1.0 2021-01-03 13:11:33 2021-01-03 13:12:17              0.0   \n",
       "3  348098       1.0 2021-01-10 12:32:00 2021-01-10 12:38:04              1.0   \n",
       "4  271484       1.0 2021-01-08 12:21:29 2021-01-08 12:26:44              1.0   \n",
       "\n",
       "   Trip_distance  PULocationID  DOLocationID  Total_amount  Time_diff_min  \\\n",
       "0            6.4           236           244         30.35          19.98   \n",
       "1            1.0           230            68          9.30           5.50   \n",
       "2            0.3           166           151          4.55           0.73   \n",
       "3            1.2           237           236         11.75           6.07   \n",
       "4            1.1           239           236         11.15           5.25   \n",
       "\n",
       "   ... Dropping_day Pick_locationId Dropoff_locationId  \\\n",
       "0  ...      Tuesday          NY 236             NY 244   \n",
       "1  ...       Friday          NY 230              NY 68   \n",
       "2  ...       Sunday          NY 166             NY 151   \n",
       "3  ...       Sunday          NY 237             NY 236   \n",
       "4  ...       Friday          NY 239             NY 236   \n",
       "\n",
       "                              Pick_location  \\\n",
       "0   (40.65374004452198, -73.74707492242896)   \n",
       "1   (40.751705204835964, -73.7484793192308)   \n",
       "2  (40.780672392143096, -73.79743099670318)   \n",
       "3   (40.69285268505702, -73.72533553048825)   \n",
       "4   (40.68933569229372, -73.72398491932245)   \n",
       "\n",
       "                              Drop_location       Slat      Slong       Elat  \\\n",
       "0    (40.7232747439702, -73.72368731719021)  40.653740 -73.747075  40.723275   \n",
       "1   (42.86118333300004, -74.94543166699998)  40.751705 -73.748479  42.861183   \n",
       "2  (40.719130000000064, -73.98560299999997)  40.780672 -73.797431  40.719130   \n",
       "3   (40.65374004452198, -73.74707492242896)  40.692853 -73.725336  40.653740   \n",
       "4   (40.65374004452198, -73.74707492242896)  40.689336 -73.723985  40.653740   \n",
       "\n",
       "       Elong  Original_distance_Kms  \n",
       "0 -73.723687               7.970741  \n",
       "1 -74.945432             254.530753  \n",
       "2 -73.985603              17.298807  \n",
       "3 -73.747075               4.716274  \n",
       "4 -73.747075               4.408646  \n",
       "\n",
       "[5 rows x 21 columns]"
      ]
     },
     "execution_count": 66,
     "metadata": {},
     "output_type": "execute_result"
    }
   ],
   "source": [
    "idata.head()"
   ]
  },
  {
   "cell_type": "code",
   "execution_count": 67,
   "metadata": {},
   "outputs": [],
   "source": [
    "# creating a new dataframe with fewer columns\n",
    "i_data = idata.iloc[:, [1,4,8,9,10,11,12,13,14,15,16,17,18,19,20]]"
   ]
  },
  {
   "cell_type": "markdown",
   "metadata": {},
   "source": [
    "### __10.2 Finding the mode of the week__"
   ]
  },
  {
   "cell_type": "code",
   "execution_count": 68,
   "metadata": {},
   "outputs": [
    {
     "data": {
      "text/plain": [
       "0    Friday\n",
       "dtype: object"
      ]
     },
     "execution_count": 68,
     "metadata": {},
     "output_type": "execute_result"
    }
   ],
   "source": [
    "i_data['Pick_day'].mode()"
   ]
  },
  {
   "cell_type": "code",
   "execution_count": 69,
   "metadata": {},
   "outputs": [
    {
     "name": "stderr",
     "output_type": "stream",
     "text": [
      "C:\\Users\\Nikhi\\AppData\\Local\\Temp/ipykernel_19948/3628933571.py:2: SettingWithCopyWarning: \n",
      "A value is trying to be set on a copy of a slice from a DataFrame.\n",
      "Try using .loc[row_indexer,col_indexer] = value instead\n",
      "\n",
      "See the caveats in the documentation: https://pandas.pydata.org/pandas-docs/stable/user_guide/indexing.html#returning-a-view-versus-a-copy\n",
      "  i_data['Dropping_day'] = pd.Categorical(i_data['Dropping_day'], categories=cats, ordered=True)\n"
     ]
    }
   ],
   "source": [
    "cats = ['Monday', 'Tuesday', 'Wednesday', 'Thursday', 'Friday', 'Saturday', 'Sunday']\n",
    "i_data['Dropping_day'] = pd.Categorical(i_data['Dropping_day'], categories=cats, ordered=True)\n",
    "i_data = i_data.sort_values('Dropping_day')"
   ]
  },
  {
   "cell_type": "markdown",
   "metadata": {},
   "source": [
    "## __11. Basic Visualization for data insights__"
   ]
  },
  {
   "cell_type": "code",
   "execution_count": 70,
   "metadata": {},
   "outputs": [
    {
     "name": "stdout",
     "output_type": "stream",
     "text": [
      "Requirement already satisfied: seaborn in d:\\anaconda\\envs\\my_env\\lib\\site-packages (0.11.2)\n",
      "Requirement already satisfied: numpy>=1.15 in d:\\anaconda\\envs\\my_env\\lib\\site-packages (from seaborn) (1.21.2)\n",
      "Requirement already satisfied: matplotlib>=2.2 in d:\\anaconda\\envs\\my_env\\lib\\site-packages (from seaborn) (3.4.3)\n",
      "Requirement already satisfied: pandas>=0.23 in d:\\anaconda\\envs\\my_env\\lib\\site-packages (from seaborn) (1.3.4)\n",
      "Requirement already satisfied: scipy>=1.0 in d:\\anaconda\\envs\\my_env\\lib\\site-packages (from seaborn) (1.7.1)\n",
      "Requirement already satisfied: cycler>=0.10 in d:\\anaconda\\envs\\my_env\\lib\\site-packages (from matplotlib>=2.2->seaborn) (0.10.0)\n",
      "Requirement already satisfied: python-dateutil>=2.7 in d:\\anaconda\\envs\\my_env\\lib\\site-packages (from matplotlib>=2.2->seaborn) (2.8.2)\n",
      "Requirement already satisfied: pillow>=6.2.0 in d:\\anaconda\\envs\\my_env\\lib\\site-packages (from matplotlib>=2.2->seaborn) (8.4.0)\n",
      "Requirement already satisfied: pyparsing>=2.2.1 in d:\\anaconda\\envs\\my_env\\lib\\site-packages (from matplotlib>=2.2->seaborn) (2.4.7)\n",
      "Requirement already satisfied: kiwisolver>=1.0.1 in d:\\anaconda\\envs\\my_env\\lib\\site-packages (from matplotlib>=2.2->seaborn) (1.3.1)\n",
      "Requirement already satisfied: six in d:\\anaconda\\envs\\my_env\\lib\\site-packages (from cycler>=0.10->matplotlib>=2.2->seaborn) (1.16.0)\n",
      "Requirement already satisfied: pytz>=2017.3 in d:\\anaconda\\envs\\my_env\\lib\\site-packages (from pandas>=0.23->seaborn) (2021.3)\n"
     ]
    }
   ],
   "source": [
    "!pip install seaborn"
   ]
  },
  {
   "cell_type": "code",
   "execution_count": 72,
   "metadata": {},
   "outputs": [],
   "source": [
    "import matplotlib_inline as plt\n",
    "import seaborn as sns"
   ]
  },
  {
   "cell_type": "markdown",
   "metadata": {},
   "source": [
    "### __11.1 Estimating the mean distance__"
   ]
  },
  {
   "cell_type": "code",
   "execution_count": 73,
   "metadata": {},
   "outputs": [
    {
     "data": {
      "text/plain": [
       "Pick_day\n",
       "Friday       158.627199\n",
       "Monday       163.596048\n",
       "Saturday     167.345941\n",
       "Sunday       183.092796\n",
       "Thursday     154.256753\n",
       "Tuesday      147.606941\n",
       "Wednesday    144.546305\n",
       "Name: Original_distance_Kms, dtype: float64"
      ]
     },
     "execution_count": 73,
     "metadata": {},
     "output_type": "execute_result"
    }
   ],
   "source": [
    "i_data.groupby('Pick_day')['Original_distance_Kms'].mean()"
   ]
  },
  {
   "cell_type": "code",
   "execution_count": 74,
   "metadata": {},
   "outputs": [
    {
     "data": {
      "text/plain": [
       "<AxesSubplot:xlabel='Pick_day'>"
      ]
     },
     "execution_count": 74,
     "metadata": {},
     "output_type": "execute_result"
    },
    {
     "data": {
      "image/png": "[encoded data removed]",
      "text/plain": [
       "<Figure size 432x288 with 1 Axes>"
      ]
     },
     "metadata": {
      "needs_background": "light"
     },
     "output_type": "display_data"
    }
   ],
   "source": [
    "i_data.groupby('Pick_day')['Original_distance_Kms'].mean().plot(kind = 'bar')"
   ]
  },
  {
   "cell_type": "code",
   "execution_count": 76,
   "metadata": {},
   "outputs": [],
   "source": [
    "dp = pd.DataFrame({'Monday': 163.596048, 'Tuesday': 147.606941, 'Wednesday': 144.546305, \n",
    "                   'Thursday': 154.256753, 'Friday' :158.627199,'Saturday': 167.345941, 'Sunday': 183.092796}, index= [0,1,2,3,4,5,6]).T\n",
    "dp.reset_index(inplace = True)\n",
    "dp.drop([1,2,3,4,5,6], axis= 1, inplace = True)"
   ]
  },
  {
   "cell_type": "code",
   "execution_count": 77,
   "metadata": {},
   "outputs": [],
   "source": [
    "dp.columns =  ['Week_Day', 'Mean_Distance']"
   ]
  },
  {
   "cell_type": "code",
   "execution_count": 78,
   "metadata": {},
   "outputs": [
    {
     "data": {
      "text/plain": [
       "<seaborn.axisgrid.FacetGrid at 0x21fbea1f100>"
      ]
     },
     "execution_count": 78,
     "metadata": {},
     "output_type": "execute_result"
    },
    {
     "data": {
      "image/png": "[encoded data removed]",
      "text/plain": [
       "<Figure size 864x432 with 1 Axes>"
      ]
     },
     "metadata": {},
     "output_type": "display_data"
    }
   ],
   "source": [
    "import seaborn as sns\n",
    "sns.set_theme(style=\"ticks\")\n",
    "sns.set(font_scale = 1)\n",
    "g = sns.catplot(data= dp, x = \"Week_Day\", y=\"Mean_Distance\", kind = 'bar', height = 6, aspect= 2, ci = None, palette= 'colorblind')\n",
    "g.set_axis_labels(\"Weekday\", \"Mean Distance(KM)\")\n"
   ]
  },
  {
   "cell_type": "markdown",
   "metadata": {},
   "source": [
    "### __11.2 Analysis on the top and low pickup, drop location__"
   ]
  },
  {
   "cell_type": "code",
   "execution_count": 79,
   "metadata": {},
   "outputs": [
    {
     "data": {
      "text/html": [
       "<div>\n",
       "<style scoped>\n",
       "    .dataframe tbody tr th:only-of-type {\n",
       "        vertical-align: middle;\n",
       "    }\n",
       "\n",
       "    .dataframe tbody tr th {\n",
       "        vertical-align: top;\n",
       "    }\n",
       "\n",
       "    .dataframe thead th {\n",
       "        text-align: right;\n",
       "    }\n",
       "</style>\n",
       "<table border=\"1\" class=\"dataframe\">\n",
       "  <thead>\n",
       "    <tr style=\"text-align: right;\">\n",
       "      <th></th>\n",
       "      <th>VendorID</th>\n",
       "      <th>Passenger_count</th>\n",
       "      <th>Total_amount</th>\n",
       "      <th>Time_diff_min</th>\n",
       "      <th>Pick_day</th>\n",
       "      <th>Dropping_day</th>\n",
       "      <th>Pick_locationId</th>\n",
       "      <th>Dropoff_locationId</th>\n",
       "      <th>Pick_location</th>\n",
       "      <th>Drop_location</th>\n",
       "      <th>Slat</th>\n",
       "      <th>Slong</th>\n",
       "      <th>Elat</th>\n",
       "      <th>Elong</th>\n",
       "      <th>Original_distance_Kms</th>\n",
       "    </tr>\n",
       "  </thead>\n",
       "  <tbody>\n",
       "    <tr>\n",
       "      <th>470119</th>\n",
       "      <td>2.0</td>\n",
       "      <td>1.0</td>\n",
       "      <td>45.20</td>\n",
       "      <td>26.05</td>\n",
       "      <td>Monday</td>\n",
       "      <td>Monday</td>\n",
       "      <td>NY 138</td>\n",
       "      <td>NY 164</td>\n",
       "      <td>(40.784640037820054, -73.8305899006457)</td>\n",
       "      <td>(40.750415354616045, -73.80297832398533)</td>\n",
       "      <td>40.784640</td>\n",
       "      <td>-73.830590</td>\n",
       "      <td>40.750415</td>\n",
       "      <td>-73.802978</td>\n",
       "      <td>4.458645</td>\n",
       "    </tr>\n",
       "    <tr>\n",
       "      <th>281287</th>\n",
       "      <td>1.0</td>\n",
       "      <td>1.0</td>\n",
       "      <td>5.80</td>\n",
       "      <td>0.07</td>\n",
       "      <td>Monday</td>\n",
       "      <td>Monday</td>\n",
       "      <td>NY 186</td>\n",
       "      <td>NY 186</td>\n",
       "      <td>(40.74698543007731, -73.79163530001794)</td>\n",
       "      <td>(40.74698543007731, -73.79163530001794)</td>\n",
       "      <td>40.746985</td>\n",
       "      <td>-73.791635</td>\n",
       "      <td>40.746985</td>\n",
       "      <td>-73.791635</td>\n",
       "      <td>0.000000</td>\n",
       "    </tr>\n",
       "    <tr>\n",
       "      <th>526516</th>\n",
       "      <td>2.0</td>\n",
       "      <td>1.0</td>\n",
       "      <td>8.30</td>\n",
       "      <td>4.45</td>\n",
       "      <td>Monday</td>\n",
       "      <td>Monday</td>\n",
       "      <td>NY 263</td>\n",
       "      <td>NY 236</td>\n",
       "      <td>(40.76272801766687, -73.72059648349116)</td>\n",
       "      <td>(40.65374004452198, -73.74707492242896)</td>\n",
       "      <td>40.762728</td>\n",
       "      <td>-73.720596</td>\n",
       "      <td>40.653740</td>\n",
       "      <td>-73.747075</td>\n",
       "      <td>12.308026</td>\n",
       "    </tr>\n",
       "    <tr>\n",
       "      <th>281292</th>\n",
       "      <td>2.0</td>\n",
       "      <td>1.0</td>\n",
       "      <td>16.56</td>\n",
       "      <td>11.40</td>\n",
       "      <td>Monday</td>\n",
       "      <td>Monday</td>\n",
       "      <td>NY 79</td>\n",
       "      <td>NY 231</td>\n",
       "      <td>(42.596728333000044, -78.34029361099994)</td>\n",
       "      <td>(40.75540708589228, -73.7495581685021)</td>\n",
       "      <td>42.596728</td>\n",
       "      <td>-78.340294</td>\n",
       "      <td>40.755407</td>\n",
       "      <td>-73.749558</td>\n",
       "      <td>433.447448</td>\n",
       "    </tr>\n",
       "    <tr>\n",
       "      <th>281297</th>\n",
       "      <td>2.0</td>\n",
       "      <td>1.0</td>\n",
       "      <td>11.30</td>\n",
       "      <td>6.60</td>\n",
       "      <td>Monday</td>\n",
       "      <td>Monday</td>\n",
       "      <td>NY 264</td>\n",
       "      <td>NY 13</td>\n",
       "      <td>(40.76103763904317, -73.71845818236235)</td>\n",
       "      <td>(41.30680000000007, -73.87324999999998)</td>\n",
       "      <td>40.761038</td>\n",
       "      <td>-73.718458</td>\n",
       "      <td>41.306800</td>\n",
       "      <td>-73.873250</td>\n",
       "      <td>61.991381</td>\n",
       "    </tr>\n",
       "  </tbody>\n",
       "</table>\n",
       "</div>"
      ],
      "text/plain": [
       "        VendorID  Passenger_count  Total_amount  Time_diff_min Pick_day  \\\n",
       "470119       2.0              1.0         45.20          26.05   Monday   \n",
       "281287       1.0              1.0          5.80           0.07   Monday   \n",
       "526516       2.0              1.0          8.30           4.45   Monday   \n",
       "281292       2.0              1.0         16.56          11.40   Monday   \n",
       "281297       2.0              1.0         11.30           6.60   Monday   \n",
       "\n",
       "       Dropping_day Pick_locationId Dropoff_locationId  \\\n",
       "470119       Monday          NY 138             NY 164   \n",
       "281287       Monday          NY 186             NY 186   \n",
       "526516       Monday          NY 263             NY 236   \n",
       "281292       Monday           NY 79             NY 231   \n",
       "281297       Monday          NY 264              NY 13   \n",
       "\n",
       "                                   Pick_location  \\\n",
       "470119   (40.784640037820054, -73.8305899006457)   \n",
       "281287   (40.74698543007731, -73.79163530001794)   \n",
       "526516   (40.76272801766687, -73.72059648349116)   \n",
       "281292  (42.596728333000044, -78.34029361099994)   \n",
       "281297   (40.76103763904317, -73.71845818236235)   \n",
       "\n",
       "                                   Drop_location       Slat      Slong  \\\n",
       "470119  (40.750415354616045, -73.80297832398533)  40.784640 -73.830590   \n",
       "281287   (40.74698543007731, -73.79163530001794)  40.746985 -73.791635   \n",
       "526516   (40.65374004452198, -73.74707492242896)  40.762728 -73.720596   \n",
       "281292    (40.75540708589228, -73.7495581685021)  42.596728 -78.340294   \n",
       "281297   (41.30680000000007, -73.87324999999998)  40.761038 -73.718458   \n",
       "\n",
       "             Elat      Elong  Original_distance_Kms  \n",
       "470119  40.750415 -73.802978               4.458645  \n",
       "281287  40.746985 -73.791635               0.000000  \n",
       "526516  40.653740 -73.747075              12.308026  \n",
       "281292  40.755407 -73.749558             433.447448  \n",
       "281297  41.306800 -73.873250              61.991381  "
      ]
     },
     "execution_count": 79,
     "metadata": {},
     "output_type": "execute_result"
    }
   ],
   "source": [
    "i_data.head()"
   ]
  },
  {
   "cell_type": "markdown",
   "metadata": {},
   "source": [
    "### __Pickup Locations__"
   ]
  },
  {
   "cell_type": "code",
   "execution_count": 80,
   "metadata": {},
   "outputs": [
    {
     "data": {
      "text/plain": [
       "NY 237    31200\n",
       "NY 236    29646\n",
       "NY 161    20035\n",
       "NY 186    19852\n",
       "NY 170    19226\n",
       "NY 142    19056\n",
       "NY 239    18947\n",
       "NY 141    18621\n",
       "NY 162    17840\n",
       "NY 132    16735\n",
       "Name: Pick_locationId, dtype: int64"
      ]
     },
     "execution_count": 80,
     "metadata": {},
     "output_type": "execute_result"
    }
   ],
   "source": [
    "i_data['Pick_locationId'].value_counts().nlargest(10)"
   ]
  },
  {
   "cell_type": "markdown",
   "metadata": {},
   "source": [
    "### __11.2.1 Top pickup location__"
   ]
  },
  {
   "cell_type": "code",
   "execution_count": 81,
   "metadata": {},
   "outputs": [
    {
     "data": {
      "text/plain": [
       "Text(0.5, 1.0, 'Top Pickup Locations')"
      ]
     },
     "execution_count": 81,
     "metadata": {},
     "output_type": "execute_result"
    },
    {
     "data": {
      "image/png": "[encoded data removed]",
      "text/plain": [
       "<Figure size 842.4x595.44 with 1 Axes>"
      ]
     },
     "metadata": {},
     "output_type": "display_data"
    }
   ],
   "source": [
    "import matplotlib.pyplot as plt\n",
    "sns.set_theme(style=\"ticks\")\n",
    "sns.set_style('ticks')\n",
    "fig, ax = plt.subplots()\n",
    "fig.set_size_inches(11.7, 8.27)\n",
    "ax = sns.countplot(data=i_data, order=i_data.Pick_locationId.value_counts().nlargest(10).index, y='Pick_locationId')\n",
    "ax.set(xlabel='Maximum Picks', ylabel='Pickup_Location')\n",
    "ax.set_title('Top Pickup Locations')"
   ]
  },
  {
   "cell_type": "markdown",
   "metadata": {},
   "source": [
    "### __11.2.2 Low pickup location__"
   ]
  },
  {
   "cell_type": "code",
   "execution_count": 82,
   "metadata": {},
   "outputs": [
    {
     "data": {
      "text/plain": [
       "Text(0.5, 1.0, 'Lowest Pickup Locations')"
      ]
     },
     "execution_count": 82,
     "metadata": {},
     "output_type": "execute_result"
    },
    {
     "data": {
      "image/png": "[encoded data removed]",
      "text/plain": [
       "<Figure size 842.4x595.44 with 1 Axes>"
      ]
     },
     "metadata": {},
     "output_type": "display_data"
    }
   ],
   "source": [
    "sns.set_theme(style=\"ticks\")\n",
    "sns.set_style('ticks')\n",
    "fig, ax = plt.subplots()\n",
    "fig.set_size_inches(11.7, 8.27)\n",
    "ax = sns.countplot(data=i_data, order=i_data.Pick_locationId.value_counts().nsmallest(10).index, y='Pick_locationId')\n",
    "ax.set(xlabel='Minimum Picks', ylabel='Pickup_Location')\n",
    "ax.set_title('Lowest Pickup Locations')"
   ]
  },
  {
   "cell_type": "markdown",
   "metadata": {},
   "source": [
    "## __Dropoff Locations__"
   ]
  },
  {
   "cell_type": "code",
   "execution_count": 83,
   "metadata": {},
   "outputs": [
    {
     "data": {
      "text/plain": [
       "NY 236    29612\n",
       "NY 237    27071\n",
       "NY 141    18301\n",
       "NY 239    18181\n",
       "NY 161    18122\n",
       "NY 170    17968\n",
       "NY 142    16688\n",
       "NY 238    15993\n",
       "NY 162    14394\n",
       "NY 140    14386\n",
       "Name: Dropoff_locationId, dtype: int64"
      ]
     },
     "execution_count": 83,
     "metadata": {},
     "output_type": "execute_result"
    }
   ],
   "source": [
    "i_data['Dropoff_locationId'].value_counts().nlargest(10)"
   ]
  },
  {
   "cell_type": "markdown",
   "metadata": {},
   "source": [
    "### __11.2.3 Top dropoff location__"
   ]
  },
  {
   "cell_type": "code",
   "execution_count": 84,
   "metadata": {},
   "outputs": [
    {
     "data": {
      "text/plain": [
       "Text(0.5, 1.0, 'Top Dropoff Locations')"
      ]
     },
     "execution_count": 84,
     "metadata": {},
     "output_type": "execute_result"
    },
    {
     "data": {
      "image/png": "[encoded data removed]",
      "text/plain": [
       "<Figure size 842.4x595.44 with 1 Axes>"
      ]
     },
     "metadata": {},
     "output_type": "display_data"
    }
   ],
   "source": [
    "sns.set_theme(style=\"ticks\")\n",
    "sns.set_style('ticks')\n",
    "fig, ax = plt.subplots()\n",
    "fig.set_size_inches(11.7, 8.27)\n",
    "ax = sns.countplot(data=i_data, order=i_data.Dropoff_locationId.value_counts().nlargest(10).index, y='Dropoff_locationId')\n",
    "ax.set(xlabel='Maximum Picks', ylabel='Dropoff_Location')\n",
    "ax.set_title('Top Dropoff Locations')"
   ]
  },
  {
   "cell_type": "markdown",
   "metadata": {},
   "source": [
    "### __11.2.4 Low dropoff location__"
   ]
  },
  {
   "cell_type": "code",
   "execution_count": 85,
   "metadata": {},
   "outputs": [
    {
     "data": {
      "text/plain": [
       "Text(0.5, 1.0, 'Low Dropoff Locations')"
      ]
     },
     "execution_count": 85,
     "metadata": {},
     "output_type": "execute_result"
    },
    {
     "data": {
      "image/png": "[encoded data removed]",
      "text/plain": [
       "<Figure size 842.4x595.44 with 1 Axes>"
      ]
     },
     "metadata": {},
     "output_type": "display_data"
    }
   ],
   "source": [
    "sns.set_theme(style=\"ticks\")\n",
    "sns.set_style('ticks')\n",
    "fig, ax = plt.subplots()\n",
    "fig.set_size_inches(11.7, 8.27)\n",
    "ax = sns.countplot(data=i_data, order=i_data.Dropoff_locationId.value_counts().nsmallest(10).index, y='Dropoff_locationId')\n",
    "ax.set(xlabel='Minimum Drops', ylabel='Dropoff_Location')\n",
    "ax.set_title('Low Dropoff Locations')"
   ]
  },
  {
   "cell_type": "markdown",
   "metadata": {},
   "source": [
    "## __11.3 Dropping NaN values__"
   ]
  },
  {
   "cell_type": "code",
   "execution_count": 86,
   "metadata": {},
   "outputs": [
    {
     "data": {
      "text/plain": [
       "(600027, 15)"
      ]
     },
     "execution_count": 86,
     "metadata": {},
     "output_type": "execute_result"
    }
   ],
   "source": [
    "i_data.shape"
   ]
  },
  {
   "cell_type": "code",
   "execution_count": 87,
   "metadata": {},
   "outputs": [
    {
     "data": {
      "text/plain": [
       "VendorID                 33368\n",
       "Passenger_count          33368\n",
       "Total_amount                 0\n",
       "Time_diff_min                0\n",
       "Pick_day                     0\n",
       "Dropping_day                 0\n",
       "Pick_locationId              0\n",
       "Dropoff_locationId           0\n",
       "Pick_location                0\n",
       "Drop_location                0\n",
       "Slat                         0\n",
       "Slong                        0\n",
       "Elat                         0\n",
       "Elong                        0\n",
       "Original_distance_Kms        0\n",
       "dtype: int64"
      ]
     },
     "execution_count": 87,
     "metadata": {},
     "output_type": "execute_result"
    }
   ],
   "source": [
    "i_data.isnull().sum()"
   ]
  },
  {
   "cell_type": "code",
   "execution_count": 88,
   "metadata": {},
   "outputs": [],
   "source": [
    "i_data.dropna(inplace= True)"
   ]
  },
  {
   "cell_type": "code",
   "execution_count": 89,
   "metadata": {},
   "outputs": [
    {
     "data": {
      "text/html": [
       "<div>\n",
       "<style scoped>\n",
       "    .dataframe tbody tr th:only-of-type {\n",
       "        vertical-align: middle;\n",
       "    }\n",
       "\n",
       "    .dataframe tbody tr th {\n",
       "        vertical-align: top;\n",
       "    }\n",
       "\n",
       "    .dataframe thead th {\n",
       "        text-align: right;\n",
       "    }\n",
       "</style>\n",
       "<table border=\"1\" class=\"dataframe\">\n",
       "  <thead>\n",
       "    <tr style=\"text-align: right;\">\n",
       "      <th></th>\n",
       "      <th>VendorID</th>\n",
       "      <th>Passenger_count</th>\n",
       "      <th>Total_amount</th>\n",
       "      <th>Time_diff_min</th>\n",
       "      <th>Pick_day</th>\n",
       "      <th>Dropping_day</th>\n",
       "      <th>Pick_locationId</th>\n",
       "      <th>Dropoff_locationId</th>\n",
       "      <th>Pick_location</th>\n",
       "      <th>Drop_location</th>\n",
       "      <th>Slat</th>\n",
       "      <th>Slong</th>\n",
       "      <th>Elat</th>\n",
       "      <th>Elong</th>\n",
       "      <th>Original_distance_Kms</th>\n",
       "    </tr>\n",
       "  </thead>\n",
       "  <tbody>\n",
       "    <tr>\n",
       "      <th>0</th>\n",
       "      <td>2.0</td>\n",
       "      <td>1.0</td>\n",
       "      <td>45.20</td>\n",
       "      <td>26.05</td>\n",
       "      <td>Monday</td>\n",
       "      <td>Monday</td>\n",
       "      <td>NY 138</td>\n",
       "      <td>NY 164</td>\n",
       "      <td>(40.784640037820054, -73.8305899006457)</td>\n",
       "      <td>(40.750415354616045, -73.80297832398533)</td>\n",
       "      <td>40.784640</td>\n",
       "      <td>-73.830590</td>\n",
       "      <td>40.750415</td>\n",
       "      <td>-73.802978</td>\n",
       "      <td>4.458645</td>\n",
       "    </tr>\n",
       "    <tr>\n",
       "      <th>1</th>\n",
       "      <td>1.0</td>\n",
       "      <td>1.0</td>\n",
       "      <td>5.80</td>\n",
       "      <td>0.07</td>\n",
       "      <td>Monday</td>\n",
       "      <td>Monday</td>\n",
       "      <td>NY 186</td>\n",
       "      <td>NY 186</td>\n",
       "      <td>(40.74698543007731, -73.79163530001794)</td>\n",
       "      <td>(40.74698543007731, -73.79163530001794)</td>\n",
       "      <td>40.746985</td>\n",
       "      <td>-73.791635</td>\n",
       "      <td>40.746985</td>\n",
       "      <td>-73.791635</td>\n",
       "      <td>0.000000</td>\n",
       "    </tr>\n",
       "    <tr>\n",
       "      <th>2</th>\n",
       "      <td>2.0</td>\n",
       "      <td>1.0</td>\n",
       "      <td>8.30</td>\n",
       "      <td>4.45</td>\n",
       "      <td>Monday</td>\n",
       "      <td>Monday</td>\n",
       "      <td>NY 263</td>\n",
       "      <td>NY 236</td>\n",
       "      <td>(40.76272801766687, -73.72059648349116)</td>\n",
       "      <td>(40.65374004452198, -73.74707492242896)</td>\n",
       "      <td>40.762728</td>\n",
       "      <td>-73.720596</td>\n",
       "      <td>40.653740</td>\n",
       "      <td>-73.747075</td>\n",
       "      <td>12.308026</td>\n",
       "    </tr>\n",
       "    <tr>\n",
       "      <th>3</th>\n",
       "      <td>2.0</td>\n",
       "      <td>1.0</td>\n",
       "      <td>16.56</td>\n",
       "      <td>11.40</td>\n",
       "      <td>Monday</td>\n",
       "      <td>Monday</td>\n",
       "      <td>NY 79</td>\n",
       "      <td>NY 231</td>\n",
       "      <td>(42.596728333000044, -78.34029361099994)</td>\n",
       "      <td>(40.75540708589228, -73.7495581685021)</td>\n",
       "      <td>42.596728</td>\n",
       "      <td>-78.340294</td>\n",
       "      <td>40.755407</td>\n",
       "      <td>-73.749558</td>\n",
       "      <td>433.447448</td>\n",
       "    </tr>\n",
       "    <tr>\n",
       "      <th>4</th>\n",
       "      <td>2.0</td>\n",
       "      <td>1.0</td>\n",
       "      <td>11.30</td>\n",
       "      <td>6.60</td>\n",
       "      <td>Monday</td>\n",
       "      <td>Monday</td>\n",
       "      <td>NY 264</td>\n",
       "      <td>NY 13</td>\n",
       "      <td>(40.76103763904317, -73.71845818236235)</td>\n",
       "      <td>(41.30680000000007, -73.87324999999998)</td>\n",
       "      <td>40.761038</td>\n",
       "      <td>-73.718458</td>\n",
       "      <td>41.306800</td>\n",
       "      <td>-73.873250</td>\n",
       "      <td>61.991381</td>\n",
       "    </tr>\n",
       "  </tbody>\n",
       "</table>\n",
       "</div>"
      ],
      "text/plain": [
       "   VendorID  Passenger_count  Total_amount  Time_diff_min Pick_day  \\\n",
       "0       2.0              1.0         45.20          26.05   Monday   \n",
       "1       1.0              1.0          5.80           0.07   Monday   \n",
       "2       2.0              1.0          8.30           4.45   Monday   \n",
       "3       2.0              1.0         16.56          11.40   Monday   \n",
       "4       2.0              1.0         11.30           6.60   Monday   \n",
       "\n",
       "  Dropping_day Pick_locationId Dropoff_locationId  \\\n",
       "0       Monday          NY 138             NY 164   \n",
       "1       Monday          NY 186             NY 186   \n",
       "2       Monday          NY 263             NY 236   \n",
       "3       Monday           NY 79             NY 231   \n",
       "4       Monday          NY 264              NY 13   \n",
       "\n",
       "                              Pick_location  \\\n",
       "0   (40.784640037820054, -73.8305899006457)   \n",
       "1   (40.74698543007731, -73.79163530001794)   \n",
       "2   (40.76272801766687, -73.72059648349116)   \n",
       "3  (42.596728333000044, -78.34029361099994)   \n",
       "4   (40.76103763904317, -73.71845818236235)   \n",
       "\n",
       "                              Drop_location       Slat      Slong       Elat  \\\n",
       "0  (40.750415354616045, -73.80297832398533)  40.784640 -73.830590  40.750415   \n",
       "1   (40.74698543007731, -73.79163530001794)  40.746985 -73.791635  40.746985   \n",
       "2   (40.65374004452198, -73.74707492242896)  40.762728 -73.720596  40.653740   \n",
       "3    (40.75540708589228, -73.7495581685021)  42.596728 -78.340294  40.755407   \n",
       "4   (41.30680000000007, -73.87324999999998)  40.761038 -73.718458  41.306800   \n",
       "\n",
       "       Elong  Original_distance_Kms  \n",
       "0 -73.802978               4.458645  \n",
       "1 -73.791635               0.000000  \n",
       "2 -73.747075              12.308026  \n",
       "3 -73.749558             433.447448  \n",
       "4 -73.873250              61.991381  "
      ]
     },
     "execution_count": 89,
     "metadata": {},
     "output_type": "execute_result"
    }
   ],
   "source": [
    "i_data.reset_index(drop = True, inplace = True)\n",
    "i_data.head(5)"
   ]
  },
  {
   "cell_type": "markdown",
   "metadata": {},
   "source": [
    "## __12. Passenger count by pickup location__"
   ]
  },
  {
   "cell_type": "code",
   "execution_count": 90,
   "metadata": {},
   "outputs": [
    {
     "data": {
      "text/plain": [
       "Pick_day   Passenger_count\n",
       "Friday     1.0                67893\n",
       "           2.0                13265\n",
       "           3.0                 3479\n",
       "           5.0                 2167\n",
       "           0.0                 2049\n",
       "           6.0                 1497\n",
       "           4.0                 1294\n",
       "           7.0                    1\n",
       "Monday     1.0                54295\n",
       "           2.0                 9989\n",
       "           3.0                 2644\n",
       "           5.0                 1816\n",
       "           0.0                 1761\n",
       "           6.0                 1201\n",
       "           4.0                  966\n",
       "           7.0                    1\n",
       "Saturday   1.0                57856\n",
       "           2.0                14136\n",
       "           3.0                 3881\n",
       "           5.0                 2164\n",
       "           0.0                 1724\n",
       "           4.0                 1444\n",
       "           6.0                 1334\n",
       "Sunday     1.0                41978\n",
       "           2.0                 9821\n",
       "           3.0                 2620\n",
       "           5.0                 1431\n",
       "           0.0                 1341\n",
       "           6.0                 1063\n",
       "           4.0                 1007\n",
       "           7.0                    1\n",
       "Thursday   1.0                67385\n",
       "           2.0                11753\n",
       "           3.0                 2976\n",
       "           5.0                 2236\n",
       "           0.0                 1966\n",
       "           6.0                 1524\n",
       "           4.0                 1185\n",
       "Tuesday    1.0                62925\n",
       "           2.0                11063\n",
       "           3.0                 2710\n",
       "           5.0                 2157\n",
       "           0.0                 1854\n",
       "           6.0                 1301\n",
       "           4.0                 1123\n",
       "Wednesday  1.0                67102\n",
       "           2.0                11627\n",
       "           3.0                 2943\n",
       "           5.0                 2151\n",
       "           0.0                 1940\n",
       "           6.0                 1511\n",
       "           4.0                 1108\n",
       "Name: Passenger_count, dtype: int64"
      ]
     },
     "execution_count": 90,
     "metadata": {},
     "output_type": "execute_result"
    }
   ],
   "source": [
    "i_data.groupby('Pick_day')['Passenger_count'].value_counts()"
   ]
  },
  {
   "cell_type": "markdown",
   "metadata": {},
   "source": [
    "### __12.1 Visualization of the passenger count on the weekdays__"
   ]
  },
  {
   "cell_type": "code",
   "execution_count": 91,
   "metadata": {},
   "outputs": [
    {
     "data": {
      "text/plain": [
       "[Text(0.5, 0, 'Count'), Text(0, 0.5, 'Week_day')]"
      ]
     },
     "execution_count": 91,
     "metadata": {},
     "output_type": "execute_result"
    },
    {
     "data": {
      "image/png": "[encoded data removed]",
      "text/plain": [
       "<Figure size 1202.4x595.44 with 1 Axes>"
      ]
     },
     "metadata": {},
     "output_type": "display_data"
    }
   ],
   "source": [
    "sns.set_theme(style=\"ticks\")\n",
    "sns.set_style('ticks')\n",
    "fig, ax = plt.subplots()\n",
    "fig.set_size_inches(16.7, 8.27)\n",
    "ax = sns.countplot(y=\"Pick_day\", hue=\"Passenger_count\", data=i_data)\n",
    "sns.color_palette('dark')\n",
    "ax.set(xlabel='Count', ylabel='Week_day')"
   ]
  },
  {
   "cell_type": "markdown",
   "metadata": {},
   "source": [
    "### __12.2 Analyzing with count 1__"
   ]
  },
  {
   "cell_type": "code",
   "execution_count": 92,
   "metadata": {},
   "outputs": [],
   "source": [
    "i_data['slat_long'] = i_data[['Slong', 'Slat']].apply(tuple, axis=1)\n",
    "i_data['elat_long'] = i_data[['Elong', 'Elat']].apply(tuple, axis=1)"
   ]
  },
  {
   "cell_type": "code",
   "execution_count": 93,
   "metadata": {},
   "outputs": [
    {
     "name": "stdout",
     "output_type": "stream",
     "text": [
      "Requirement already satisfied: pydeck in d:\\anaconda\\envs\\my_env\\lib\\site-packages (0.7.1)\n",
      "Requirement already satisfied: jinja2>=2.10.1 in d:\\anaconda\\envs\\my_env\\lib\\site-packages (from pydeck) (3.0.3)\n",
      "Requirement already satisfied: traitlets>=4.3.2 in d:\\anaconda\\envs\\my_env\\lib\\site-packages (from pydeck) (5.1.0)\n",
      "Requirement already satisfied: ipywidgets>=7.0.0 in d:\\anaconda\\envs\\my_env\\lib\\site-packages (from pydeck) (7.6.5)\n",
      "Requirement already satisfied: ipykernel>=5.1.2 in d:\\anaconda\\envs\\my_env\\lib\\site-packages (from pydeck) (6.4.1)\n",
      "Requirement already satisfied: numpy>=1.16.4 in d:\\anaconda\\envs\\my_env\\lib\\site-packages (from pydeck) (1.21.2)\n",
      "Requirement already satisfied: tornado<7.0,>=4.2 in d:\\anaconda\\envs\\my_env\\lib\\site-packages (from ipykernel>=5.1.2->pydeck) (6.1)\n",
      "Requirement already satisfied: ipython<8.0,>=7.23.1 in d:\\anaconda\\envs\\my_env\\lib\\site-packages (from ipykernel>=5.1.2->pydeck) (7.29.0)\n",
      "Requirement already satisfied: debugpy<2.0,>=1.0.0 in d:\\anaconda\\envs\\my_env\\lib\\site-packages (from ipykernel>=5.1.2->pydeck) (1.4.1)\n",
      "Requirement already satisfied: matplotlib-inline<0.2.0,>=0.1.0 in d:\\anaconda\\envs\\my_env\\lib\\site-packages (from ipykernel>=5.1.2->pydeck) (0.1.2)\n",
      "Requirement already satisfied: jupyter-client<8.0 in d:\\anaconda\\envs\\my_env\\lib\\site-packages (from ipykernel>=5.1.2->pydeck) (7.0.1)\n",
      "Requirement already satisfied: ipython-genutils in d:\\anaconda\\envs\\my_env\\lib\\site-packages (from ipykernel>=5.1.2->pydeck) (0.2.0)\n",
      "Requirement already satisfied: decorator in d:\\anaconda\\envs\\my_env\\lib\\site-packages (from ipython<8.0,>=7.23.1->ipykernel>=5.1.2->pydeck) (5.1.0)\n",
      "Requirement already satisfied: backcall in d:\\anaconda\\envs\\my_env\\lib\\site-packages (from ipython<8.0,>=7.23.1->ipykernel>=5.1.2->pydeck) (0.2.0)\n",
      "Requirement already satisfied: prompt-toolkit!=3.0.0,!=3.0.1,<3.1.0,>=2.0.0 in d:\\anaconda\\envs\\my_env\\lib\\site-packages (from ipython<8.0,>=7.23.1->ipykernel>=5.1.2->pydeck) (3.0.20)\n",
      "Requirement already satisfied: setuptools>=18.5 in d:\\anaconda\\envs\\my_env\\lib\\site-packages (from ipython<8.0,>=7.23.1->ipykernel>=5.1.2->pydeck) (58.0.4)\n",
      "Requirement already satisfied: jedi>=0.16 in d:\\anaconda\\envs\\my_env\\lib\\site-packages (from ipython<8.0,>=7.23.1->ipykernel>=5.1.2->pydeck) (0.18.0)\n",
      "Requirement already satisfied: colorama in d:\\anaconda\\envs\\my_env\\lib\\site-packages (from ipython<8.0,>=7.23.1->ipykernel>=5.1.2->pydeck) (0.4.4)\n",
      "Requirement already satisfied: pickleshare in d:\\anaconda\\envs\\my_env\\lib\\site-packages (from ipython<8.0,>=7.23.1->ipykernel>=5.1.2->pydeck) (0.7.5)\n",
      "Requirement already satisfied: pygments in d:\\anaconda\\envs\\my_env\\lib\\site-packages (from ipython<8.0,>=7.23.1->ipykernel>=5.1.2->pydeck) (2.10.0)\n",
      "Requirement already satisfied: nbformat>=4.2.0 in d:\\anaconda\\envs\\my_env\\lib\\site-packages (from ipywidgets>=7.0.0->pydeck) (5.1.3)\n",
      "Requirement already satisfied: jupyterlab-widgets>=1.0.0 in d:\\anaconda\\envs\\my_env\\lib\\site-packages (from ipywidgets>=7.0.0->pydeck) (1.0.2)\n",
      "Requirement already satisfied: widgetsnbextension~=3.5.0 in d:\\anaconda\\envs\\my_env\\lib\\site-packages (from ipywidgets>=7.0.0->pydeck) (3.5.2)\n",
      "Requirement already satisfied: parso<0.9.0,>=0.8.0 in d:\\anaconda\\envs\\my_env\\lib\\site-packages (from jedi>=0.16->ipython<8.0,>=7.23.1->ipykernel>=5.1.2->pydeck) (0.8.2)\n",
      "Requirement already satisfied: MarkupSafe>=2.0 in d:\\anaconda\\envs\\my_env\\lib\\site-packages (from jinja2>=2.10.1->pydeck) (2.0.1)\n",
      "Requirement already satisfied: pyzmq>=13 in d:\\anaconda\\envs\\my_env\\lib\\site-packages (from jupyter-client<8.0->ipykernel>=5.1.2->pydeck) (22.2.1)\n",
      "Requirement already satisfied: entrypoints in d:\\anaconda\\envs\\my_env\\lib\\site-packages (from jupyter-client<8.0->ipykernel>=5.1.2->pydeck) (0.3)\n",
      "Requirement already satisfied: jupyter-core>=4.6.0 in d:\\anaconda\\envs\\my_env\\lib\\site-packages (from jupyter-client<8.0->ipykernel>=5.1.2->pydeck) (4.9.1)\n",
      "Requirement already satisfied: nest-asyncio>=1.5 in d:\\anaconda\\envs\\my_env\\lib\\site-packages (from jupyter-client<8.0->ipykernel>=5.1.2->pydeck) (1.5.1)\n",
      "Requirement already satisfied: python-dateutil>=2.1 in d:\\anaconda\\envs\\my_env\\lib\\site-packages (from jupyter-client<8.0->ipykernel>=5.1.2->pydeck) (2.8.2)\n",
      "Requirement already satisfied: pywin32>=1.0 in d:\\anaconda\\envs\\my_env\\lib\\site-packages (from jupyter-core>=4.6.0->jupyter-client<8.0->ipykernel>=5.1.2->pydeck) (228)\n",
      "Requirement already satisfied: jsonschema!=2.5.0,>=2.4 in d:\\anaconda\\envs\\my_env\\lib\\site-packages (from nbformat>=4.2.0->ipywidgets>=7.0.0->pydeck) (4.2.1)\n",
      "Requirement already satisfied: attrs>=17.4.0 in d:\\anaconda\\envs\\my_env\\lib\\site-packages (from jsonschema!=2.5.0,>=2.4->nbformat>=4.2.0->ipywidgets>=7.0.0->pydeck) (21.2.0)\n",
      "Requirement already satisfied: pyrsistent!=0.17.0,!=0.17.1,!=0.17.2,>=0.14.0 in d:\\anaconda\\envs\\my_env\\lib\\site-packages (from jsonschema!=2.5.0,>=2.4->nbformat>=4.2.0->ipywidgets>=7.0.0->pydeck) (0.18.0)\n",
      "Requirement already satisfied: wcwidth in d:\\anaconda\\envs\\my_env\\lib\\site-packages (from prompt-toolkit!=3.0.0,!=3.0.1,<3.1.0,>=2.0.0->ipython<8.0,>=7.23.1->ipykernel>=5.1.2->pydeck) (0.2.5)\n",
      "Requirement already satisfied: six>=1.5 in d:\\anaconda\\envs\\my_env\\lib\\site-packages (from python-dateutil>=2.1->jupyter-client<8.0->ipykernel>=5.1.2->pydeck) (1.16.0)\n",
      "Requirement already satisfied: notebook>=4.4.1 in d:\\anaconda\\envs\\my_env\\lib\\site-packages (from widgetsnbextension~=3.5.0->ipywidgets>=7.0.0->pydeck) (6.4.5)\n",
      "Requirement already satisfied: prometheus-client in d:\\anaconda\\envs\\my_env\\lib\\site-packages (from notebook>=4.4.1->widgetsnbextension~=3.5.0->ipywidgets>=7.0.0->pydeck) (0.12.0)\n",
      "Requirement already satisfied: terminado>=0.8.3 in d:\\anaconda\\envs\\my_env\\lib\\site-packages (from notebook>=4.4.1->widgetsnbextension~=3.5.0->ipywidgets>=7.0.0->pydeck) (0.12.1)\n",
      "Requirement already satisfied: nbconvert in d:\\anaconda\\envs\\my_env\\lib\\site-packages (from notebook>=4.4.1->widgetsnbextension~=3.5.0->ipywidgets>=7.0.0->pydeck) (6.3.0)\n",
      "Requirement already satisfied: argon2-cffi in d:\\anaconda\\envs\\my_env\\lib\\site-packages (from notebook>=4.4.1->widgetsnbextension~=3.5.0->ipywidgets>=7.0.0->pydeck) (21.1.0)\n",
      "Requirement already satisfied: Send2Trash>=1.5.0 in d:\\anaconda\\envs\\my_env\\lib\\site-packages (from notebook>=4.4.1->widgetsnbextension~=3.5.0->ipywidgets>=7.0.0->pydeck) (1.8.0)\n",
      "Requirement already satisfied: pywinpty>=1.1.0 in d:\\anaconda\\envs\\my_env\\lib\\site-packages (from terminado>=0.8.3->notebook>=4.4.1->widgetsnbextension~=3.5.0->ipywidgets>=7.0.0->pydeck) (1.1.6)\n",
      "Requirement already satisfied: cffi>=1.0.0 in d:\\anaconda\\envs\\my_env\\lib\\site-packages (from argon2-cffi->notebook>=4.4.1->widgetsnbextension~=3.5.0->ipywidgets>=7.0.0->pydeck) (1.15.0)\n",
      "Requirement already satisfied: pycparser in d:\\anaconda\\envs\\my_env\\lib\\site-packages (from cffi>=1.0.0->argon2-cffi->notebook>=4.4.1->widgetsnbextension~=3.5.0->ipywidgets>=7.0.0->pydeck) (2.21)\n",
      "Requirement already satisfied: bleach in d:\\anaconda\\envs\\my_env\\lib\\site-packages (from nbconvert->notebook>=4.4.1->widgetsnbextension~=3.5.0->ipywidgets>=7.0.0->pydeck) (4.1.0)\n",
      "Requirement already satisfied: defusedxml in d:\\anaconda\\envs\\my_env\\lib\\site-packages (from nbconvert->notebook>=4.4.1->widgetsnbextension~=3.5.0->ipywidgets>=7.0.0->pydeck) (0.7.1)\n",
      "Requirement already satisfied: pandocfilters>=1.4.1 in d:\\anaconda\\envs\\my_env\\lib\\site-packages (from nbconvert->notebook>=4.4.1->widgetsnbextension~=3.5.0->ipywidgets>=7.0.0->pydeck) (1.5.0)\n",
      "Requirement already satisfied: mistune<2,>=0.8.1 in d:\\anaconda\\envs\\my_env\\lib\\site-packages (from nbconvert->notebook>=4.4.1->widgetsnbextension~=3.5.0->ipywidgets>=7.0.0->pydeck) (0.8.4)\n",
      "Requirement already satisfied: nbclient<0.6.0,>=0.5.0 in d:\\anaconda\\envs\\my_env\\lib\\site-packages (from nbconvert->notebook>=4.4.1->widgetsnbextension~=3.5.0->ipywidgets>=7.0.0->pydeck) (0.5.8)\n",
      "Requirement already satisfied: testpath in d:\\anaconda\\envs\\my_env\\lib\\site-packages (from nbconvert->notebook>=4.4.1->widgetsnbextension~=3.5.0->ipywidgets>=7.0.0->pydeck) (0.5.0)\n",
      "Requirement already satisfied: jupyterlab-pygments in d:\\anaconda\\envs\\my_env\\lib\\site-packages (from nbconvert->notebook>=4.4.1->widgetsnbextension~=3.5.0->ipywidgets>=7.0.0->pydeck) (0.1.2)\n",
      "Requirement already satisfied: packaging in d:\\anaconda\\envs\\my_env\\lib\\site-packages (from bleach->nbconvert->notebook>=4.4.1->widgetsnbextension~=3.5.0->ipywidgets>=7.0.0->pydeck) (21.2)\n",
      "Requirement already satisfied: webencodings in d:\\anaconda\\envs\\my_env\\lib\\site-packages (from bleach->nbconvert->notebook>=4.4.1->widgetsnbextension~=3.5.0->ipywidgets>=7.0.0->pydeck) (0.5.1)\n",
      "Requirement already satisfied: pyparsing<3,>=2.0.2 in d:\\anaconda\\envs\\my_env\\lib\\site-packages (from packaging->bleach->nbconvert->notebook>=4.4.1->widgetsnbextension~=3.5.0->ipywidgets>=7.0.0->pydeck) (2.4.7)\n"
     ]
    }
   ],
   "source": [
    "!pip install pydeck"
   ]
  },
  {
   "cell_type": "code",
   "execution_count": 94,
   "metadata": {},
   "outputs": [
    {
     "data": {
      "text/html": [
       "<div>\n",
       "<style scoped>\n",
       "    .dataframe tbody tr th:only-of-type {\n",
       "        vertical-align: middle;\n",
       "    }\n",
       "\n",
       "    .dataframe tbody tr th {\n",
       "        vertical-align: top;\n",
       "    }\n",
       "\n",
       "    .dataframe thead th {\n",
       "        text-align: right;\n",
       "    }\n",
       "</style>\n",
       "<table border=\"1\" class=\"dataframe\">\n",
       "  <thead>\n",
       "    <tr style=\"text-align: right;\">\n",
       "      <th></th>\n",
       "      <th>VendorID</th>\n",
       "      <th>Passenger_count</th>\n",
       "      <th>Total_amount</th>\n",
       "      <th>Time_diff_min</th>\n",
       "      <th>Pick_day</th>\n",
       "      <th>Dropping_day</th>\n",
       "      <th>Pick_locationId</th>\n",
       "      <th>Dropoff_locationId</th>\n",
       "      <th>Pick_location</th>\n",
       "      <th>Drop_location</th>\n",
       "      <th>Slat</th>\n",
       "      <th>Slong</th>\n",
       "      <th>Elat</th>\n",
       "      <th>Elong</th>\n",
       "      <th>Original_distance_Kms</th>\n",
       "      <th>slat_long</th>\n",
       "      <th>elat_long</th>\n",
       "    </tr>\n",
       "  </thead>\n",
       "  <tbody>\n",
       "    <tr>\n",
       "      <th>0</th>\n",
       "      <td>2.0</td>\n",
       "      <td>1.0</td>\n",
       "      <td>45.20</td>\n",
       "      <td>26.05</td>\n",
       "      <td>Monday</td>\n",
       "      <td>Monday</td>\n",
       "      <td>NY 138</td>\n",
       "      <td>NY 164</td>\n",
       "      <td>(40.784640037820054, -73.8305899006457)</td>\n",
       "      <td>(40.750415354616045, -73.80297832398533)</td>\n",
       "      <td>40.784640</td>\n",
       "      <td>-73.830590</td>\n",
       "      <td>40.750415</td>\n",
       "      <td>-73.802978</td>\n",
       "      <td>4.458645</td>\n",
       "      <td>(-73.8305899006457, 40.784640037820054)</td>\n",
       "      <td>(-73.80297832398533, 40.750415354616045)</td>\n",
       "    </tr>\n",
       "    <tr>\n",
       "      <th>1</th>\n",
       "      <td>1.0</td>\n",
       "      <td>1.0</td>\n",
       "      <td>5.80</td>\n",
       "      <td>0.07</td>\n",
       "      <td>Monday</td>\n",
       "      <td>Monday</td>\n",
       "      <td>NY 186</td>\n",
       "      <td>NY 186</td>\n",
       "      <td>(40.74698543007731, -73.79163530001794)</td>\n",
       "      <td>(40.74698543007731, -73.79163530001794)</td>\n",
       "      <td>40.746985</td>\n",
       "      <td>-73.791635</td>\n",
       "      <td>40.746985</td>\n",
       "      <td>-73.791635</td>\n",
       "      <td>0.000000</td>\n",
       "      <td>(-73.79163530001794, 40.74698543007731)</td>\n",
       "      <td>(-73.79163530001794, 40.74698543007731)</td>\n",
       "    </tr>\n",
       "    <tr>\n",
       "      <th>2</th>\n",
       "      <td>2.0</td>\n",
       "      <td>1.0</td>\n",
       "      <td>8.30</td>\n",
       "      <td>4.45</td>\n",
       "      <td>Monday</td>\n",
       "      <td>Monday</td>\n",
       "      <td>NY 263</td>\n",
       "      <td>NY 236</td>\n",
       "      <td>(40.76272801766687, -73.72059648349116)</td>\n",
       "      <td>(40.65374004452198, -73.74707492242896)</td>\n",
       "      <td>40.762728</td>\n",
       "      <td>-73.720596</td>\n",
       "      <td>40.653740</td>\n",
       "      <td>-73.747075</td>\n",
       "      <td>12.308026</td>\n",
       "      <td>(-73.72059648349116, 40.76272801766687)</td>\n",
       "      <td>(-73.74707492242896, 40.65374004452198)</td>\n",
       "    </tr>\n",
       "    <tr>\n",
       "      <th>3</th>\n",
       "      <td>2.0</td>\n",
       "      <td>1.0</td>\n",
       "      <td>16.56</td>\n",
       "      <td>11.40</td>\n",
       "      <td>Monday</td>\n",
       "      <td>Monday</td>\n",
       "      <td>NY 79</td>\n",
       "      <td>NY 231</td>\n",
       "      <td>(42.596728333000044, -78.34029361099994)</td>\n",
       "      <td>(40.75540708589228, -73.7495581685021)</td>\n",
       "      <td>42.596728</td>\n",
       "      <td>-78.340294</td>\n",
       "      <td>40.755407</td>\n",
       "      <td>-73.749558</td>\n",
       "      <td>433.447448</td>\n",
       "      <td>(-78.34029361099994, 42.596728333000044)</td>\n",
       "      <td>(-73.7495581685021, 40.75540708589228)</td>\n",
       "    </tr>\n",
       "    <tr>\n",
       "      <th>4</th>\n",
       "      <td>2.0</td>\n",
       "      <td>1.0</td>\n",
       "      <td>11.30</td>\n",
       "      <td>6.60</td>\n",
       "      <td>Monday</td>\n",
       "      <td>Monday</td>\n",
       "      <td>NY 264</td>\n",
       "      <td>NY 13</td>\n",
       "      <td>(40.76103763904317, -73.71845818236235)</td>\n",
       "      <td>(41.30680000000007, -73.87324999999998)</td>\n",
       "      <td>40.761038</td>\n",
       "      <td>-73.718458</td>\n",
       "      <td>41.306800</td>\n",
       "      <td>-73.873250</td>\n",
       "      <td>61.991381</td>\n",
       "      <td>(-73.71845818236235, 40.76103763904317)</td>\n",
       "      <td>(-73.87324999999998, 41.30680000000007)</td>\n",
       "    </tr>\n",
       "    <tr>\n",
       "      <th>6</th>\n",
       "      <td>2.0</td>\n",
       "      <td>1.0</td>\n",
       "      <td>11.00</td>\n",
       "      <td>4.48</td>\n",
       "      <td>Monday</td>\n",
       "      <td>Monday</td>\n",
       "      <td>NY 162</td>\n",
       "      <td>NY 141</td>\n",
       "      <td>(40.760605703709125, -73.80395237371366)</td>\n",
       "      <td>(40.67078003458249, -73.7630699406206)</td>\n",
       "      <td>40.760606</td>\n",
       "      <td>-73.803952</td>\n",
       "      <td>40.670780</td>\n",
       "      <td>-73.763070</td>\n",
       "      <td>10.556201</td>\n",
       "      <td>(-73.80395237371366, 40.760605703709125)</td>\n",
       "      <td>(-73.7630699406206, 40.67078003458249)</td>\n",
       "    </tr>\n",
       "    <tr>\n",
       "      <th>8</th>\n",
       "      <td>1.0</td>\n",
       "      <td>1.0</td>\n",
       "      <td>17.85</td>\n",
       "      <td>9.37</td>\n",
       "      <td>Monday</td>\n",
       "      <td>Monday</td>\n",
       "      <td>NY 236</td>\n",
       "      <td>NY 166</td>\n",
       "      <td>(40.65374004452198, -73.74707492242896)</td>\n",
       "      <td>(40.780672392143096, -73.79743099670318)</td>\n",
       "      <td>40.653740</td>\n",
       "      <td>-73.747075</td>\n",
       "      <td>40.780672</td>\n",
       "      <td>-73.797431</td>\n",
       "      <td>14.723795</td>\n",
       "      <td>(-73.74707492242896, 40.65374004452198)</td>\n",
       "      <td>(-73.79743099670318, 40.780672392143096)</td>\n",
       "    </tr>\n",
       "    <tr>\n",
       "      <th>10</th>\n",
       "      <td>2.0</td>\n",
       "      <td>1.0</td>\n",
       "      <td>14.16</td>\n",
       "      <td>8.18</td>\n",
       "      <td>Monday</td>\n",
       "      <td>Monday</td>\n",
       "      <td>NY 236</td>\n",
       "      <td>NY 239</td>\n",
       "      <td>(40.65374004452198, -73.74707492242896)</td>\n",
       "      <td>(40.68933569229372, -73.72398491932245)</td>\n",
       "      <td>40.653740</td>\n",
       "      <td>-73.747075</td>\n",
       "      <td>40.689336</td>\n",
       "      <td>-73.723985</td>\n",
       "      <td>4.408646</td>\n",
       "      <td>(-73.74707492242896, 40.65374004452198)</td>\n",
       "      <td>(-73.72398491932245, 40.68933569229372)</td>\n",
       "    </tr>\n",
       "    <tr>\n",
       "      <th>11</th>\n",
       "      <td>2.0</td>\n",
       "      <td>1.0</td>\n",
       "      <td>29.76</td>\n",
       "      <td>15.97</td>\n",
       "      <td>Monday</td>\n",
       "      <td>Monday</td>\n",
       "      <td>NY 162</td>\n",
       "      <td>NY 231</td>\n",
       "      <td>(40.760605703709125, -73.80395237371366)</td>\n",
       "      <td>(40.75540708589228, -73.7495581685021)</td>\n",
       "      <td>40.760606</td>\n",
       "      <td>-73.803952</td>\n",
       "      <td>40.755407</td>\n",
       "      <td>-73.749558</td>\n",
       "      <td>4.629301</td>\n",
       "      <td>(-73.80395237371366, 40.760605703709125)</td>\n",
       "      <td>(-73.7495581685021, 40.75540708589228)</td>\n",
       "    </tr>\n",
       "    <tr>\n",
       "      <th>12</th>\n",
       "      <td>2.0</td>\n",
       "      <td>1.0</td>\n",
       "      <td>10.80</td>\n",
       "      <td>7.12</td>\n",
       "      <td>Monday</td>\n",
       "      <td>Monday</td>\n",
       "      <td>NY 161</td>\n",
       "      <td>NY 107</td>\n",
       "      <td>(40.754544522261114, -73.80572351878894)</td>\n",
       "      <td>(42.76375565097234, -73.67711894393948)</td>\n",
       "      <td>40.754545</td>\n",
       "      <td>-73.805724</td>\n",
       "      <td>42.763756</td>\n",
       "      <td>-73.677119</td>\n",
       "      <td>223.416360</td>\n",
       "      <td>(-73.80572351878894, 40.754544522261114)</td>\n",
       "      <td>(-73.67711894393948, 42.76375565097234)</td>\n",
       "    </tr>\n",
       "  </tbody>\n",
       "</table>\n",
       "</div>"
      ],
      "text/plain": [
       "    VendorID  Passenger_count  Total_amount  Time_diff_min Pick_day  \\\n",
       "0        2.0              1.0         45.20          26.05   Monday   \n",
       "1        1.0              1.0          5.80           0.07   Monday   \n",
       "2        2.0              1.0          8.30           4.45   Monday   \n",
       "3        2.0              1.0         16.56          11.40   Monday   \n",
       "4        2.0              1.0         11.30           6.60   Monday   \n",
       "6        2.0              1.0         11.00           4.48   Monday   \n",
       "8        1.0              1.0         17.85           9.37   Monday   \n",
       "10       2.0              1.0         14.16           8.18   Monday   \n",
       "11       2.0              1.0         29.76          15.97   Monday   \n",
       "12       2.0              1.0         10.80           7.12   Monday   \n",
       "\n",
       "   Dropping_day Pick_locationId Dropoff_locationId  \\\n",
       "0        Monday          NY 138             NY 164   \n",
       "1        Monday          NY 186             NY 186   \n",
       "2        Monday          NY 263             NY 236   \n",
       "3        Monday           NY 79             NY 231   \n",
       "4        Monday          NY 264              NY 13   \n",
       "6        Monday          NY 162             NY 141   \n",
       "8        Monday          NY 236             NY 166   \n",
       "10       Monday          NY 236             NY 239   \n",
       "11       Monday          NY 162             NY 231   \n",
       "12       Monday          NY 161             NY 107   \n",
       "\n",
       "                               Pick_location  \\\n",
       "0    (40.784640037820054, -73.8305899006457)   \n",
       "1    (40.74698543007731, -73.79163530001794)   \n",
       "2    (40.76272801766687, -73.72059648349116)   \n",
       "3   (42.596728333000044, -78.34029361099994)   \n",
       "4    (40.76103763904317, -73.71845818236235)   \n",
       "6   (40.760605703709125, -73.80395237371366)   \n",
       "8    (40.65374004452198, -73.74707492242896)   \n",
       "10   (40.65374004452198, -73.74707492242896)   \n",
       "11  (40.760605703709125, -73.80395237371366)   \n",
       "12  (40.754544522261114, -73.80572351878894)   \n",
       "\n",
       "                               Drop_location       Slat      Slong       Elat  \\\n",
       "0   (40.750415354616045, -73.80297832398533)  40.784640 -73.830590  40.750415   \n",
       "1    (40.74698543007731, -73.79163530001794)  40.746985 -73.791635  40.746985   \n",
       "2    (40.65374004452198, -73.74707492242896)  40.762728 -73.720596  40.653740   \n",
       "3     (40.75540708589228, -73.7495581685021)  42.596728 -78.340294  40.755407   \n",
       "4    (41.30680000000007, -73.87324999999998)  40.761038 -73.718458  41.306800   \n",
       "6     (40.67078003458249, -73.7630699406206)  40.760606 -73.803952  40.670780   \n",
       "8   (40.780672392143096, -73.79743099670318)  40.653740 -73.747075  40.780672   \n",
       "10   (40.68933569229372, -73.72398491932245)  40.653740 -73.747075  40.689336   \n",
       "11    (40.75540708589228, -73.7495581685021)  40.760606 -73.803952  40.755407   \n",
       "12   (42.76375565097234, -73.67711894393948)  40.754545 -73.805724  42.763756   \n",
       "\n",
       "        Elong  Original_distance_Kms  \\\n",
       "0  -73.802978               4.458645   \n",
       "1  -73.791635               0.000000   \n",
       "2  -73.747075              12.308026   \n",
       "3  -73.749558             433.447448   \n",
       "4  -73.873250              61.991381   \n",
       "6  -73.763070              10.556201   \n",
       "8  -73.797431              14.723795   \n",
       "10 -73.723985               4.408646   \n",
       "11 -73.749558               4.629301   \n",
       "12 -73.677119             223.416360   \n",
       "\n",
       "                                   slat_long  \\\n",
       "0    (-73.8305899006457, 40.784640037820054)   \n",
       "1    (-73.79163530001794, 40.74698543007731)   \n",
       "2    (-73.72059648349116, 40.76272801766687)   \n",
       "3   (-78.34029361099994, 42.596728333000044)   \n",
       "4    (-73.71845818236235, 40.76103763904317)   \n",
       "6   (-73.80395237371366, 40.760605703709125)   \n",
       "8    (-73.74707492242896, 40.65374004452198)   \n",
       "10   (-73.74707492242896, 40.65374004452198)   \n",
       "11  (-73.80395237371366, 40.760605703709125)   \n",
       "12  (-73.80572351878894, 40.754544522261114)   \n",
       "\n",
       "                                   elat_long  \n",
       "0   (-73.80297832398533, 40.750415354616045)  \n",
       "1    (-73.79163530001794, 40.74698543007731)  \n",
       "2    (-73.74707492242896, 40.65374004452198)  \n",
       "3     (-73.7495581685021, 40.75540708589228)  \n",
       "4    (-73.87324999999998, 41.30680000000007)  \n",
       "6     (-73.7630699406206, 40.67078003458249)  \n",
       "8   (-73.79743099670318, 40.780672392143096)  \n",
       "10   (-73.72398491932245, 40.68933569229372)  \n",
       "11    (-73.7495581685021, 40.75540708589228)  \n",
       "12   (-73.67711894393948, 42.76375565097234)  "
      ]
     },
     "execution_count": 94,
     "metadata": {},
     "output_type": "execute_result"
    }
   ],
   "source": [
    "i_data[i_data['Passenger_count'] == 1.0].head(10)"
   ]
  },
  {
   "cell_type": "markdown",
   "metadata": {},
   "source": [
    "### __12.3 Visualizing data with passenger count = 1__"
   ]
  },
  {
   "cell_type": "code",
   "execution_count": 95,
   "metadata": {},
   "outputs": [
    {
     "data": {
      "text/html": [
       "\n",
       "        <iframe\n",
       "            width=\"100%\"\n",
       "            height=500\n",
       "            frameborder=\"0\"\n",
       "            srcdoc=\"&lt;!DOCTYPE html&gt;\n",
       "&lt;html&gt;\n",
       "  &lt;head&gt;\n",
       "    &lt;meta http-equiv=&quot;content-type&quot; content=&quot;text/html; charset=UTF-8&quot; /&gt;\n",
       "    &lt;title&gt;pydeck&lt;/title&gt;\n",
       "        &lt;script src=&quot;https://api.tiles.mapbox.com/mapbox-gl-js/v1.13.0/mapbox-gl.js&quot;&gt;&lt;/script&gt;\n",
       "        &lt;link rel=&quot;stylesheet&quot; href=&quot;https://maxcdn.bootstrapcdn.com/bootstrap/3.2.0/css/bootstrap-theme.min.css&quot; /&gt;\n",
       "    &lt;link rel=&quot;stylesheet&quot; href=&quot;https://maxcdn.bootstrapcdn.com/font-awesome/4.6.3/css/font-awesome.min.css&quot; /&gt;\n",
       "    &lt;script src=&#x27;https://cdn.jsdelivr.net/npm/@deck.gl/jupyter-widget@~8.5.*/dist/index.js&#x27;&gt;&lt;/script&gt;\n",
       "    &lt;style&gt;\n",
       "    body {\n",
       "  margin: 0;\n",
       "  padding: 0;\n",
       "  overflow: hidden;\n",
       "}\n",
       "\n",
       "#deck-map-container {\n",
       "  width: 100%;\n",
       "  height: 100%;\n",
       "  background-color: black;\n",
       "}\n",
       "\n",
       "#map {\n",
       "  pointer-events: none;\n",
       "  height: 100%;\n",
       "  width: 100%;\n",
       "  position: absolute;\n",
       "  z-index: 1;\n",
       "}\n",
       "\n",
       "#deckgl-overlay {\n",
       "  z-index: 2;\n",
       "  background: none;\n",
       "}\n",
       "\n",
       "#deck-map-wrapper {\n",
       "  width: 100%;\n",
       "  height: 100%;\n",
       "}\n",
       "\n",
       "#deck-container {\n",
       "  width: 100vw;\n",
       "  height: 100vh;\n",
       "}\n",
       "    &lt;/style&gt;\n",
       "  &lt;/head&gt;\n",
       "  &lt;body&gt;\n",
       "    &lt;div id=&quot;deck-container&quot;&gt;\n",
       "    &lt;/div&gt;\n",
       "  &lt;/body&gt;\n",
       "  &lt;script&gt;\n",
       "    const jsonInput = {&quot;initialViewState&quot;: {&quot;bearing&quot;: 45, &quot;latitude&quot;: 40.7128, &quot;longitude&quot;: -74.006, &quot;pitch&quot;: 50, &quot;zoom&quot;: 8}, &quot;layers&quot;: [{&quot;@@type&quot;: &quot;ArcLayer&quot;, &quot;autoHighlight&quot;: true, &quot;data&quot;: [{&quot;Drop_location&quot;: [40.750415354616045, -73.80297832398533], &quot;Dropoff_locationId&quot;: &quot;NY 164&quot;, &quot;Dropping_day&quot;: &quot;Monday&quot;, &quot;Elat&quot;: 40.750415354616045, &quot;Elong&quot;: -73.80297832398533, &quot;Original_distance_Kms&quot;: 4.458644946366134, &quot;Passenger_count&quot;: 1.0, &quot;Pick_day&quot;: &quot;Monday&quot;, &quot;Pick_location&quot;: [40.784640037820054, -73.8305899006457], &quot;Pick_locationId&quot;: &quot;NY 138&quot;, &quot;Slat&quot;: 40.784640037820054, &quot;Slong&quot;: -73.8305899006457, &quot;Time_diff_min&quot;: 26.05, &quot;Total_amount&quot;: 45.2, &quot;VendorID&quot;: 2.0, &quot;elat_long&quot;: [-73.80297832398533, 40.750415354616045], &quot;slat_long&quot;: [-73.8305899006457, 40.784640037820054]}, {&quot;Drop_location&quot;: [40.74698543007731, -73.79163530001794], &quot;Dropoff_locationId&quot;: &quot;NY 186&quot;, &quot;Dropping_day&quot;: &quot;Monday&quot;, &quot;Elat&quot;: 40.74698543007731, &quot;Elong&quot;: -73.79163530001794, &quot;Original_distance_Kms&quot;: 0.0, &quot;Passenger_count&quot;: 1.0, &quot;Pick_day&quot;: &quot;Monday&quot;, &quot;Pick_location&quot;: [40.74698543007731, -73.79163530001794], &quot;Pick_locationId&quot;: &quot;NY 186&quot;, &quot;Slat&quot;: 40.74698543007731, &quot;Slong&quot;: -73.79163530001794, &quot;Time_diff_min&quot;: 0.07, &quot;Total_amount&quot;: 5.8, &quot;VendorID&quot;: 1.0, &quot;elat_long&quot;: [-73.79163530001794, 40.74698543007731], &quot;slat_long&quot;: [-73.79163530001794, 40.74698543007731]}, {&quot;Drop_location&quot;: [40.65374004452198, -73.74707492242896], &quot;Dropoff_locationId&quot;: &quot;NY 236&quot;, &quot;Dropping_day&quot;: &quot;Monday&quot;, &quot;Elat&quot;: 40.65374004452198, &quot;Elong&quot;: -73.74707492242896, &quot;Original_distance_Kms&quot;: 12.308026055842559, &quot;Passenger_count&quot;: 1.0, &quot;Pick_day&quot;: &quot;Monday&quot;, &quot;Pick_location&quot;: [40.76272801766687, -73.72059648349116], &quot;Pick_locationId&quot;: &quot;NY 263&quot;, &quot;Slat&quot;: 40.76272801766687, &quot;Slong&quot;: -73.72059648349116, &quot;Time_diff_min&quot;: 4.45, &quot;Total_amount&quot;: 8.3, &quot;VendorID&quot;: 2.0, &quot;elat_long&quot;: [-73.74707492242896, 40.65374004452198], &quot;slat_long&quot;: [-73.72059648349116, 40.76272801766687]}, {&quot;Drop_location&quot;: [40.75540708589228, -73.7495581685021], &quot;Dropoff_locationId&quot;: &quot;NY 231&quot;, &quot;Dropping_day&quot;: &quot;Monday&quot;, &quot;Elat&quot;: 40.75540708589228, &quot;Elong&quot;: -73.7495581685021, &quot;Original_distance_Kms&quot;: 433.4474476229856, &quot;Passenger_count&quot;: 1.0, &quot;Pick_day&quot;: &quot;Monday&quot;, &quot;Pick_location&quot;: [42.596728333000044, -78.34029361099994], &quot;Pick_locationId&quot;: &quot;NY 79&quot;, &quot;Slat&quot;: 42.596728333000044, &quot;Slong&quot;: -78.34029361099994, &quot;Time_diff_min&quot;: 11.4, &quot;Total_amount&quot;: 16.56, &quot;VendorID&quot;: 2.0, &quot;elat_long&quot;: [-73.7495581685021, 40.75540708589228], &quot;slat_long&quot;: [-78.34029361099994, 42.596728333000044]}, {&quot;Drop_location&quot;: [41.30680000000007, -73.87324999999998], &quot;Dropoff_locationId&quot;: &quot;NY 13&quot;, &quot;Dropping_day&quot;: &quot;Monday&quot;, &quot;Elat&quot;: 41.30680000000007, &quot;Elong&quot;: -73.87324999999998, &quot;Original_distance_Kms&quot;: 61.99138112213595, &quot;Passenger_count&quot;: 1.0, &quot;Pick_day&quot;: &quot;Monday&quot;, &quot;Pick_location&quot;: [40.76103763904317, -73.71845818236235], &quot;Pick_locationId&quot;: &quot;NY 264&quot;, &quot;Slat&quot;: 40.76103763904317, &quot;Slong&quot;: -73.71845818236235, &quot;Time_diff_min&quot;: 6.6, &quot;Total_amount&quot;: 11.3, &quot;VendorID&quot;: 2.0, &quot;elat_long&quot;: [-73.87324999999998, 41.30680000000007], &quot;slat_long&quot;: [-73.71845818236235, 40.76103763904317]}, {&quot;Drop_location&quot;: [40.67078003458249, -73.7630699406206], &quot;Dropoff_locationId&quot;: &quot;NY 141&quot;, &quot;Dropping_day&quot;: &quot;Monday&quot;, &quot;Elat&quot;: 40.67078003458249, &quot;Elong&quot;: -73.7630699406206, &quot;Original_distance_Kms&quot;: 10.556201216274923, &quot;Passenger_count&quot;: 1.0, &quot;Pick_day&quot;: &quot;Monday&quot;, &quot;Pick_location&quot;: [40.760605703709125, -73.80395237371366], &quot;Pick_locationId&quot;: &quot;NY 162&quot;, &quot;Slat&quot;: 40.760605703709125, &quot;Slong&quot;: -73.80395237371366, &quot;Time_diff_min&quot;: 4.48, &quot;Total_amount&quot;: 11.0, &quot;VendorID&quot;: 2.0, &quot;elat_long&quot;: [-73.7630699406206, 40.67078003458249], &quot;slat_long&quot;: [-73.80395237371366, 40.760605703709125]}, {&quot;Drop_location&quot;: [40.780672392143096, -73.79743099670318], &quot;Dropoff_locationId&quot;: &quot;NY 166&quot;, &quot;Dropping_day&quot;: &quot;Monday&quot;, &quot;Elat&quot;: 40.780672392143096, &quot;Elong&quot;: -73.79743099670318, &quot;Original_distance_Kms&quot;: 14.723795085964753, &quot;Passenger_count&quot;: 1.0, &quot;Pick_day&quot;: &quot;Monday&quot;, &quot;Pick_location&quot;: [40.65374004452198, -73.74707492242896], &quot;Pick_locationId&quot;: &quot;NY 236&quot;, &quot;Slat&quot;: 40.65374004452198, &quot;Slong&quot;: -73.74707492242896, &quot;Time_diff_min&quot;: 9.37, &quot;Total_amount&quot;: 17.85, &quot;VendorID&quot;: 1.0, &quot;elat_long&quot;: [-73.79743099670318, 40.780672392143096], &quot;slat_long&quot;: [-73.74707492242896, 40.65374004452198]}, {&quot;Drop_location&quot;: [40.68933569229372, -73.72398491932245], &quot;Dropoff_locationId&quot;: &quot;NY 239&quot;, &quot;Dropping_day&quot;: &quot;Monday&quot;, &quot;Elat&quot;: 40.68933569229372, &quot;Elong&quot;: -73.72398491932245, &quot;Original_distance_Kms&quot;: 4.408645719374218, &quot;Passenger_count&quot;: 1.0, &quot;Pick_day&quot;: &quot;Monday&quot;, &quot;Pick_location&quot;: [40.65374004452198, -73.74707492242896], &quot;Pick_locationId&quot;: &quot;NY 236&quot;, &quot;Slat&quot;: 40.65374004452198, &quot;Slong&quot;: -73.74707492242896, &quot;Time_diff_min&quot;: 8.18, &quot;Total_amount&quot;: 14.16, &quot;VendorID&quot;: 2.0, &quot;elat_long&quot;: [-73.72398491932245, 40.68933569229372], &quot;slat_long&quot;: [-73.74707492242896, 40.65374004452198]}, {&quot;Drop_location&quot;: [40.75540708589228, -73.7495581685021], &quot;Dropoff_locationId&quot;: &quot;NY 231&quot;, &quot;Dropping_day&quot;: &quot;Monday&quot;, &quot;Elat&quot;: 40.75540708589228, &quot;Elong&quot;: -73.7495581685021, &quot;Original_distance_Kms&quot;: 4.629301304546415, &quot;Passenger_count&quot;: 1.0, &quot;Pick_day&quot;: &quot;Monday&quot;, &quot;Pick_location&quot;: [40.760605703709125, -73.80395237371366], &quot;Pick_locationId&quot;: &quot;NY 162&quot;, &quot;Slat&quot;: 40.760605703709125, &quot;Slong&quot;: -73.80395237371366, &quot;Time_diff_min&quot;: 15.97, &quot;Total_amount&quot;: 29.76, &quot;VendorID&quot;: 2.0, &quot;elat_long&quot;: [-73.7495581685021, 40.75540708589228], &quot;slat_long&quot;: [-73.80395237371366, 40.760605703709125]}, {&quot;Drop_location&quot;: [42.76375565097234, -73.67711894393948], &quot;Dropoff_locationId&quot;: &quot;NY 107&quot;, &quot;Dropping_day&quot;: &quot;Monday&quot;, &quot;Elat&quot;: 42.76375565097234, &quot;Elong&quot;: -73.67711894393948, &quot;Original_distance_Kms&quot;: 223.41636043389164, &quot;Passenger_count&quot;: 1.0, &quot;Pick_day&quot;: &quot;Monday&quot;, &quot;Pick_location&quot;: [40.754544522261114, -73.80572351878894], &quot;Pick_locationId&quot;: &quot;NY 161&quot;, &quot;Slat&quot;: 40.754544522261114, &quot;Slong&quot;: -73.80572351878894, &quot;Time_diff_min&quot;: 7.12, &quot;Total_amount&quot;: 10.8, &quot;VendorID&quot;: 2.0, &quot;elat_long&quot;: [-73.67711894393948, 42.76375565097234], &quot;slat_long&quot;: [-73.80572351878894, 40.754544522261114]}], &quot;getSourceColor&quot;: [240, 100, 0, 40], &quot;getSourcePosition&quot;: &quot;@@=[Slong, Slat]&quot;, &quot;getTargetColor&quot;: [0, 255, 0, 40], &quot;getTargetPosition&quot;: &quot;@@=[Elong, Elat]&quot;, &quot;getTilt&quot;: 15, &quot;getWidth&quot;: &quot;@@=S000 * 2&quot;, &quot;id&quot;: &quot;26cc5acc-4da3-4485-ad51-34c5f572c78d&quot;, &quot;pickable&quot;: true}], &quot;mapProvider&quot;: &quot;carto&quot;, &quot;mapStyle&quot;: &quot;https://basemaps.cartocdn.com/gl/dark-matter-gl-style/style.json&quot;, &quot;views&quot;: [{&quot;@@type&quot;: &quot;MapView&quot;, &quot;controller&quot;: true}]};\n",
       "    const tooltip = {&#x27;text&#x27;: &#x27;{Pick_locationId} to {Dropoff_locationId} and distance is {Original_distance_Kms}&#x27;};\n",
       "    const customLibraries = null;\n",
       "\n",
       "    const deckInstance = createDeck({\n",
       "                  container: document.getElementById(&#x27;deck-container&#x27;),\n",
       "      jsonInput,\n",
       "      tooltip,\n",
       "      customLibraries\n",
       "    });\n",
       "\n",
       "  &lt;/script&gt;\n",
       "&lt;/html&gt;\"\n",
       "        ></iframe>\n",
       "    "
      ],
      "text/plain": [
       "<IPython.core.display.HTML object>"
      ]
     },
     "execution_count": 95,
     "metadata": {},
     "output_type": "execute_result"
    }
   ],
   "source": [
    "import pydeck as pdk\n",
    "\n",
    "GREEN_RGB = [0, 255, 0, 40]\n",
    "RED_RGB = [240, 100, 0, 40]\n",
    "\n",
    "arc_layer = pdk.Layer(\n",
    "    \"ArcLayer\",\n",
    "    data=i_data[i_data['Passenger_count'] == 1.0].head(10),\n",
    "    get_width=\"S000 * 2\",\n",
    "    get_source_position=[\"Slong\", \"Slat\"],\n",
    "    get_target_position=[\"Elong\", \"Elat\"],\n",
    "    get_tilt=15,\n",
    "    get_source_color=RED_RGB,\n",
    "    get_target_color=GREEN_RGB,\n",
    "    pickable=True,\n",
    "    auto_highlight=True,\n",
    ")\n",
    "\n",
    "view_state = pdk.ViewState(latitude=40.7128, longitude=-74.0060, bearing=45, pitch=50, zoom=8,)\n",
    "#TOOLTIP_TEXT = {\"html\": \"Trips <br /> Pickup location in red; Dropoff location in green\"}\n",
    "r = pdk.Deck(arc_layer, initial_view_state=view_state, tooltip={\"text\": \"{Pick_locationId} to {Dropoff_locationId} and distance is {Original_distance_Kms}\"})\n",
    "r.to_html(\"arc_layer.html\")\n"
   ]
  },
  {
   "cell_type": "markdown",
   "metadata": {},
   "source": [
    "### __12.4 Visualiazing the top pickup and dropping locations__"
   ]
  },
  {
   "cell_type": "code",
   "execution_count": 96,
   "metadata": {},
   "outputs": [
    {
     "name": "stdout",
     "output_type": "stream",
     "text": [
      "Requirement already satisfied: folium in d:\\anaconda\\envs\\my_env\\lib\\site-packages (0.12.1)\n",
      "Requirement already satisfied: pandas in d:\\anaconda\\envs\\my_env\\lib\\site-packages (1.3.4)\n",
      "Requirement already satisfied: branca>=0.3.0 in d:\\anaconda\\envs\\my_env\\lib\\site-packages (from folium) (0.4.2)\n",
      "Requirement already satisfied: jinja2>=2.9 in d:\\anaconda\\envs\\my_env\\lib\\site-packages (from folium) (3.0.3)\n",
      "Requirement already satisfied: requests in d:\\anaconda\\envs\\my_env\\lib\\site-packages (from folium) (2.26.0)\n",
      "Requirement already satisfied: numpy in d:\\anaconda\\envs\\my_env\\lib\\site-packages (from folium) (1.21.2)\n",
      "Requirement already satisfied: pytz>=2017.3 in d:\\anaconda\\envs\\my_env\\lib\\site-packages (from pandas) (2021.3)\n",
      "Requirement already satisfied: python-dateutil>=2.7.3 in d:\\anaconda\\envs\\my_env\\lib\\site-packages (from pandas) (2.8.2)\n",
      "Requirement already satisfied: MarkupSafe>=2.0 in d:\\anaconda\\envs\\my_env\\lib\\site-packages (from jinja2>=2.9->folium) (2.0.1)\n",
      "Requirement already satisfied: six>=1.5 in d:\\anaconda\\envs\\my_env\\lib\\site-packages (from python-dateutil>=2.7.3->pandas) (1.16.0)\n",
      "Requirement already satisfied: urllib3<1.27,>=1.21.1 in d:\\anaconda\\envs\\my_env\\lib\\site-packages (from requests->folium) (1.26.7)\n",
      "Requirement already satisfied: charset-normalizer~=2.0.0 in d:\\anaconda\\envs\\my_env\\lib\\site-packages (from requests->folium) (2.0.7)\n",
      "Requirement already satisfied: idna<4,>=2.5 in d:\\anaconda\\envs\\my_env\\lib\\site-packages (from requests->folium) (3.3)\n",
      "Requirement already satisfied: certifi>=2017.4.17 in d:\\anaconda\\envs\\my_env\\lib\\site-packages (from requests->folium) (2021.10.8)\n"
     ]
    }
   ],
   "source": [
    "!pip install folium pandas"
   ]
  },
  {
   "cell_type": "code",
   "execution_count": 109,
   "metadata": {},
   "outputs": [
    {
     "data": {
      "text/plain": [
       "NY 237    30588\n",
       "NY 236    28952\n",
       "NY 186    19638\n",
       "NY 161    19624\n",
       "NY 142    18639\n",
       "Name: Pick_locationId, dtype: int64"
      ]
     },
     "execution_count": 109,
     "metadata": {},
     "output_type": "execute_result"
    }
   ],
   "source": [
    "i_data['Pick_locationId'].value_counts().nlargest(5)"
   ]
  },
  {
   "cell_type": "markdown",
   "metadata": {},
   "source": [
    "### __Pickup locations__"
   ]
  },
  {
   "cell_type": "code",
   "execution_count": 127,
   "metadata": {},
   "outputs": [
    {
     "data": {
      "text/html": [
       "<div>\n",
       "<style scoped>\n",
       "    .dataframe tbody tr th:only-of-type {\n",
       "        vertical-align: middle;\n",
       "    }\n",
       "\n",
       "    .dataframe tbody tr th {\n",
       "        vertical-align: top;\n",
       "    }\n",
       "\n",
       "    .dataframe thead th {\n",
       "        text-align: right;\n",
       "    }\n",
       "</style>\n",
       "<table border=\"1\" class=\"dataframe\">\n",
       "  <thead>\n",
       "    <tr style=\"text-align: right;\">\n",
       "      <th></th>\n",
       "      <th>Pick_locat</th>\n",
       "      <th>locationid</th>\n",
       "    </tr>\n",
       "  </thead>\n",
       "  <tbody>\n",
       "    <tr>\n",
       "      <th>0</th>\n",
       "      <td>[40.69285268505702, -73.72533553048825]</td>\n",
       "      <td>NY 237</td>\n",
       "    </tr>\n",
       "    <tr>\n",
       "      <th>1</th>\n",
       "      <td>[40.65374004452198, -73.74707492242896]</td>\n",
       "      <td>NY236</td>\n",
       "    </tr>\n",
       "    <tr>\n",
       "      <th>2</th>\n",
       "      <td>[40.74698543007731, -73.79163530001794]</td>\n",
       "      <td>NY 186</td>\n",
       "    </tr>\n",
       "    <tr>\n",
       "      <th>3</th>\n",
       "      <td>[40.754544522261114, -73.80572351878894]</td>\n",
       "      <td>NY 161</td>\n",
       "    </tr>\n",
       "    <tr>\n",
       "      <th>4</th>\n",
       "      <td>[40.67003757418262, -73.77273106839746]</td>\n",
       "      <td>NY 142</td>\n",
       "    </tr>\n",
       "  </tbody>\n",
       "</table>\n",
       "</div>"
      ],
      "text/plain": [
       "                                 Pick_locat locationid\n",
       "0   [40.69285268505702, -73.72533553048825]     NY 237\n",
       "1   [40.65374004452198, -73.74707492242896]      NY236\n",
       "2   [40.74698543007731, -73.79163530001794]     NY 186\n",
       "3  [40.754544522261114, -73.80572351878894]     NY 161\n",
       "4   [40.67003757418262, -73.77273106839746]     NY 142"
      ]
     },
     "execution_count": 127,
     "metadata": {},
     "output_type": "execute_result"
    }
   ],
   "source": [
    "d = { 'Pick_locat' : [[40.69285268505702, -73.72533553048825],[40.65374004452198, -73.74707492242896],[40.74698543007731, -73.79163530001794], [40.754544522261114, -73.80572351878894], [40.67003757418262, -73.77273106839746]],\n",
    "        'locationid' : ['NY 237', 'NY236', 'NY 186', 'NY 161', 'NY 142']}\n",
    "df1 = pd.DataFrame(d)\n",
    "df1"
   ]
  },
  {
   "cell_type": "code",
   "execution_count": 128,
   "metadata": {},
   "outputs": [
    {
     "data": {
      "text/html": [
       "<div style=\"width:100%;\"><div style=\"position:relative;width:100%;height:0;padding-bottom:60%;\"><span style=\"color:#565656\">Make this Notebook Trusted to load map: File -> Trust Notebook</span><iframe src=\"about:blank\" style=\"position:absolute;width:100%;height:100%;left:0;top:0;border:none !important;\" data-html=%3C%21DOCTYPE%20html%3E%0A%3Chead%3E%20%20%20%20%0A%20%20%20%20%3Cmeta%20http-equiv%3D%22content-type%22%20content%3D%22text/html%3B%20charset%3DUTF-8%22%20/%3E%0A%20%20%20%20%0A%20%20%20%20%20%20%20%20%3Cscript%3E%0A%20%20%20%20%20%20%20%20%20%20%20%20L_NO_TOUCH%20%3D%20false%3B%0A%20%20%20%20%20%20%20%20%20%20%20%20L_DISABLE_3D%20%3D%20false%3B%0A%20%20%20%20%20%20%20%20%3C/script%3E%0A%20%20%20%20%0A%20%20%20%20%3Cstyle%3Ehtml%2C%20body%20%7Bwidth%3A%20100%25%3Bheight%3A%20100%25%3Bmargin%3A%200%3Bpadding%3A%200%3B%7D%3C/style%3E%0A%20%20%20%20%3Cstyle%3E%23map%20%7Bposition%3Aabsolute%3Btop%3A0%3Bbottom%3A0%3Bright%3A0%3Bleft%3A0%3B%7D%3C/style%3E%0A%20%20%20%20%3Cscript%20src%3D%22https%3A//cdn.jsdelivr.net/npm/leaflet%401.6.0/dist/leaflet.js%22%3E%3C/script%3E%0A%20%20%20%20%3Cscript%20src%3D%22https%3A//code.jquery.com/jquery-1.12.4.min.js%22%3E%3C/script%3E%0A%20%20%20%20%3Cscript%20src%3D%22https%3A//maxcdn.bootstrapcdn.com/bootstrap/3.2.0/js/bootstrap.min.js%22%3E%3C/script%3E%0A%20%20%20%20%3Cscript%20src%3D%22https%3A//cdnjs.cloudflare.com/ajax/libs/Leaflet.awesome-markers/2.0.2/leaflet.awesome-markers.js%22%3E%3C/script%3E%0A%20%20%20%20%3Clink%20rel%3D%22stylesheet%22%20href%3D%22https%3A//cdn.jsdelivr.net/npm/leaflet%401.6.0/dist/leaflet.css%22/%3E%0A%20%20%20%20%3Clink%20rel%3D%22stylesheet%22%20href%3D%22https%3A//maxcdn.bootstrapcdn.com/bootstrap/3.2.0/css/bootstrap.min.css%22/%3E%0A%20%20%20%20%3Clink%20rel%3D%22stylesheet%22%20href%3D%22https%3A//maxcdn.bootstrapcdn.com/bootstrap/3.2.0/css/bootstrap-theme.min.css%22/%3E%0A%20%20%20%20%3Clink%20rel%3D%22stylesheet%22%20href%3D%22https%3A//maxcdn.bootstrapcdn.com/font-awesome/4.6.3/css/font-awesome.min.css%22/%3E%0A%20%20%20%20%3Clink%20rel%3D%22stylesheet%22%20href%3D%22https%3A//cdnjs.cloudflare.com/ajax/libs/Leaflet.awesome-markers/2.0.2/leaflet.awesome-markers.css%22/%3E%0A%20%20%20%20%3Clink%20rel%3D%22stylesheet%22%20href%3D%22https%3A//cdn.jsdelivr.net/gh/python-visualization/folium/folium/templates/leaflet.awesome.rotate.min.css%22/%3E%0A%20%20%20%20%0A%20%20%20%20%20%20%20%20%20%20%20%20%3Cmeta%20name%3D%22viewport%22%20content%3D%22width%3Ddevice-width%2C%0A%20%20%20%20%20%20%20%20%20%20%20%20%20%20%20%20initial-scale%3D1.0%2C%20maximum-scale%3D1.0%2C%20user-scalable%3Dno%22%20/%3E%0A%20%20%20%20%20%20%20%20%20%20%20%20%3Cstyle%3E%0A%20%20%20%20%20%20%20%20%20%20%20%20%20%20%20%20%23map_c05f3e27bdbb49b2aec571f6112161bb%20%7B%0A%20%20%20%20%20%20%20%20%20%20%20%20%20%20%20%20%20%20%20%20position%3A%20relative%3B%0A%20%20%20%20%20%20%20%20%20%20%20%20%20%20%20%20%20%20%20%20width%3A%20100.0%25%3B%0A%20%20%20%20%20%20%20%20%20%20%20%20%20%20%20%20%20%20%20%20height%3A%20100.0%25%3B%0A%20%20%20%20%20%20%20%20%20%20%20%20%20%20%20%20%20%20%20%20left%3A%200.0%25%3B%0A%20%20%20%20%20%20%20%20%20%20%20%20%20%20%20%20%20%20%20%20top%3A%200.0%25%3B%0A%20%20%20%20%20%20%20%20%20%20%20%20%20%20%20%20%7D%0A%20%20%20%20%20%20%20%20%20%20%20%20%3C/style%3E%0A%20%20%20%20%20%20%20%20%0A%3C/head%3E%0A%3Cbody%3E%20%20%20%20%0A%20%20%20%20%0A%20%20%20%20%20%20%20%20%20%20%20%20%3Cdiv%20class%3D%22folium-map%22%20id%3D%22map_c05f3e27bdbb49b2aec571f6112161bb%22%20%3E%3C/div%3E%0A%20%20%20%20%20%20%20%20%0A%3C/body%3E%0A%3Cscript%3E%20%20%20%20%0A%20%20%20%20%0A%20%20%20%20%20%20%20%20%20%20%20%20var%20map_c05f3e27bdbb49b2aec571f6112161bb%20%3D%20L.map%28%0A%20%20%20%20%20%20%20%20%20%20%20%20%20%20%20%20%22map_c05f3e27bdbb49b2aec571f6112161bb%22%2C%0A%20%20%20%20%20%20%20%20%20%20%20%20%20%20%20%20%7B%0A%20%20%20%20%20%20%20%20%20%20%20%20%20%20%20%20%20%20%20%20center%3A%20%5B40.7128%2C%20-74.006%5D%2C%0A%20%20%20%20%20%20%20%20%20%20%20%20%20%20%20%20%20%20%20%20crs%3A%20L.CRS.EPSG3857%2C%0A%20%20%20%20%20%20%20%20%20%20%20%20%20%20%20%20%20%20%20%20zoom%3A%208%2C%0A%20%20%20%20%20%20%20%20%20%20%20%20%20%20%20%20%20%20%20%20zoomControl%3A%20true%2C%0A%20%20%20%20%20%20%20%20%20%20%20%20%20%20%20%20%20%20%20%20preferCanvas%3A%20false%2C%0A%20%20%20%20%20%20%20%20%20%20%20%20%20%20%20%20%7D%0A%20%20%20%20%20%20%20%20%20%20%20%20%29%3B%0A%0A%20%20%20%20%20%20%20%20%20%20%20%20%0A%0A%20%20%20%20%20%20%20%20%0A%20%20%20%20%0A%20%20%20%20%20%20%20%20%20%20%20%20var%20tile_layer_12671e13c47b4903ad05d51df3698806%20%3D%20L.tileLayer%28%0A%20%20%20%20%20%20%20%20%20%20%20%20%20%20%20%20%22https%3A//%7Bs%7D.tile.openstreetmap.org/%7Bz%7D/%7Bx%7D/%7By%7D.png%22%2C%0A%20%20%20%20%20%20%20%20%20%20%20%20%20%20%20%20%7B%22attribution%22%3A%20%22Data%20by%20%5Cu0026copy%3B%20%5Cu003ca%20href%3D%5C%22http%3A//openstreetmap.org%5C%22%5Cu003eOpenStreetMap%5Cu003c/a%5Cu003e%2C%20under%20%5Cu003ca%20href%3D%5C%22http%3A//www.openstreetmap.org/copyright%5C%22%5Cu003eODbL%5Cu003c/a%5Cu003e.%22%2C%20%22detectRetina%22%3A%20false%2C%20%22maxNativeZoom%22%3A%2018%2C%20%22maxZoom%22%3A%2018%2C%20%22minZoom%22%3A%200%2C%20%22noWrap%22%3A%20false%2C%20%22opacity%22%3A%201%2C%20%22subdomains%22%3A%20%22abc%22%2C%20%22tms%22%3A%20false%7D%0A%20%20%20%20%20%20%20%20%20%20%20%20%29.addTo%28map_c05f3e27bdbb49b2aec571f6112161bb%29%3B%0A%20%20%20%20%20%20%20%20%0A%20%20%20%20%0A%20%20%20%20%20%20%20%20%20%20%20%20var%20marker_dc7a48854eee471d8851dea440b37d10%20%3D%20L.marker%28%0A%20%20%20%20%20%20%20%20%20%20%20%20%20%20%20%20%5B40.69285268505702%2C%20-73.72533553048825%5D%2C%0A%20%20%20%20%20%20%20%20%20%20%20%20%20%20%20%20%7B%7D%0A%20%20%20%20%20%20%20%20%20%20%20%20%29.addTo%28map_c05f3e27bdbb49b2aec571f6112161bb%29%3B%0A%20%20%20%20%20%20%20%20%0A%20%20%20%20%0A%20%20%20%20%20%20%20%20var%20popup_38f9dfbc26bd41a787b948db0df7a9a8%20%3D%20L.popup%28%7B%22maxWidth%22%3A%20%22100%25%22%7D%29%3B%0A%0A%20%20%20%20%20%20%20%20%0A%20%20%20%20%20%20%20%20%20%20%20%20var%20html_3ac4df5522604d348068046b0c06c739%20%3D%20%24%28%60%3Cdiv%20id%3D%22html_3ac4df5522604d348068046b0c06c739%22%20style%3D%22width%3A%20100.0%25%3B%20height%3A%20100.0%25%3B%22%3ENY%20237%3C/div%3E%60%29%5B0%5D%3B%0A%20%20%20%20%20%20%20%20%20%20%20%20popup_38f9dfbc26bd41a787b948db0df7a9a8.setContent%28html_3ac4df5522604d348068046b0c06c739%29%3B%0A%20%20%20%20%20%20%20%20%0A%0A%20%20%20%20%20%20%20%20marker_dc7a48854eee471d8851dea440b37d10.bindPopup%28popup_38f9dfbc26bd41a787b948db0df7a9a8%29%0A%20%20%20%20%20%20%20%20%3B%0A%0A%20%20%20%20%20%20%20%20%0A%20%20%20%20%0A%20%20%20%20%0A%20%20%20%20%20%20%20%20%20%20%20%20marker_dc7a48854eee471d8851dea440b37d10.bindTooltip%28%0A%20%20%20%20%20%20%20%20%20%20%20%20%20%20%20%20%60%3Cdiv%3E%0A%20%20%20%20%20%20%20%20%20%20%20%20%20%20%20%20%20%20%20%20%20PickUP%20Location%0A%20%20%20%20%20%20%20%20%20%20%20%20%20%20%20%20%20%3C/div%3E%60%2C%0A%20%20%20%20%20%20%20%20%20%20%20%20%20%20%20%20%7B%22sticky%22%3A%20true%7D%0A%20%20%20%20%20%20%20%20%20%20%20%20%29%3B%0A%20%20%20%20%20%20%20%20%0A%20%20%20%20%0A%20%20%20%20%20%20%20%20%20%20%20%20var%20marker_6845583df4fa4a94bfcba239aff73999%20%3D%20L.marker%28%0A%20%20%20%20%20%20%20%20%20%20%20%20%20%20%20%20%5B40.65374004452198%2C%20-73.74707492242896%5D%2C%0A%20%20%20%20%20%20%20%20%20%20%20%20%20%20%20%20%7B%7D%0A%20%20%20%20%20%20%20%20%20%20%20%20%29.addTo%28map_c05f3e27bdbb49b2aec571f6112161bb%29%3B%0A%20%20%20%20%20%20%20%20%0A%20%20%20%20%0A%20%20%20%20%20%20%20%20var%20popup_58a8e843a7fc4ac7a8d505cea59a5d21%20%3D%20L.popup%28%7B%22maxWidth%22%3A%20%22100%25%22%7D%29%3B%0A%0A%20%20%20%20%20%20%20%20%0A%20%20%20%20%20%20%20%20%20%20%20%20var%20html_409e3a68305e41baab11a86b52dc04b4%20%3D%20%24%28%60%3Cdiv%20id%3D%22html_409e3a68305e41baab11a86b52dc04b4%22%20style%3D%22width%3A%20100.0%25%3B%20height%3A%20100.0%25%3B%22%3ENY236%3C/div%3E%60%29%5B0%5D%3B%0A%20%20%20%20%20%20%20%20%20%20%20%20popup_58a8e843a7fc4ac7a8d505cea59a5d21.setContent%28html_409e3a68305e41baab11a86b52dc04b4%29%3B%0A%20%20%20%20%20%20%20%20%0A%0A%20%20%20%20%20%20%20%20marker_6845583df4fa4a94bfcba239aff73999.bindPopup%28popup_58a8e843a7fc4ac7a8d505cea59a5d21%29%0A%20%20%20%20%20%20%20%20%3B%0A%0A%20%20%20%20%20%20%20%20%0A%20%20%20%20%0A%20%20%20%20%0A%20%20%20%20%20%20%20%20%20%20%20%20marker_6845583df4fa4a94bfcba239aff73999.bindTooltip%28%0A%20%20%20%20%20%20%20%20%20%20%20%20%20%20%20%20%60%3Cdiv%3E%0A%20%20%20%20%20%20%20%20%20%20%20%20%20%20%20%20%20%20%20%20%20PickUP%20Location%0A%20%20%20%20%20%20%20%20%20%20%20%20%20%20%20%20%20%3C/div%3E%60%2C%0A%20%20%20%20%20%20%20%20%20%20%20%20%20%20%20%20%7B%22sticky%22%3A%20true%7D%0A%20%20%20%20%20%20%20%20%20%20%20%20%29%3B%0A%20%20%20%20%20%20%20%20%0A%20%20%20%20%0A%20%20%20%20%20%20%20%20%20%20%20%20var%20marker_0d5dd095ef894e7a99938fc0546612ca%20%3D%20L.marker%28%0A%20%20%20%20%20%20%20%20%20%20%20%20%20%20%20%20%5B40.74698543007731%2C%20-73.79163530001794%5D%2C%0A%20%20%20%20%20%20%20%20%20%20%20%20%20%20%20%20%7B%7D%0A%20%20%20%20%20%20%20%20%20%20%20%20%29.addTo%28map_c05f3e27bdbb49b2aec571f6112161bb%29%3B%0A%20%20%20%20%20%20%20%20%0A%20%20%20%20%0A%20%20%20%20%20%20%20%20var%20popup_27c8987972b3430089b0dd2375be67e1%20%3D%20L.popup%28%7B%22maxWidth%22%3A%20%22100%25%22%7D%29%3B%0A%0A%20%20%20%20%20%20%20%20%0A%20%20%20%20%20%20%20%20%20%20%20%20var%20html_373ce9e650334f6eb99dad445a3423e8%20%3D%20%24%28%60%3Cdiv%20id%3D%22html_373ce9e650334f6eb99dad445a3423e8%22%20style%3D%22width%3A%20100.0%25%3B%20height%3A%20100.0%25%3B%22%3ENY%20186%3C/div%3E%60%29%5B0%5D%3B%0A%20%20%20%20%20%20%20%20%20%20%20%20popup_27c8987972b3430089b0dd2375be67e1.setContent%28html_373ce9e650334f6eb99dad445a3423e8%29%3B%0A%20%20%20%20%20%20%20%20%0A%0A%20%20%20%20%20%20%20%20marker_0d5dd095ef894e7a99938fc0546612ca.bindPopup%28popup_27c8987972b3430089b0dd2375be67e1%29%0A%20%20%20%20%20%20%20%20%3B%0A%0A%20%20%20%20%20%20%20%20%0A%20%20%20%20%0A%20%20%20%20%0A%20%20%20%20%20%20%20%20%20%20%20%20marker_0d5dd095ef894e7a99938fc0546612ca.bindTooltip%28%0A%20%20%20%20%20%20%20%20%20%20%20%20%20%20%20%20%60%3Cdiv%3E%0A%20%20%20%20%20%20%20%20%20%20%20%20%20%20%20%20%20%20%20%20%20PickUP%20Location%0A%20%20%20%20%20%20%20%20%20%20%20%20%20%20%20%20%20%3C/div%3E%60%2C%0A%20%20%20%20%20%20%20%20%20%20%20%20%20%20%20%20%7B%22sticky%22%3A%20true%7D%0A%20%20%20%20%20%20%20%20%20%20%20%20%29%3B%0A%20%20%20%20%20%20%20%20%0A%20%20%20%20%0A%20%20%20%20%20%20%20%20%20%20%20%20var%20marker_a874407882ab41a697dc81f541c92516%20%3D%20L.marker%28%0A%20%20%20%20%20%20%20%20%20%20%20%20%20%20%20%20%5B40.754544522261114%2C%20-73.80572351878894%5D%2C%0A%20%20%20%20%20%20%20%20%20%20%20%20%20%20%20%20%7B%7D%0A%20%20%20%20%20%20%20%20%20%20%20%20%29.addTo%28map_c05f3e27bdbb49b2aec571f6112161bb%29%3B%0A%20%20%20%20%20%20%20%20%0A%20%20%20%20%0A%20%20%20%20%20%20%20%20var%20popup_14dca94c9a5c4d51812c2a51b339a6b7%20%3D%20L.popup%28%7B%22maxWidth%22%3A%20%22100%25%22%7D%29%3B%0A%0A%20%20%20%20%20%20%20%20%0A%20%20%20%20%20%20%20%20%20%20%20%20var%20html_b08c2183c6bc40ba979a77dfac0d8089%20%3D%20%24%28%60%3Cdiv%20id%3D%22html_b08c2183c6bc40ba979a77dfac0d8089%22%20style%3D%22width%3A%20100.0%25%3B%20height%3A%20100.0%25%3B%22%3ENY%20161%3C/div%3E%60%29%5B0%5D%3B%0A%20%20%20%20%20%20%20%20%20%20%20%20popup_14dca94c9a5c4d51812c2a51b339a6b7.setContent%28html_b08c2183c6bc40ba979a77dfac0d8089%29%3B%0A%20%20%20%20%20%20%20%20%0A%0A%20%20%20%20%20%20%20%20marker_a874407882ab41a697dc81f541c92516.bindPopup%28popup_14dca94c9a5c4d51812c2a51b339a6b7%29%0A%20%20%20%20%20%20%20%20%3B%0A%0A%20%20%20%20%20%20%20%20%0A%20%20%20%20%0A%20%20%20%20%0A%20%20%20%20%20%20%20%20%20%20%20%20marker_a874407882ab41a697dc81f541c92516.bindTooltip%28%0A%20%20%20%20%20%20%20%20%20%20%20%20%20%20%20%20%60%3Cdiv%3E%0A%20%20%20%20%20%20%20%20%20%20%20%20%20%20%20%20%20%20%20%20%20PickUP%20Location%0A%20%20%20%20%20%20%20%20%20%20%20%20%20%20%20%20%20%3C/div%3E%60%2C%0A%20%20%20%20%20%20%20%20%20%20%20%20%20%20%20%20%7B%22sticky%22%3A%20true%7D%0A%20%20%20%20%20%20%20%20%20%20%20%20%29%3B%0A%20%20%20%20%20%20%20%20%0A%20%20%20%20%0A%20%20%20%20%20%20%20%20%20%20%20%20var%20marker_974821cd1c9f462581a071f8e43191b6%20%3D%20L.marker%28%0A%20%20%20%20%20%20%20%20%20%20%20%20%20%20%20%20%5B40.67003757418262%2C%20-73.77273106839746%5D%2C%0A%20%20%20%20%20%20%20%20%20%20%20%20%20%20%20%20%7B%7D%0A%20%20%20%20%20%20%20%20%20%20%20%20%29.addTo%28map_c05f3e27bdbb49b2aec571f6112161bb%29%3B%0A%20%20%20%20%20%20%20%20%0A%20%20%20%20%0A%20%20%20%20%20%20%20%20var%20popup_cefa89e206eb40cd95c46704a047b1e1%20%3D%20L.popup%28%7B%22maxWidth%22%3A%20%22100%25%22%7D%29%3B%0A%0A%20%20%20%20%20%20%20%20%0A%20%20%20%20%20%20%20%20%20%20%20%20var%20html_8a8859fc32b54af5b90b76e1328a4ba9%20%3D%20%24%28%60%3Cdiv%20id%3D%22html_8a8859fc32b54af5b90b76e1328a4ba9%22%20style%3D%22width%3A%20100.0%25%3B%20height%3A%20100.0%25%3B%22%3ENY%20142%3C/div%3E%60%29%5B0%5D%3B%0A%20%20%20%20%20%20%20%20%20%20%20%20popup_cefa89e206eb40cd95c46704a047b1e1.setContent%28html_8a8859fc32b54af5b90b76e1328a4ba9%29%3B%0A%20%20%20%20%20%20%20%20%0A%0A%20%20%20%20%20%20%20%20marker_974821cd1c9f462581a071f8e43191b6.bindPopup%28popup_cefa89e206eb40cd95c46704a047b1e1%29%0A%20%20%20%20%20%20%20%20%3B%0A%0A%20%20%20%20%20%20%20%20%0A%20%20%20%20%0A%20%20%20%20%0A%20%20%20%20%20%20%20%20%20%20%20%20marker_974821cd1c9f462581a071f8e43191b6.bindTooltip%28%0A%20%20%20%20%20%20%20%20%20%20%20%20%20%20%20%20%60%3Cdiv%3E%0A%20%20%20%20%20%20%20%20%20%20%20%20%20%20%20%20%20%20%20%20%20PickUP%20Location%0A%20%20%20%20%20%20%20%20%20%20%20%20%20%20%20%20%20%3C/div%3E%60%2C%0A%20%20%20%20%20%20%20%20%20%20%20%20%20%20%20%20%7B%22sticky%22%3A%20true%7D%0A%20%20%20%20%20%20%20%20%20%20%20%20%29%3B%0A%20%20%20%20%20%20%20%20%0A%3C/script%3E onload=\"this.contentDocument.open();this.contentDocument.write(    decodeURIComponent(this.getAttribute('data-html')));this.contentDocument.close();\" allowfullscreen webkitallowfullscreen mozallowfullscreen></iframe></div></div>"
      ],
      "text/plain": [
       "<folium.folium.Map at 0x21fdae98be0>"
      ]
     },
     "execution_count": 128,
     "metadata": {},
     "output_type": "execute_result"
    }
   ],
   "source": [
    "# pickup location\n",
    "# #40.7128° N, 74.0060° W - Newyork location\n",
    "import folium\n",
    "center = [40.7128, -74.0060]\n",
    "map_Newyork = folium.Map(location=center, zoom_start=8)\n",
    "\n",
    "for i,r in df1.iterrows():\n",
    "    folium.Marker(location=r['Pick_locat'],\n",
    "                  popup = r['locationid'],\n",
    "                  tooltip='PickUP Location').add_to(map_Newyork)\n",
    "#display map\n",
    "map_Newyork"
   ]
  },
  {
   "cell_type": "markdown",
   "metadata": {},
   "source": [
    "### __Dropping locations__"
   ]
  },
  {
   "cell_type": "code",
   "execution_count": 124,
   "metadata": {},
   "outputs": [
    {
     "data": {
      "text/plain": [
       "NY 236    28889\n",
       "NY 237    26483\n",
       "NY 141    17815\n",
       "NY 239    17719\n",
       "NY 161    17668\n",
       "Name: Dropoff_locationId, dtype: int64"
      ]
     },
     "execution_count": 124,
     "metadata": {},
     "output_type": "execute_result"
    }
   ],
   "source": [
    "i_data['Dropoff_locationId'].value_counts().nlargest(5)"
   ]
  },
  {
   "cell_type": "code",
   "execution_count": 135,
   "metadata": {},
   "outputs": [
    {
     "data": {
      "text/html": [
       "<div>\n",
       "<style scoped>\n",
       "    .dataframe tbody tr th:only-of-type {\n",
       "        vertical-align: middle;\n",
       "    }\n",
       "\n",
       "    .dataframe tbody tr th {\n",
       "        vertical-align: top;\n",
       "    }\n",
       "\n",
       "    .dataframe thead th {\n",
       "        text-align: right;\n",
       "    }\n",
       "</style>\n",
       "<table border=\"1\" class=\"dataframe\">\n",
       "  <thead>\n",
       "    <tr style=\"text-align: right;\">\n",
       "      <th></th>\n",
       "      <th>Dropoff_locat</th>\n",
       "      <th>locationid</th>\n",
       "    </tr>\n",
       "  </thead>\n",
       "  <tbody>\n",
       "    <tr>\n",
       "      <th>0</th>\n",
       "      <td>[40.76272801766687, -73.72059648349116]</td>\n",
       "      <td>NY 236</td>\n",
       "    </tr>\n",
       "    <tr>\n",
       "      <th>1</th>\n",
       "      <td>[40.69285268505702, -73.72533553048825]</td>\n",
       "      <td>NY 237</td>\n",
       "    </tr>\n",
       "    <tr>\n",
       "      <th>2</th>\n",
       "      <td>[40.67078003458249, -73.7630699406206]</td>\n",
       "      <td>NY 141</td>\n",
       "    </tr>\n",
       "    <tr>\n",
       "      <th>3</th>\n",
       "      <td>[40.68933569229372, -73.72398491932245]</td>\n",
       "      <td>NY 239</td>\n",
       "    </tr>\n",
       "    <tr>\n",
       "      <th>4</th>\n",
       "      <td>[40.754544522261114, -73.80572351878894]</td>\n",
       "      <td>NY 161</td>\n",
       "    </tr>\n",
       "  </tbody>\n",
       "</table>\n",
       "</div>"
      ],
      "text/plain": [
       "                              Dropoff_locat locationid\n",
       "0   [40.76272801766687, -73.72059648349116]     NY 236\n",
       "1   [40.69285268505702, -73.72533553048825]     NY 237\n",
       "2    [40.67078003458249, -73.7630699406206]     NY 141\n",
       "3   [40.68933569229372, -73.72398491932245]     NY 239\n",
       "4  [40.754544522261114, -73.80572351878894]     NY 161"
      ]
     },
     "execution_count": 135,
     "metadata": {},
     "output_type": "execute_result"
    }
   ],
   "source": [
    "d2 = { 'Dropoff_locat' : [[40.76272801766687, -73.72059648349116],[40.69285268505702, -73.72533553048825],[40.67078003458249, -73.7630699406206], [40.68933569229372, -73.72398491932245], [40.754544522261114, -73.80572351878894]],\n",
    "        'locationid' : ['NY 236', 'NY 237', 'NY 141', 'NY 239', 'NY 161']}\n",
    "df2 = pd.DataFrame(d2)\n",
    "df2"
   ]
  },
  {
   "cell_type": "code",
   "execution_count": 137,
   "metadata": {},
   "outputs": [
    {
     "data": {
      "text/html": [
       "<div style=\"width:100%;\"><div style=\"position:relative;width:100%;height:0;padding-bottom:60%;\"><span style=\"color:#565656\">Make this Notebook Trusted to load map: File -> Trust Notebook</span><iframe src=\"about:blank\" style=\"position:absolute;width:100%;height:100%;left:0;top:0;border:none !important;\" data-html=%3C%21DOCTYPE%20html%3E%0A%3Chead%3E%20%20%20%20%0A%20%20%20%20%3Cmeta%20http-equiv%3D%22content-type%22%20content%3D%22text/html%3B%20charset%3DUTF-8%22%20/%3E%0A%20%20%20%20%0A%20%20%20%20%20%20%20%20%3Cscript%3E%0A%20%20%20%20%20%20%20%20%20%20%20%20L_NO_TOUCH%20%3D%20false%3B%0A%20%20%20%20%20%20%20%20%20%20%20%20L_DISABLE_3D%20%3D%20false%3B%0A%20%20%20%20%20%20%20%20%3C/script%3E%0A%20%20%20%20%0A%20%20%20%20%3Cstyle%3Ehtml%2C%20body%20%7Bwidth%3A%20100%25%3Bheight%3A%20100%25%3Bmargin%3A%200%3Bpadding%3A%200%3B%7D%3C/style%3E%0A%20%20%20%20%3Cstyle%3E%23map%20%7Bposition%3Aabsolute%3Btop%3A0%3Bbottom%3A0%3Bright%3A0%3Bleft%3A0%3B%7D%3C/style%3E%0A%20%20%20%20%3Cscript%20src%3D%22https%3A//cdn.jsdelivr.net/npm/leaflet%401.6.0/dist/leaflet.js%22%3E%3C/script%3E%0A%20%20%20%20%3Cscript%20src%3D%22https%3A//code.jquery.com/jquery-1.12.4.min.js%22%3E%3C/script%3E%0A%20%20%20%20%3Cscript%20src%3D%22https%3A//maxcdn.bootstrapcdn.com/bootstrap/3.2.0/js/bootstrap.min.js%22%3E%3C/script%3E%0A%20%20%20%20%3Cscript%20src%3D%22https%3A//cdnjs.cloudflare.com/ajax/libs/Leaflet.awesome-markers/2.0.2/leaflet.awesome-markers.js%22%3E%3C/script%3E%0A%20%20%20%20%3Clink%20rel%3D%22stylesheet%22%20href%3D%22https%3A//cdn.jsdelivr.net/npm/leaflet%401.6.0/dist/leaflet.css%22/%3E%0A%20%20%20%20%3Clink%20rel%3D%22stylesheet%22%20href%3D%22https%3A//maxcdn.bootstrapcdn.com/bootstrap/3.2.0/css/bootstrap.min.css%22/%3E%0A%20%20%20%20%3Clink%20rel%3D%22stylesheet%22%20href%3D%22https%3A//maxcdn.bootstrapcdn.com/bootstrap/3.2.0/css/bootstrap-theme.min.css%22/%3E%0A%20%20%20%20%3Clink%20rel%3D%22stylesheet%22%20href%3D%22https%3A//maxcdn.bootstrapcdn.com/font-awesome/4.6.3/css/font-awesome.min.css%22/%3E%0A%20%20%20%20%3Clink%20rel%3D%22stylesheet%22%20href%3D%22https%3A//cdnjs.cloudflare.com/ajax/libs/Leaflet.awesome-markers/2.0.2/leaflet.awesome-markers.css%22/%3E%0A%20%20%20%20%3Clink%20rel%3D%22stylesheet%22%20href%3D%22https%3A//cdn.jsdelivr.net/gh/python-visualization/folium/folium/templates/leaflet.awesome.rotate.min.css%22/%3E%0A%20%20%20%20%0A%20%20%20%20%20%20%20%20%20%20%20%20%3Cmeta%20name%3D%22viewport%22%20content%3D%22width%3Ddevice-width%2C%0A%20%20%20%20%20%20%20%20%20%20%20%20%20%20%20%20initial-scale%3D1.0%2C%20maximum-scale%3D1.0%2C%20user-scalable%3Dno%22%20/%3E%0A%20%20%20%20%20%20%20%20%20%20%20%20%3Cstyle%3E%0A%20%20%20%20%20%20%20%20%20%20%20%20%20%20%20%20%23map_9721728b9ed644e287a1b492700b55d6%20%7B%0A%20%20%20%20%20%20%20%20%20%20%20%20%20%20%20%20%20%20%20%20position%3A%20relative%3B%0A%20%20%20%20%20%20%20%20%20%20%20%20%20%20%20%20%20%20%20%20width%3A%20100.0%25%3B%0A%20%20%20%20%20%20%20%20%20%20%20%20%20%20%20%20%20%20%20%20height%3A%20100.0%25%3B%0A%20%20%20%20%20%20%20%20%20%20%20%20%20%20%20%20%20%20%20%20left%3A%200.0%25%3B%0A%20%20%20%20%20%20%20%20%20%20%20%20%20%20%20%20%20%20%20%20top%3A%200.0%25%3B%0A%20%20%20%20%20%20%20%20%20%20%20%20%20%20%20%20%7D%0A%20%20%20%20%20%20%20%20%20%20%20%20%3C/style%3E%0A%20%20%20%20%20%20%20%20%0A%3C/head%3E%0A%3Cbody%3E%20%20%20%20%0A%20%20%20%20%0A%20%20%20%20%20%20%20%20%20%20%20%20%3Cdiv%20class%3D%22folium-map%22%20id%3D%22map_9721728b9ed644e287a1b492700b55d6%22%20%3E%3C/div%3E%0A%20%20%20%20%20%20%20%20%0A%3C/body%3E%0A%3Cscript%3E%20%20%20%20%0A%20%20%20%20%0A%20%20%20%20%20%20%20%20%20%20%20%20var%20map_9721728b9ed644e287a1b492700b55d6%20%3D%20L.map%28%0A%20%20%20%20%20%20%20%20%20%20%20%20%20%20%20%20%22map_9721728b9ed644e287a1b492700b55d6%22%2C%0A%20%20%20%20%20%20%20%20%20%20%20%20%20%20%20%20%7B%0A%20%20%20%20%20%20%20%20%20%20%20%20%20%20%20%20%20%20%20%20center%3A%20%5B40.7128%2C%20-74.006%5D%2C%0A%20%20%20%20%20%20%20%20%20%20%20%20%20%20%20%20%20%20%20%20crs%3A%20L.CRS.EPSG3857%2C%0A%20%20%20%20%20%20%20%20%20%20%20%20%20%20%20%20%20%20%20%20zoom%3A%208%2C%0A%20%20%20%20%20%20%20%20%20%20%20%20%20%20%20%20%20%20%20%20zoomControl%3A%20true%2C%0A%20%20%20%20%20%20%20%20%20%20%20%20%20%20%20%20%20%20%20%20preferCanvas%3A%20false%2C%0A%20%20%20%20%20%20%20%20%20%20%20%20%20%20%20%20%7D%0A%20%20%20%20%20%20%20%20%20%20%20%20%29%3B%0A%0A%20%20%20%20%20%20%20%20%20%20%20%20%0A%0A%20%20%20%20%20%20%20%20%0A%20%20%20%20%0A%20%20%20%20%20%20%20%20%20%20%20%20var%20tile_layer_75aef7d2bbcf45e5ae3223c650c8008b%20%3D%20L.tileLayer%28%0A%20%20%20%20%20%20%20%20%20%20%20%20%20%20%20%20%22https%3A//%7Bs%7D.tile.openstreetmap.org/%7Bz%7D/%7Bx%7D/%7By%7D.png%22%2C%0A%20%20%20%20%20%20%20%20%20%20%20%20%20%20%20%20%7B%22attribution%22%3A%20%22Data%20by%20%5Cu0026copy%3B%20%5Cu003ca%20href%3D%5C%22http%3A//openstreetmap.org%5C%22%5Cu003eOpenStreetMap%5Cu003c/a%5Cu003e%2C%20under%20%5Cu003ca%20href%3D%5C%22http%3A//www.openstreetmap.org/copyright%5C%22%5Cu003eODbL%5Cu003c/a%5Cu003e.%22%2C%20%22detectRetina%22%3A%20false%2C%20%22maxNativeZoom%22%3A%2018%2C%20%22maxZoom%22%3A%2018%2C%20%22minZoom%22%3A%200%2C%20%22noWrap%22%3A%20false%2C%20%22opacity%22%3A%201%2C%20%22subdomains%22%3A%20%22abc%22%2C%20%22tms%22%3A%20false%7D%0A%20%20%20%20%20%20%20%20%20%20%20%20%29.addTo%28map_9721728b9ed644e287a1b492700b55d6%29%3B%0A%20%20%20%20%20%20%20%20%0A%20%20%20%20%0A%20%20%20%20%20%20%20%20%20%20%20%20var%20marker_253316db3f6c498d963263d14e45e448%20%3D%20L.marker%28%0A%20%20%20%20%20%20%20%20%20%20%20%20%20%20%20%20%5B40.76272801766687%2C%20-73.72059648349116%5D%2C%0A%20%20%20%20%20%20%20%20%20%20%20%20%20%20%20%20%7B%7D%0A%20%20%20%20%20%20%20%20%20%20%20%20%29.addTo%28map_9721728b9ed644e287a1b492700b55d6%29%3B%0A%20%20%20%20%20%20%20%20%0A%20%20%20%20%0A%20%20%20%20%20%20%20%20var%20popup_f63028b66be547a380da64a5c4448305%20%3D%20L.popup%28%7B%22maxWidth%22%3A%20%22100%25%22%7D%29%3B%0A%0A%20%20%20%20%20%20%20%20%0A%20%20%20%20%20%20%20%20%20%20%20%20var%20html_bd9c7f109f6b42618613e02cca8ba9fb%20%3D%20%24%28%60%3Cdiv%20id%3D%22html_bd9c7f109f6b42618613e02cca8ba9fb%22%20style%3D%22width%3A%20100.0%25%3B%20height%3A%20100.0%25%3B%22%3ENY%20236%3C/div%3E%60%29%5B0%5D%3B%0A%20%20%20%20%20%20%20%20%20%20%20%20popup_f63028b66be547a380da64a5c4448305.setContent%28html_bd9c7f109f6b42618613e02cca8ba9fb%29%3B%0A%20%20%20%20%20%20%20%20%0A%0A%20%20%20%20%20%20%20%20marker_253316db3f6c498d963263d14e45e448.bindPopup%28popup_f63028b66be547a380da64a5c4448305%29%0A%20%20%20%20%20%20%20%20%3B%0A%0A%20%20%20%20%20%20%20%20%0A%20%20%20%20%0A%20%20%20%20%0A%20%20%20%20%20%20%20%20%20%20%20%20marker_253316db3f6c498d963263d14e45e448.bindTooltip%28%0A%20%20%20%20%20%20%20%20%20%20%20%20%20%20%20%20%60%3Cdiv%3E%0A%20%20%20%20%20%20%20%20%20%20%20%20%20%20%20%20%20%20%20%20%20Dropoff%20Location%0A%20%20%20%20%20%20%20%20%20%20%20%20%20%20%20%20%20%3C/div%3E%60%2C%0A%20%20%20%20%20%20%20%20%20%20%20%20%20%20%20%20%7B%22sticky%22%3A%20true%7D%0A%20%20%20%20%20%20%20%20%20%20%20%20%29%3B%0A%20%20%20%20%20%20%20%20%0A%20%20%20%20%0A%20%20%20%20%20%20%20%20%20%20%20%20var%20marker_e65f1f175829425cb96c76665b31c58e%20%3D%20L.marker%28%0A%20%20%20%20%20%20%20%20%20%20%20%20%20%20%20%20%5B40.69285268505702%2C%20-73.72533553048825%5D%2C%0A%20%20%20%20%20%20%20%20%20%20%20%20%20%20%20%20%7B%7D%0A%20%20%20%20%20%20%20%20%20%20%20%20%29.addTo%28map_9721728b9ed644e287a1b492700b55d6%29%3B%0A%20%20%20%20%20%20%20%20%0A%20%20%20%20%0A%20%20%20%20%20%20%20%20var%20popup_60dbf2075cd34074ab048c9da9233861%20%3D%20L.popup%28%7B%22maxWidth%22%3A%20%22100%25%22%7D%29%3B%0A%0A%20%20%20%20%20%20%20%20%0A%20%20%20%20%20%20%20%20%20%20%20%20var%20html_6cf3ba427f9f4dfcbca076166720aa8d%20%3D%20%24%28%60%3Cdiv%20id%3D%22html_6cf3ba427f9f4dfcbca076166720aa8d%22%20style%3D%22width%3A%20100.0%25%3B%20height%3A%20100.0%25%3B%22%3ENY%20237%3C/div%3E%60%29%5B0%5D%3B%0A%20%20%20%20%20%20%20%20%20%20%20%20popup_60dbf2075cd34074ab048c9da9233861.setContent%28html_6cf3ba427f9f4dfcbca076166720aa8d%29%3B%0A%20%20%20%20%20%20%20%20%0A%0A%20%20%20%20%20%20%20%20marker_e65f1f175829425cb96c76665b31c58e.bindPopup%28popup_60dbf2075cd34074ab048c9da9233861%29%0A%20%20%20%20%20%20%20%20%3B%0A%0A%20%20%20%20%20%20%20%20%0A%20%20%20%20%0A%20%20%20%20%0A%20%20%20%20%20%20%20%20%20%20%20%20marker_e65f1f175829425cb96c76665b31c58e.bindTooltip%28%0A%20%20%20%20%20%20%20%20%20%20%20%20%20%20%20%20%60%3Cdiv%3E%0A%20%20%20%20%20%20%20%20%20%20%20%20%20%20%20%20%20%20%20%20%20Dropoff%20Location%0A%20%20%20%20%20%20%20%20%20%20%20%20%20%20%20%20%20%3C/div%3E%60%2C%0A%20%20%20%20%20%20%20%20%20%20%20%20%20%20%20%20%7B%22sticky%22%3A%20true%7D%0A%20%20%20%20%20%20%20%20%20%20%20%20%29%3B%0A%20%20%20%20%20%20%20%20%0A%20%20%20%20%0A%20%20%20%20%20%20%20%20%20%20%20%20var%20marker_909153c243474a56aa09c454e53a0762%20%3D%20L.marker%28%0A%20%20%20%20%20%20%20%20%20%20%20%20%20%20%20%20%5B40.67078003458249%2C%20-73.7630699406206%5D%2C%0A%20%20%20%20%20%20%20%20%20%20%20%20%20%20%20%20%7B%7D%0A%20%20%20%20%20%20%20%20%20%20%20%20%29.addTo%28map_9721728b9ed644e287a1b492700b55d6%29%3B%0A%20%20%20%20%20%20%20%20%0A%20%20%20%20%0A%20%20%20%20%20%20%20%20var%20popup_c433744f91f840fa8f6a6188fb45ab2f%20%3D%20L.popup%28%7B%22maxWidth%22%3A%20%22100%25%22%7D%29%3B%0A%0A%20%20%20%20%20%20%20%20%0A%20%20%20%20%20%20%20%20%20%20%20%20var%20html_aad3b9cf5b2e47bcaf27ced70402517f%20%3D%20%24%28%60%3Cdiv%20id%3D%22html_aad3b9cf5b2e47bcaf27ced70402517f%22%20style%3D%22width%3A%20100.0%25%3B%20height%3A%20100.0%25%3B%22%3ENY%20141%3C/div%3E%60%29%5B0%5D%3B%0A%20%20%20%20%20%20%20%20%20%20%20%20popup_c433744f91f840fa8f6a6188fb45ab2f.setContent%28html_aad3b9cf5b2e47bcaf27ced70402517f%29%3B%0A%20%20%20%20%20%20%20%20%0A%0A%20%20%20%20%20%20%20%20marker_909153c243474a56aa09c454e53a0762.bindPopup%28popup_c433744f91f840fa8f6a6188fb45ab2f%29%0A%20%20%20%20%20%20%20%20%3B%0A%0A%20%20%20%20%20%20%20%20%0A%20%20%20%20%0A%20%20%20%20%0A%20%20%20%20%20%20%20%20%20%20%20%20marker_909153c243474a56aa09c454e53a0762.bindTooltip%28%0A%20%20%20%20%20%20%20%20%20%20%20%20%20%20%20%20%60%3Cdiv%3E%0A%20%20%20%20%20%20%20%20%20%20%20%20%20%20%20%20%20%20%20%20%20Dropoff%20Location%0A%20%20%20%20%20%20%20%20%20%20%20%20%20%20%20%20%20%3C/div%3E%60%2C%0A%20%20%20%20%20%20%20%20%20%20%20%20%20%20%20%20%7B%22sticky%22%3A%20true%7D%0A%20%20%20%20%20%20%20%20%20%20%20%20%29%3B%0A%20%20%20%20%20%20%20%20%0A%20%20%20%20%0A%20%20%20%20%20%20%20%20%20%20%20%20var%20marker_13c99a0ce8754bebbc387cec6680dc33%20%3D%20L.marker%28%0A%20%20%20%20%20%20%20%20%20%20%20%20%20%20%20%20%5B40.68933569229372%2C%20-73.72398491932245%5D%2C%0A%20%20%20%20%20%20%20%20%20%20%20%20%20%20%20%20%7B%7D%0A%20%20%20%20%20%20%20%20%20%20%20%20%29.addTo%28map_9721728b9ed644e287a1b492700b55d6%29%3B%0A%20%20%20%20%20%20%20%20%0A%20%20%20%20%0A%20%20%20%20%20%20%20%20var%20popup_c7a5fa4ef0724365934281e47904214d%20%3D%20L.popup%28%7B%22maxWidth%22%3A%20%22100%25%22%7D%29%3B%0A%0A%20%20%20%20%20%20%20%20%0A%20%20%20%20%20%20%20%20%20%20%20%20var%20html_5499148b334c45d390962b8d1f0defbd%20%3D%20%24%28%60%3Cdiv%20id%3D%22html_5499148b334c45d390962b8d1f0defbd%22%20style%3D%22width%3A%20100.0%25%3B%20height%3A%20100.0%25%3B%22%3ENY%20239%3C/div%3E%60%29%5B0%5D%3B%0A%20%20%20%20%20%20%20%20%20%20%20%20popup_c7a5fa4ef0724365934281e47904214d.setContent%28html_5499148b334c45d390962b8d1f0defbd%29%3B%0A%20%20%20%20%20%20%20%20%0A%0A%20%20%20%20%20%20%20%20marker_13c99a0ce8754bebbc387cec6680dc33.bindPopup%28popup_c7a5fa4ef0724365934281e47904214d%29%0A%20%20%20%20%20%20%20%20%3B%0A%0A%20%20%20%20%20%20%20%20%0A%20%20%20%20%0A%20%20%20%20%0A%20%20%20%20%20%20%20%20%20%20%20%20marker_13c99a0ce8754bebbc387cec6680dc33.bindTooltip%28%0A%20%20%20%20%20%20%20%20%20%20%20%20%20%20%20%20%60%3Cdiv%3E%0A%20%20%20%20%20%20%20%20%20%20%20%20%20%20%20%20%20%20%20%20%20Dropoff%20Location%0A%20%20%20%20%20%20%20%20%20%20%20%20%20%20%20%20%20%3C/div%3E%60%2C%0A%20%20%20%20%20%20%20%20%20%20%20%20%20%20%20%20%7B%22sticky%22%3A%20true%7D%0A%20%20%20%20%20%20%20%20%20%20%20%20%29%3B%0A%20%20%20%20%20%20%20%20%0A%20%20%20%20%0A%20%20%20%20%20%20%20%20%20%20%20%20var%20marker_21ddb7437f3b4415a22c850be6bf1241%20%3D%20L.marker%28%0A%20%20%20%20%20%20%20%20%20%20%20%20%20%20%20%20%5B40.754544522261114%2C%20-73.80572351878894%5D%2C%0A%20%20%20%20%20%20%20%20%20%20%20%20%20%20%20%20%7B%7D%0A%20%20%20%20%20%20%20%20%20%20%20%20%29.addTo%28map_9721728b9ed644e287a1b492700b55d6%29%3B%0A%20%20%20%20%20%20%20%20%0A%20%20%20%20%0A%20%20%20%20%20%20%20%20var%20popup_bccf7bccb12049099e5a3701287016be%20%3D%20L.popup%28%7B%22maxWidth%22%3A%20%22100%25%22%7D%29%3B%0A%0A%20%20%20%20%20%20%20%20%0A%20%20%20%20%20%20%20%20%20%20%20%20var%20html_cee0df71e82a4bd8b6ed9a8f5d85c81e%20%3D%20%24%28%60%3Cdiv%20id%3D%22html_cee0df71e82a4bd8b6ed9a8f5d85c81e%22%20style%3D%22width%3A%20100.0%25%3B%20height%3A%20100.0%25%3B%22%3ENY%20161%3C/div%3E%60%29%5B0%5D%3B%0A%20%20%20%20%20%20%20%20%20%20%20%20popup_bccf7bccb12049099e5a3701287016be.setContent%28html_cee0df71e82a4bd8b6ed9a8f5d85c81e%29%3B%0A%20%20%20%20%20%20%20%20%0A%0A%20%20%20%20%20%20%20%20marker_21ddb7437f3b4415a22c850be6bf1241.bindPopup%28popup_bccf7bccb12049099e5a3701287016be%29%0A%20%20%20%20%20%20%20%20%3B%0A%0A%20%20%20%20%20%20%20%20%0A%20%20%20%20%0A%20%20%20%20%0A%20%20%20%20%20%20%20%20%20%20%20%20marker_21ddb7437f3b4415a22c850be6bf1241.bindTooltip%28%0A%20%20%20%20%20%20%20%20%20%20%20%20%20%20%20%20%60%3Cdiv%3E%0A%20%20%20%20%20%20%20%20%20%20%20%20%20%20%20%20%20%20%20%20%20Dropoff%20Location%0A%20%20%20%20%20%20%20%20%20%20%20%20%20%20%20%20%20%3C/div%3E%60%2C%0A%20%20%20%20%20%20%20%20%20%20%20%20%20%20%20%20%7B%22sticky%22%3A%20true%7D%0A%20%20%20%20%20%20%20%20%20%20%20%20%29%3B%0A%20%20%20%20%20%20%20%20%0A%3C/script%3E onload=\"this.contentDocument.open();this.contentDocument.write(    decodeURIComponent(this.getAttribute('data-html')));this.contentDocument.close();\" allowfullscreen webkitallowfullscreen mozallowfullscreen></iframe></div></div>"
      ],
      "text/plain": [
       "<folium.folium.Map at 0x21fdaff3100>"
      ]
     },
     "execution_count": 137,
     "metadata": {},
     "output_type": "execute_result"
    }
   ],
   "source": [
    "#dropping locations\n",
    "import folium\n",
    "center = [40.7128, -74.0060]\n",
    "map_Newyork = folium.Map(location=center, zoom_start=8)\n",
    "\n",
    "for i,r in df2.iterrows():\n",
    "    folium.Marker(location=r['Dropoff_locat'],\n",
    "                  popup = r['locationid'],\n",
    "                  tooltip='Dropoff Location').add_to(map_Newyork)\n",
    "#display map\n",
    "map_Newyork"
   ]
  },
  {
   "cell_type": "markdown",
   "metadata": {},
   "source": [
    "# __Conclusion__"
   ]
  },
  {
   "cell_type": "markdown",
   "metadata": {},
   "source": [
    "### __In this dataset, the latitude, longitude, new travel distance, and time difference are calculated. Few oultiners are also identified in the data due to improper entry.__\n",
    "\n",
    "### __From the calculations and analysis following are key findings:__\n",
    "\n",
    "- ### Friday is the most active day and where most people utilized the taxis.- Raids with a single passenger are booked more compared to the 2,3,4 passengers\n",
    "- ### NY 237 is the most common pickup point. Because it has an intersection with famous locations and schools.\n",
    "- ### NY 236 is the most common dropoff point. \n",
    "- ### Where NY 140 has low pickup points and NY 99 has low dropping points compared to all others.\n"
   ]
  }
 ],
 "metadata": {
  "interpreter": {
   "hash": "07efdcd4b820c98a756949507a4d29d7862823915ec7477944641bea022f4f62"
  },
  "kernelspec": {
   "display_name": "Python 3.8.8 64-bit ('base': conda)",
   "language": "python",
   "name": "python3"
  },
  "language_info": {
   "codemirror_mode": {
    "name": "ipython",
    "version": 3
   },
   "file_extension": ".py",
   "mimetype": "text/x-python",
   "name": "python",
   "nbconvert_exporter": "python",
   "pygments_lexer": "ipython3",
   "version": "3.9.7"
  },
  "orig_nbformat": 4
 },
 "nbformat": 4,
 "nbformat_minor": 2
}
